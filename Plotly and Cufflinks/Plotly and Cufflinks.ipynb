{
 "cells": [
  {
   "cell_type": "markdown",
   "metadata": {},
   "source": [
    "___\n",
    "# Plotly and Cufflinks"
   ]
  },
  {
   "cell_type": "markdown",
   "metadata": {},
   "source": [
    "Plotly is a library that allows you to create interactive plots that you can use in dashboards or websites (you can save them as html files or static images).\n",
    "\n",
    "## Installation\n",
    "\n",
    "In order for this all to work, you'll need to install plotly and cufflinks to call plots directly off of a pandas dataframe. These libraries are not currently available through **conda** but are available through **pip**. Install the libraries at your command line/terminal using:\n",
    "\n",
    "    pip install plotly\n",
    "    pip install cufflinks\n",
    "\n",
    "** NOTE: Make sure you only have one installation of Python on your computer when you do this, otherwise the installation may not work. **\n",
    "\n",
    "## Imports and Set-up"
   ]
  },
  {
   "cell_type": "code",
   "execution_count": 23,
   "metadata": {},
   "outputs": [],
   "source": [
    "import pandas as pd\n",
    "import numpy as np\n",
    "%matplotlib inline"
   ]
  },
  {
   "cell_type": "code",
   "execution_count": 24,
   "metadata": {},
   "outputs": [
    {
     "name": "stdout",
     "output_type": "stream",
     "text": [
      "5.9.0\n"
     ]
    }
   ],
   "source": [
    "from plotly import __version__\n",
    "from plotly.offline import download_plotlyjs, init_notebook_mode, plot, iplot\n",
    "\n",
    "print(__version__) # requires version >= 1.9.0"
   ]
  },
  {
   "cell_type": "code",
   "execution_count": 25,
   "metadata": {},
   "outputs": [],
   "source": [
    "import cufflinks as cf"
   ]
  },
  {
   "cell_type": "code",
   "execution_count": 26,
   "metadata": {},
   "outputs": [
    {
     "data": {
      "text/html": [
       "        <script type=\"text/javascript\">\n",
       "        window.PlotlyConfig = {MathJaxConfig: 'local'};\n",
       "        if (window.MathJax && window.MathJax.Hub && window.MathJax.Hub.Config) {window.MathJax.Hub.Config({SVG: {font: \"STIX-Web\"}});}\n",
       "        if (typeof require !== 'undefined') {\n",
       "        require.undef(\"plotly\");\n",
       "        requirejs.config({\n",
       "            paths: {\n",
       "                'plotly': ['https://cdn.plot.ly/plotly-2.12.1.min']\n",
       "            }\n",
       "        });\n",
       "        require(['plotly'], function(Plotly) {\n",
       "            window._Plotly = Plotly;\n",
       "        });\n",
       "        }\n",
       "        </script>\n",
       "        "
      ]
     },
     "metadata": {},
     "output_type": "display_data"
    }
   ],
   "source": [
    "# For Notebooks\n",
    "init_notebook_mode(connected=True)"
   ]
  },
  {
   "cell_type": "code",
   "execution_count": 27,
   "metadata": {},
   "outputs": [
    {
     "data": {
      "text/html": [
       "        <script type=\"text/javascript\">\n",
       "        window.PlotlyConfig = {MathJaxConfig: 'local'};\n",
       "        if (window.MathJax && window.MathJax.Hub && window.MathJax.Hub.Config) {window.MathJax.Hub.Config({SVG: {font: \"STIX-Web\"}});}\n",
       "        if (typeof require !== 'undefined') {\n",
       "        require.undef(\"plotly\");\n",
       "        requirejs.config({\n",
       "            paths: {\n",
       "                'plotly': ['https://cdn.plot.ly/plotly-2.12.1.min']\n",
       "            }\n",
       "        });\n",
       "        require(['plotly'], function(Plotly) {\n",
       "            window._Plotly = Plotly;\n",
       "        });\n",
       "        }\n",
       "        </script>\n",
       "        "
      ]
     },
     "metadata": {},
     "output_type": "display_data"
    }
   ],
   "source": [
    "# For offline use\n",
    "cf.go_offline()"
   ]
  },
  {
   "cell_type": "markdown",
   "metadata": {},
   "source": [
    "### Fake Data"
   ]
  },
  {
   "cell_type": "code",
   "execution_count": 28,
   "metadata": {},
   "outputs": [],
   "source": [
    "df = pd.DataFrame(np.random.randn(100,4),columns='A B C D'.split())"
   ]
  },
  {
   "cell_type": "code",
   "execution_count": 29,
   "metadata": {},
   "outputs": [
    {
     "data": {
      "text/html": [
       "<div>\n",
       "<style scoped>\n",
       "    .dataframe tbody tr th:only-of-type {\n",
       "        vertical-align: middle;\n",
       "    }\n",
       "\n",
       "    .dataframe tbody tr th {\n",
       "        vertical-align: top;\n",
       "    }\n",
       "\n",
       "    .dataframe thead th {\n",
       "        text-align: right;\n",
       "    }\n",
       "</style>\n",
       "<table border=\"1\" class=\"dataframe\">\n",
       "  <thead>\n",
       "    <tr style=\"text-align: right;\">\n",
       "      <th></th>\n",
       "      <th>A</th>\n",
       "      <th>B</th>\n",
       "      <th>C</th>\n",
       "      <th>D</th>\n",
       "    </tr>\n",
       "  </thead>\n",
       "  <tbody>\n",
       "    <tr>\n",
       "      <th>0</th>\n",
       "      <td>0.448693</td>\n",
       "      <td>-1.184943</td>\n",
       "      <td>0.994145</td>\n",
       "      <td>-1.192331</td>\n",
       "    </tr>\n",
       "    <tr>\n",
       "      <th>1</th>\n",
       "      <td>0.044429</td>\n",
       "      <td>-0.521138</td>\n",
       "      <td>-1.415295</td>\n",
       "      <td>-0.008567</td>\n",
       "    </tr>\n",
       "    <tr>\n",
       "      <th>2</th>\n",
       "      <td>2.114554</td>\n",
       "      <td>0.419652</td>\n",
       "      <td>-0.236235</td>\n",
       "      <td>-0.838957</td>\n",
       "    </tr>\n",
       "    <tr>\n",
       "      <th>3</th>\n",
       "      <td>0.484594</td>\n",
       "      <td>-0.907093</td>\n",
       "      <td>-0.720914</td>\n",
       "      <td>1.903889</td>\n",
       "    </tr>\n",
       "    <tr>\n",
       "      <th>4</th>\n",
       "      <td>0.369858</td>\n",
       "      <td>-1.583194</td>\n",
       "      <td>-0.283304</td>\n",
       "      <td>-0.357899</td>\n",
       "    </tr>\n",
       "  </tbody>\n",
       "</table>\n",
       "</div>"
      ],
      "text/plain": [
       "          A         B         C         D\n",
       "0  0.448693 -1.184943  0.994145 -1.192331\n",
       "1  0.044429 -0.521138 -1.415295 -0.008567\n",
       "2  2.114554  0.419652 -0.236235 -0.838957\n",
       "3  0.484594 -0.907093 -0.720914  1.903889\n",
       "4  0.369858 -1.583194 -0.283304 -0.357899"
      ]
     },
     "execution_count": 29,
     "metadata": {},
     "output_type": "execute_result"
    }
   ],
   "source": [
    "df.head()"
   ]
  },
  {
   "cell_type": "code",
   "execution_count": 30,
   "metadata": {},
   "outputs": [],
   "source": [
    "df2 = pd.DataFrame({'Category':['A','B','C'],'Values':[32,43,50]})"
   ]
  },
  {
   "cell_type": "code",
   "execution_count": 31,
   "metadata": {},
   "outputs": [
    {
     "data": {
      "text/html": [
       "<div>\n",
       "<style scoped>\n",
       "    .dataframe tbody tr th:only-of-type {\n",
       "        vertical-align: middle;\n",
       "    }\n",
       "\n",
       "    .dataframe tbody tr th {\n",
       "        vertical-align: top;\n",
       "    }\n",
       "\n",
       "    .dataframe thead th {\n",
       "        text-align: right;\n",
       "    }\n",
       "</style>\n",
       "<table border=\"1\" class=\"dataframe\">\n",
       "  <thead>\n",
       "    <tr style=\"text-align: right;\">\n",
       "      <th></th>\n",
       "      <th>Category</th>\n",
       "      <th>Values</th>\n",
       "    </tr>\n",
       "  </thead>\n",
       "  <tbody>\n",
       "    <tr>\n",
       "      <th>0</th>\n",
       "      <td>A</td>\n",
       "      <td>32</td>\n",
       "    </tr>\n",
       "    <tr>\n",
       "      <th>1</th>\n",
       "      <td>B</td>\n",
       "      <td>43</td>\n",
       "    </tr>\n",
       "    <tr>\n",
       "      <th>2</th>\n",
       "      <td>C</td>\n",
       "      <td>50</td>\n",
       "    </tr>\n",
       "  </tbody>\n",
       "</table>\n",
       "</div>"
      ],
      "text/plain": [
       "  Category  Values\n",
       "0        A      32\n",
       "1        B      43\n",
       "2        C      50"
      ]
     },
     "execution_count": 31,
     "metadata": {},
     "output_type": "execute_result"
    }
   ],
   "source": [
    "df2.head()"
   ]
  },
  {
   "cell_type": "markdown",
   "metadata": {},
   "source": [
    "## Using Cufflinks and iplot()\n",
    "\n",
    "* scatter\n",
    "* bar\n",
    "* box\n",
    "* spread\n",
    "* ratio\n",
    "* heatmap\n",
    "* surface\n",
    "* histogram\n",
    "* bubble"
   ]
  },
  {
   "cell_type": "markdown",
   "metadata": {},
   "source": [
    "## Scatter"
   ]
  },
  {
   "cell_type": "code",
   "execution_count": 32,
   "metadata": {},
   "outputs": [
    {
     "data": {
      "application/vnd.plotly.v1+json": {
       "config": {
        "linkText": "Export to plot.ly",
        "plotlyServerURL": "https://plot.ly",
        "showLink": true
       },
       "data": [
        {
         "line": {
          "color": "rgba(255, 153, 51, 1.0)",
          "dash": "solid",
          "shape": "linear",
          "width": 1.3
         },
         "marker": {
          "size": 10,
          "symbol": "circle"
         },
         "mode": "markers",
         "name": "B",
         "text": "",
         "type": "scatter",
         "x": [
          0.44869329824135673,
          0.04442947891624006,
          2.1145540519877124,
          0.48459375200395927,
          0.36985788919286805,
          1.481971281069352,
          2.0343982337154416,
          -0.4824821822177707,
          0.8309463581150035,
          -0.4349385948709931,
          -0.6756120182110634,
          -1.5925814019449025,
          0.23413023932942328,
          1.0281422105942735,
          -1.0623059466249865,
          2.2195071053364663,
          0.8756994750091641,
          0.8089835262821432,
          -0.743409264689658,
          0.04294253724257267,
          1.0684455291199384,
          0.27639677781983707,
          -1.0954222897259756,
          -1.2812049648901038,
          -0.637281296389303,
          2.111221879684574,
          -0.5513865740599511,
          1.0682633521601927,
          0.4652057414665277,
          -0.7206548172209604,
          1.2453404662443033,
          1.1397830121661918,
          0.49950650596397383,
          -0.9263185329342912,
          0.4111857860492889,
          0.7120252399106934,
          -0.7711455320738849,
          0.9950201421281071,
          -0.8274584839599624,
          0.3122126481853524,
          0.4515622771288505,
          0.6073609370855199,
          -2.170149917275103,
          1.3093912040986788,
          0.2590512674708452,
          -1.2337530482989523,
          -0.308609285621261,
          0.34858056871628357,
          -0.5259945565128492,
          0.7418184128255518,
          -0.08368524035607329,
          -0.48681829176600705,
          -0.6949219701346371,
          -1.5182275005248043,
          -0.6942761142349966,
          -0.29222643627617845,
          -0.6980315938540814,
          -1.7810575066261185,
          -0.38392005874164825,
          0.7775804455478614,
          -0.04417520548831625,
          -1.1024379175998715,
          -0.6161541682760509,
          0.2575180438792113,
          -0.5419691624897529,
          0.6017703190288322,
          -1.6905582702704653,
          0.6380563321234376,
          1.8411694643156877,
          0.9642052764057285,
          1.002877971747453,
          -1.7837200423433832,
          1.0355284326901804,
          -0.8243451510155145,
          0.3421716769811112,
          1.7152754923086335,
          -0.33329183790006034,
          -0.17785876328291492,
          0.26727742385574493,
          -1.4606113851565532,
          -1.0041165914639603,
          1.0996641205324444,
          0.048076295886310676,
          0.3881428733745407,
          -0.7623022776406418,
          1.276648665357941,
          0.17375732056573817,
          1.6164033921063847,
          0.3132317208480055,
          -0.00029622527125818443,
          -0.16420288781157838,
          -2.390517968447201,
          -0.018873881777453607,
          -1.9745352341669447,
          0.6437240829886111,
          0.609802961274568,
          -0.6262284629895819,
          1.4052370704543717,
          -0.06498383511536726,
          0.673796877062401
         ],
         "y": [
          -1.1849432239690456,
          -0.5211376653895813,
          0.41965188826774313,
          -0.9070930374743329,
          -1.5831942364868001,
          -0.4858365830813737,
          0.7278009166335301,
          2.0221616404760145,
          0.507794572940946,
          2.0711601716091512,
          1.0104748395053536,
          -0.5848426486746308,
          0.5470577063946599,
          0.5165371941343447,
          -0.8016442671933688,
          0.288897603145818,
          1.005260388668178,
          1.6598616302267328,
          -0.5925215915659423,
          1.671554584904481,
          -0.20489334121097746,
          0.9960112769218384,
          -1.1054061041824972,
          -0.5248963018843851,
          -2.02827538041169,
          -0.7481179255865056,
          0.2391258954400187,
          -0.036886343978482165,
          0.14693839808593498,
          -1.3435550788737127,
          0.495509914100354,
          -0.3577410117056153,
          1.4057787447153953,
          -1.4396298323686851,
          2.0265956566614616,
          0.14237098853310884,
          -0.6720855188428924,
          -0.29335652809925195,
          -0.43569699647796284,
          -0.22581895031823285,
          -0.47442969869914503,
          -0.17069809986289486,
          1.3784558343562423,
          -2.207449291449941,
          0.8572827458826012,
          1.662204807114416,
          0.571471145490293,
          0.44588678869899956,
          -0.3524155474257769,
          1.2378307781006213,
          -1.4492689531910803,
          0.727622601488387,
          -1.4132155840281677,
          -0.9267015536871722,
          -0.44493820610091056,
          -0.8520553246569631,
          0.23717606545090117,
          1.491657687677004,
          0.7444833830075451,
          -0.27117666533976253,
          0.39270769256840615,
          -0.2086607631876548,
          0.9385178680801646,
          -1.0189388989003372,
          1.9449358716585041,
          -0.6255855098585659,
          1.0855482233583384,
          0.39546694491298606,
          -0.1796799824978816,
          0.9446600698055564,
          -0.4650681551742743,
          1.9444631807871682,
          -0.2513789023420614,
          -0.686686256853849,
          0.6966766328643259,
          -0.1465540592511607,
          1.6020687291155558,
          -0.051959615969177114,
          2.543342310408571,
          -0.570036449181245,
          0.9720872564921681,
          0.7685133980318168,
          -0.4631756619022978,
          0.6108351641027522,
          -0.6166118778084613,
          1.8907829068486697,
          -1.041542502652796,
          -1.5682055482136659,
          -1.050014599780345,
          -0.9700650851375957,
          -0.4779809922425408,
          -0.9087200791848067,
          -0.19970310413878423,
          -0.3117045540132173,
          -0.34515180449440186,
          0.13139098324208123,
          -0.7404657562632138,
          -2.587836670667099,
          0.12224694930872568,
          1.0282647351123904
         ]
        }
       ],
       "layout": {
        "legend": {
         "bgcolor": "#F5F6F9",
         "font": {
          "color": "#4D5663"
         }
        },
        "paper_bgcolor": "#F5F6F9",
        "plot_bgcolor": "#F5F6F9",
        "template": {
         "data": {
          "bar": [
           {
            "error_x": {
             "color": "#2a3f5f"
            },
            "error_y": {
             "color": "#2a3f5f"
            },
            "marker": {
             "line": {
              "color": "#E5ECF6",
              "width": 0.5
             },
             "pattern": {
              "fillmode": "overlay",
              "size": 10,
              "solidity": 0.2
             }
            },
            "type": "bar"
           }
          ],
          "barpolar": [
           {
            "marker": {
             "line": {
              "color": "#E5ECF6",
              "width": 0.5
             },
             "pattern": {
              "fillmode": "overlay",
              "size": 10,
              "solidity": 0.2
             }
            },
            "type": "barpolar"
           }
          ],
          "carpet": [
           {
            "aaxis": {
             "endlinecolor": "#2a3f5f",
             "gridcolor": "white",
             "linecolor": "white",
             "minorgridcolor": "white",
             "startlinecolor": "#2a3f5f"
            },
            "baxis": {
             "endlinecolor": "#2a3f5f",
             "gridcolor": "white",
             "linecolor": "white",
             "minorgridcolor": "white",
             "startlinecolor": "#2a3f5f"
            },
            "type": "carpet"
           }
          ],
          "choropleth": [
           {
            "colorbar": {
             "outlinewidth": 0,
             "ticks": ""
            },
            "type": "choropleth"
           }
          ],
          "contour": [
           {
            "colorbar": {
             "outlinewidth": 0,
             "ticks": ""
            },
            "colorscale": [
             [
              0,
              "#0d0887"
             ],
             [
              0.1111111111111111,
              "#46039f"
             ],
             [
              0.2222222222222222,
              "#7201a8"
             ],
             [
              0.3333333333333333,
              "#9c179e"
             ],
             [
              0.4444444444444444,
              "#bd3786"
             ],
             [
              0.5555555555555556,
              "#d8576b"
             ],
             [
              0.6666666666666666,
              "#ed7953"
             ],
             [
              0.7777777777777778,
              "#fb9f3a"
             ],
             [
              0.8888888888888888,
              "#fdca26"
             ],
             [
              1,
              "#f0f921"
             ]
            ],
            "type": "contour"
           }
          ],
          "contourcarpet": [
           {
            "colorbar": {
             "outlinewidth": 0,
             "ticks": ""
            },
            "type": "contourcarpet"
           }
          ],
          "heatmap": [
           {
            "colorbar": {
             "outlinewidth": 0,
             "ticks": ""
            },
            "colorscale": [
             [
              0,
              "#0d0887"
             ],
             [
              0.1111111111111111,
              "#46039f"
             ],
             [
              0.2222222222222222,
              "#7201a8"
             ],
             [
              0.3333333333333333,
              "#9c179e"
             ],
             [
              0.4444444444444444,
              "#bd3786"
             ],
             [
              0.5555555555555556,
              "#d8576b"
             ],
             [
              0.6666666666666666,
              "#ed7953"
             ],
             [
              0.7777777777777778,
              "#fb9f3a"
             ],
             [
              0.8888888888888888,
              "#fdca26"
             ],
             [
              1,
              "#f0f921"
             ]
            ],
            "type": "heatmap"
           }
          ],
          "heatmapgl": [
           {
            "colorbar": {
             "outlinewidth": 0,
             "ticks": ""
            },
            "colorscale": [
             [
              0,
              "#0d0887"
             ],
             [
              0.1111111111111111,
              "#46039f"
             ],
             [
              0.2222222222222222,
              "#7201a8"
             ],
             [
              0.3333333333333333,
              "#9c179e"
             ],
             [
              0.4444444444444444,
              "#bd3786"
             ],
             [
              0.5555555555555556,
              "#d8576b"
             ],
             [
              0.6666666666666666,
              "#ed7953"
             ],
             [
              0.7777777777777778,
              "#fb9f3a"
             ],
             [
              0.8888888888888888,
              "#fdca26"
             ],
             [
              1,
              "#f0f921"
             ]
            ],
            "type": "heatmapgl"
           }
          ],
          "histogram": [
           {
            "marker": {
             "pattern": {
              "fillmode": "overlay",
              "size": 10,
              "solidity": 0.2
             }
            },
            "type": "histogram"
           }
          ],
          "histogram2d": [
           {
            "colorbar": {
             "outlinewidth": 0,
             "ticks": ""
            },
            "colorscale": [
             [
              0,
              "#0d0887"
             ],
             [
              0.1111111111111111,
              "#46039f"
             ],
             [
              0.2222222222222222,
              "#7201a8"
             ],
             [
              0.3333333333333333,
              "#9c179e"
             ],
             [
              0.4444444444444444,
              "#bd3786"
             ],
             [
              0.5555555555555556,
              "#d8576b"
             ],
             [
              0.6666666666666666,
              "#ed7953"
             ],
             [
              0.7777777777777778,
              "#fb9f3a"
             ],
             [
              0.8888888888888888,
              "#fdca26"
             ],
             [
              1,
              "#f0f921"
             ]
            ],
            "type": "histogram2d"
           }
          ],
          "histogram2dcontour": [
           {
            "colorbar": {
             "outlinewidth": 0,
             "ticks": ""
            },
            "colorscale": [
             [
              0,
              "#0d0887"
             ],
             [
              0.1111111111111111,
              "#46039f"
             ],
             [
              0.2222222222222222,
              "#7201a8"
             ],
             [
              0.3333333333333333,
              "#9c179e"
             ],
             [
              0.4444444444444444,
              "#bd3786"
             ],
             [
              0.5555555555555556,
              "#d8576b"
             ],
             [
              0.6666666666666666,
              "#ed7953"
             ],
             [
              0.7777777777777778,
              "#fb9f3a"
             ],
             [
              0.8888888888888888,
              "#fdca26"
             ],
             [
              1,
              "#f0f921"
             ]
            ],
            "type": "histogram2dcontour"
           }
          ],
          "mesh3d": [
           {
            "colorbar": {
             "outlinewidth": 0,
             "ticks": ""
            },
            "type": "mesh3d"
           }
          ],
          "parcoords": [
           {
            "line": {
             "colorbar": {
              "outlinewidth": 0,
              "ticks": ""
             }
            },
            "type": "parcoords"
           }
          ],
          "pie": [
           {
            "automargin": true,
            "type": "pie"
           }
          ],
          "scatter": [
           {
            "fillpattern": {
             "fillmode": "overlay",
             "size": 10,
             "solidity": 0.2
            },
            "type": "scatter"
           }
          ],
          "scatter3d": [
           {
            "line": {
             "colorbar": {
              "outlinewidth": 0,
              "ticks": ""
             }
            },
            "marker": {
             "colorbar": {
              "outlinewidth": 0,
              "ticks": ""
             }
            },
            "type": "scatter3d"
           }
          ],
          "scattercarpet": [
           {
            "marker": {
             "colorbar": {
              "outlinewidth": 0,
              "ticks": ""
             }
            },
            "type": "scattercarpet"
           }
          ],
          "scattergeo": [
           {
            "marker": {
             "colorbar": {
              "outlinewidth": 0,
              "ticks": ""
             }
            },
            "type": "scattergeo"
           }
          ],
          "scattergl": [
           {
            "marker": {
             "colorbar": {
              "outlinewidth": 0,
              "ticks": ""
             }
            },
            "type": "scattergl"
           }
          ],
          "scattermapbox": [
           {
            "marker": {
             "colorbar": {
              "outlinewidth": 0,
              "ticks": ""
             }
            },
            "type": "scattermapbox"
           }
          ],
          "scatterpolar": [
           {
            "marker": {
             "colorbar": {
              "outlinewidth": 0,
              "ticks": ""
             }
            },
            "type": "scatterpolar"
           }
          ],
          "scatterpolargl": [
           {
            "marker": {
             "colorbar": {
              "outlinewidth": 0,
              "ticks": ""
             }
            },
            "type": "scatterpolargl"
           }
          ],
          "scatterternary": [
           {
            "marker": {
             "colorbar": {
              "outlinewidth": 0,
              "ticks": ""
             }
            },
            "type": "scatterternary"
           }
          ],
          "surface": [
           {
            "colorbar": {
             "outlinewidth": 0,
             "ticks": ""
            },
            "colorscale": [
             [
              0,
              "#0d0887"
             ],
             [
              0.1111111111111111,
              "#46039f"
             ],
             [
              0.2222222222222222,
              "#7201a8"
             ],
             [
              0.3333333333333333,
              "#9c179e"
             ],
             [
              0.4444444444444444,
              "#bd3786"
             ],
             [
              0.5555555555555556,
              "#d8576b"
             ],
             [
              0.6666666666666666,
              "#ed7953"
             ],
             [
              0.7777777777777778,
              "#fb9f3a"
             ],
             [
              0.8888888888888888,
              "#fdca26"
             ],
             [
              1,
              "#f0f921"
             ]
            ],
            "type": "surface"
           }
          ],
          "table": [
           {
            "cells": {
             "fill": {
              "color": "#EBF0F8"
             },
             "line": {
              "color": "white"
             }
            },
            "header": {
             "fill": {
              "color": "#C8D4E3"
             },
             "line": {
              "color": "white"
             }
            },
            "type": "table"
           }
          ]
         },
         "layout": {
          "annotationdefaults": {
           "arrowcolor": "#2a3f5f",
           "arrowhead": 0,
           "arrowwidth": 1
          },
          "autotypenumbers": "strict",
          "coloraxis": {
           "colorbar": {
            "outlinewidth": 0,
            "ticks": ""
           }
          },
          "colorscale": {
           "diverging": [
            [
             0,
             "#8e0152"
            ],
            [
             0.1,
             "#c51b7d"
            ],
            [
             0.2,
             "#de77ae"
            ],
            [
             0.3,
             "#f1b6da"
            ],
            [
             0.4,
             "#fde0ef"
            ],
            [
             0.5,
             "#f7f7f7"
            ],
            [
             0.6,
             "#e6f5d0"
            ],
            [
             0.7,
             "#b8e186"
            ],
            [
             0.8,
             "#7fbc41"
            ],
            [
             0.9,
             "#4d9221"
            ],
            [
             1,
             "#276419"
            ]
           ],
           "sequential": [
            [
             0,
             "#0d0887"
            ],
            [
             0.1111111111111111,
             "#46039f"
            ],
            [
             0.2222222222222222,
             "#7201a8"
            ],
            [
             0.3333333333333333,
             "#9c179e"
            ],
            [
             0.4444444444444444,
             "#bd3786"
            ],
            [
             0.5555555555555556,
             "#d8576b"
            ],
            [
             0.6666666666666666,
             "#ed7953"
            ],
            [
             0.7777777777777778,
             "#fb9f3a"
            ],
            [
             0.8888888888888888,
             "#fdca26"
            ],
            [
             1,
             "#f0f921"
            ]
           ],
           "sequentialminus": [
            [
             0,
             "#0d0887"
            ],
            [
             0.1111111111111111,
             "#46039f"
            ],
            [
             0.2222222222222222,
             "#7201a8"
            ],
            [
             0.3333333333333333,
             "#9c179e"
            ],
            [
             0.4444444444444444,
             "#bd3786"
            ],
            [
             0.5555555555555556,
             "#d8576b"
            ],
            [
             0.6666666666666666,
             "#ed7953"
            ],
            [
             0.7777777777777778,
             "#fb9f3a"
            ],
            [
             0.8888888888888888,
             "#fdca26"
            ],
            [
             1,
             "#f0f921"
            ]
           ]
          },
          "colorway": [
           "#636efa",
           "#EF553B",
           "#00cc96",
           "#ab63fa",
           "#FFA15A",
           "#19d3f3",
           "#FF6692",
           "#B6E880",
           "#FF97FF",
           "#FECB52"
          ],
          "font": {
           "color": "#2a3f5f"
          },
          "geo": {
           "bgcolor": "white",
           "lakecolor": "white",
           "landcolor": "#E5ECF6",
           "showlakes": true,
           "showland": true,
           "subunitcolor": "white"
          },
          "hoverlabel": {
           "align": "left"
          },
          "hovermode": "closest",
          "mapbox": {
           "style": "light"
          },
          "paper_bgcolor": "white",
          "plot_bgcolor": "#E5ECF6",
          "polar": {
           "angularaxis": {
            "gridcolor": "white",
            "linecolor": "white",
            "ticks": ""
           },
           "bgcolor": "#E5ECF6",
           "radialaxis": {
            "gridcolor": "white",
            "linecolor": "white",
            "ticks": ""
           }
          },
          "scene": {
           "xaxis": {
            "backgroundcolor": "#E5ECF6",
            "gridcolor": "white",
            "gridwidth": 2,
            "linecolor": "white",
            "showbackground": true,
            "ticks": "",
            "zerolinecolor": "white"
           },
           "yaxis": {
            "backgroundcolor": "#E5ECF6",
            "gridcolor": "white",
            "gridwidth": 2,
            "linecolor": "white",
            "showbackground": true,
            "ticks": "",
            "zerolinecolor": "white"
           },
           "zaxis": {
            "backgroundcolor": "#E5ECF6",
            "gridcolor": "white",
            "gridwidth": 2,
            "linecolor": "white",
            "showbackground": true,
            "ticks": "",
            "zerolinecolor": "white"
           }
          },
          "shapedefaults": {
           "line": {
            "color": "#2a3f5f"
           }
          },
          "ternary": {
           "aaxis": {
            "gridcolor": "white",
            "linecolor": "white",
            "ticks": ""
           },
           "baxis": {
            "gridcolor": "white",
            "linecolor": "white",
            "ticks": ""
           },
           "bgcolor": "#E5ECF6",
           "caxis": {
            "gridcolor": "white",
            "linecolor": "white",
            "ticks": ""
           }
          },
          "title": {
           "x": 0.05
          },
          "xaxis": {
           "automargin": true,
           "gridcolor": "white",
           "linecolor": "white",
           "ticks": "",
           "title": {
            "standoff": 15
           },
           "zerolinecolor": "white",
           "zerolinewidth": 2
          },
          "yaxis": {
           "automargin": true,
           "gridcolor": "white",
           "linecolor": "white",
           "ticks": "",
           "title": {
            "standoff": 15
           },
           "zerolinecolor": "white",
           "zerolinewidth": 2
          }
         }
        },
        "title": {
         "font": {
          "color": "#4D5663"
         }
        },
        "xaxis": {
         "gridcolor": "#E1E5ED",
         "showgrid": true,
         "tickfont": {
          "color": "#4D5663"
         },
         "title": {
          "font": {
           "color": "#4D5663"
          },
          "text": ""
         },
         "zerolinecolor": "#E1E5ED"
        },
        "yaxis": {
         "gridcolor": "#E1E5ED",
         "showgrid": true,
         "tickfont": {
          "color": "#4D5663"
         },
         "title": {
          "font": {
           "color": "#4D5663"
          },
          "text": ""
         },
         "zerolinecolor": "#E1E5ED"
        }
       }
      },
      "text/html": [
       "<div>                            <div id=\"5291e111-9c19-413a-95a0-f3bf1a1e854f\" class=\"plotly-graph-div\" style=\"height:525px; width:100%;\"></div>            <script type=\"text/javascript\">                require([\"plotly\"], function(Plotly) {                    window.PLOTLYENV=window.PLOTLYENV || {};\n",
       "                    window.PLOTLYENV.BASE_URL='https://plot.ly';                                    if (document.getElementById(\"5291e111-9c19-413a-95a0-f3bf1a1e854f\")) {                    Plotly.newPlot(                        \"5291e111-9c19-413a-95a0-f3bf1a1e854f\",                        [{\"line\":{\"color\":\"rgba(255, 153, 51, 1.0)\",\"dash\":\"solid\",\"shape\":\"linear\",\"width\":1.3},\"marker\":{\"size\":10,\"symbol\":\"circle\"},\"mode\":\"markers\",\"name\":\"B\",\"text\":\"\",\"x\":[0.44869329824135673,0.04442947891624006,2.1145540519877124,0.48459375200395927,0.36985788919286805,1.481971281069352,2.0343982337154416,-0.4824821822177707,0.8309463581150035,-0.4349385948709931,-0.6756120182110634,-1.5925814019449025,0.23413023932942328,1.0281422105942735,-1.0623059466249865,2.2195071053364663,0.8756994750091641,0.8089835262821432,-0.743409264689658,0.04294253724257267,1.0684455291199384,0.27639677781983707,-1.0954222897259756,-1.2812049648901038,-0.637281296389303,2.111221879684574,-0.5513865740599511,1.0682633521601927,0.4652057414665277,-0.7206548172209604,1.2453404662443033,1.1397830121661918,0.49950650596397383,-0.9263185329342912,0.4111857860492889,0.7120252399106934,-0.7711455320738849,0.9950201421281071,-0.8274584839599624,0.3122126481853524,0.4515622771288505,0.6073609370855199,-2.170149917275103,1.3093912040986788,0.2590512674708452,-1.2337530482989523,-0.308609285621261,0.34858056871628357,-0.5259945565128492,0.7418184128255518,-0.08368524035607329,-0.48681829176600705,-0.6949219701346371,-1.5182275005248043,-0.6942761142349966,-0.29222643627617845,-0.6980315938540814,-1.7810575066261185,-0.38392005874164825,0.7775804455478614,-0.04417520548831625,-1.1024379175998715,-0.6161541682760509,0.2575180438792113,-0.5419691624897529,0.6017703190288322,-1.6905582702704653,0.6380563321234376,1.8411694643156877,0.9642052764057285,1.002877971747453,-1.7837200423433832,1.0355284326901804,-0.8243451510155145,0.3421716769811112,1.7152754923086335,-0.33329183790006034,-0.17785876328291492,0.26727742385574493,-1.4606113851565532,-1.0041165914639603,1.0996641205324444,0.048076295886310676,0.3881428733745407,-0.7623022776406418,1.276648665357941,0.17375732056573817,1.6164033921063847,0.3132317208480055,-0.00029622527125818443,-0.16420288781157838,-2.390517968447201,-0.018873881777453607,-1.9745352341669447,0.6437240829886111,0.609802961274568,-0.6262284629895819,1.4052370704543717,-0.06498383511536726,0.673796877062401],\"y\":[-1.1849432239690456,-0.5211376653895813,0.41965188826774313,-0.9070930374743329,-1.5831942364868001,-0.4858365830813737,0.7278009166335301,2.0221616404760145,0.507794572940946,2.0711601716091512,1.0104748395053536,-0.5848426486746308,0.5470577063946599,0.5165371941343447,-0.8016442671933688,0.288897603145818,1.005260388668178,1.6598616302267328,-0.5925215915659423,1.671554584904481,-0.20489334121097746,0.9960112769218384,-1.1054061041824972,-0.5248963018843851,-2.02827538041169,-0.7481179255865056,0.2391258954400187,-0.036886343978482165,0.14693839808593498,-1.3435550788737127,0.495509914100354,-0.3577410117056153,1.4057787447153953,-1.4396298323686851,2.0265956566614616,0.14237098853310884,-0.6720855188428924,-0.29335652809925195,-0.43569699647796284,-0.22581895031823285,-0.47442969869914503,-0.17069809986289486,1.3784558343562423,-2.207449291449941,0.8572827458826012,1.662204807114416,0.571471145490293,0.44588678869899956,-0.3524155474257769,1.2378307781006213,-1.4492689531910803,0.727622601488387,-1.4132155840281677,-0.9267015536871722,-0.44493820610091056,-0.8520553246569631,0.23717606545090117,1.491657687677004,0.7444833830075451,-0.27117666533976253,0.39270769256840615,-0.2086607631876548,0.9385178680801646,-1.0189388989003372,1.9449358716585041,-0.6255855098585659,1.0855482233583384,0.39546694491298606,-0.1796799824978816,0.9446600698055564,-0.4650681551742743,1.9444631807871682,-0.2513789023420614,-0.686686256853849,0.6966766328643259,-0.1465540592511607,1.6020687291155558,-0.051959615969177114,2.543342310408571,-0.570036449181245,0.9720872564921681,0.7685133980318168,-0.4631756619022978,0.6108351641027522,-0.6166118778084613,1.8907829068486697,-1.041542502652796,-1.5682055482136659,-1.050014599780345,-0.9700650851375957,-0.4779809922425408,-0.9087200791848067,-0.19970310413878423,-0.3117045540132173,-0.34515180449440186,0.13139098324208123,-0.7404657562632138,-2.587836670667099,0.12224694930872568,1.0282647351123904],\"type\":\"scatter\"}],                        {\"legend\":{\"bgcolor\":\"#F5F6F9\",\"font\":{\"color\":\"#4D5663\"}},\"paper_bgcolor\":\"#F5F6F9\",\"plot_bgcolor\":\"#F5F6F9\",\"template\":{\"data\":{\"barpolar\":[{\"marker\":{\"line\":{\"color\":\"#E5ECF6\",\"width\":0.5},\"pattern\":{\"fillmode\":\"overlay\",\"size\":10,\"solidity\":0.2}},\"type\":\"barpolar\"}],\"bar\":[{\"error_x\":{\"color\":\"#2a3f5f\"},\"error_y\":{\"color\":\"#2a3f5f\"},\"marker\":{\"line\":{\"color\":\"#E5ECF6\",\"width\":0.5},\"pattern\":{\"fillmode\":\"overlay\",\"size\":10,\"solidity\":0.2}},\"type\":\"bar\"}],\"carpet\":[{\"aaxis\":{\"endlinecolor\":\"#2a3f5f\",\"gridcolor\":\"white\",\"linecolor\":\"white\",\"minorgridcolor\":\"white\",\"startlinecolor\":\"#2a3f5f\"},\"baxis\":{\"endlinecolor\":\"#2a3f5f\",\"gridcolor\":\"white\",\"linecolor\":\"white\",\"minorgridcolor\":\"white\",\"startlinecolor\":\"#2a3f5f\"},\"type\":\"carpet\"}],\"choropleth\":[{\"colorbar\":{\"outlinewidth\":0,\"ticks\":\"\"},\"type\":\"choropleth\"}],\"contourcarpet\":[{\"colorbar\":{\"outlinewidth\":0,\"ticks\":\"\"},\"type\":\"contourcarpet\"}],\"contour\":[{\"colorbar\":{\"outlinewidth\":0,\"ticks\":\"\"},\"colorscale\":[[0.0,\"#0d0887\"],[0.1111111111111111,\"#46039f\"],[0.2222222222222222,\"#7201a8\"],[0.3333333333333333,\"#9c179e\"],[0.4444444444444444,\"#bd3786\"],[0.5555555555555556,\"#d8576b\"],[0.6666666666666666,\"#ed7953\"],[0.7777777777777778,\"#fb9f3a\"],[0.8888888888888888,\"#fdca26\"],[1.0,\"#f0f921\"]],\"type\":\"contour\"}],\"heatmapgl\":[{\"colorbar\":{\"outlinewidth\":0,\"ticks\":\"\"},\"colorscale\":[[0.0,\"#0d0887\"],[0.1111111111111111,\"#46039f\"],[0.2222222222222222,\"#7201a8\"],[0.3333333333333333,\"#9c179e\"],[0.4444444444444444,\"#bd3786\"],[0.5555555555555556,\"#d8576b\"],[0.6666666666666666,\"#ed7953\"],[0.7777777777777778,\"#fb9f3a\"],[0.8888888888888888,\"#fdca26\"],[1.0,\"#f0f921\"]],\"type\":\"heatmapgl\"}],\"heatmap\":[{\"colorbar\":{\"outlinewidth\":0,\"ticks\":\"\"},\"colorscale\":[[0.0,\"#0d0887\"],[0.1111111111111111,\"#46039f\"],[0.2222222222222222,\"#7201a8\"],[0.3333333333333333,\"#9c179e\"],[0.4444444444444444,\"#bd3786\"],[0.5555555555555556,\"#d8576b\"],[0.6666666666666666,\"#ed7953\"],[0.7777777777777778,\"#fb9f3a\"],[0.8888888888888888,\"#fdca26\"],[1.0,\"#f0f921\"]],\"type\":\"heatmap\"}],\"histogram2dcontour\":[{\"colorbar\":{\"outlinewidth\":0,\"ticks\":\"\"},\"colorscale\":[[0.0,\"#0d0887\"],[0.1111111111111111,\"#46039f\"],[0.2222222222222222,\"#7201a8\"],[0.3333333333333333,\"#9c179e\"],[0.4444444444444444,\"#bd3786\"],[0.5555555555555556,\"#d8576b\"],[0.6666666666666666,\"#ed7953\"],[0.7777777777777778,\"#fb9f3a\"],[0.8888888888888888,\"#fdca26\"],[1.0,\"#f0f921\"]],\"type\":\"histogram2dcontour\"}],\"histogram2d\":[{\"colorbar\":{\"outlinewidth\":0,\"ticks\":\"\"},\"colorscale\":[[0.0,\"#0d0887\"],[0.1111111111111111,\"#46039f\"],[0.2222222222222222,\"#7201a8\"],[0.3333333333333333,\"#9c179e\"],[0.4444444444444444,\"#bd3786\"],[0.5555555555555556,\"#d8576b\"],[0.6666666666666666,\"#ed7953\"],[0.7777777777777778,\"#fb9f3a\"],[0.8888888888888888,\"#fdca26\"],[1.0,\"#f0f921\"]],\"type\":\"histogram2d\"}],\"histogram\":[{\"marker\":{\"pattern\":{\"fillmode\":\"overlay\",\"size\":10,\"solidity\":0.2}},\"type\":\"histogram\"}],\"mesh3d\":[{\"colorbar\":{\"outlinewidth\":0,\"ticks\":\"\"},\"type\":\"mesh3d\"}],\"parcoords\":[{\"line\":{\"colorbar\":{\"outlinewidth\":0,\"ticks\":\"\"}},\"type\":\"parcoords\"}],\"pie\":[{\"automargin\":true,\"type\":\"pie\"}],\"scatter3d\":[{\"line\":{\"colorbar\":{\"outlinewidth\":0,\"ticks\":\"\"}},\"marker\":{\"colorbar\":{\"outlinewidth\":0,\"ticks\":\"\"}},\"type\":\"scatter3d\"}],\"scattercarpet\":[{\"marker\":{\"colorbar\":{\"outlinewidth\":0,\"ticks\":\"\"}},\"type\":\"scattercarpet\"}],\"scattergeo\":[{\"marker\":{\"colorbar\":{\"outlinewidth\":0,\"ticks\":\"\"}},\"type\":\"scattergeo\"}],\"scattergl\":[{\"marker\":{\"colorbar\":{\"outlinewidth\":0,\"ticks\":\"\"}},\"type\":\"scattergl\"}],\"scattermapbox\":[{\"marker\":{\"colorbar\":{\"outlinewidth\":0,\"ticks\":\"\"}},\"type\":\"scattermapbox\"}],\"scatterpolargl\":[{\"marker\":{\"colorbar\":{\"outlinewidth\":0,\"ticks\":\"\"}},\"type\":\"scatterpolargl\"}],\"scatterpolar\":[{\"marker\":{\"colorbar\":{\"outlinewidth\":0,\"ticks\":\"\"}},\"type\":\"scatterpolar\"}],\"scatter\":[{\"fillpattern\":{\"fillmode\":\"overlay\",\"size\":10,\"solidity\":0.2},\"type\":\"scatter\"}],\"scatterternary\":[{\"marker\":{\"colorbar\":{\"outlinewidth\":0,\"ticks\":\"\"}},\"type\":\"scatterternary\"}],\"surface\":[{\"colorbar\":{\"outlinewidth\":0,\"ticks\":\"\"},\"colorscale\":[[0.0,\"#0d0887\"],[0.1111111111111111,\"#46039f\"],[0.2222222222222222,\"#7201a8\"],[0.3333333333333333,\"#9c179e\"],[0.4444444444444444,\"#bd3786\"],[0.5555555555555556,\"#d8576b\"],[0.6666666666666666,\"#ed7953\"],[0.7777777777777778,\"#fb9f3a\"],[0.8888888888888888,\"#fdca26\"],[1.0,\"#f0f921\"]],\"type\":\"surface\"}],\"table\":[{\"cells\":{\"fill\":{\"color\":\"#EBF0F8\"},\"line\":{\"color\":\"white\"}},\"header\":{\"fill\":{\"color\":\"#C8D4E3\"},\"line\":{\"color\":\"white\"}},\"type\":\"table\"}]},\"layout\":{\"annotationdefaults\":{\"arrowcolor\":\"#2a3f5f\",\"arrowhead\":0,\"arrowwidth\":1},\"autotypenumbers\":\"strict\",\"coloraxis\":{\"colorbar\":{\"outlinewidth\":0,\"ticks\":\"\"}},\"colorscale\":{\"diverging\":[[0,\"#8e0152\"],[0.1,\"#c51b7d\"],[0.2,\"#de77ae\"],[0.3,\"#f1b6da\"],[0.4,\"#fde0ef\"],[0.5,\"#f7f7f7\"],[0.6,\"#e6f5d0\"],[0.7,\"#b8e186\"],[0.8,\"#7fbc41\"],[0.9,\"#4d9221\"],[1,\"#276419\"]],\"sequential\":[[0.0,\"#0d0887\"],[0.1111111111111111,\"#46039f\"],[0.2222222222222222,\"#7201a8\"],[0.3333333333333333,\"#9c179e\"],[0.4444444444444444,\"#bd3786\"],[0.5555555555555556,\"#d8576b\"],[0.6666666666666666,\"#ed7953\"],[0.7777777777777778,\"#fb9f3a\"],[0.8888888888888888,\"#fdca26\"],[1.0,\"#f0f921\"]],\"sequentialminus\":[[0.0,\"#0d0887\"],[0.1111111111111111,\"#46039f\"],[0.2222222222222222,\"#7201a8\"],[0.3333333333333333,\"#9c179e\"],[0.4444444444444444,\"#bd3786\"],[0.5555555555555556,\"#d8576b\"],[0.6666666666666666,\"#ed7953\"],[0.7777777777777778,\"#fb9f3a\"],[0.8888888888888888,\"#fdca26\"],[1.0,\"#f0f921\"]]},\"colorway\":[\"#636efa\",\"#EF553B\",\"#00cc96\",\"#ab63fa\",\"#FFA15A\",\"#19d3f3\",\"#FF6692\",\"#B6E880\",\"#FF97FF\",\"#FECB52\"],\"font\":{\"color\":\"#2a3f5f\"},\"geo\":{\"bgcolor\":\"white\",\"lakecolor\":\"white\",\"landcolor\":\"#E5ECF6\",\"showlakes\":true,\"showland\":true,\"subunitcolor\":\"white\"},\"hoverlabel\":{\"align\":\"left\"},\"hovermode\":\"closest\",\"mapbox\":{\"style\":\"light\"},\"paper_bgcolor\":\"white\",\"plot_bgcolor\":\"#E5ECF6\",\"polar\":{\"angularaxis\":{\"gridcolor\":\"white\",\"linecolor\":\"white\",\"ticks\":\"\"},\"bgcolor\":\"#E5ECF6\",\"radialaxis\":{\"gridcolor\":\"white\",\"linecolor\":\"white\",\"ticks\":\"\"}},\"scene\":{\"xaxis\":{\"backgroundcolor\":\"#E5ECF6\",\"gridcolor\":\"white\",\"gridwidth\":2,\"linecolor\":\"white\",\"showbackground\":true,\"ticks\":\"\",\"zerolinecolor\":\"white\"},\"yaxis\":{\"backgroundcolor\":\"#E5ECF6\",\"gridcolor\":\"white\",\"gridwidth\":2,\"linecolor\":\"white\",\"showbackground\":true,\"ticks\":\"\",\"zerolinecolor\":\"white\"},\"zaxis\":{\"backgroundcolor\":\"#E5ECF6\",\"gridcolor\":\"white\",\"gridwidth\":2,\"linecolor\":\"white\",\"showbackground\":true,\"ticks\":\"\",\"zerolinecolor\":\"white\"}},\"shapedefaults\":{\"line\":{\"color\":\"#2a3f5f\"}},\"ternary\":{\"aaxis\":{\"gridcolor\":\"white\",\"linecolor\":\"white\",\"ticks\":\"\"},\"baxis\":{\"gridcolor\":\"white\",\"linecolor\":\"white\",\"ticks\":\"\"},\"bgcolor\":\"#E5ECF6\",\"caxis\":{\"gridcolor\":\"white\",\"linecolor\":\"white\",\"ticks\":\"\"}},\"title\":{\"x\":0.05},\"xaxis\":{\"automargin\":true,\"gridcolor\":\"white\",\"linecolor\":\"white\",\"ticks\":\"\",\"title\":{\"standoff\":15},\"zerolinecolor\":\"white\",\"zerolinewidth\":2},\"yaxis\":{\"automargin\":true,\"gridcolor\":\"white\",\"linecolor\":\"white\",\"ticks\":\"\",\"title\":{\"standoff\":15},\"zerolinecolor\":\"white\",\"zerolinewidth\":2}}},\"title\":{\"font\":{\"color\":\"#4D5663\"}},\"xaxis\":{\"gridcolor\":\"#E1E5ED\",\"showgrid\":true,\"tickfont\":{\"color\":\"#4D5663\"},\"title\":{\"font\":{\"color\":\"#4D5663\"},\"text\":\"\"},\"zerolinecolor\":\"#E1E5ED\"},\"yaxis\":{\"gridcolor\":\"#E1E5ED\",\"showgrid\":true,\"tickfont\":{\"color\":\"#4D5663\"},\"title\":{\"font\":{\"color\":\"#4D5663\"},\"text\":\"\"},\"zerolinecolor\":\"#E1E5ED\"}},                        {\"showLink\": true, \"linkText\": \"Export to plot.ly\", \"plotlyServerURL\": \"https://plot.ly\", \"responsive\": true}                    ).then(function(){\n",
       "                            \n",
       "var gd = document.getElementById('5291e111-9c19-413a-95a0-f3bf1a1e854f');\n",
       "var x = new MutationObserver(function (mutations, observer) {{\n",
       "        var display = window.getComputedStyle(gd).display;\n",
       "        if (!display || display === 'none') {{\n",
       "            console.log([gd, 'removed!']);\n",
       "            Plotly.purge(gd);\n",
       "            observer.disconnect();\n",
       "        }}\n",
       "}});\n",
       "\n",
       "// Listen for the removal of the full notebook cells\n",
       "var notebookContainer = gd.closest('#notebook-container');\n",
       "if (notebookContainer) {{\n",
       "    x.observe(notebookContainer, {childList: true});\n",
       "}}\n",
       "\n",
       "// Listen for the clearing of the current output cell\n",
       "var outputEl = gd.closest('.output');\n",
       "if (outputEl) {{\n",
       "    x.observe(outputEl, {childList: true});\n",
       "}}\n",
       "\n",
       "                        })                };                });            </script>        </div>"
      ]
     },
     "metadata": {},
     "output_type": "display_data"
    }
   ],
   "source": [
    "df.iplot(kind='scatter',x='A',y='B',mode='markers',size=10)"
   ]
  },
  {
   "cell_type": "markdown",
   "metadata": {},
   "source": [
    "## Bar Plots"
   ]
  },
  {
   "cell_type": "code",
   "execution_count": 33,
   "metadata": {},
   "outputs": [
    {
     "data": {
      "application/vnd.plotly.v1+json": {
       "config": {
        "linkText": "Export to plot.ly",
        "plotlyServerURL": "https://plot.ly",
        "showLink": true
       },
       "data": [
        {
         "marker": {
          "color": "rgba(255, 153, 51, 0.6)",
          "line": {
           "color": "rgba(255, 153, 51, 1.0)",
           "width": 1
          }
         },
         "name": "Values",
         "orientation": "v",
         "text": "",
         "type": "bar",
         "x": [
          "A",
          "B",
          "C"
         ],
         "y": [
          32,
          43,
          50
         ]
        }
       ],
       "layout": {
        "legend": {
         "bgcolor": "#F5F6F9",
         "font": {
          "color": "#4D5663"
         }
        },
        "paper_bgcolor": "#F5F6F9",
        "plot_bgcolor": "#F5F6F9",
        "template": {
         "data": {
          "bar": [
           {
            "error_x": {
             "color": "#2a3f5f"
            },
            "error_y": {
             "color": "#2a3f5f"
            },
            "marker": {
             "line": {
              "color": "#E5ECF6",
              "width": 0.5
             },
             "pattern": {
              "fillmode": "overlay",
              "size": 10,
              "solidity": 0.2
             }
            },
            "type": "bar"
           }
          ],
          "barpolar": [
           {
            "marker": {
             "line": {
              "color": "#E5ECF6",
              "width": 0.5
             },
             "pattern": {
              "fillmode": "overlay",
              "size": 10,
              "solidity": 0.2
             }
            },
            "type": "barpolar"
           }
          ],
          "carpet": [
           {
            "aaxis": {
             "endlinecolor": "#2a3f5f",
             "gridcolor": "white",
             "linecolor": "white",
             "minorgridcolor": "white",
             "startlinecolor": "#2a3f5f"
            },
            "baxis": {
             "endlinecolor": "#2a3f5f",
             "gridcolor": "white",
             "linecolor": "white",
             "minorgridcolor": "white",
             "startlinecolor": "#2a3f5f"
            },
            "type": "carpet"
           }
          ],
          "choropleth": [
           {
            "colorbar": {
             "outlinewidth": 0,
             "ticks": ""
            },
            "type": "choropleth"
           }
          ],
          "contour": [
           {
            "colorbar": {
             "outlinewidth": 0,
             "ticks": ""
            },
            "colorscale": [
             [
              0,
              "#0d0887"
             ],
             [
              0.1111111111111111,
              "#46039f"
             ],
             [
              0.2222222222222222,
              "#7201a8"
             ],
             [
              0.3333333333333333,
              "#9c179e"
             ],
             [
              0.4444444444444444,
              "#bd3786"
             ],
             [
              0.5555555555555556,
              "#d8576b"
             ],
             [
              0.6666666666666666,
              "#ed7953"
             ],
             [
              0.7777777777777778,
              "#fb9f3a"
             ],
             [
              0.8888888888888888,
              "#fdca26"
             ],
             [
              1,
              "#f0f921"
             ]
            ],
            "type": "contour"
           }
          ],
          "contourcarpet": [
           {
            "colorbar": {
             "outlinewidth": 0,
             "ticks": ""
            },
            "type": "contourcarpet"
           }
          ],
          "heatmap": [
           {
            "colorbar": {
             "outlinewidth": 0,
             "ticks": ""
            },
            "colorscale": [
             [
              0,
              "#0d0887"
             ],
             [
              0.1111111111111111,
              "#46039f"
             ],
             [
              0.2222222222222222,
              "#7201a8"
             ],
             [
              0.3333333333333333,
              "#9c179e"
             ],
             [
              0.4444444444444444,
              "#bd3786"
             ],
             [
              0.5555555555555556,
              "#d8576b"
             ],
             [
              0.6666666666666666,
              "#ed7953"
             ],
             [
              0.7777777777777778,
              "#fb9f3a"
             ],
             [
              0.8888888888888888,
              "#fdca26"
             ],
             [
              1,
              "#f0f921"
             ]
            ],
            "type": "heatmap"
           }
          ],
          "heatmapgl": [
           {
            "colorbar": {
             "outlinewidth": 0,
             "ticks": ""
            },
            "colorscale": [
             [
              0,
              "#0d0887"
             ],
             [
              0.1111111111111111,
              "#46039f"
             ],
             [
              0.2222222222222222,
              "#7201a8"
             ],
             [
              0.3333333333333333,
              "#9c179e"
             ],
             [
              0.4444444444444444,
              "#bd3786"
             ],
             [
              0.5555555555555556,
              "#d8576b"
             ],
             [
              0.6666666666666666,
              "#ed7953"
             ],
             [
              0.7777777777777778,
              "#fb9f3a"
             ],
             [
              0.8888888888888888,
              "#fdca26"
             ],
             [
              1,
              "#f0f921"
             ]
            ],
            "type": "heatmapgl"
           }
          ],
          "histogram": [
           {
            "marker": {
             "pattern": {
              "fillmode": "overlay",
              "size": 10,
              "solidity": 0.2
             }
            },
            "type": "histogram"
           }
          ],
          "histogram2d": [
           {
            "colorbar": {
             "outlinewidth": 0,
             "ticks": ""
            },
            "colorscale": [
             [
              0,
              "#0d0887"
             ],
             [
              0.1111111111111111,
              "#46039f"
             ],
             [
              0.2222222222222222,
              "#7201a8"
             ],
             [
              0.3333333333333333,
              "#9c179e"
             ],
             [
              0.4444444444444444,
              "#bd3786"
             ],
             [
              0.5555555555555556,
              "#d8576b"
             ],
             [
              0.6666666666666666,
              "#ed7953"
             ],
             [
              0.7777777777777778,
              "#fb9f3a"
             ],
             [
              0.8888888888888888,
              "#fdca26"
             ],
             [
              1,
              "#f0f921"
             ]
            ],
            "type": "histogram2d"
           }
          ],
          "histogram2dcontour": [
           {
            "colorbar": {
             "outlinewidth": 0,
             "ticks": ""
            },
            "colorscale": [
             [
              0,
              "#0d0887"
             ],
             [
              0.1111111111111111,
              "#46039f"
             ],
             [
              0.2222222222222222,
              "#7201a8"
             ],
             [
              0.3333333333333333,
              "#9c179e"
             ],
             [
              0.4444444444444444,
              "#bd3786"
             ],
             [
              0.5555555555555556,
              "#d8576b"
             ],
             [
              0.6666666666666666,
              "#ed7953"
             ],
             [
              0.7777777777777778,
              "#fb9f3a"
             ],
             [
              0.8888888888888888,
              "#fdca26"
             ],
             [
              1,
              "#f0f921"
             ]
            ],
            "type": "histogram2dcontour"
           }
          ],
          "mesh3d": [
           {
            "colorbar": {
             "outlinewidth": 0,
             "ticks": ""
            },
            "type": "mesh3d"
           }
          ],
          "parcoords": [
           {
            "line": {
             "colorbar": {
              "outlinewidth": 0,
              "ticks": ""
             }
            },
            "type": "parcoords"
           }
          ],
          "pie": [
           {
            "automargin": true,
            "type": "pie"
           }
          ],
          "scatter": [
           {
            "fillpattern": {
             "fillmode": "overlay",
             "size": 10,
             "solidity": 0.2
            },
            "type": "scatter"
           }
          ],
          "scatter3d": [
           {
            "line": {
             "colorbar": {
              "outlinewidth": 0,
              "ticks": ""
             }
            },
            "marker": {
             "colorbar": {
              "outlinewidth": 0,
              "ticks": ""
             }
            },
            "type": "scatter3d"
           }
          ],
          "scattercarpet": [
           {
            "marker": {
             "colorbar": {
              "outlinewidth": 0,
              "ticks": ""
             }
            },
            "type": "scattercarpet"
           }
          ],
          "scattergeo": [
           {
            "marker": {
             "colorbar": {
              "outlinewidth": 0,
              "ticks": ""
             }
            },
            "type": "scattergeo"
           }
          ],
          "scattergl": [
           {
            "marker": {
             "colorbar": {
              "outlinewidth": 0,
              "ticks": ""
             }
            },
            "type": "scattergl"
           }
          ],
          "scattermapbox": [
           {
            "marker": {
             "colorbar": {
              "outlinewidth": 0,
              "ticks": ""
             }
            },
            "type": "scattermapbox"
           }
          ],
          "scatterpolar": [
           {
            "marker": {
             "colorbar": {
              "outlinewidth": 0,
              "ticks": ""
             }
            },
            "type": "scatterpolar"
           }
          ],
          "scatterpolargl": [
           {
            "marker": {
             "colorbar": {
              "outlinewidth": 0,
              "ticks": ""
             }
            },
            "type": "scatterpolargl"
           }
          ],
          "scatterternary": [
           {
            "marker": {
             "colorbar": {
              "outlinewidth": 0,
              "ticks": ""
             }
            },
            "type": "scatterternary"
           }
          ],
          "surface": [
           {
            "colorbar": {
             "outlinewidth": 0,
             "ticks": ""
            },
            "colorscale": [
             [
              0,
              "#0d0887"
             ],
             [
              0.1111111111111111,
              "#46039f"
             ],
             [
              0.2222222222222222,
              "#7201a8"
             ],
             [
              0.3333333333333333,
              "#9c179e"
             ],
             [
              0.4444444444444444,
              "#bd3786"
             ],
             [
              0.5555555555555556,
              "#d8576b"
             ],
             [
              0.6666666666666666,
              "#ed7953"
             ],
             [
              0.7777777777777778,
              "#fb9f3a"
             ],
             [
              0.8888888888888888,
              "#fdca26"
             ],
             [
              1,
              "#f0f921"
             ]
            ],
            "type": "surface"
           }
          ],
          "table": [
           {
            "cells": {
             "fill": {
              "color": "#EBF0F8"
             },
             "line": {
              "color": "white"
             }
            },
            "header": {
             "fill": {
              "color": "#C8D4E3"
             },
             "line": {
              "color": "white"
             }
            },
            "type": "table"
           }
          ]
         },
         "layout": {
          "annotationdefaults": {
           "arrowcolor": "#2a3f5f",
           "arrowhead": 0,
           "arrowwidth": 1
          },
          "autotypenumbers": "strict",
          "coloraxis": {
           "colorbar": {
            "outlinewidth": 0,
            "ticks": ""
           }
          },
          "colorscale": {
           "diverging": [
            [
             0,
             "#8e0152"
            ],
            [
             0.1,
             "#c51b7d"
            ],
            [
             0.2,
             "#de77ae"
            ],
            [
             0.3,
             "#f1b6da"
            ],
            [
             0.4,
             "#fde0ef"
            ],
            [
             0.5,
             "#f7f7f7"
            ],
            [
             0.6,
             "#e6f5d0"
            ],
            [
             0.7,
             "#b8e186"
            ],
            [
             0.8,
             "#7fbc41"
            ],
            [
             0.9,
             "#4d9221"
            ],
            [
             1,
             "#276419"
            ]
           ],
           "sequential": [
            [
             0,
             "#0d0887"
            ],
            [
             0.1111111111111111,
             "#46039f"
            ],
            [
             0.2222222222222222,
             "#7201a8"
            ],
            [
             0.3333333333333333,
             "#9c179e"
            ],
            [
             0.4444444444444444,
             "#bd3786"
            ],
            [
             0.5555555555555556,
             "#d8576b"
            ],
            [
             0.6666666666666666,
             "#ed7953"
            ],
            [
             0.7777777777777778,
             "#fb9f3a"
            ],
            [
             0.8888888888888888,
             "#fdca26"
            ],
            [
             1,
             "#f0f921"
            ]
           ],
           "sequentialminus": [
            [
             0,
             "#0d0887"
            ],
            [
             0.1111111111111111,
             "#46039f"
            ],
            [
             0.2222222222222222,
             "#7201a8"
            ],
            [
             0.3333333333333333,
             "#9c179e"
            ],
            [
             0.4444444444444444,
             "#bd3786"
            ],
            [
             0.5555555555555556,
             "#d8576b"
            ],
            [
             0.6666666666666666,
             "#ed7953"
            ],
            [
             0.7777777777777778,
             "#fb9f3a"
            ],
            [
             0.8888888888888888,
             "#fdca26"
            ],
            [
             1,
             "#f0f921"
            ]
           ]
          },
          "colorway": [
           "#636efa",
           "#EF553B",
           "#00cc96",
           "#ab63fa",
           "#FFA15A",
           "#19d3f3",
           "#FF6692",
           "#B6E880",
           "#FF97FF",
           "#FECB52"
          ],
          "font": {
           "color": "#2a3f5f"
          },
          "geo": {
           "bgcolor": "white",
           "lakecolor": "white",
           "landcolor": "#E5ECF6",
           "showlakes": true,
           "showland": true,
           "subunitcolor": "white"
          },
          "hoverlabel": {
           "align": "left"
          },
          "hovermode": "closest",
          "mapbox": {
           "style": "light"
          },
          "paper_bgcolor": "white",
          "plot_bgcolor": "#E5ECF6",
          "polar": {
           "angularaxis": {
            "gridcolor": "white",
            "linecolor": "white",
            "ticks": ""
           },
           "bgcolor": "#E5ECF6",
           "radialaxis": {
            "gridcolor": "white",
            "linecolor": "white",
            "ticks": ""
           }
          },
          "scene": {
           "xaxis": {
            "backgroundcolor": "#E5ECF6",
            "gridcolor": "white",
            "gridwidth": 2,
            "linecolor": "white",
            "showbackground": true,
            "ticks": "",
            "zerolinecolor": "white"
           },
           "yaxis": {
            "backgroundcolor": "#E5ECF6",
            "gridcolor": "white",
            "gridwidth": 2,
            "linecolor": "white",
            "showbackground": true,
            "ticks": "",
            "zerolinecolor": "white"
           },
           "zaxis": {
            "backgroundcolor": "#E5ECF6",
            "gridcolor": "white",
            "gridwidth": 2,
            "linecolor": "white",
            "showbackground": true,
            "ticks": "",
            "zerolinecolor": "white"
           }
          },
          "shapedefaults": {
           "line": {
            "color": "#2a3f5f"
           }
          },
          "ternary": {
           "aaxis": {
            "gridcolor": "white",
            "linecolor": "white",
            "ticks": ""
           },
           "baxis": {
            "gridcolor": "white",
            "linecolor": "white",
            "ticks": ""
           },
           "bgcolor": "#E5ECF6",
           "caxis": {
            "gridcolor": "white",
            "linecolor": "white",
            "ticks": ""
           }
          },
          "title": {
           "x": 0.05
          },
          "xaxis": {
           "automargin": true,
           "gridcolor": "white",
           "linecolor": "white",
           "ticks": "",
           "title": {
            "standoff": 15
           },
           "zerolinecolor": "white",
           "zerolinewidth": 2
          },
          "yaxis": {
           "automargin": true,
           "gridcolor": "white",
           "linecolor": "white",
           "ticks": "",
           "title": {
            "standoff": 15
           },
           "zerolinecolor": "white",
           "zerolinewidth": 2
          }
         }
        },
        "title": {
         "font": {
          "color": "#4D5663"
         }
        },
        "xaxis": {
         "gridcolor": "#E1E5ED",
         "showgrid": true,
         "tickfont": {
          "color": "#4D5663"
         },
         "title": {
          "font": {
           "color": "#4D5663"
          },
          "text": ""
         },
         "zerolinecolor": "#E1E5ED"
        },
        "yaxis": {
         "gridcolor": "#E1E5ED",
         "showgrid": true,
         "tickfont": {
          "color": "#4D5663"
         },
         "title": {
          "font": {
           "color": "#4D5663"
          },
          "text": ""
         },
         "zerolinecolor": "#E1E5ED"
        }
       }
      },
      "text/html": [
       "<div>                            <div id=\"7019e358-4aa8-465d-b21e-b6054e4b9925\" class=\"plotly-graph-div\" style=\"height:525px; width:100%;\"></div>            <script type=\"text/javascript\">                require([\"plotly\"], function(Plotly) {                    window.PLOTLYENV=window.PLOTLYENV || {};\n",
       "                    window.PLOTLYENV.BASE_URL='https://plot.ly';                                    if (document.getElementById(\"7019e358-4aa8-465d-b21e-b6054e4b9925\")) {                    Plotly.newPlot(                        \"7019e358-4aa8-465d-b21e-b6054e4b9925\",                        [{\"marker\":{\"color\":\"rgba(255, 153, 51, 0.6)\",\"line\":{\"color\":\"rgba(255, 153, 51, 1.0)\",\"width\":1}},\"name\":\"Values\",\"orientation\":\"v\",\"text\":\"\",\"x\":[\"A\",\"B\",\"C\"],\"y\":[32,43,50],\"type\":\"bar\"}],                        {\"legend\":{\"bgcolor\":\"#F5F6F9\",\"font\":{\"color\":\"#4D5663\"}},\"paper_bgcolor\":\"#F5F6F9\",\"plot_bgcolor\":\"#F5F6F9\",\"template\":{\"data\":{\"barpolar\":[{\"marker\":{\"line\":{\"color\":\"#E5ECF6\",\"width\":0.5},\"pattern\":{\"fillmode\":\"overlay\",\"size\":10,\"solidity\":0.2}},\"type\":\"barpolar\"}],\"bar\":[{\"error_x\":{\"color\":\"#2a3f5f\"},\"error_y\":{\"color\":\"#2a3f5f\"},\"marker\":{\"line\":{\"color\":\"#E5ECF6\",\"width\":0.5},\"pattern\":{\"fillmode\":\"overlay\",\"size\":10,\"solidity\":0.2}},\"type\":\"bar\"}],\"carpet\":[{\"aaxis\":{\"endlinecolor\":\"#2a3f5f\",\"gridcolor\":\"white\",\"linecolor\":\"white\",\"minorgridcolor\":\"white\",\"startlinecolor\":\"#2a3f5f\"},\"baxis\":{\"endlinecolor\":\"#2a3f5f\",\"gridcolor\":\"white\",\"linecolor\":\"white\",\"minorgridcolor\":\"white\",\"startlinecolor\":\"#2a3f5f\"},\"type\":\"carpet\"}],\"choropleth\":[{\"colorbar\":{\"outlinewidth\":0,\"ticks\":\"\"},\"type\":\"choropleth\"}],\"contourcarpet\":[{\"colorbar\":{\"outlinewidth\":0,\"ticks\":\"\"},\"type\":\"contourcarpet\"}],\"contour\":[{\"colorbar\":{\"outlinewidth\":0,\"ticks\":\"\"},\"colorscale\":[[0.0,\"#0d0887\"],[0.1111111111111111,\"#46039f\"],[0.2222222222222222,\"#7201a8\"],[0.3333333333333333,\"#9c179e\"],[0.4444444444444444,\"#bd3786\"],[0.5555555555555556,\"#d8576b\"],[0.6666666666666666,\"#ed7953\"],[0.7777777777777778,\"#fb9f3a\"],[0.8888888888888888,\"#fdca26\"],[1.0,\"#f0f921\"]],\"type\":\"contour\"}],\"heatmapgl\":[{\"colorbar\":{\"outlinewidth\":0,\"ticks\":\"\"},\"colorscale\":[[0.0,\"#0d0887\"],[0.1111111111111111,\"#46039f\"],[0.2222222222222222,\"#7201a8\"],[0.3333333333333333,\"#9c179e\"],[0.4444444444444444,\"#bd3786\"],[0.5555555555555556,\"#d8576b\"],[0.6666666666666666,\"#ed7953\"],[0.7777777777777778,\"#fb9f3a\"],[0.8888888888888888,\"#fdca26\"],[1.0,\"#f0f921\"]],\"type\":\"heatmapgl\"}],\"heatmap\":[{\"colorbar\":{\"outlinewidth\":0,\"ticks\":\"\"},\"colorscale\":[[0.0,\"#0d0887\"],[0.1111111111111111,\"#46039f\"],[0.2222222222222222,\"#7201a8\"],[0.3333333333333333,\"#9c179e\"],[0.4444444444444444,\"#bd3786\"],[0.5555555555555556,\"#d8576b\"],[0.6666666666666666,\"#ed7953\"],[0.7777777777777778,\"#fb9f3a\"],[0.8888888888888888,\"#fdca26\"],[1.0,\"#f0f921\"]],\"type\":\"heatmap\"}],\"histogram2dcontour\":[{\"colorbar\":{\"outlinewidth\":0,\"ticks\":\"\"},\"colorscale\":[[0.0,\"#0d0887\"],[0.1111111111111111,\"#46039f\"],[0.2222222222222222,\"#7201a8\"],[0.3333333333333333,\"#9c179e\"],[0.4444444444444444,\"#bd3786\"],[0.5555555555555556,\"#d8576b\"],[0.6666666666666666,\"#ed7953\"],[0.7777777777777778,\"#fb9f3a\"],[0.8888888888888888,\"#fdca26\"],[1.0,\"#f0f921\"]],\"type\":\"histogram2dcontour\"}],\"histogram2d\":[{\"colorbar\":{\"outlinewidth\":0,\"ticks\":\"\"},\"colorscale\":[[0.0,\"#0d0887\"],[0.1111111111111111,\"#46039f\"],[0.2222222222222222,\"#7201a8\"],[0.3333333333333333,\"#9c179e\"],[0.4444444444444444,\"#bd3786\"],[0.5555555555555556,\"#d8576b\"],[0.6666666666666666,\"#ed7953\"],[0.7777777777777778,\"#fb9f3a\"],[0.8888888888888888,\"#fdca26\"],[1.0,\"#f0f921\"]],\"type\":\"histogram2d\"}],\"histogram\":[{\"marker\":{\"pattern\":{\"fillmode\":\"overlay\",\"size\":10,\"solidity\":0.2}},\"type\":\"histogram\"}],\"mesh3d\":[{\"colorbar\":{\"outlinewidth\":0,\"ticks\":\"\"},\"type\":\"mesh3d\"}],\"parcoords\":[{\"line\":{\"colorbar\":{\"outlinewidth\":0,\"ticks\":\"\"}},\"type\":\"parcoords\"}],\"pie\":[{\"automargin\":true,\"type\":\"pie\"}],\"scatter3d\":[{\"line\":{\"colorbar\":{\"outlinewidth\":0,\"ticks\":\"\"}},\"marker\":{\"colorbar\":{\"outlinewidth\":0,\"ticks\":\"\"}},\"type\":\"scatter3d\"}],\"scattercarpet\":[{\"marker\":{\"colorbar\":{\"outlinewidth\":0,\"ticks\":\"\"}},\"type\":\"scattercarpet\"}],\"scattergeo\":[{\"marker\":{\"colorbar\":{\"outlinewidth\":0,\"ticks\":\"\"}},\"type\":\"scattergeo\"}],\"scattergl\":[{\"marker\":{\"colorbar\":{\"outlinewidth\":0,\"ticks\":\"\"}},\"type\":\"scattergl\"}],\"scattermapbox\":[{\"marker\":{\"colorbar\":{\"outlinewidth\":0,\"ticks\":\"\"}},\"type\":\"scattermapbox\"}],\"scatterpolargl\":[{\"marker\":{\"colorbar\":{\"outlinewidth\":0,\"ticks\":\"\"}},\"type\":\"scatterpolargl\"}],\"scatterpolar\":[{\"marker\":{\"colorbar\":{\"outlinewidth\":0,\"ticks\":\"\"}},\"type\":\"scatterpolar\"}],\"scatter\":[{\"fillpattern\":{\"fillmode\":\"overlay\",\"size\":10,\"solidity\":0.2},\"type\":\"scatter\"}],\"scatterternary\":[{\"marker\":{\"colorbar\":{\"outlinewidth\":0,\"ticks\":\"\"}},\"type\":\"scatterternary\"}],\"surface\":[{\"colorbar\":{\"outlinewidth\":0,\"ticks\":\"\"},\"colorscale\":[[0.0,\"#0d0887\"],[0.1111111111111111,\"#46039f\"],[0.2222222222222222,\"#7201a8\"],[0.3333333333333333,\"#9c179e\"],[0.4444444444444444,\"#bd3786\"],[0.5555555555555556,\"#d8576b\"],[0.6666666666666666,\"#ed7953\"],[0.7777777777777778,\"#fb9f3a\"],[0.8888888888888888,\"#fdca26\"],[1.0,\"#f0f921\"]],\"type\":\"surface\"}],\"table\":[{\"cells\":{\"fill\":{\"color\":\"#EBF0F8\"},\"line\":{\"color\":\"white\"}},\"header\":{\"fill\":{\"color\":\"#C8D4E3\"},\"line\":{\"color\":\"white\"}},\"type\":\"table\"}]},\"layout\":{\"annotationdefaults\":{\"arrowcolor\":\"#2a3f5f\",\"arrowhead\":0,\"arrowwidth\":1},\"autotypenumbers\":\"strict\",\"coloraxis\":{\"colorbar\":{\"outlinewidth\":0,\"ticks\":\"\"}},\"colorscale\":{\"diverging\":[[0,\"#8e0152\"],[0.1,\"#c51b7d\"],[0.2,\"#de77ae\"],[0.3,\"#f1b6da\"],[0.4,\"#fde0ef\"],[0.5,\"#f7f7f7\"],[0.6,\"#e6f5d0\"],[0.7,\"#b8e186\"],[0.8,\"#7fbc41\"],[0.9,\"#4d9221\"],[1,\"#276419\"]],\"sequential\":[[0.0,\"#0d0887\"],[0.1111111111111111,\"#46039f\"],[0.2222222222222222,\"#7201a8\"],[0.3333333333333333,\"#9c179e\"],[0.4444444444444444,\"#bd3786\"],[0.5555555555555556,\"#d8576b\"],[0.6666666666666666,\"#ed7953\"],[0.7777777777777778,\"#fb9f3a\"],[0.8888888888888888,\"#fdca26\"],[1.0,\"#f0f921\"]],\"sequentialminus\":[[0.0,\"#0d0887\"],[0.1111111111111111,\"#46039f\"],[0.2222222222222222,\"#7201a8\"],[0.3333333333333333,\"#9c179e\"],[0.4444444444444444,\"#bd3786\"],[0.5555555555555556,\"#d8576b\"],[0.6666666666666666,\"#ed7953\"],[0.7777777777777778,\"#fb9f3a\"],[0.8888888888888888,\"#fdca26\"],[1.0,\"#f0f921\"]]},\"colorway\":[\"#636efa\",\"#EF553B\",\"#00cc96\",\"#ab63fa\",\"#FFA15A\",\"#19d3f3\",\"#FF6692\",\"#B6E880\",\"#FF97FF\",\"#FECB52\"],\"font\":{\"color\":\"#2a3f5f\"},\"geo\":{\"bgcolor\":\"white\",\"lakecolor\":\"white\",\"landcolor\":\"#E5ECF6\",\"showlakes\":true,\"showland\":true,\"subunitcolor\":\"white\"},\"hoverlabel\":{\"align\":\"left\"},\"hovermode\":\"closest\",\"mapbox\":{\"style\":\"light\"},\"paper_bgcolor\":\"white\",\"plot_bgcolor\":\"#E5ECF6\",\"polar\":{\"angularaxis\":{\"gridcolor\":\"white\",\"linecolor\":\"white\",\"ticks\":\"\"},\"bgcolor\":\"#E5ECF6\",\"radialaxis\":{\"gridcolor\":\"white\",\"linecolor\":\"white\",\"ticks\":\"\"}},\"scene\":{\"xaxis\":{\"backgroundcolor\":\"#E5ECF6\",\"gridcolor\":\"white\",\"gridwidth\":2,\"linecolor\":\"white\",\"showbackground\":true,\"ticks\":\"\",\"zerolinecolor\":\"white\"},\"yaxis\":{\"backgroundcolor\":\"#E5ECF6\",\"gridcolor\":\"white\",\"gridwidth\":2,\"linecolor\":\"white\",\"showbackground\":true,\"ticks\":\"\",\"zerolinecolor\":\"white\"},\"zaxis\":{\"backgroundcolor\":\"#E5ECF6\",\"gridcolor\":\"white\",\"gridwidth\":2,\"linecolor\":\"white\",\"showbackground\":true,\"ticks\":\"\",\"zerolinecolor\":\"white\"}},\"shapedefaults\":{\"line\":{\"color\":\"#2a3f5f\"}},\"ternary\":{\"aaxis\":{\"gridcolor\":\"white\",\"linecolor\":\"white\",\"ticks\":\"\"},\"baxis\":{\"gridcolor\":\"white\",\"linecolor\":\"white\",\"ticks\":\"\"},\"bgcolor\":\"#E5ECF6\",\"caxis\":{\"gridcolor\":\"white\",\"linecolor\":\"white\",\"ticks\":\"\"}},\"title\":{\"x\":0.05},\"xaxis\":{\"automargin\":true,\"gridcolor\":\"white\",\"linecolor\":\"white\",\"ticks\":\"\",\"title\":{\"standoff\":15},\"zerolinecolor\":\"white\",\"zerolinewidth\":2},\"yaxis\":{\"automargin\":true,\"gridcolor\":\"white\",\"linecolor\":\"white\",\"ticks\":\"\",\"title\":{\"standoff\":15},\"zerolinecolor\":\"white\",\"zerolinewidth\":2}}},\"title\":{\"font\":{\"color\":\"#4D5663\"}},\"xaxis\":{\"gridcolor\":\"#E1E5ED\",\"showgrid\":true,\"tickfont\":{\"color\":\"#4D5663\"},\"title\":{\"font\":{\"color\":\"#4D5663\"},\"text\":\"\"},\"zerolinecolor\":\"#E1E5ED\"},\"yaxis\":{\"gridcolor\":\"#E1E5ED\",\"showgrid\":true,\"tickfont\":{\"color\":\"#4D5663\"},\"title\":{\"font\":{\"color\":\"#4D5663\"},\"text\":\"\"},\"zerolinecolor\":\"#E1E5ED\"}},                        {\"showLink\": true, \"linkText\": \"Export to plot.ly\", \"plotlyServerURL\": \"https://plot.ly\", \"responsive\": true}                    ).then(function(){\n",
       "                            \n",
       "var gd = document.getElementById('7019e358-4aa8-465d-b21e-b6054e4b9925');\n",
       "var x = new MutationObserver(function (mutations, observer) {{\n",
       "        var display = window.getComputedStyle(gd).display;\n",
       "        if (!display || display === 'none') {{\n",
       "            console.log([gd, 'removed!']);\n",
       "            Plotly.purge(gd);\n",
       "            observer.disconnect();\n",
       "        }}\n",
       "}});\n",
       "\n",
       "// Listen for the removal of the full notebook cells\n",
       "var notebookContainer = gd.closest('#notebook-container');\n",
       "if (notebookContainer) {{\n",
       "    x.observe(notebookContainer, {childList: true});\n",
       "}}\n",
       "\n",
       "// Listen for the clearing of the current output cell\n",
       "var outputEl = gd.closest('.output');\n",
       "if (outputEl) {{\n",
       "    x.observe(outputEl, {childList: true});\n",
       "}}\n",
       "\n",
       "                        })                };                });            </script>        </div>"
      ]
     },
     "metadata": {},
     "output_type": "display_data"
    }
   ],
   "source": [
    "df2.iplot(kind='bar',x='Category',y='Values')"
   ]
  },
  {
   "cell_type": "code",
   "execution_count": 34,
   "metadata": {},
   "outputs": [
    {
     "data": {
      "application/vnd.plotly.v1+json": {
       "config": {
        "linkText": "Export to plot.ly",
        "plotlyServerURL": "https://plot.ly",
        "showLink": true
       },
       "data": [
        {
         "marker": {
          "color": "rgba(255, 153, 51, 0.6)",
          "line": {
           "color": "rgba(255, 153, 51, 1.0)",
           "width": 1
          }
         },
         "name": "None",
         "orientation": "v",
         "text": "",
         "type": "bar",
         "x": [
          "A",
          "B",
          "C",
          "D"
         ],
         "y": [
          100,
          100,
          100,
          100
         ]
        }
       ],
       "layout": {
        "legend": {
         "bgcolor": "#F5F6F9",
         "font": {
          "color": "#4D5663"
         }
        },
        "paper_bgcolor": "#F5F6F9",
        "plot_bgcolor": "#F5F6F9",
        "template": {
         "data": {
          "bar": [
           {
            "error_x": {
             "color": "#2a3f5f"
            },
            "error_y": {
             "color": "#2a3f5f"
            },
            "marker": {
             "line": {
              "color": "#E5ECF6",
              "width": 0.5
             },
             "pattern": {
              "fillmode": "overlay",
              "size": 10,
              "solidity": 0.2
             }
            },
            "type": "bar"
           }
          ],
          "barpolar": [
           {
            "marker": {
             "line": {
              "color": "#E5ECF6",
              "width": 0.5
             },
             "pattern": {
              "fillmode": "overlay",
              "size": 10,
              "solidity": 0.2
             }
            },
            "type": "barpolar"
           }
          ],
          "carpet": [
           {
            "aaxis": {
             "endlinecolor": "#2a3f5f",
             "gridcolor": "white",
             "linecolor": "white",
             "minorgridcolor": "white",
             "startlinecolor": "#2a3f5f"
            },
            "baxis": {
             "endlinecolor": "#2a3f5f",
             "gridcolor": "white",
             "linecolor": "white",
             "minorgridcolor": "white",
             "startlinecolor": "#2a3f5f"
            },
            "type": "carpet"
           }
          ],
          "choropleth": [
           {
            "colorbar": {
             "outlinewidth": 0,
             "ticks": ""
            },
            "type": "choropleth"
           }
          ],
          "contour": [
           {
            "colorbar": {
             "outlinewidth": 0,
             "ticks": ""
            },
            "colorscale": [
             [
              0,
              "#0d0887"
             ],
             [
              0.1111111111111111,
              "#46039f"
             ],
             [
              0.2222222222222222,
              "#7201a8"
             ],
             [
              0.3333333333333333,
              "#9c179e"
             ],
             [
              0.4444444444444444,
              "#bd3786"
             ],
             [
              0.5555555555555556,
              "#d8576b"
             ],
             [
              0.6666666666666666,
              "#ed7953"
             ],
             [
              0.7777777777777778,
              "#fb9f3a"
             ],
             [
              0.8888888888888888,
              "#fdca26"
             ],
             [
              1,
              "#f0f921"
             ]
            ],
            "type": "contour"
           }
          ],
          "contourcarpet": [
           {
            "colorbar": {
             "outlinewidth": 0,
             "ticks": ""
            },
            "type": "contourcarpet"
           }
          ],
          "heatmap": [
           {
            "colorbar": {
             "outlinewidth": 0,
             "ticks": ""
            },
            "colorscale": [
             [
              0,
              "#0d0887"
             ],
             [
              0.1111111111111111,
              "#46039f"
             ],
             [
              0.2222222222222222,
              "#7201a8"
             ],
             [
              0.3333333333333333,
              "#9c179e"
             ],
             [
              0.4444444444444444,
              "#bd3786"
             ],
             [
              0.5555555555555556,
              "#d8576b"
             ],
             [
              0.6666666666666666,
              "#ed7953"
             ],
             [
              0.7777777777777778,
              "#fb9f3a"
             ],
             [
              0.8888888888888888,
              "#fdca26"
             ],
             [
              1,
              "#f0f921"
             ]
            ],
            "type": "heatmap"
           }
          ],
          "heatmapgl": [
           {
            "colorbar": {
             "outlinewidth": 0,
             "ticks": ""
            },
            "colorscale": [
             [
              0,
              "#0d0887"
             ],
             [
              0.1111111111111111,
              "#46039f"
             ],
             [
              0.2222222222222222,
              "#7201a8"
             ],
             [
              0.3333333333333333,
              "#9c179e"
             ],
             [
              0.4444444444444444,
              "#bd3786"
             ],
             [
              0.5555555555555556,
              "#d8576b"
             ],
             [
              0.6666666666666666,
              "#ed7953"
             ],
             [
              0.7777777777777778,
              "#fb9f3a"
             ],
             [
              0.8888888888888888,
              "#fdca26"
             ],
             [
              1,
              "#f0f921"
             ]
            ],
            "type": "heatmapgl"
           }
          ],
          "histogram": [
           {
            "marker": {
             "pattern": {
              "fillmode": "overlay",
              "size": 10,
              "solidity": 0.2
             }
            },
            "type": "histogram"
           }
          ],
          "histogram2d": [
           {
            "colorbar": {
             "outlinewidth": 0,
             "ticks": ""
            },
            "colorscale": [
             [
              0,
              "#0d0887"
             ],
             [
              0.1111111111111111,
              "#46039f"
             ],
             [
              0.2222222222222222,
              "#7201a8"
             ],
             [
              0.3333333333333333,
              "#9c179e"
             ],
             [
              0.4444444444444444,
              "#bd3786"
             ],
             [
              0.5555555555555556,
              "#d8576b"
             ],
             [
              0.6666666666666666,
              "#ed7953"
             ],
             [
              0.7777777777777778,
              "#fb9f3a"
             ],
             [
              0.8888888888888888,
              "#fdca26"
             ],
             [
              1,
              "#f0f921"
             ]
            ],
            "type": "histogram2d"
           }
          ],
          "histogram2dcontour": [
           {
            "colorbar": {
             "outlinewidth": 0,
             "ticks": ""
            },
            "colorscale": [
             [
              0,
              "#0d0887"
             ],
             [
              0.1111111111111111,
              "#46039f"
             ],
             [
              0.2222222222222222,
              "#7201a8"
             ],
             [
              0.3333333333333333,
              "#9c179e"
             ],
             [
              0.4444444444444444,
              "#bd3786"
             ],
             [
              0.5555555555555556,
              "#d8576b"
             ],
             [
              0.6666666666666666,
              "#ed7953"
             ],
             [
              0.7777777777777778,
              "#fb9f3a"
             ],
             [
              0.8888888888888888,
              "#fdca26"
             ],
             [
              1,
              "#f0f921"
             ]
            ],
            "type": "histogram2dcontour"
           }
          ],
          "mesh3d": [
           {
            "colorbar": {
             "outlinewidth": 0,
             "ticks": ""
            },
            "type": "mesh3d"
           }
          ],
          "parcoords": [
           {
            "line": {
             "colorbar": {
              "outlinewidth": 0,
              "ticks": ""
             }
            },
            "type": "parcoords"
           }
          ],
          "pie": [
           {
            "automargin": true,
            "type": "pie"
           }
          ],
          "scatter": [
           {
            "fillpattern": {
             "fillmode": "overlay",
             "size": 10,
             "solidity": 0.2
            },
            "type": "scatter"
           }
          ],
          "scatter3d": [
           {
            "line": {
             "colorbar": {
              "outlinewidth": 0,
              "ticks": ""
             }
            },
            "marker": {
             "colorbar": {
              "outlinewidth": 0,
              "ticks": ""
             }
            },
            "type": "scatter3d"
           }
          ],
          "scattercarpet": [
           {
            "marker": {
             "colorbar": {
              "outlinewidth": 0,
              "ticks": ""
             }
            },
            "type": "scattercarpet"
           }
          ],
          "scattergeo": [
           {
            "marker": {
             "colorbar": {
              "outlinewidth": 0,
              "ticks": ""
             }
            },
            "type": "scattergeo"
           }
          ],
          "scattergl": [
           {
            "marker": {
             "colorbar": {
              "outlinewidth": 0,
              "ticks": ""
             }
            },
            "type": "scattergl"
           }
          ],
          "scattermapbox": [
           {
            "marker": {
             "colorbar": {
              "outlinewidth": 0,
              "ticks": ""
             }
            },
            "type": "scattermapbox"
           }
          ],
          "scatterpolar": [
           {
            "marker": {
             "colorbar": {
              "outlinewidth": 0,
              "ticks": ""
             }
            },
            "type": "scatterpolar"
           }
          ],
          "scatterpolargl": [
           {
            "marker": {
             "colorbar": {
              "outlinewidth": 0,
              "ticks": ""
             }
            },
            "type": "scatterpolargl"
           }
          ],
          "scatterternary": [
           {
            "marker": {
             "colorbar": {
              "outlinewidth": 0,
              "ticks": ""
             }
            },
            "type": "scatterternary"
           }
          ],
          "surface": [
           {
            "colorbar": {
             "outlinewidth": 0,
             "ticks": ""
            },
            "colorscale": [
             [
              0,
              "#0d0887"
             ],
             [
              0.1111111111111111,
              "#46039f"
             ],
             [
              0.2222222222222222,
              "#7201a8"
             ],
             [
              0.3333333333333333,
              "#9c179e"
             ],
             [
              0.4444444444444444,
              "#bd3786"
             ],
             [
              0.5555555555555556,
              "#d8576b"
             ],
             [
              0.6666666666666666,
              "#ed7953"
             ],
             [
              0.7777777777777778,
              "#fb9f3a"
             ],
             [
              0.8888888888888888,
              "#fdca26"
             ],
             [
              1,
              "#f0f921"
             ]
            ],
            "type": "surface"
           }
          ],
          "table": [
           {
            "cells": {
             "fill": {
              "color": "#EBF0F8"
             },
             "line": {
              "color": "white"
             }
            },
            "header": {
             "fill": {
              "color": "#C8D4E3"
             },
             "line": {
              "color": "white"
             }
            },
            "type": "table"
           }
          ]
         },
         "layout": {
          "annotationdefaults": {
           "arrowcolor": "#2a3f5f",
           "arrowhead": 0,
           "arrowwidth": 1
          },
          "autotypenumbers": "strict",
          "coloraxis": {
           "colorbar": {
            "outlinewidth": 0,
            "ticks": ""
           }
          },
          "colorscale": {
           "diverging": [
            [
             0,
             "#8e0152"
            ],
            [
             0.1,
             "#c51b7d"
            ],
            [
             0.2,
             "#de77ae"
            ],
            [
             0.3,
             "#f1b6da"
            ],
            [
             0.4,
             "#fde0ef"
            ],
            [
             0.5,
             "#f7f7f7"
            ],
            [
             0.6,
             "#e6f5d0"
            ],
            [
             0.7,
             "#b8e186"
            ],
            [
             0.8,
             "#7fbc41"
            ],
            [
             0.9,
             "#4d9221"
            ],
            [
             1,
             "#276419"
            ]
           ],
           "sequential": [
            [
             0,
             "#0d0887"
            ],
            [
             0.1111111111111111,
             "#46039f"
            ],
            [
             0.2222222222222222,
             "#7201a8"
            ],
            [
             0.3333333333333333,
             "#9c179e"
            ],
            [
             0.4444444444444444,
             "#bd3786"
            ],
            [
             0.5555555555555556,
             "#d8576b"
            ],
            [
             0.6666666666666666,
             "#ed7953"
            ],
            [
             0.7777777777777778,
             "#fb9f3a"
            ],
            [
             0.8888888888888888,
             "#fdca26"
            ],
            [
             1,
             "#f0f921"
            ]
           ],
           "sequentialminus": [
            [
             0,
             "#0d0887"
            ],
            [
             0.1111111111111111,
             "#46039f"
            ],
            [
             0.2222222222222222,
             "#7201a8"
            ],
            [
             0.3333333333333333,
             "#9c179e"
            ],
            [
             0.4444444444444444,
             "#bd3786"
            ],
            [
             0.5555555555555556,
             "#d8576b"
            ],
            [
             0.6666666666666666,
             "#ed7953"
            ],
            [
             0.7777777777777778,
             "#fb9f3a"
            ],
            [
             0.8888888888888888,
             "#fdca26"
            ],
            [
             1,
             "#f0f921"
            ]
           ]
          },
          "colorway": [
           "#636efa",
           "#EF553B",
           "#00cc96",
           "#ab63fa",
           "#FFA15A",
           "#19d3f3",
           "#FF6692",
           "#B6E880",
           "#FF97FF",
           "#FECB52"
          ],
          "font": {
           "color": "#2a3f5f"
          },
          "geo": {
           "bgcolor": "white",
           "lakecolor": "white",
           "landcolor": "#E5ECF6",
           "showlakes": true,
           "showland": true,
           "subunitcolor": "white"
          },
          "hoverlabel": {
           "align": "left"
          },
          "hovermode": "closest",
          "mapbox": {
           "style": "light"
          },
          "paper_bgcolor": "white",
          "plot_bgcolor": "#E5ECF6",
          "polar": {
           "angularaxis": {
            "gridcolor": "white",
            "linecolor": "white",
            "ticks": ""
           },
           "bgcolor": "#E5ECF6",
           "radialaxis": {
            "gridcolor": "white",
            "linecolor": "white",
            "ticks": ""
           }
          },
          "scene": {
           "xaxis": {
            "backgroundcolor": "#E5ECF6",
            "gridcolor": "white",
            "gridwidth": 2,
            "linecolor": "white",
            "showbackground": true,
            "ticks": "",
            "zerolinecolor": "white"
           },
           "yaxis": {
            "backgroundcolor": "#E5ECF6",
            "gridcolor": "white",
            "gridwidth": 2,
            "linecolor": "white",
            "showbackground": true,
            "ticks": "",
            "zerolinecolor": "white"
           },
           "zaxis": {
            "backgroundcolor": "#E5ECF6",
            "gridcolor": "white",
            "gridwidth": 2,
            "linecolor": "white",
            "showbackground": true,
            "ticks": "",
            "zerolinecolor": "white"
           }
          },
          "shapedefaults": {
           "line": {
            "color": "#2a3f5f"
           }
          },
          "ternary": {
           "aaxis": {
            "gridcolor": "white",
            "linecolor": "white",
            "ticks": ""
           },
           "baxis": {
            "gridcolor": "white",
            "linecolor": "white",
            "ticks": ""
           },
           "bgcolor": "#E5ECF6",
           "caxis": {
            "gridcolor": "white",
            "linecolor": "white",
            "ticks": ""
           }
          },
          "title": {
           "x": 0.05
          },
          "xaxis": {
           "automargin": true,
           "gridcolor": "white",
           "linecolor": "white",
           "ticks": "",
           "title": {
            "standoff": 15
           },
           "zerolinecolor": "white",
           "zerolinewidth": 2
          },
          "yaxis": {
           "automargin": true,
           "gridcolor": "white",
           "linecolor": "white",
           "ticks": "",
           "title": {
            "standoff": 15
           },
           "zerolinecolor": "white",
           "zerolinewidth": 2
          }
         }
        },
        "title": {
         "font": {
          "color": "#4D5663"
         }
        },
        "xaxis": {
         "gridcolor": "#E1E5ED",
         "showgrid": true,
         "tickfont": {
          "color": "#4D5663"
         },
         "title": {
          "font": {
           "color": "#4D5663"
          },
          "text": ""
         },
         "zerolinecolor": "#E1E5ED"
        },
        "yaxis": {
         "gridcolor": "#E1E5ED",
         "showgrid": true,
         "tickfont": {
          "color": "#4D5663"
         },
         "title": {
          "font": {
           "color": "#4D5663"
          },
          "text": ""
         },
         "zerolinecolor": "#E1E5ED"
        }
       }
      },
      "text/html": [
       "<div>                            <div id=\"1e48e03c-d80b-4889-ad37-7eb722a424b3\" class=\"plotly-graph-div\" style=\"height:525px; width:100%;\"></div>            <script type=\"text/javascript\">                require([\"plotly\"], function(Plotly) {                    window.PLOTLYENV=window.PLOTLYENV || {};\n",
       "                    window.PLOTLYENV.BASE_URL='https://plot.ly';                                    if (document.getElementById(\"1e48e03c-d80b-4889-ad37-7eb722a424b3\")) {                    Plotly.newPlot(                        \"1e48e03c-d80b-4889-ad37-7eb722a424b3\",                        [{\"marker\":{\"color\":\"rgba(255, 153, 51, 0.6)\",\"line\":{\"color\":\"rgba(255, 153, 51, 1.0)\",\"width\":1}},\"name\":\"None\",\"orientation\":\"v\",\"text\":\"\",\"x\":[\"A\",\"B\",\"C\",\"D\"],\"y\":[100,100,100,100],\"type\":\"bar\"}],                        {\"legend\":{\"bgcolor\":\"#F5F6F9\",\"font\":{\"color\":\"#4D5663\"}},\"paper_bgcolor\":\"#F5F6F9\",\"plot_bgcolor\":\"#F5F6F9\",\"template\":{\"data\":{\"barpolar\":[{\"marker\":{\"line\":{\"color\":\"#E5ECF6\",\"width\":0.5},\"pattern\":{\"fillmode\":\"overlay\",\"size\":10,\"solidity\":0.2}},\"type\":\"barpolar\"}],\"bar\":[{\"error_x\":{\"color\":\"#2a3f5f\"},\"error_y\":{\"color\":\"#2a3f5f\"},\"marker\":{\"line\":{\"color\":\"#E5ECF6\",\"width\":0.5},\"pattern\":{\"fillmode\":\"overlay\",\"size\":10,\"solidity\":0.2}},\"type\":\"bar\"}],\"carpet\":[{\"aaxis\":{\"endlinecolor\":\"#2a3f5f\",\"gridcolor\":\"white\",\"linecolor\":\"white\",\"minorgridcolor\":\"white\",\"startlinecolor\":\"#2a3f5f\"},\"baxis\":{\"endlinecolor\":\"#2a3f5f\",\"gridcolor\":\"white\",\"linecolor\":\"white\",\"minorgridcolor\":\"white\",\"startlinecolor\":\"#2a3f5f\"},\"type\":\"carpet\"}],\"choropleth\":[{\"colorbar\":{\"outlinewidth\":0,\"ticks\":\"\"},\"type\":\"choropleth\"}],\"contourcarpet\":[{\"colorbar\":{\"outlinewidth\":0,\"ticks\":\"\"},\"type\":\"contourcarpet\"}],\"contour\":[{\"colorbar\":{\"outlinewidth\":0,\"ticks\":\"\"},\"colorscale\":[[0.0,\"#0d0887\"],[0.1111111111111111,\"#46039f\"],[0.2222222222222222,\"#7201a8\"],[0.3333333333333333,\"#9c179e\"],[0.4444444444444444,\"#bd3786\"],[0.5555555555555556,\"#d8576b\"],[0.6666666666666666,\"#ed7953\"],[0.7777777777777778,\"#fb9f3a\"],[0.8888888888888888,\"#fdca26\"],[1.0,\"#f0f921\"]],\"type\":\"contour\"}],\"heatmapgl\":[{\"colorbar\":{\"outlinewidth\":0,\"ticks\":\"\"},\"colorscale\":[[0.0,\"#0d0887\"],[0.1111111111111111,\"#46039f\"],[0.2222222222222222,\"#7201a8\"],[0.3333333333333333,\"#9c179e\"],[0.4444444444444444,\"#bd3786\"],[0.5555555555555556,\"#d8576b\"],[0.6666666666666666,\"#ed7953\"],[0.7777777777777778,\"#fb9f3a\"],[0.8888888888888888,\"#fdca26\"],[1.0,\"#f0f921\"]],\"type\":\"heatmapgl\"}],\"heatmap\":[{\"colorbar\":{\"outlinewidth\":0,\"ticks\":\"\"},\"colorscale\":[[0.0,\"#0d0887\"],[0.1111111111111111,\"#46039f\"],[0.2222222222222222,\"#7201a8\"],[0.3333333333333333,\"#9c179e\"],[0.4444444444444444,\"#bd3786\"],[0.5555555555555556,\"#d8576b\"],[0.6666666666666666,\"#ed7953\"],[0.7777777777777778,\"#fb9f3a\"],[0.8888888888888888,\"#fdca26\"],[1.0,\"#f0f921\"]],\"type\":\"heatmap\"}],\"histogram2dcontour\":[{\"colorbar\":{\"outlinewidth\":0,\"ticks\":\"\"},\"colorscale\":[[0.0,\"#0d0887\"],[0.1111111111111111,\"#46039f\"],[0.2222222222222222,\"#7201a8\"],[0.3333333333333333,\"#9c179e\"],[0.4444444444444444,\"#bd3786\"],[0.5555555555555556,\"#d8576b\"],[0.6666666666666666,\"#ed7953\"],[0.7777777777777778,\"#fb9f3a\"],[0.8888888888888888,\"#fdca26\"],[1.0,\"#f0f921\"]],\"type\":\"histogram2dcontour\"}],\"histogram2d\":[{\"colorbar\":{\"outlinewidth\":0,\"ticks\":\"\"},\"colorscale\":[[0.0,\"#0d0887\"],[0.1111111111111111,\"#46039f\"],[0.2222222222222222,\"#7201a8\"],[0.3333333333333333,\"#9c179e\"],[0.4444444444444444,\"#bd3786\"],[0.5555555555555556,\"#d8576b\"],[0.6666666666666666,\"#ed7953\"],[0.7777777777777778,\"#fb9f3a\"],[0.8888888888888888,\"#fdca26\"],[1.0,\"#f0f921\"]],\"type\":\"histogram2d\"}],\"histogram\":[{\"marker\":{\"pattern\":{\"fillmode\":\"overlay\",\"size\":10,\"solidity\":0.2}},\"type\":\"histogram\"}],\"mesh3d\":[{\"colorbar\":{\"outlinewidth\":0,\"ticks\":\"\"},\"type\":\"mesh3d\"}],\"parcoords\":[{\"line\":{\"colorbar\":{\"outlinewidth\":0,\"ticks\":\"\"}},\"type\":\"parcoords\"}],\"pie\":[{\"automargin\":true,\"type\":\"pie\"}],\"scatter3d\":[{\"line\":{\"colorbar\":{\"outlinewidth\":0,\"ticks\":\"\"}},\"marker\":{\"colorbar\":{\"outlinewidth\":0,\"ticks\":\"\"}},\"type\":\"scatter3d\"}],\"scattercarpet\":[{\"marker\":{\"colorbar\":{\"outlinewidth\":0,\"ticks\":\"\"}},\"type\":\"scattercarpet\"}],\"scattergeo\":[{\"marker\":{\"colorbar\":{\"outlinewidth\":0,\"ticks\":\"\"}},\"type\":\"scattergeo\"}],\"scattergl\":[{\"marker\":{\"colorbar\":{\"outlinewidth\":0,\"ticks\":\"\"}},\"type\":\"scattergl\"}],\"scattermapbox\":[{\"marker\":{\"colorbar\":{\"outlinewidth\":0,\"ticks\":\"\"}},\"type\":\"scattermapbox\"}],\"scatterpolargl\":[{\"marker\":{\"colorbar\":{\"outlinewidth\":0,\"ticks\":\"\"}},\"type\":\"scatterpolargl\"}],\"scatterpolar\":[{\"marker\":{\"colorbar\":{\"outlinewidth\":0,\"ticks\":\"\"}},\"type\":\"scatterpolar\"}],\"scatter\":[{\"fillpattern\":{\"fillmode\":\"overlay\",\"size\":10,\"solidity\":0.2},\"type\":\"scatter\"}],\"scatterternary\":[{\"marker\":{\"colorbar\":{\"outlinewidth\":0,\"ticks\":\"\"}},\"type\":\"scatterternary\"}],\"surface\":[{\"colorbar\":{\"outlinewidth\":0,\"ticks\":\"\"},\"colorscale\":[[0.0,\"#0d0887\"],[0.1111111111111111,\"#46039f\"],[0.2222222222222222,\"#7201a8\"],[0.3333333333333333,\"#9c179e\"],[0.4444444444444444,\"#bd3786\"],[0.5555555555555556,\"#d8576b\"],[0.6666666666666666,\"#ed7953\"],[0.7777777777777778,\"#fb9f3a\"],[0.8888888888888888,\"#fdca26\"],[1.0,\"#f0f921\"]],\"type\":\"surface\"}],\"table\":[{\"cells\":{\"fill\":{\"color\":\"#EBF0F8\"},\"line\":{\"color\":\"white\"}},\"header\":{\"fill\":{\"color\":\"#C8D4E3\"},\"line\":{\"color\":\"white\"}},\"type\":\"table\"}]},\"layout\":{\"annotationdefaults\":{\"arrowcolor\":\"#2a3f5f\",\"arrowhead\":0,\"arrowwidth\":1},\"autotypenumbers\":\"strict\",\"coloraxis\":{\"colorbar\":{\"outlinewidth\":0,\"ticks\":\"\"}},\"colorscale\":{\"diverging\":[[0,\"#8e0152\"],[0.1,\"#c51b7d\"],[0.2,\"#de77ae\"],[0.3,\"#f1b6da\"],[0.4,\"#fde0ef\"],[0.5,\"#f7f7f7\"],[0.6,\"#e6f5d0\"],[0.7,\"#b8e186\"],[0.8,\"#7fbc41\"],[0.9,\"#4d9221\"],[1,\"#276419\"]],\"sequential\":[[0.0,\"#0d0887\"],[0.1111111111111111,\"#46039f\"],[0.2222222222222222,\"#7201a8\"],[0.3333333333333333,\"#9c179e\"],[0.4444444444444444,\"#bd3786\"],[0.5555555555555556,\"#d8576b\"],[0.6666666666666666,\"#ed7953\"],[0.7777777777777778,\"#fb9f3a\"],[0.8888888888888888,\"#fdca26\"],[1.0,\"#f0f921\"]],\"sequentialminus\":[[0.0,\"#0d0887\"],[0.1111111111111111,\"#46039f\"],[0.2222222222222222,\"#7201a8\"],[0.3333333333333333,\"#9c179e\"],[0.4444444444444444,\"#bd3786\"],[0.5555555555555556,\"#d8576b\"],[0.6666666666666666,\"#ed7953\"],[0.7777777777777778,\"#fb9f3a\"],[0.8888888888888888,\"#fdca26\"],[1.0,\"#f0f921\"]]},\"colorway\":[\"#636efa\",\"#EF553B\",\"#00cc96\",\"#ab63fa\",\"#FFA15A\",\"#19d3f3\",\"#FF6692\",\"#B6E880\",\"#FF97FF\",\"#FECB52\"],\"font\":{\"color\":\"#2a3f5f\"},\"geo\":{\"bgcolor\":\"white\",\"lakecolor\":\"white\",\"landcolor\":\"#E5ECF6\",\"showlakes\":true,\"showland\":true,\"subunitcolor\":\"white\"},\"hoverlabel\":{\"align\":\"left\"},\"hovermode\":\"closest\",\"mapbox\":{\"style\":\"light\"},\"paper_bgcolor\":\"white\",\"plot_bgcolor\":\"#E5ECF6\",\"polar\":{\"angularaxis\":{\"gridcolor\":\"white\",\"linecolor\":\"white\",\"ticks\":\"\"},\"bgcolor\":\"#E5ECF6\",\"radialaxis\":{\"gridcolor\":\"white\",\"linecolor\":\"white\",\"ticks\":\"\"}},\"scene\":{\"xaxis\":{\"backgroundcolor\":\"#E5ECF6\",\"gridcolor\":\"white\",\"gridwidth\":2,\"linecolor\":\"white\",\"showbackground\":true,\"ticks\":\"\",\"zerolinecolor\":\"white\"},\"yaxis\":{\"backgroundcolor\":\"#E5ECF6\",\"gridcolor\":\"white\",\"gridwidth\":2,\"linecolor\":\"white\",\"showbackground\":true,\"ticks\":\"\",\"zerolinecolor\":\"white\"},\"zaxis\":{\"backgroundcolor\":\"#E5ECF6\",\"gridcolor\":\"white\",\"gridwidth\":2,\"linecolor\":\"white\",\"showbackground\":true,\"ticks\":\"\",\"zerolinecolor\":\"white\"}},\"shapedefaults\":{\"line\":{\"color\":\"#2a3f5f\"}},\"ternary\":{\"aaxis\":{\"gridcolor\":\"white\",\"linecolor\":\"white\",\"ticks\":\"\"},\"baxis\":{\"gridcolor\":\"white\",\"linecolor\":\"white\",\"ticks\":\"\"},\"bgcolor\":\"#E5ECF6\",\"caxis\":{\"gridcolor\":\"white\",\"linecolor\":\"white\",\"ticks\":\"\"}},\"title\":{\"x\":0.05},\"xaxis\":{\"automargin\":true,\"gridcolor\":\"white\",\"linecolor\":\"white\",\"ticks\":\"\",\"title\":{\"standoff\":15},\"zerolinecolor\":\"white\",\"zerolinewidth\":2},\"yaxis\":{\"automargin\":true,\"gridcolor\":\"white\",\"linecolor\":\"white\",\"ticks\":\"\",\"title\":{\"standoff\":15},\"zerolinecolor\":\"white\",\"zerolinewidth\":2}}},\"title\":{\"font\":{\"color\":\"#4D5663\"}},\"xaxis\":{\"gridcolor\":\"#E1E5ED\",\"showgrid\":true,\"tickfont\":{\"color\":\"#4D5663\"},\"title\":{\"font\":{\"color\":\"#4D5663\"},\"text\":\"\"},\"zerolinecolor\":\"#E1E5ED\"},\"yaxis\":{\"gridcolor\":\"#E1E5ED\",\"showgrid\":true,\"tickfont\":{\"color\":\"#4D5663\"},\"title\":{\"font\":{\"color\":\"#4D5663\"},\"text\":\"\"},\"zerolinecolor\":\"#E1E5ED\"}},                        {\"showLink\": true, \"linkText\": \"Export to plot.ly\", \"plotlyServerURL\": \"https://plot.ly\", \"responsive\": true}                    ).then(function(){\n",
       "                            \n",
       "var gd = document.getElementById('1e48e03c-d80b-4889-ad37-7eb722a424b3');\n",
       "var x = new MutationObserver(function (mutations, observer) {{\n",
       "        var display = window.getComputedStyle(gd).display;\n",
       "        if (!display || display === 'none') {{\n",
       "            console.log([gd, 'removed!']);\n",
       "            Plotly.purge(gd);\n",
       "            observer.disconnect();\n",
       "        }}\n",
       "}});\n",
       "\n",
       "// Listen for the removal of the full notebook cells\n",
       "var notebookContainer = gd.closest('#notebook-container');\n",
       "if (notebookContainer) {{\n",
       "    x.observe(notebookContainer, {childList: true});\n",
       "}}\n",
       "\n",
       "// Listen for the clearing of the current output cell\n",
       "var outputEl = gd.closest('.output');\n",
       "if (outputEl) {{\n",
       "    x.observe(outputEl, {childList: true});\n",
       "}}\n",
       "\n",
       "                        })                };                });            </script>        </div>"
      ]
     },
     "metadata": {},
     "output_type": "display_data"
    }
   ],
   "source": [
    "df.count().iplot(kind='bar')"
   ]
  },
  {
   "cell_type": "markdown",
   "metadata": {},
   "source": [
    "## Boxplots"
   ]
  },
  {
   "cell_type": "code",
   "execution_count": 35,
   "metadata": {},
   "outputs": [
    {
     "data": {
      "application/vnd.plotly.v1+json": {
       "config": {
        "linkText": "Export to plot.ly",
        "plotlyServerURL": "https://plot.ly",
        "showLink": true
       },
       "data": [
        {
         "boxpoints": false,
         "line": {
          "width": 1.3
         },
         "marker": {
          "color": "rgba(255, 153, 51, 1.0)"
         },
         "name": "A",
         "orientation": "v",
         "type": "box",
         "y": [
          0.44869329824135673,
          0.04442947891624006,
          2.1145540519877124,
          0.48459375200395927,
          0.36985788919286805,
          1.481971281069352,
          2.0343982337154416,
          -0.4824821822177707,
          0.8309463581150035,
          -0.4349385948709931,
          -0.6756120182110634,
          -1.5925814019449025,
          0.23413023932942328,
          1.0281422105942735,
          -1.0623059466249865,
          2.2195071053364663,
          0.8756994750091641,
          0.8089835262821432,
          -0.743409264689658,
          0.04294253724257267,
          1.0684455291199384,
          0.27639677781983707,
          -1.0954222897259756,
          -1.2812049648901038,
          -0.637281296389303,
          2.111221879684574,
          -0.5513865740599511,
          1.0682633521601927,
          0.4652057414665277,
          -0.7206548172209604,
          1.2453404662443033,
          1.1397830121661918,
          0.49950650596397383,
          -0.9263185329342912,
          0.4111857860492889,
          0.7120252399106934,
          -0.7711455320738849,
          0.9950201421281071,
          -0.8274584839599624,
          0.3122126481853524,
          0.4515622771288505,
          0.6073609370855199,
          -2.170149917275103,
          1.3093912040986788,
          0.2590512674708452,
          -1.2337530482989523,
          -0.308609285621261,
          0.34858056871628357,
          -0.5259945565128492,
          0.7418184128255518,
          -0.08368524035607329,
          -0.48681829176600705,
          -0.6949219701346371,
          -1.5182275005248043,
          -0.6942761142349966,
          -0.29222643627617845,
          -0.6980315938540814,
          -1.7810575066261185,
          -0.38392005874164825,
          0.7775804455478614,
          -0.04417520548831625,
          -1.1024379175998715,
          -0.6161541682760509,
          0.2575180438792113,
          -0.5419691624897529,
          0.6017703190288322,
          -1.6905582702704653,
          0.6380563321234376,
          1.8411694643156877,
          0.9642052764057285,
          1.002877971747453,
          -1.7837200423433832,
          1.0355284326901804,
          -0.8243451510155145,
          0.3421716769811112,
          1.7152754923086335,
          -0.33329183790006034,
          -0.17785876328291492,
          0.26727742385574493,
          -1.4606113851565532,
          -1.0041165914639603,
          1.0996641205324444,
          0.048076295886310676,
          0.3881428733745407,
          -0.7623022776406418,
          1.276648665357941,
          0.17375732056573817,
          1.6164033921063847,
          0.3132317208480055,
          -0.00029622527125818443,
          -0.16420288781157838,
          -2.390517968447201,
          -0.018873881777453607,
          -1.9745352341669447,
          0.6437240829886111,
          0.609802961274568,
          -0.6262284629895819,
          1.4052370704543717,
          -0.06498383511536726,
          0.673796877062401
         ]
        },
        {
         "boxpoints": false,
         "line": {
          "width": 1.3
         },
         "marker": {
          "color": "rgba(55, 128, 191, 1.0)"
         },
         "name": "B",
         "orientation": "v",
         "type": "box",
         "y": [
          -1.1849432239690456,
          -0.5211376653895813,
          0.41965188826774313,
          -0.9070930374743329,
          -1.5831942364868001,
          -0.4858365830813737,
          0.7278009166335301,
          2.0221616404760145,
          0.507794572940946,
          2.0711601716091512,
          1.0104748395053536,
          -0.5848426486746308,
          0.5470577063946599,
          0.5165371941343447,
          -0.8016442671933688,
          0.288897603145818,
          1.005260388668178,
          1.6598616302267328,
          -0.5925215915659423,
          1.671554584904481,
          -0.20489334121097746,
          0.9960112769218384,
          -1.1054061041824972,
          -0.5248963018843851,
          -2.02827538041169,
          -0.7481179255865056,
          0.2391258954400187,
          -0.036886343978482165,
          0.14693839808593498,
          -1.3435550788737127,
          0.495509914100354,
          -0.3577410117056153,
          1.4057787447153953,
          -1.4396298323686851,
          2.0265956566614616,
          0.14237098853310884,
          -0.6720855188428924,
          -0.29335652809925195,
          -0.43569699647796284,
          -0.22581895031823285,
          -0.47442969869914503,
          -0.17069809986289486,
          1.3784558343562423,
          -2.207449291449941,
          0.8572827458826012,
          1.662204807114416,
          0.571471145490293,
          0.44588678869899956,
          -0.3524155474257769,
          1.2378307781006213,
          -1.4492689531910803,
          0.727622601488387,
          -1.4132155840281677,
          -0.9267015536871722,
          -0.44493820610091056,
          -0.8520553246569631,
          0.23717606545090117,
          1.491657687677004,
          0.7444833830075451,
          -0.27117666533976253,
          0.39270769256840615,
          -0.2086607631876548,
          0.9385178680801646,
          -1.0189388989003372,
          1.9449358716585041,
          -0.6255855098585659,
          1.0855482233583384,
          0.39546694491298606,
          -0.1796799824978816,
          0.9446600698055564,
          -0.4650681551742743,
          1.9444631807871682,
          -0.2513789023420614,
          -0.686686256853849,
          0.6966766328643259,
          -0.1465540592511607,
          1.6020687291155558,
          -0.051959615969177114,
          2.543342310408571,
          -0.570036449181245,
          0.9720872564921681,
          0.7685133980318168,
          -0.4631756619022978,
          0.6108351641027522,
          -0.6166118778084613,
          1.8907829068486697,
          -1.041542502652796,
          -1.5682055482136659,
          -1.050014599780345,
          -0.9700650851375957,
          -0.4779809922425408,
          -0.9087200791848067,
          -0.19970310413878423,
          -0.3117045540132173,
          -0.34515180449440186,
          0.13139098324208123,
          -0.7404657562632138,
          -2.587836670667099,
          0.12224694930872568,
          1.0282647351123904
         ]
        },
        {
         "boxpoints": false,
         "line": {
          "width": 1.3
         },
         "marker": {
          "color": "rgba(50, 171, 96, 1.0)"
         },
         "name": "C",
         "orientation": "v",
         "type": "box",
         "y": [
          0.9941448900416009,
          -1.415294561610848,
          -0.2362353120893795,
          -0.720913642106691,
          -0.28330368987773463,
          0.2575784789016579,
          0.891055859426488,
          0.9397412722895416,
          -0.09888252081291432,
          0.25793737305505715,
          0.48520117816869746,
          0.14381753779226583,
          0.811773458166103,
          -1.0599064818452337,
          -1.6332564775192155,
          -1.8073848444399405,
          0.40374740832669925,
          0.8494659854973792,
          -1.4540549161333602,
          -0.3281151163155895,
          -1.0539527763032357,
          -0.6452776965653212,
          0.5057237440121971,
          -0.07974431034563627,
          0.13971564504490488,
          2.224863703256889,
          -0.5299148873748046,
          0.16409586148062252,
          1.4182630497638664,
          2.1091408300500403,
          0.39558696356318745,
          1.7370656227039942,
          1.7106577502666263,
          -0.9591305665320118,
          -1.9982585422756785,
          1.0404214550368789,
          1.3564609648175052,
          -1.058212643947572,
          -0.06725531848149632,
          -0.013055235511804764,
          -0.21663782692489983,
          -0.8486090167666369,
          0.08290833662378544,
          0.7111486804402077,
          -1.2811656948246104,
          0.6649687452761156,
          1.4049769109766066,
          -1.2843268766984965,
          0.21388402124443212,
          0.0364933124121146,
          -1.0603459092474037,
          -0.5359949462632948,
          0.867436007203454,
          0.2969414505186042,
          1.335081390440413,
          0.05867517876988999,
          -0.8352678556669177,
          -0.2663536930684828,
          0.4622304335460673,
          1.7687177099845872,
          -0.1861024203918685,
          -1.0422871350309724,
          1.1790217152377844,
          0.15611665080728374,
          2.662613488310378,
          0.4800477859187476,
          0.7299235990876124,
          -0.5575025760262411,
          1.8799893527922458,
          -0.5556764713639761,
          -0.40310075709715043,
          1.2027047805085178,
          0.5900958889609973,
          0.5019455339099674,
          -0.7178861360186104,
          0.02781068977170091,
          -0.9292756790885546,
          -0.6355311527000018,
          0.7478247741092752,
          1.9251023531700413,
          1.1348473517271311,
          0.2724543576013086,
          -1.1294643051768478,
          0.015316123517693086,
          0.6031378978940842,
          -1.8813369886262623,
          1.1033974731349108,
          -0.41439545422901414,
          1.5769418167280906,
          -0.2819563325108993,
          0.9832285324633148,
          0.8991333686699359,
          -0.773394842216059,
          -0.020681247710566602,
          0.5780880015936647,
          0.324678060031869,
          -0.2774276577344426,
          0.07706099007827202,
          -0.4468159558368656,
          -1.5645048722071986
         ]
        },
        {
         "boxpoints": false,
         "line": {
          "width": 1.3
         },
         "marker": {
          "color": "rgba(128, 0, 128, 1.0)"
         },
         "name": "D",
         "orientation": "v",
         "type": "box",
         "y": [
          -1.192331137475391,
          -0.00856699516992989,
          -0.8389573196718727,
          1.9038886669123798,
          -0.3578989183974868,
          1.269058584542344,
          1.2773561312604635,
          -0.32200575661072384,
          -1.0490940186819366,
          -1.535748773975125,
          -0.5818441090607093,
          -0.5749314861247098,
          -1.3102279248056667,
          -1.0391762849530102,
          0.7558886343010799,
          -1.051384429232649,
          0.7196666819492346,
          -1.0871731403771503,
          0.1256690669388479,
          -0.25887726974027453,
          0.2603387685628686,
          0.6268767408326498,
          0.4571045226885126,
          1.232746870097122,
          -0.2924730711341888,
          -0.8207390379997915,
          -0.7617087993499451,
          0.6738443082395105,
          0.8616654493127476,
          -1.3121990699226702,
          -0.30928378746053625,
          -0.5517438495604261,
          0.4727531665947437,
          0.2128581921100694,
          0.990650280645931,
          -0.2101062281883072,
          -0.8734335136941964,
          -1.0633603540720415,
          0.8977052816076212,
          -0.7152434901222349,
          1.299674495389652,
          1.0589130177247437,
          -0.4219566412429281,
          -0.39211794982348025,
          -1.5932583119182626,
          0.8380266688659123,
          2.072438376377097,
          0.9589663814410084,
          0.523644527666068,
          -1.3163798843336647,
          -0.5783770995176221,
          -1.6425874293139233,
          0.389650570163329,
          -0.627879682481188,
          -0.29358589411513,
          -0.4264987288997589,
          0.7335164454956574,
          -0.24226400319543726,
          -0.6083963260182481,
          -0.48973451618620084,
          -0.30603663731945624,
          -0.8828518049050315,
          -0.22404304472997558,
          -0.5325983785461976,
          1.3307920952800403,
          -0.5926625508213409,
          0.2374957441585812,
          -0.007262216440006755,
          0.9659048842590944,
          -2.155684785580294,
          2.198379764321302,
          1.0987298332673232,
          -1.947136657825518,
          -0.42158282972566163,
          -0.343177917073893,
          0.13409486093295325,
          -0.6214862021450471,
          -0.6873339078329382,
          0.41360925188915093,
          1.173073240291131,
          0.8411615343773262,
          0.7994068490945303,
          1.1901612344610126,
          -0.7319279564655078,
          -0.5629665160169346,
          1.1454522969763212,
          0.18419435604158182,
          1.210645426962905,
          -0.6961425292258258,
          0.10515886428625675,
          -0.36306195531419316,
          -0.03237823904710659,
          0.807735156582041,
          -0.6801244533213385,
          0.6773257561802543,
          1.234242011739503,
          1.3263288276175949,
          1.673093403226205,
          -1.7950811866485987,
          0.6706747372090567
         ]
        }
       ],
       "layout": {
        "legend": {
         "bgcolor": "#F5F6F9",
         "font": {
          "color": "#4D5663"
         }
        },
        "paper_bgcolor": "#F5F6F9",
        "plot_bgcolor": "#F5F6F9",
        "template": {
         "data": {
          "bar": [
           {
            "error_x": {
             "color": "#2a3f5f"
            },
            "error_y": {
             "color": "#2a3f5f"
            },
            "marker": {
             "line": {
              "color": "#E5ECF6",
              "width": 0.5
             },
             "pattern": {
              "fillmode": "overlay",
              "size": 10,
              "solidity": 0.2
             }
            },
            "type": "bar"
           }
          ],
          "barpolar": [
           {
            "marker": {
             "line": {
              "color": "#E5ECF6",
              "width": 0.5
             },
             "pattern": {
              "fillmode": "overlay",
              "size": 10,
              "solidity": 0.2
             }
            },
            "type": "barpolar"
           }
          ],
          "carpet": [
           {
            "aaxis": {
             "endlinecolor": "#2a3f5f",
             "gridcolor": "white",
             "linecolor": "white",
             "minorgridcolor": "white",
             "startlinecolor": "#2a3f5f"
            },
            "baxis": {
             "endlinecolor": "#2a3f5f",
             "gridcolor": "white",
             "linecolor": "white",
             "minorgridcolor": "white",
             "startlinecolor": "#2a3f5f"
            },
            "type": "carpet"
           }
          ],
          "choropleth": [
           {
            "colorbar": {
             "outlinewidth": 0,
             "ticks": ""
            },
            "type": "choropleth"
           }
          ],
          "contour": [
           {
            "colorbar": {
             "outlinewidth": 0,
             "ticks": ""
            },
            "colorscale": [
             [
              0,
              "#0d0887"
             ],
             [
              0.1111111111111111,
              "#46039f"
             ],
             [
              0.2222222222222222,
              "#7201a8"
             ],
             [
              0.3333333333333333,
              "#9c179e"
             ],
             [
              0.4444444444444444,
              "#bd3786"
             ],
             [
              0.5555555555555556,
              "#d8576b"
             ],
             [
              0.6666666666666666,
              "#ed7953"
             ],
             [
              0.7777777777777778,
              "#fb9f3a"
             ],
             [
              0.8888888888888888,
              "#fdca26"
             ],
             [
              1,
              "#f0f921"
             ]
            ],
            "type": "contour"
           }
          ],
          "contourcarpet": [
           {
            "colorbar": {
             "outlinewidth": 0,
             "ticks": ""
            },
            "type": "contourcarpet"
           }
          ],
          "heatmap": [
           {
            "colorbar": {
             "outlinewidth": 0,
             "ticks": ""
            },
            "colorscale": [
             [
              0,
              "#0d0887"
             ],
             [
              0.1111111111111111,
              "#46039f"
             ],
             [
              0.2222222222222222,
              "#7201a8"
             ],
             [
              0.3333333333333333,
              "#9c179e"
             ],
             [
              0.4444444444444444,
              "#bd3786"
             ],
             [
              0.5555555555555556,
              "#d8576b"
             ],
             [
              0.6666666666666666,
              "#ed7953"
             ],
             [
              0.7777777777777778,
              "#fb9f3a"
             ],
             [
              0.8888888888888888,
              "#fdca26"
             ],
             [
              1,
              "#f0f921"
             ]
            ],
            "type": "heatmap"
           }
          ],
          "heatmapgl": [
           {
            "colorbar": {
             "outlinewidth": 0,
             "ticks": ""
            },
            "colorscale": [
             [
              0,
              "#0d0887"
             ],
             [
              0.1111111111111111,
              "#46039f"
             ],
             [
              0.2222222222222222,
              "#7201a8"
             ],
             [
              0.3333333333333333,
              "#9c179e"
             ],
             [
              0.4444444444444444,
              "#bd3786"
             ],
             [
              0.5555555555555556,
              "#d8576b"
             ],
             [
              0.6666666666666666,
              "#ed7953"
             ],
             [
              0.7777777777777778,
              "#fb9f3a"
             ],
             [
              0.8888888888888888,
              "#fdca26"
             ],
             [
              1,
              "#f0f921"
             ]
            ],
            "type": "heatmapgl"
           }
          ],
          "histogram": [
           {
            "marker": {
             "pattern": {
              "fillmode": "overlay",
              "size": 10,
              "solidity": 0.2
             }
            },
            "type": "histogram"
           }
          ],
          "histogram2d": [
           {
            "colorbar": {
             "outlinewidth": 0,
             "ticks": ""
            },
            "colorscale": [
             [
              0,
              "#0d0887"
             ],
             [
              0.1111111111111111,
              "#46039f"
             ],
             [
              0.2222222222222222,
              "#7201a8"
             ],
             [
              0.3333333333333333,
              "#9c179e"
             ],
             [
              0.4444444444444444,
              "#bd3786"
             ],
             [
              0.5555555555555556,
              "#d8576b"
             ],
             [
              0.6666666666666666,
              "#ed7953"
             ],
             [
              0.7777777777777778,
              "#fb9f3a"
             ],
             [
              0.8888888888888888,
              "#fdca26"
             ],
             [
              1,
              "#f0f921"
             ]
            ],
            "type": "histogram2d"
           }
          ],
          "histogram2dcontour": [
           {
            "colorbar": {
             "outlinewidth": 0,
             "ticks": ""
            },
            "colorscale": [
             [
              0,
              "#0d0887"
             ],
             [
              0.1111111111111111,
              "#46039f"
             ],
             [
              0.2222222222222222,
              "#7201a8"
             ],
             [
              0.3333333333333333,
              "#9c179e"
             ],
             [
              0.4444444444444444,
              "#bd3786"
             ],
             [
              0.5555555555555556,
              "#d8576b"
             ],
             [
              0.6666666666666666,
              "#ed7953"
             ],
             [
              0.7777777777777778,
              "#fb9f3a"
             ],
             [
              0.8888888888888888,
              "#fdca26"
             ],
             [
              1,
              "#f0f921"
             ]
            ],
            "type": "histogram2dcontour"
           }
          ],
          "mesh3d": [
           {
            "colorbar": {
             "outlinewidth": 0,
             "ticks": ""
            },
            "type": "mesh3d"
           }
          ],
          "parcoords": [
           {
            "line": {
             "colorbar": {
              "outlinewidth": 0,
              "ticks": ""
             }
            },
            "type": "parcoords"
           }
          ],
          "pie": [
           {
            "automargin": true,
            "type": "pie"
           }
          ],
          "scatter": [
           {
            "fillpattern": {
             "fillmode": "overlay",
             "size": 10,
             "solidity": 0.2
            },
            "type": "scatter"
           }
          ],
          "scatter3d": [
           {
            "line": {
             "colorbar": {
              "outlinewidth": 0,
              "ticks": ""
             }
            },
            "marker": {
             "colorbar": {
              "outlinewidth": 0,
              "ticks": ""
             }
            },
            "type": "scatter3d"
           }
          ],
          "scattercarpet": [
           {
            "marker": {
             "colorbar": {
              "outlinewidth": 0,
              "ticks": ""
             }
            },
            "type": "scattercarpet"
           }
          ],
          "scattergeo": [
           {
            "marker": {
             "colorbar": {
              "outlinewidth": 0,
              "ticks": ""
             }
            },
            "type": "scattergeo"
           }
          ],
          "scattergl": [
           {
            "marker": {
             "colorbar": {
              "outlinewidth": 0,
              "ticks": ""
             }
            },
            "type": "scattergl"
           }
          ],
          "scattermapbox": [
           {
            "marker": {
             "colorbar": {
              "outlinewidth": 0,
              "ticks": ""
             }
            },
            "type": "scattermapbox"
           }
          ],
          "scatterpolar": [
           {
            "marker": {
             "colorbar": {
              "outlinewidth": 0,
              "ticks": ""
             }
            },
            "type": "scatterpolar"
           }
          ],
          "scatterpolargl": [
           {
            "marker": {
             "colorbar": {
              "outlinewidth": 0,
              "ticks": ""
             }
            },
            "type": "scatterpolargl"
           }
          ],
          "scatterternary": [
           {
            "marker": {
             "colorbar": {
              "outlinewidth": 0,
              "ticks": ""
             }
            },
            "type": "scatterternary"
           }
          ],
          "surface": [
           {
            "colorbar": {
             "outlinewidth": 0,
             "ticks": ""
            },
            "colorscale": [
             [
              0,
              "#0d0887"
             ],
             [
              0.1111111111111111,
              "#46039f"
             ],
             [
              0.2222222222222222,
              "#7201a8"
             ],
             [
              0.3333333333333333,
              "#9c179e"
             ],
             [
              0.4444444444444444,
              "#bd3786"
             ],
             [
              0.5555555555555556,
              "#d8576b"
             ],
             [
              0.6666666666666666,
              "#ed7953"
             ],
             [
              0.7777777777777778,
              "#fb9f3a"
             ],
             [
              0.8888888888888888,
              "#fdca26"
             ],
             [
              1,
              "#f0f921"
             ]
            ],
            "type": "surface"
           }
          ],
          "table": [
           {
            "cells": {
             "fill": {
              "color": "#EBF0F8"
             },
             "line": {
              "color": "white"
             }
            },
            "header": {
             "fill": {
              "color": "#C8D4E3"
             },
             "line": {
              "color": "white"
             }
            },
            "type": "table"
           }
          ]
         },
         "layout": {
          "annotationdefaults": {
           "arrowcolor": "#2a3f5f",
           "arrowhead": 0,
           "arrowwidth": 1
          },
          "autotypenumbers": "strict",
          "coloraxis": {
           "colorbar": {
            "outlinewidth": 0,
            "ticks": ""
           }
          },
          "colorscale": {
           "diverging": [
            [
             0,
             "#8e0152"
            ],
            [
             0.1,
             "#c51b7d"
            ],
            [
             0.2,
             "#de77ae"
            ],
            [
             0.3,
             "#f1b6da"
            ],
            [
             0.4,
             "#fde0ef"
            ],
            [
             0.5,
             "#f7f7f7"
            ],
            [
             0.6,
             "#e6f5d0"
            ],
            [
             0.7,
             "#b8e186"
            ],
            [
             0.8,
             "#7fbc41"
            ],
            [
             0.9,
             "#4d9221"
            ],
            [
             1,
             "#276419"
            ]
           ],
           "sequential": [
            [
             0,
             "#0d0887"
            ],
            [
             0.1111111111111111,
             "#46039f"
            ],
            [
             0.2222222222222222,
             "#7201a8"
            ],
            [
             0.3333333333333333,
             "#9c179e"
            ],
            [
             0.4444444444444444,
             "#bd3786"
            ],
            [
             0.5555555555555556,
             "#d8576b"
            ],
            [
             0.6666666666666666,
             "#ed7953"
            ],
            [
             0.7777777777777778,
             "#fb9f3a"
            ],
            [
             0.8888888888888888,
             "#fdca26"
            ],
            [
             1,
             "#f0f921"
            ]
           ],
           "sequentialminus": [
            [
             0,
             "#0d0887"
            ],
            [
             0.1111111111111111,
             "#46039f"
            ],
            [
             0.2222222222222222,
             "#7201a8"
            ],
            [
             0.3333333333333333,
             "#9c179e"
            ],
            [
             0.4444444444444444,
             "#bd3786"
            ],
            [
             0.5555555555555556,
             "#d8576b"
            ],
            [
             0.6666666666666666,
             "#ed7953"
            ],
            [
             0.7777777777777778,
             "#fb9f3a"
            ],
            [
             0.8888888888888888,
             "#fdca26"
            ],
            [
             1,
             "#f0f921"
            ]
           ]
          },
          "colorway": [
           "#636efa",
           "#EF553B",
           "#00cc96",
           "#ab63fa",
           "#FFA15A",
           "#19d3f3",
           "#FF6692",
           "#B6E880",
           "#FF97FF",
           "#FECB52"
          ],
          "font": {
           "color": "#2a3f5f"
          },
          "geo": {
           "bgcolor": "white",
           "lakecolor": "white",
           "landcolor": "#E5ECF6",
           "showlakes": true,
           "showland": true,
           "subunitcolor": "white"
          },
          "hoverlabel": {
           "align": "left"
          },
          "hovermode": "closest",
          "mapbox": {
           "style": "light"
          },
          "paper_bgcolor": "white",
          "plot_bgcolor": "#E5ECF6",
          "polar": {
           "angularaxis": {
            "gridcolor": "white",
            "linecolor": "white",
            "ticks": ""
           },
           "bgcolor": "#E5ECF6",
           "radialaxis": {
            "gridcolor": "white",
            "linecolor": "white",
            "ticks": ""
           }
          },
          "scene": {
           "xaxis": {
            "backgroundcolor": "#E5ECF6",
            "gridcolor": "white",
            "gridwidth": 2,
            "linecolor": "white",
            "showbackground": true,
            "ticks": "",
            "zerolinecolor": "white"
           },
           "yaxis": {
            "backgroundcolor": "#E5ECF6",
            "gridcolor": "white",
            "gridwidth": 2,
            "linecolor": "white",
            "showbackground": true,
            "ticks": "",
            "zerolinecolor": "white"
           },
           "zaxis": {
            "backgroundcolor": "#E5ECF6",
            "gridcolor": "white",
            "gridwidth": 2,
            "linecolor": "white",
            "showbackground": true,
            "ticks": "",
            "zerolinecolor": "white"
           }
          },
          "shapedefaults": {
           "line": {
            "color": "#2a3f5f"
           }
          },
          "ternary": {
           "aaxis": {
            "gridcolor": "white",
            "linecolor": "white",
            "ticks": ""
           },
           "baxis": {
            "gridcolor": "white",
            "linecolor": "white",
            "ticks": ""
           },
           "bgcolor": "#E5ECF6",
           "caxis": {
            "gridcolor": "white",
            "linecolor": "white",
            "ticks": ""
           }
          },
          "title": {
           "x": 0.05
          },
          "xaxis": {
           "automargin": true,
           "gridcolor": "white",
           "linecolor": "white",
           "ticks": "",
           "title": {
            "standoff": 15
           },
           "zerolinecolor": "white",
           "zerolinewidth": 2
          },
          "yaxis": {
           "automargin": true,
           "gridcolor": "white",
           "linecolor": "white",
           "ticks": "",
           "title": {
            "standoff": 15
           },
           "zerolinecolor": "white",
           "zerolinewidth": 2
          }
         }
        },
        "title": {
         "font": {
          "color": "#4D5663"
         }
        },
        "xaxis": {
         "gridcolor": "#E1E5ED",
         "showgrid": true,
         "tickfont": {
          "color": "#4D5663"
         },
         "title": {
          "font": {
           "color": "#4D5663"
          },
          "text": ""
         },
         "zerolinecolor": "#E1E5ED"
        },
        "yaxis": {
         "gridcolor": "#E1E5ED",
         "showgrid": true,
         "tickfont": {
          "color": "#4D5663"
         },
         "title": {
          "font": {
           "color": "#4D5663"
          },
          "text": ""
         },
         "zerolinecolor": "#E1E5ED"
        }
       }
      },
      "text/html": [
       "<div>                            <div id=\"31be2edd-8881-42f9-9fa6-eb3330fae3c8\" class=\"plotly-graph-div\" style=\"height:525px; width:100%;\"></div>            <script type=\"text/javascript\">                require([\"plotly\"], function(Plotly) {                    window.PLOTLYENV=window.PLOTLYENV || {};\n",
       "                    window.PLOTLYENV.BASE_URL='https://plot.ly';                                    if (document.getElementById(\"31be2edd-8881-42f9-9fa6-eb3330fae3c8\")) {                    Plotly.newPlot(                        \"31be2edd-8881-42f9-9fa6-eb3330fae3c8\",                        [{\"boxpoints\":false,\"line\":{\"width\":1.3},\"marker\":{\"color\":\"rgba(255, 153, 51, 1.0)\"},\"name\":\"A\",\"orientation\":\"v\",\"y\":[0.44869329824135673,0.04442947891624006,2.1145540519877124,0.48459375200395927,0.36985788919286805,1.481971281069352,2.0343982337154416,-0.4824821822177707,0.8309463581150035,-0.4349385948709931,-0.6756120182110634,-1.5925814019449025,0.23413023932942328,1.0281422105942735,-1.0623059466249865,2.2195071053364663,0.8756994750091641,0.8089835262821432,-0.743409264689658,0.04294253724257267,1.0684455291199384,0.27639677781983707,-1.0954222897259756,-1.2812049648901038,-0.637281296389303,2.111221879684574,-0.5513865740599511,1.0682633521601927,0.4652057414665277,-0.7206548172209604,1.2453404662443033,1.1397830121661918,0.49950650596397383,-0.9263185329342912,0.4111857860492889,0.7120252399106934,-0.7711455320738849,0.9950201421281071,-0.8274584839599624,0.3122126481853524,0.4515622771288505,0.6073609370855199,-2.170149917275103,1.3093912040986788,0.2590512674708452,-1.2337530482989523,-0.308609285621261,0.34858056871628357,-0.5259945565128492,0.7418184128255518,-0.08368524035607329,-0.48681829176600705,-0.6949219701346371,-1.5182275005248043,-0.6942761142349966,-0.29222643627617845,-0.6980315938540814,-1.7810575066261185,-0.38392005874164825,0.7775804455478614,-0.04417520548831625,-1.1024379175998715,-0.6161541682760509,0.2575180438792113,-0.5419691624897529,0.6017703190288322,-1.6905582702704653,0.6380563321234376,1.8411694643156877,0.9642052764057285,1.002877971747453,-1.7837200423433832,1.0355284326901804,-0.8243451510155145,0.3421716769811112,1.7152754923086335,-0.33329183790006034,-0.17785876328291492,0.26727742385574493,-1.4606113851565532,-1.0041165914639603,1.0996641205324444,0.048076295886310676,0.3881428733745407,-0.7623022776406418,1.276648665357941,0.17375732056573817,1.6164033921063847,0.3132317208480055,-0.00029622527125818443,-0.16420288781157838,-2.390517968447201,-0.018873881777453607,-1.9745352341669447,0.6437240829886111,0.609802961274568,-0.6262284629895819,1.4052370704543717,-0.06498383511536726,0.673796877062401],\"type\":\"box\"},{\"boxpoints\":false,\"line\":{\"width\":1.3},\"marker\":{\"color\":\"rgba(55, 128, 191, 1.0)\"},\"name\":\"B\",\"orientation\":\"v\",\"y\":[-1.1849432239690456,-0.5211376653895813,0.41965188826774313,-0.9070930374743329,-1.5831942364868001,-0.4858365830813737,0.7278009166335301,2.0221616404760145,0.507794572940946,2.0711601716091512,1.0104748395053536,-0.5848426486746308,0.5470577063946599,0.5165371941343447,-0.8016442671933688,0.288897603145818,1.005260388668178,1.6598616302267328,-0.5925215915659423,1.671554584904481,-0.20489334121097746,0.9960112769218384,-1.1054061041824972,-0.5248963018843851,-2.02827538041169,-0.7481179255865056,0.2391258954400187,-0.036886343978482165,0.14693839808593498,-1.3435550788737127,0.495509914100354,-0.3577410117056153,1.4057787447153953,-1.4396298323686851,2.0265956566614616,0.14237098853310884,-0.6720855188428924,-0.29335652809925195,-0.43569699647796284,-0.22581895031823285,-0.47442969869914503,-0.17069809986289486,1.3784558343562423,-2.207449291449941,0.8572827458826012,1.662204807114416,0.571471145490293,0.44588678869899956,-0.3524155474257769,1.2378307781006213,-1.4492689531910803,0.727622601488387,-1.4132155840281677,-0.9267015536871722,-0.44493820610091056,-0.8520553246569631,0.23717606545090117,1.491657687677004,0.7444833830075451,-0.27117666533976253,0.39270769256840615,-0.2086607631876548,0.9385178680801646,-1.0189388989003372,1.9449358716585041,-0.6255855098585659,1.0855482233583384,0.39546694491298606,-0.1796799824978816,0.9446600698055564,-0.4650681551742743,1.9444631807871682,-0.2513789023420614,-0.686686256853849,0.6966766328643259,-0.1465540592511607,1.6020687291155558,-0.051959615969177114,2.543342310408571,-0.570036449181245,0.9720872564921681,0.7685133980318168,-0.4631756619022978,0.6108351641027522,-0.6166118778084613,1.8907829068486697,-1.041542502652796,-1.5682055482136659,-1.050014599780345,-0.9700650851375957,-0.4779809922425408,-0.9087200791848067,-0.19970310413878423,-0.3117045540132173,-0.34515180449440186,0.13139098324208123,-0.7404657562632138,-2.587836670667099,0.12224694930872568,1.0282647351123904],\"type\":\"box\"},{\"boxpoints\":false,\"line\":{\"width\":1.3},\"marker\":{\"color\":\"rgba(50, 171, 96, 1.0)\"},\"name\":\"C\",\"orientation\":\"v\",\"y\":[0.9941448900416009,-1.415294561610848,-0.2362353120893795,-0.720913642106691,-0.28330368987773463,0.2575784789016579,0.891055859426488,0.9397412722895416,-0.09888252081291432,0.25793737305505715,0.48520117816869746,0.14381753779226583,0.811773458166103,-1.0599064818452337,-1.6332564775192155,-1.8073848444399405,0.40374740832669925,0.8494659854973792,-1.4540549161333602,-0.3281151163155895,-1.0539527763032357,-0.6452776965653212,0.5057237440121971,-0.07974431034563627,0.13971564504490488,2.224863703256889,-0.5299148873748046,0.16409586148062252,1.4182630497638664,2.1091408300500403,0.39558696356318745,1.7370656227039942,1.7106577502666263,-0.9591305665320118,-1.9982585422756785,1.0404214550368789,1.3564609648175052,-1.058212643947572,-0.06725531848149632,-0.013055235511804764,-0.21663782692489983,-0.8486090167666369,0.08290833662378544,0.7111486804402077,-1.2811656948246104,0.6649687452761156,1.4049769109766066,-1.2843268766984965,0.21388402124443212,0.0364933124121146,-1.0603459092474037,-0.5359949462632948,0.867436007203454,0.2969414505186042,1.335081390440413,0.05867517876988999,-0.8352678556669177,-0.2663536930684828,0.4622304335460673,1.7687177099845872,-0.1861024203918685,-1.0422871350309724,1.1790217152377844,0.15611665080728374,2.662613488310378,0.4800477859187476,0.7299235990876124,-0.5575025760262411,1.8799893527922458,-0.5556764713639761,-0.40310075709715043,1.2027047805085178,0.5900958889609973,0.5019455339099674,-0.7178861360186104,0.02781068977170091,-0.9292756790885546,-0.6355311527000018,0.7478247741092752,1.9251023531700413,1.1348473517271311,0.2724543576013086,-1.1294643051768478,0.015316123517693086,0.6031378978940842,-1.8813369886262623,1.1033974731349108,-0.41439545422901414,1.5769418167280906,-0.2819563325108993,0.9832285324633148,0.8991333686699359,-0.773394842216059,-0.020681247710566602,0.5780880015936647,0.324678060031869,-0.2774276577344426,0.07706099007827202,-0.4468159558368656,-1.5645048722071986],\"type\":\"box\"},{\"boxpoints\":false,\"line\":{\"width\":1.3},\"marker\":{\"color\":\"rgba(128, 0, 128, 1.0)\"},\"name\":\"D\",\"orientation\":\"v\",\"y\":[-1.192331137475391,-0.00856699516992989,-0.8389573196718727,1.9038886669123798,-0.3578989183974868,1.269058584542344,1.2773561312604635,-0.32200575661072384,-1.0490940186819366,-1.535748773975125,-0.5818441090607093,-0.5749314861247098,-1.3102279248056667,-1.0391762849530102,0.7558886343010799,-1.051384429232649,0.7196666819492346,-1.0871731403771503,0.1256690669388479,-0.25887726974027453,0.2603387685628686,0.6268767408326498,0.4571045226885126,1.232746870097122,-0.2924730711341888,-0.8207390379997915,-0.7617087993499451,0.6738443082395105,0.8616654493127476,-1.3121990699226702,-0.30928378746053625,-0.5517438495604261,0.4727531665947437,0.2128581921100694,0.990650280645931,-0.2101062281883072,-0.8734335136941964,-1.0633603540720415,0.8977052816076212,-0.7152434901222349,1.299674495389652,1.0589130177247437,-0.4219566412429281,-0.39211794982348025,-1.5932583119182626,0.8380266688659123,2.072438376377097,0.9589663814410084,0.523644527666068,-1.3163798843336647,-0.5783770995176221,-1.6425874293139233,0.389650570163329,-0.627879682481188,-0.29358589411513,-0.4264987288997589,0.7335164454956574,-0.24226400319543726,-0.6083963260182481,-0.48973451618620084,-0.30603663731945624,-0.8828518049050315,-0.22404304472997558,-0.5325983785461976,1.3307920952800403,-0.5926625508213409,0.2374957441585812,-0.007262216440006755,0.9659048842590944,-2.155684785580294,2.198379764321302,1.0987298332673232,-1.947136657825518,-0.42158282972566163,-0.343177917073893,0.13409486093295325,-0.6214862021450471,-0.6873339078329382,0.41360925188915093,1.173073240291131,0.8411615343773262,0.7994068490945303,1.1901612344610126,-0.7319279564655078,-0.5629665160169346,1.1454522969763212,0.18419435604158182,1.210645426962905,-0.6961425292258258,0.10515886428625675,-0.36306195531419316,-0.03237823904710659,0.807735156582041,-0.6801244533213385,0.6773257561802543,1.234242011739503,1.3263288276175949,1.673093403226205,-1.7950811866485987,0.6706747372090567],\"type\":\"box\"}],                        {\"legend\":{\"bgcolor\":\"#F5F6F9\",\"font\":{\"color\":\"#4D5663\"}},\"paper_bgcolor\":\"#F5F6F9\",\"plot_bgcolor\":\"#F5F6F9\",\"template\":{\"data\":{\"barpolar\":[{\"marker\":{\"line\":{\"color\":\"#E5ECF6\",\"width\":0.5},\"pattern\":{\"fillmode\":\"overlay\",\"size\":10,\"solidity\":0.2}},\"type\":\"barpolar\"}],\"bar\":[{\"error_x\":{\"color\":\"#2a3f5f\"},\"error_y\":{\"color\":\"#2a3f5f\"},\"marker\":{\"line\":{\"color\":\"#E5ECF6\",\"width\":0.5},\"pattern\":{\"fillmode\":\"overlay\",\"size\":10,\"solidity\":0.2}},\"type\":\"bar\"}],\"carpet\":[{\"aaxis\":{\"endlinecolor\":\"#2a3f5f\",\"gridcolor\":\"white\",\"linecolor\":\"white\",\"minorgridcolor\":\"white\",\"startlinecolor\":\"#2a3f5f\"},\"baxis\":{\"endlinecolor\":\"#2a3f5f\",\"gridcolor\":\"white\",\"linecolor\":\"white\",\"minorgridcolor\":\"white\",\"startlinecolor\":\"#2a3f5f\"},\"type\":\"carpet\"}],\"choropleth\":[{\"colorbar\":{\"outlinewidth\":0,\"ticks\":\"\"},\"type\":\"choropleth\"}],\"contourcarpet\":[{\"colorbar\":{\"outlinewidth\":0,\"ticks\":\"\"},\"type\":\"contourcarpet\"}],\"contour\":[{\"colorbar\":{\"outlinewidth\":0,\"ticks\":\"\"},\"colorscale\":[[0.0,\"#0d0887\"],[0.1111111111111111,\"#46039f\"],[0.2222222222222222,\"#7201a8\"],[0.3333333333333333,\"#9c179e\"],[0.4444444444444444,\"#bd3786\"],[0.5555555555555556,\"#d8576b\"],[0.6666666666666666,\"#ed7953\"],[0.7777777777777778,\"#fb9f3a\"],[0.8888888888888888,\"#fdca26\"],[1.0,\"#f0f921\"]],\"type\":\"contour\"}],\"heatmapgl\":[{\"colorbar\":{\"outlinewidth\":0,\"ticks\":\"\"},\"colorscale\":[[0.0,\"#0d0887\"],[0.1111111111111111,\"#46039f\"],[0.2222222222222222,\"#7201a8\"],[0.3333333333333333,\"#9c179e\"],[0.4444444444444444,\"#bd3786\"],[0.5555555555555556,\"#d8576b\"],[0.6666666666666666,\"#ed7953\"],[0.7777777777777778,\"#fb9f3a\"],[0.8888888888888888,\"#fdca26\"],[1.0,\"#f0f921\"]],\"type\":\"heatmapgl\"}],\"heatmap\":[{\"colorbar\":{\"outlinewidth\":0,\"ticks\":\"\"},\"colorscale\":[[0.0,\"#0d0887\"],[0.1111111111111111,\"#46039f\"],[0.2222222222222222,\"#7201a8\"],[0.3333333333333333,\"#9c179e\"],[0.4444444444444444,\"#bd3786\"],[0.5555555555555556,\"#d8576b\"],[0.6666666666666666,\"#ed7953\"],[0.7777777777777778,\"#fb9f3a\"],[0.8888888888888888,\"#fdca26\"],[1.0,\"#f0f921\"]],\"type\":\"heatmap\"}],\"histogram2dcontour\":[{\"colorbar\":{\"outlinewidth\":0,\"ticks\":\"\"},\"colorscale\":[[0.0,\"#0d0887\"],[0.1111111111111111,\"#46039f\"],[0.2222222222222222,\"#7201a8\"],[0.3333333333333333,\"#9c179e\"],[0.4444444444444444,\"#bd3786\"],[0.5555555555555556,\"#d8576b\"],[0.6666666666666666,\"#ed7953\"],[0.7777777777777778,\"#fb9f3a\"],[0.8888888888888888,\"#fdca26\"],[1.0,\"#f0f921\"]],\"type\":\"histogram2dcontour\"}],\"histogram2d\":[{\"colorbar\":{\"outlinewidth\":0,\"ticks\":\"\"},\"colorscale\":[[0.0,\"#0d0887\"],[0.1111111111111111,\"#46039f\"],[0.2222222222222222,\"#7201a8\"],[0.3333333333333333,\"#9c179e\"],[0.4444444444444444,\"#bd3786\"],[0.5555555555555556,\"#d8576b\"],[0.6666666666666666,\"#ed7953\"],[0.7777777777777778,\"#fb9f3a\"],[0.8888888888888888,\"#fdca26\"],[1.0,\"#f0f921\"]],\"type\":\"histogram2d\"}],\"histogram\":[{\"marker\":{\"pattern\":{\"fillmode\":\"overlay\",\"size\":10,\"solidity\":0.2}},\"type\":\"histogram\"}],\"mesh3d\":[{\"colorbar\":{\"outlinewidth\":0,\"ticks\":\"\"},\"type\":\"mesh3d\"}],\"parcoords\":[{\"line\":{\"colorbar\":{\"outlinewidth\":0,\"ticks\":\"\"}},\"type\":\"parcoords\"}],\"pie\":[{\"automargin\":true,\"type\":\"pie\"}],\"scatter3d\":[{\"line\":{\"colorbar\":{\"outlinewidth\":0,\"ticks\":\"\"}},\"marker\":{\"colorbar\":{\"outlinewidth\":0,\"ticks\":\"\"}},\"type\":\"scatter3d\"}],\"scattercarpet\":[{\"marker\":{\"colorbar\":{\"outlinewidth\":0,\"ticks\":\"\"}},\"type\":\"scattercarpet\"}],\"scattergeo\":[{\"marker\":{\"colorbar\":{\"outlinewidth\":0,\"ticks\":\"\"}},\"type\":\"scattergeo\"}],\"scattergl\":[{\"marker\":{\"colorbar\":{\"outlinewidth\":0,\"ticks\":\"\"}},\"type\":\"scattergl\"}],\"scattermapbox\":[{\"marker\":{\"colorbar\":{\"outlinewidth\":0,\"ticks\":\"\"}},\"type\":\"scattermapbox\"}],\"scatterpolargl\":[{\"marker\":{\"colorbar\":{\"outlinewidth\":0,\"ticks\":\"\"}},\"type\":\"scatterpolargl\"}],\"scatterpolar\":[{\"marker\":{\"colorbar\":{\"outlinewidth\":0,\"ticks\":\"\"}},\"type\":\"scatterpolar\"}],\"scatter\":[{\"fillpattern\":{\"fillmode\":\"overlay\",\"size\":10,\"solidity\":0.2},\"type\":\"scatter\"}],\"scatterternary\":[{\"marker\":{\"colorbar\":{\"outlinewidth\":0,\"ticks\":\"\"}},\"type\":\"scatterternary\"}],\"surface\":[{\"colorbar\":{\"outlinewidth\":0,\"ticks\":\"\"},\"colorscale\":[[0.0,\"#0d0887\"],[0.1111111111111111,\"#46039f\"],[0.2222222222222222,\"#7201a8\"],[0.3333333333333333,\"#9c179e\"],[0.4444444444444444,\"#bd3786\"],[0.5555555555555556,\"#d8576b\"],[0.6666666666666666,\"#ed7953\"],[0.7777777777777778,\"#fb9f3a\"],[0.8888888888888888,\"#fdca26\"],[1.0,\"#f0f921\"]],\"type\":\"surface\"}],\"table\":[{\"cells\":{\"fill\":{\"color\":\"#EBF0F8\"},\"line\":{\"color\":\"white\"}},\"header\":{\"fill\":{\"color\":\"#C8D4E3\"},\"line\":{\"color\":\"white\"}},\"type\":\"table\"}]},\"layout\":{\"annotationdefaults\":{\"arrowcolor\":\"#2a3f5f\",\"arrowhead\":0,\"arrowwidth\":1},\"autotypenumbers\":\"strict\",\"coloraxis\":{\"colorbar\":{\"outlinewidth\":0,\"ticks\":\"\"}},\"colorscale\":{\"diverging\":[[0,\"#8e0152\"],[0.1,\"#c51b7d\"],[0.2,\"#de77ae\"],[0.3,\"#f1b6da\"],[0.4,\"#fde0ef\"],[0.5,\"#f7f7f7\"],[0.6,\"#e6f5d0\"],[0.7,\"#b8e186\"],[0.8,\"#7fbc41\"],[0.9,\"#4d9221\"],[1,\"#276419\"]],\"sequential\":[[0.0,\"#0d0887\"],[0.1111111111111111,\"#46039f\"],[0.2222222222222222,\"#7201a8\"],[0.3333333333333333,\"#9c179e\"],[0.4444444444444444,\"#bd3786\"],[0.5555555555555556,\"#d8576b\"],[0.6666666666666666,\"#ed7953\"],[0.7777777777777778,\"#fb9f3a\"],[0.8888888888888888,\"#fdca26\"],[1.0,\"#f0f921\"]],\"sequentialminus\":[[0.0,\"#0d0887\"],[0.1111111111111111,\"#46039f\"],[0.2222222222222222,\"#7201a8\"],[0.3333333333333333,\"#9c179e\"],[0.4444444444444444,\"#bd3786\"],[0.5555555555555556,\"#d8576b\"],[0.6666666666666666,\"#ed7953\"],[0.7777777777777778,\"#fb9f3a\"],[0.8888888888888888,\"#fdca26\"],[1.0,\"#f0f921\"]]},\"colorway\":[\"#636efa\",\"#EF553B\",\"#00cc96\",\"#ab63fa\",\"#FFA15A\",\"#19d3f3\",\"#FF6692\",\"#B6E880\",\"#FF97FF\",\"#FECB52\"],\"font\":{\"color\":\"#2a3f5f\"},\"geo\":{\"bgcolor\":\"white\",\"lakecolor\":\"white\",\"landcolor\":\"#E5ECF6\",\"showlakes\":true,\"showland\":true,\"subunitcolor\":\"white\"},\"hoverlabel\":{\"align\":\"left\"},\"hovermode\":\"closest\",\"mapbox\":{\"style\":\"light\"},\"paper_bgcolor\":\"white\",\"plot_bgcolor\":\"#E5ECF6\",\"polar\":{\"angularaxis\":{\"gridcolor\":\"white\",\"linecolor\":\"white\",\"ticks\":\"\"},\"bgcolor\":\"#E5ECF6\",\"radialaxis\":{\"gridcolor\":\"white\",\"linecolor\":\"white\",\"ticks\":\"\"}},\"scene\":{\"xaxis\":{\"backgroundcolor\":\"#E5ECF6\",\"gridcolor\":\"white\",\"gridwidth\":2,\"linecolor\":\"white\",\"showbackground\":true,\"ticks\":\"\",\"zerolinecolor\":\"white\"},\"yaxis\":{\"backgroundcolor\":\"#E5ECF6\",\"gridcolor\":\"white\",\"gridwidth\":2,\"linecolor\":\"white\",\"showbackground\":true,\"ticks\":\"\",\"zerolinecolor\":\"white\"},\"zaxis\":{\"backgroundcolor\":\"#E5ECF6\",\"gridcolor\":\"white\",\"gridwidth\":2,\"linecolor\":\"white\",\"showbackground\":true,\"ticks\":\"\",\"zerolinecolor\":\"white\"}},\"shapedefaults\":{\"line\":{\"color\":\"#2a3f5f\"}},\"ternary\":{\"aaxis\":{\"gridcolor\":\"white\",\"linecolor\":\"white\",\"ticks\":\"\"},\"baxis\":{\"gridcolor\":\"white\",\"linecolor\":\"white\",\"ticks\":\"\"},\"bgcolor\":\"#E5ECF6\",\"caxis\":{\"gridcolor\":\"white\",\"linecolor\":\"white\",\"ticks\":\"\"}},\"title\":{\"x\":0.05},\"xaxis\":{\"automargin\":true,\"gridcolor\":\"white\",\"linecolor\":\"white\",\"ticks\":\"\",\"title\":{\"standoff\":15},\"zerolinecolor\":\"white\",\"zerolinewidth\":2},\"yaxis\":{\"automargin\":true,\"gridcolor\":\"white\",\"linecolor\":\"white\",\"ticks\":\"\",\"title\":{\"standoff\":15},\"zerolinecolor\":\"white\",\"zerolinewidth\":2}}},\"title\":{\"font\":{\"color\":\"#4D5663\"}},\"xaxis\":{\"gridcolor\":\"#E1E5ED\",\"showgrid\":true,\"tickfont\":{\"color\":\"#4D5663\"},\"title\":{\"font\":{\"color\":\"#4D5663\"},\"text\":\"\"},\"zerolinecolor\":\"#E1E5ED\"},\"yaxis\":{\"gridcolor\":\"#E1E5ED\",\"showgrid\":true,\"tickfont\":{\"color\":\"#4D5663\"},\"title\":{\"font\":{\"color\":\"#4D5663\"},\"text\":\"\"},\"zerolinecolor\":\"#E1E5ED\"}},                        {\"showLink\": true, \"linkText\": \"Export to plot.ly\", \"plotlyServerURL\": \"https://plot.ly\", \"responsive\": true}                    ).then(function(){\n",
       "                            \n",
       "var gd = document.getElementById('31be2edd-8881-42f9-9fa6-eb3330fae3c8');\n",
       "var x = new MutationObserver(function (mutations, observer) {{\n",
       "        var display = window.getComputedStyle(gd).display;\n",
       "        if (!display || display === 'none') {{\n",
       "            console.log([gd, 'removed!']);\n",
       "            Plotly.purge(gd);\n",
       "            observer.disconnect();\n",
       "        }}\n",
       "}});\n",
       "\n",
       "// Listen for the removal of the full notebook cells\n",
       "var notebookContainer = gd.closest('#notebook-container');\n",
       "if (notebookContainer) {{\n",
       "    x.observe(notebookContainer, {childList: true});\n",
       "}}\n",
       "\n",
       "// Listen for the clearing of the current output cell\n",
       "var outputEl = gd.closest('.output');\n",
       "if (outputEl) {{\n",
       "    x.observe(outputEl, {childList: true});\n",
       "}}\n",
       "\n",
       "                        })                };                });            </script>        </div>"
      ]
     },
     "metadata": {},
     "output_type": "display_data"
    }
   ],
   "source": [
    "df.iplot(kind='box')"
   ]
  },
  {
   "cell_type": "markdown",
   "metadata": {},
   "source": [
    "## 3d Surface"
   ]
  },
  {
   "cell_type": "code",
   "execution_count": 37,
   "metadata": {},
   "outputs": [
    {
     "data": {
      "application/vnd.plotly.v1+json": {
       "config": {
        "linkText": "Export to plot.ly",
        "plotlyServerURL": "https://plot.ly",
        "showLink": true
       },
       "data": [
        {
         "colorscale": [
          [
           0,
           "rgb(165,0,38)"
          ],
          [
           0.1,
           "rgb(215,48,39)"
          ],
          [
           0.2,
           "rgb(244,109,67)"
          ],
          [
           0.3,
           "rgb(253,174,97)"
          ],
          [
           0.4,
           "rgb(254,224,144)"
          ],
          [
           0.5,
           "rgb(255,255,191)"
          ],
          [
           0.6,
           "rgb(224,243,248)"
          ],
          [
           0.7,
           "rgb(171,217,233)"
          ],
          [
           0.8,
           "rgb(116,173,209)"
          ],
          [
           0.9,
           "rgb(69,117,180)"
          ],
          [
           1,
           "rgb(49,54,149)"
          ]
         ],
         "type": "surface",
         "x": [
          0,
          1,
          2,
          3,
          4
         ],
         "y": [
          "x",
          "y",
          "z"
         ],
         "z": [
          [
           1,
           2,
           3,
           4,
           5
          ],
          [
           10,
           20,
           30,
           20,
           10
          ],
          [
           5,
           4,
           3,
           2,
           1
          ]
         ]
        }
       ],
       "layout": {
        "legend": {
         "bgcolor": "#F5F6F9",
         "font": {
          "color": "#4D5663"
         }
        },
        "paper_bgcolor": "#F5F6F9",
        "plot_bgcolor": "#F5F6F9",
        "template": {
         "data": {
          "bar": [
           {
            "error_x": {
             "color": "#2a3f5f"
            },
            "error_y": {
             "color": "#2a3f5f"
            },
            "marker": {
             "line": {
              "color": "#E5ECF6",
              "width": 0.5
             },
             "pattern": {
              "fillmode": "overlay",
              "size": 10,
              "solidity": 0.2
             }
            },
            "type": "bar"
           }
          ],
          "barpolar": [
           {
            "marker": {
             "line": {
              "color": "#E5ECF6",
              "width": 0.5
             },
             "pattern": {
              "fillmode": "overlay",
              "size": 10,
              "solidity": 0.2
             }
            },
            "type": "barpolar"
           }
          ],
          "carpet": [
           {
            "aaxis": {
             "endlinecolor": "#2a3f5f",
             "gridcolor": "white",
             "linecolor": "white",
             "minorgridcolor": "white",
             "startlinecolor": "#2a3f5f"
            },
            "baxis": {
             "endlinecolor": "#2a3f5f",
             "gridcolor": "white",
             "linecolor": "white",
             "minorgridcolor": "white",
             "startlinecolor": "#2a3f5f"
            },
            "type": "carpet"
           }
          ],
          "choropleth": [
           {
            "colorbar": {
             "outlinewidth": 0,
             "ticks": ""
            },
            "type": "choropleth"
           }
          ],
          "contour": [
           {
            "colorbar": {
             "outlinewidth": 0,
             "ticks": ""
            },
            "colorscale": [
             [
              0,
              "#0d0887"
             ],
             [
              0.1111111111111111,
              "#46039f"
             ],
             [
              0.2222222222222222,
              "#7201a8"
             ],
             [
              0.3333333333333333,
              "#9c179e"
             ],
             [
              0.4444444444444444,
              "#bd3786"
             ],
             [
              0.5555555555555556,
              "#d8576b"
             ],
             [
              0.6666666666666666,
              "#ed7953"
             ],
             [
              0.7777777777777778,
              "#fb9f3a"
             ],
             [
              0.8888888888888888,
              "#fdca26"
             ],
             [
              1,
              "#f0f921"
             ]
            ],
            "type": "contour"
           }
          ],
          "contourcarpet": [
           {
            "colorbar": {
             "outlinewidth": 0,
             "ticks": ""
            },
            "type": "contourcarpet"
           }
          ],
          "heatmap": [
           {
            "colorbar": {
             "outlinewidth": 0,
             "ticks": ""
            },
            "colorscale": [
             [
              0,
              "#0d0887"
             ],
             [
              0.1111111111111111,
              "#46039f"
             ],
             [
              0.2222222222222222,
              "#7201a8"
             ],
             [
              0.3333333333333333,
              "#9c179e"
             ],
             [
              0.4444444444444444,
              "#bd3786"
             ],
             [
              0.5555555555555556,
              "#d8576b"
             ],
             [
              0.6666666666666666,
              "#ed7953"
             ],
             [
              0.7777777777777778,
              "#fb9f3a"
             ],
             [
              0.8888888888888888,
              "#fdca26"
             ],
             [
              1,
              "#f0f921"
             ]
            ],
            "type": "heatmap"
           }
          ],
          "heatmapgl": [
           {
            "colorbar": {
             "outlinewidth": 0,
             "ticks": ""
            },
            "colorscale": [
             [
              0,
              "#0d0887"
             ],
             [
              0.1111111111111111,
              "#46039f"
             ],
             [
              0.2222222222222222,
              "#7201a8"
             ],
             [
              0.3333333333333333,
              "#9c179e"
             ],
             [
              0.4444444444444444,
              "#bd3786"
             ],
             [
              0.5555555555555556,
              "#d8576b"
             ],
             [
              0.6666666666666666,
              "#ed7953"
             ],
             [
              0.7777777777777778,
              "#fb9f3a"
             ],
             [
              0.8888888888888888,
              "#fdca26"
             ],
             [
              1,
              "#f0f921"
             ]
            ],
            "type": "heatmapgl"
           }
          ],
          "histogram": [
           {
            "marker": {
             "pattern": {
              "fillmode": "overlay",
              "size": 10,
              "solidity": 0.2
             }
            },
            "type": "histogram"
           }
          ],
          "histogram2d": [
           {
            "colorbar": {
             "outlinewidth": 0,
             "ticks": ""
            },
            "colorscale": [
             [
              0,
              "#0d0887"
             ],
             [
              0.1111111111111111,
              "#46039f"
             ],
             [
              0.2222222222222222,
              "#7201a8"
             ],
             [
              0.3333333333333333,
              "#9c179e"
             ],
             [
              0.4444444444444444,
              "#bd3786"
             ],
             [
              0.5555555555555556,
              "#d8576b"
             ],
             [
              0.6666666666666666,
              "#ed7953"
             ],
             [
              0.7777777777777778,
              "#fb9f3a"
             ],
             [
              0.8888888888888888,
              "#fdca26"
             ],
             [
              1,
              "#f0f921"
             ]
            ],
            "type": "histogram2d"
           }
          ],
          "histogram2dcontour": [
           {
            "colorbar": {
             "outlinewidth": 0,
             "ticks": ""
            },
            "colorscale": [
             [
              0,
              "#0d0887"
             ],
             [
              0.1111111111111111,
              "#46039f"
             ],
             [
              0.2222222222222222,
              "#7201a8"
             ],
             [
              0.3333333333333333,
              "#9c179e"
             ],
             [
              0.4444444444444444,
              "#bd3786"
             ],
             [
              0.5555555555555556,
              "#d8576b"
             ],
             [
              0.6666666666666666,
              "#ed7953"
             ],
             [
              0.7777777777777778,
              "#fb9f3a"
             ],
             [
              0.8888888888888888,
              "#fdca26"
             ],
             [
              1,
              "#f0f921"
             ]
            ],
            "type": "histogram2dcontour"
           }
          ],
          "mesh3d": [
           {
            "colorbar": {
             "outlinewidth": 0,
             "ticks": ""
            },
            "type": "mesh3d"
           }
          ],
          "parcoords": [
           {
            "line": {
             "colorbar": {
              "outlinewidth": 0,
              "ticks": ""
             }
            },
            "type": "parcoords"
           }
          ],
          "pie": [
           {
            "automargin": true,
            "type": "pie"
           }
          ],
          "scatter": [
           {
            "fillpattern": {
             "fillmode": "overlay",
             "size": 10,
             "solidity": 0.2
            },
            "type": "scatter"
           }
          ],
          "scatter3d": [
           {
            "line": {
             "colorbar": {
              "outlinewidth": 0,
              "ticks": ""
             }
            },
            "marker": {
             "colorbar": {
              "outlinewidth": 0,
              "ticks": ""
             }
            },
            "type": "scatter3d"
           }
          ],
          "scattercarpet": [
           {
            "marker": {
             "colorbar": {
              "outlinewidth": 0,
              "ticks": ""
             }
            },
            "type": "scattercarpet"
           }
          ],
          "scattergeo": [
           {
            "marker": {
             "colorbar": {
              "outlinewidth": 0,
              "ticks": ""
             }
            },
            "type": "scattergeo"
           }
          ],
          "scattergl": [
           {
            "marker": {
             "colorbar": {
              "outlinewidth": 0,
              "ticks": ""
             }
            },
            "type": "scattergl"
           }
          ],
          "scattermapbox": [
           {
            "marker": {
             "colorbar": {
              "outlinewidth": 0,
              "ticks": ""
             }
            },
            "type": "scattermapbox"
           }
          ],
          "scatterpolar": [
           {
            "marker": {
             "colorbar": {
              "outlinewidth": 0,
              "ticks": ""
             }
            },
            "type": "scatterpolar"
           }
          ],
          "scatterpolargl": [
           {
            "marker": {
             "colorbar": {
              "outlinewidth": 0,
              "ticks": ""
             }
            },
            "type": "scatterpolargl"
           }
          ],
          "scatterternary": [
           {
            "marker": {
             "colorbar": {
              "outlinewidth": 0,
              "ticks": ""
             }
            },
            "type": "scatterternary"
           }
          ],
          "surface": [
           {
            "colorbar": {
             "outlinewidth": 0,
             "ticks": ""
            },
            "colorscale": [
             [
              0,
              "#0d0887"
             ],
             [
              0.1111111111111111,
              "#46039f"
             ],
             [
              0.2222222222222222,
              "#7201a8"
             ],
             [
              0.3333333333333333,
              "#9c179e"
             ],
             [
              0.4444444444444444,
              "#bd3786"
             ],
             [
              0.5555555555555556,
              "#d8576b"
             ],
             [
              0.6666666666666666,
              "#ed7953"
             ],
             [
              0.7777777777777778,
              "#fb9f3a"
             ],
             [
              0.8888888888888888,
              "#fdca26"
             ],
             [
              1,
              "#f0f921"
             ]
            ],
            "type": "surface"
           }
          ],
          "table": [
           {
            "cells": {
             "fill": {
              "color": "#EBF0F8"
             },
             "line": {
              "color": "white"
             }
            },
            "header": {
             "fill": {
              "color": "#C8D4E3"
             },
             "line": {
              "color": "white"
             }
            },
            "type": "table"
           }
          ]
         },
         "layout": {
          "annotationdefaults": {
           "arrowcolor": "#2a3f5f",
           "arrowhead": 0,
           "arrowwidth": 1
          },
          "autotypenumbers": "strict",
          "coloraxis": {
           "colorbar": {
            "outlinewidth": 0,
            "ticks": ""
           }
          },
          "colorscale": {
           "diverging": [
            [
             0,
             "#8e0152"
            ],
            [
             0.1,
             "#c51b7d"
            ],
            [
             0.2,
             "#de77ae"
            ],
            [
             0.3,
             "#f1b6da"
            ],
            [
             0.4,
             "#fde0ef"
            ],
            [
             0.5,
             "#f7f7f7"
            ],
            [
             0.6,
             "#e6f5d0"
            ],
            [
             0.7,
             "#b8e186"
            ],
            [
             0.8,
             "#7fbc41"
            ],
            [
             0.9,
             "#4d9221"
            ],
            [
             1,
             "#276419"
            ]
           ],
           "sequential": [
            [
             0,
             "#0d0887"
            ],
            [
             0.1111111111111111,
             "#46039f"
            ],
            [
             0.2222222222222222,
             "#7201a8"
            ],
            [
             0.3333333333333333,
             "#9c179e"
            ],
            [
             0.4444444444444444,
             "#bd3786"
            ],
            [
             0.5555555555555556,
             "#d8576b"
            ],
            [
             0.6666666666666666,
             "#ed7953"
            ],
            [
             0.7777777777777778,
             "#fb9f3a"
            ],
            [
             0.8888888888888888,
             "#fdca26"
            ],
            [
             1,
             "#f0f921"
            ]
           ],
           "sequentialminus": [
            [
             0,
             "#0d0887"
            ],
            [
             0.1111111111111111,
             "#46039f"
            ],
            [
             0.2222222222222222,
             "#7201a8"
            ],
            [
             0.3333333333333333,
             "#9c179e"
            ],
            [
             0.4444444444444444,
             "#bd3786"
            ],
            [
             0.5555555555555556,
             "#d8576b"
            ],
            [
             0.6666666666666666,
             "#ed7953"
            ],
            [
             0.7777777777777778,
             "#fb9f3a"
            ],
            [
             0.8888888888888888,
             "#fdca26"
            ],
            [
             1,
             "#f0f921"
            ]
           ]
          },
          "colorway": [
           "#636efa",
           "#EF553B",
           "#00cc96",
           "#ab63fa",
           "#FFA15A",
           "#19d3f3",
           "#FF6692",
           "#B6E880",
           "#FF97FF",
           "#FECB52"
          ],
          "font": {
           "color": "#2a3f5f"
          },
          "geo": {
           "bgcolor": "white",
           "lakecolor": "white",
           "landcolor": "#E5ECF6",
           "showlakes": true,
           "showland": true,
           "subunitcolor": "white"
          },
          "hoverlabel": {
           "align": "left"
          },
          "hovermode": "closest",
          "mapbox": {
           "style": "light"
          },
          "paper_bgcolor": "white",
          "plot_bgcolor": "#E5ECF6",
          "polar": {
           "angularaxis": {
            "gridcolor": "white",
            "linecolor": "white",
            "ticks": ""
           },
           "bgcolor": "#E5ECF6",
           "radialaxis": {
            "gridcolor": "white",
            "linecolor": "white",
            "ticks": ""
           }
          },
          "scene": {
           "xaxis": {
            "backgroundcolor": "#E5ECF6",
            "gridcolor": "white",
            "gridwidth": 2,
            "linecolor": "white",
            "showbackground": true,
            "ticks": "",
            "zerolinecolor": "white"
           },
           "yaxis": {
            "backgroundcolor": "#E5ECF6",
            "gridcolor": "white",
            "gridwidth": 2,
            "linecolor": "white",
            "showbackground": true,
            "ticks": "",
            "zerolinecolor": "white"
           },
           "zaxis": {
            "backgroundcolor": "#E5ECF6",
            "gridcolor": "white",
            "gridwidth": 2,
            "linecolor": "white",
            "showbackground": true,
            "ticks": "",
            "zerolinecolor": "white"
           }
          },
          "shapedefaults": {
           "line": {
            "color": "#2a3f5f"
           }
          },
          "ternary": {
           "aaxis": {
            "gridcolor": "white",
            "linecolor": "white",
            "ticks": ""
           },
           "baxis": {
            "gridcolor": "white",
            "linecolor": "white",
            "ticks": ""
           },
           "bgcolor": "#E5ECF6",
           "caxis": {
            "gridcolor": "white",
            "linecolor": "white",
            "ticks": ""
           }
          },
          "title": {
           "x": 0.05
          },
          "xaxis": {
           "automargin": true,
           "gridcolor": "white",
           "linecolor": "white",
           "ticks": "",
           "title": {
            "standoff": 15
           },
           "zerolinecolor": "white",
           "zerolinewidth": 2
          },
          "yaxis": {
           "automargin": true,
           "gridcolor": "white",
           "linecolor": "white",
           "ticks": "",
           "title": {
            "standoff": 15
           },
           "zerolinecolor": "white",
           "zerolinewidth": 2
          }
         }
        },
        "title": {
         "font": {
          "color": "#4D5663"
         }
        },
        "xaxis": {
         "gridcolor": "#E1E5ED",
         "showgrid": true,
         "tickfont": {
          "color": "#4D5663"
         },
         "title": {
          "font": {
           "color": "#4D5663"
          },
          "text": ""
         },
         "zerolinecolor": "#E1E5ED"
        },
        "yaxis": {
         "gridcolor": "#E1E5ED",
         "showgrid": true,
         "tickfont": {
          "color": "#4D5663"
         },
         "title": {
          "font": {
           "color": "#4D5663"
          },
          "text": ""
         },
         "zerolinecolor": "#E1E5ED"
        }
       }
      },
      "text/html": [
       "<div>                            <div id=\"5e50ae6b-93be-4fe4-933f-6239c04e2280\" class=\"plotly-graph-div\" style=\"height:525px; width:100%;\"></div>            <script type=\"text/javascript\">                require([\"plotly\"], function(Plotly) {                    window.PLOTLYENV=window.PLOTLYENV || {};\n",
       "                    window.PLOTLYENV.BASE_URL='https://plot.ly';                                    if (document.getElementById(\"5e50ae6b-93be-4fe4-933f-6239c04e2280\")) {                    Plotly.newPlot(                        \"5e50ae6b-93be-4fe4-933f-6239c04e2280\",                        [{\"colorscale\":[[0.0,\"rgb(165,0,38)\"],[0.1,\"rgb(215,48,39)\"],[0.2,\"rgb(244,109,67)\"],[0.3,\"rgb(253,174,97)\"],[0.4,\"rgb(254,224,144)\"],[0.5,\"rgb(255,255,191)\"],[0.6,\"rgb(224,243,248)\"],[0.7,\"rgb(171,217,233)\"],[0.8,\"rgb(116,173,209)\"],[0.9,\"rgb(69,117,180)\"],[1.0,\"rgb(49,54,149)\"]],\"x\":[0,1,2,3,4],\"y\":[\"x\",\"y\",\"z\"],\"z\":[[1,2,3,4,5],[10,20,30,20,10],[5,4,3,2,1]],\"type\":\"surface\"}],                        {\"legend\":{\"bgcolor\":\"#F5F6F9\",\"font\":{\"color\":\"#4D5663\"}},\"paper_bgcolor\":\"#F5F6F9\",\"plot_bgcolor\":\"#F5F6F9\",\"template\":{\"data\":{\"barpolar\":[{\"marker\":{\"line\":{\"color\":\"#E5ECF6\",\"width\":0.5},\"pattern\":{\"fillmode\":\"overlay\",\"size\":10,\"solidity\":0.2}},\"type\":\"barpolar\"}],\"bar\":[{\"error_x\":{\"color\":\"#2a3f5f\"},\"error_y\":{\"color\":\"#2a3f5f\"},\"marker\":{\"line\":{\"color\":\"#E5ECF6\",\"width\":0.5},\"pattern\":{\"fillmode\":\"overlay\",\"size\":10,\"solidity\":0.2}},\"type\":\"bar\"}],\"carpet\":[{\"aaxis\":{\"endlinecolor\":\"#2a3f5f\",\"gridcolor\":\"white\",\"linecolor\":\"white\",\"minorgridcolor\":\"white\",\"startlinecolor\":\"#2a3f5f\"},\"baxis\":{\"endlinecolor\":\"#2a3f5f\",\"gridcolor\":\"white\",\"linecolor\":\"white\",\"minorgridcolor\":\"white\",\"startlinecolor\":\"#2a3f5f\"},\"type\":\"carpet\"}],\"choropleth\":[{\"colorbar\":{\"outlinewidth\":0,\"ticks\":\"\"},\"type\":\"choropleth\"}],\"contourcarpet\":[{\"colorbar\":{\"outlinewidth\":0,\"ticks\":\"\"},\"type\":\"contourcarpet\"}],\"contour\":[{\"colorbar\":{\"outlinewidth\":0,\"ticks\":\"\"},\"colorscale\":[[0.0,\"#0d0887\"],[0.1111111111111111,\"#46039f\"],[0.2222222222222222,\"#7201a8\"],[0.3333333333333333,\"#9c179e\"],[0.4444444444444444,\"#bd3786\"],[0.5555555555555556,\"#d8576b\"],[0.6666666666666666,\"#ed7953\"],[0.7777777777777778,\"#fb9f3a\"],[0.8888888888888888,\"#fdca26\"],[1.0,\"#f0f921\"]],\"type\":\"contour\"}],\"heatmapgl\":[{\"colorbar\":{\"outlinewidth\":0,\"ticks\":\"\"},\"colorscale\":[[0.0,\"#0d0887\"],[0.1111111111111111,\"#46039f\"],[0.2222222222222222,\"#7201a8\"],[0.3333333333333333,\"#9c179e\"],[0.4444444444444444,\"#bd3786\"],[0.5555555555555556,\"#d8576b\"],[0.6666666666666666,\"#ed7953\"],[0.7777777777777778,\"#fb9f3a\"],[0.8888888888888888,\"#fdca26\"],[1.0,\"#f0f921\"]],\"type\":\"heatmapgl\"}],\"heatmap\":[{\"colorbar\":{\"outlinewidth\":0,\"ticks\":\"\"},\"colorscale\":[[0.0,\"#0d0887\"],[0.1111111111111111,\"#46039f\"],[0.2222222222222222,\"#7201a8\"],[0.3333333333333333,\"#9c179e\"],[0.4444444444444444,\"#bd3786\"],[0.5555555555555556,\"#d8576b\"],[0.6666666666666666,\"#ed7953\"],[0.7777777777777778,\"#fb9f3a\"],[0.8888888888888888,\"#fdca26\"],[1.0,\"#f0f921\"]],\"type\":\"heatmap\"}],\"histogram2dcontour\":[{\"colorbar\":{\"outlinewidth\":0,\"ticks\":\"\"},\"colorscale\":[[0.0,\"#0d0887\"],[0.1111111111111111,\"#46039f\"],[0.2222222222222222,\"#7201a8\"],[0.3333333333333333,\"#9c179e\"],[0.4444444444444444,\"#bd3786\"],[0.5555555555555556,\"#d8576b\"],[0.6666666666666666,\"#ed7953\"],[0.7777777777777778,\"#fb9f3a\"],[0.8888888888888888,\"#fdca26\"],[1.0,\"#f0f921\"]],\"type\":\"histogram2dcontour\"}],\"histogram2d\":[{\"colorbar\":{\"outlinewidth\":0,\"ticks\":\"\"},\"colorscale\":[[0.0,\"#0d0887\"],[0.1111111111111111,\"#46039f\"],[0.2222222222222222,\"#7201a8\"],[0.3333333333333333,\"#9c179e\"],[0.4444444444444444,\"#bd3786\"],[0.5555555555555556,\"#d8576b\"],[0.6666666666666666,\"#ed7953\"],[0.7777777777777778,\"#fb9f3a\"],[0.8888888888888888,\"#fdca26\"],[1.0,\"#f0f921\"]],\"type\":\"histogram2d\"}],\"histogram\":[{\"marker\":{\"pattern\":{\"fillmode\":\"overlay\",\"size\":10,\"solidity\":0.2}},\"type\":\"histogram\"}],\"mesh3d\":[{\"colorbar\":{\"outlinewidth\":0,\"ticks\":\"\"},\"type\":\"mesh3d\"}],\"parcoords\":[{\"line\":{\"colorbar\":{\"outlinewidth\":0,\"ticks\":\"\"}},\"type\":\"parcoords\"}],\"pie\":[{\"automargin\":true,\"type\":\"pie\"}],\"scatter3d\":[{\"line\":{\"colorbar\":{\"outlinewidth\":0,\"ticks\":\"\"}},\"marker\":{\"colorbar\":{\"outlinewidth\":0,\"ticks\":\"\"}},\"type\":\"scatter3d\"}],\"scattercarpet\":[{\"marker\":{\"colorbar\":{\"outlinewidth\":0,\"ticks\":\"\"}},\"type\":\"scattercarpet\"}],\"scattergeo\":[{\"marker\":{\"colorbar\":{\"outlinewidth\":0,\"ticks\":\"\"}},\"type\":\"scattergeo\"}],\"scattergl\":[{\"marker\":{\"colorbar\":{\"outlinewidth\":0,\"ticks\":\"\"}},\"type\":\"scattergl\"}],\"scattermapbox\":[{\"marker\":{\"colorbar\":{\"outlinewidth\":0,\"ticks\":\"\"}},\"type\":\"scattermapbox\"}],\"scatterpolargl\":[{\"marker\":{\"colorbar\":{\"outlinewidth\":0,\"ticks\":\"\"}},\"type\":\"scatterpolargl\"}],\"scatterpolar\":[{\"marker\":{\"colorbar\":{\"outlinewidth\":0,\"ticks\":\"\"}},\"type\":\"scatterpolar\"}],\"scatter\":[{\"fillpattern\":{\"fillmode\":\"overlay\",\"size\":10,\"solidity\":0.2},\"type\":\"scatter\"}],\"scatterternary\":[{\"marker\":{\"colorbar\":{\"outlinewidth\":0,\"ticks\":\"\"}},\"type\":\"scatterternary\"}],\"surface\":[{\"colorbar\":{\"outlinewidth\":0,\"ticks\":\"\"},\"colorscale\":[[0.0,\"#0d0887\"],[0.1111111111111111,\"#46039f\"],[0.2222222222222222,\"#7201a8\"],[0.3333333333333333,\"#9c179e\"],[0.4444444444444444,\"#bd3786\"],[0.5555555555555556,\"#d8576b\"],[0.6666666666666666,\"#ed7953\"],[0.7777777777777778,\"#fb9f3a\"],[0.8888888888888888,\"#fdca26\"],[1.0,\"#f0f921\"]],\"type\":\"surface\"}],\"table\":[{\"cells\":{\"fill\":{\"color\":\"#EBF0F8\"},\"line\":{\"color\":\"white\"}},\"header\":{\"fill\":{\"color\":\"#C8D4E3\"},\"line\":{\"color\":\"white\"}},\"type\":\"table\"}]},\"layout\":{\"annotationdefaults\":{\"arrowcolor\":\"#2a3f5f\",\"arrowhead\":0,\"arrowwidth\":1},\"autotypenumbers\":\"strict\",\"coloraxis\":{\"colorbar\":{\"outlinewidth\":0,\"ticks\":\"\"}},\"colorscale\":{\"diverging\":[[0,\"#8e0152\"],[0.1,\"#c51b7d\"],[0.2,\"#de77ae\"],[0.3,\"#f1b6da\"],[0.4,\"#fde0ef\"],[0.5,\"#f7f7f7\"],[0.6,\"#e6f5d0\"],[0.7,\"#b8e186\"],[0.8,\"#7fbc41\"],[0.9,\"#4d9221\"],[1,\"#276419\"]],\"sequential\":[[0.0,\"#0d0887\"],[0.1111111111111111,\"#46039f\"],[0.2222222222222222,\"#7201a8\"],[0.3333333333333333,\"#9c179e\"],[0.4444444444444444,\"#bd3786\"],[0.5555555555555556,\"#d8576b\"],[0.6666666666666666,\"#ed7953\"],[0.7777777777777778,\"#fb9f3a\"],[0.8888888888888888,\"#fdca26\"],[1.0,\"#f0f921\"]],\"sequentialminus\":[[0.0,\"#0d0887\"],[0.1111111111111111,\"#46039f\"],[0.2222222222222222,\"#7201a8\"],[0.3333333333333333,\"#9c179e\"],[0.4444444444444444,\"#bd3786\"],[0.5555555555555556,\"#d8576b\"],[0.6666666666666666,\"#ed7953\"],[0.7777777777777778,\"#fb9f3a\"],[0.8888888888888888,\"#fdca26\"],[1.0,\"#f0f921\"]]},\"colorway\":[\"#636efa\",\"#EF553B\",\"#00cc96\",\"#ab63fa\",\"#FFA15A\",\"#19d3f3\",\"#FF6692\",\"#B6E880\",\"#FF97FF\",\"#FECB52\"],\"font\":{\"color\":\"#2a3f5f\"},\"geo\":{\"bgcolor\":\"white\",\"lakecolor\":\"white\",\"landcolor\":\"#E5ECF6\",\"showlakes\":true,\"showland\":true,\"subunitcolor\":\"white\"},\"hoverlabel\":{\"align\":\"left\"},\"hovermode\":\"closest\",\"mapbox\":{\"style\":\"light\"},\"paper_bgcolor\":\"white\",\"plot_bgcolor\":\"#E5ECF6\",\"polar\":{\"angularaxis\":{\"gridcolor\":\"white\",\"linecolor\":\"white\",\"ticks\":\"\"},\"bgcolor\":\"#E5ECF6\",\"radialaxis\":{\"gridcolor\":\"white\",\"linecolor\":\"white\",\"ticks\":\"\"}},\"scene\":{\"xaxis\":{\"backgroundcolor\":\"#E5ECF6\",\"gridcolor\":\"white\",\"gridwidth\":2,\"linecolor\":\"white\",\"showbackground\":true,\"ticks\":\"\",\"zerolinecolor\":\"white\"},\"yaxis\":{\"backgroundcolor\":\"#E5ECF6\",\"gridcolor\":\"white\",\"gridwidth\":2,\"linecolor\":\"white\",\"showbackground\":true,\"ticks\":\"\",\"zerolinecolor\":\"white\"},\"zaxis\":{\"backgroundcolor\":\"#E5ECF6\",\"gridcolor\":\"white\",\"gridwidth\":2,\"linecolor\":\"white\",\"showbackground\":true,\"ticks\":\"\",\"zerolinecolor\":\"white\"}},\"shapedefaults\":{\"line\":{\"color\":\"#2a3f5f\"}},\"ternary\":{\"aaxis\":{\"gridcolor\":\"white\",\"linecolor\":\"white\",\"ticks\":\"\"},\"baxis\":{\"gridcolor\":\"white\",\"linecolor\":\"white\",\"ticks\":\"\"},\"bgcolor\":\"#E5ECF6\",\"caxis\":{\"gridcolor\":\"white\",\"linecolor\":\"white\",\"ticks\":\"\"}},\"title\":{\"x\":0.05},\"xaxis\":{\"automargin\":true,\"gridcolor\":\"white\",\"linecolor\":\"white\",\"ticks\":\"\",\"title\":{\"standoff\":15},\"zerolinecolor\":\"white\",\"zerolinewidth\":2},\"yaxis\":{\"automargin\":true,\"gridcolor\":\"white\",\"linecolor\":\"white\",\"ticks\":\"\",\"title\":{\"standoff\":15},\"zerolinecolor\":\"white\",\"zerolinewidth\":2}}},\"title\":{\"font\":{\"color\":\"#4D5663\"}},\"xaxis\":{\"gridcolor\":\"#E1E5ED\",\"showgrid\":true,\"tickfont\":{\"color\":\"#4D5663\"},\"title\":{\"font\":{\"color\":\"#4D5663\"},\"text\":\"\"},\"zerolinecolor\":\"#E1E5ED\"},\"yaxis\":{\"gridcolor\":\"#E1E5ED\",\"showgrid\":true,\"tickfont\":{\"color\":\"#4D5663\"},\"title\":{\"font\":{\"color\":\"#4D5663\"},\"text\":\"\"},\"zerolinecolor\":\"#E1E5ED\"}},                        {\"showLink\": true, \"linkText\": \"Export to plot.ly\", \"plotlyServerURL\": \"https://plot.ly\", \"responsive\": true}                    ).then(function(){\n",
       "                            \n",
       "var gd = document.getElementById('5e50ae6b-93be-4fe4-933f-6239c04e2280');\n",
       "var x = new MutationObserver(function (mutations, observer) {{\n",
       "        var display = window.getComputedStyle(gd).display;\n",
       "        if (!display || display === 'none') {{\n",
       "            console.log([gd, 'removed!']);\n",
       "            Plotly.purge(gd);\n",
       "            observer.disconnect();\n",
       "        }}\n",
       "}});\n",
       "\n",
       "// Listen for the removal of the full notebook cells\n",
       "var notebookContainer = gd.closest('#notebook-container');\n",
       "if (notebookContainer) {{\n",
       "    x.observe(notebookContainer, {childList: true});\n",
       "}}\n",
       "\n",
       "// Listen for the clearing of the current output cell\n",
       "var outputEl = gd.closest('.output');\n",
       "if (outputEl) {{\n",
       "    x.observe(outputEl, {childList: true});\n",
       "}}\n",
       "\n",
       "                        })                };                });            </script>        </div>"
      ]
     },
     "metadata": {},
     "output_type": "display_data"
    }
   ],
   "source": [
    "df3 = pd.DataFrame({'x':[1,2,3,4,5],'y':[10,20,30,20,10],'z':[5,4,3,2,1]})\n",
    "df3.iplot(kind='surface',colorscale='rdylbu')"
   ]
  },
  {
   "cell_type": "markdown",
   "metadata": {},
   "source": [
    "## Spread"
   ]
  },
  {
   "cell_type": "code",
   "execution_count": 38,
   "metadata": {},
   "outputs": [
    {
     "name": "stderr",
     "output_type": "stream",
     "text": [
      "C:\\Users\\Dev2005\\anaconda3\\lib\\site-packages\\cufflinks\\plotlytools.py:849: FutureWarning:\n",
      "\n",
      "The pandas.np module is deprecated and will be removed from pandas in a future version. Import numpy directly instead.\n",
      "\n",
      "C:\\Users\\Dev2005\\anaconda3\\lib\\site-packages\\cufflinks\\plotlytools.py:850: FutureWarning:\n",
      "\n",
      "The pandas.np module is deprecated and will be removed from pandas in a future version. Import numpy directly instead.\n",
      "\n"
     ]
    },
    {
     "data": {
      "application/vnd.plotly.v1+json": {
       "config": {
        "linkText": "Export to plot.ly",
        "plotlyServerURL": "https://plot.ly",
        "showLink": true
       },
       "data": [
        {
         "line": {
          "color": "rgba(255, 153, 51, 1.0)",
          "dash": "solid",
          "shape": "linear",
          "width": 1.3
         },
         "mode": "lines",
         "name": "A",
         "text": "",
         "type": "scatter",
         "x": [
          0,
          1,
          2,
          3,
          4,
          5,
          6,
          7,
          8,
          9,
          10,
          11,
          12,
          13,
          14,
          15,
          16,
          17,
          18,
          19,
          20,
          21,
          22,
          23,
          24,
          25,
          26,
          27,
          28,
          29,
          30,
          31,
          32,
          33,
          34,
          35,
          36,
          37,
          38,
          39,
          40,
          41,
          42,
          43,
          44,
          45,
          46,
          47,
          48,
          49,
          50,
          51,
          52,
          53,
          54,
          55,
          56,
          57,
          58,
          59,
          60,
          61,
          62,
          63,
          64,
          65,
          66,
          67,
          68,
          69,
          70,
          71,
          72,
          73,
          74,
          75,
          76,
          77,
          78,
          79,
          80,
          81,
          82,
          83,
          84,
          85,
          86,
          87,
          88,
          89,
          90,
          91,
          92,
          93,
          94,
          95,
          96,
          97,
          98,
          99
         ],
         "y": [
          0.44869329824135673,
          0.04442947891624006,
          2.1145540519877124,
          0.48459375200395927,
          0.36985788919286805,
          1.481971281069352,
          2.0343982337154416,
          -0.4824821822177707,
          0.8309463581150035,
          -0.4349385948709931,
          -0.6756120182110634,
          -1.5925814019449025,
          0.23413023932942328,
          1.0281422105942735,
          -1.0623059466249865,
          2.2195071053364663,
          0.8756994750091641,
          0.8089835262821432,
          -0.743409264689658,
          0.04294253724257267,
          1.0684455291199384,
          0.27639677781983707,
          -1.0954222897259756,
          -1.2812049648901038,
          -0.637281296389303,
          2.111221879684574,
          -0.5513865740599511,
          1.0682633521601927,
          0.4652057414665277,
          -0.7206548172209604,
          1.2453404662443033,
          1.1397830121661918,
          0.49950650596397383,
          -0.9263185329342912,
          0.4111857860492889,
          0.7120252399106934,
          -0.7711455320738849,
          0.9950201421281071,
          -0.8274584839599624,
          0.3122126481853524,
          0.4515622771288505,
          0.6073609370855199,
          -2.170149917275103,
          1.3093912040986788,
          0.2590512674708452,
          -1.2337530482989523,
          -0.308609285621261,
          0.34858056871628357,
          -0.5259945565128492,
          0.7418184128255518,
          -0.08368524035607329,
          -0.48681829176600705,
          -0.6949219701346371,
          -1.5182275005248043,
          -0.6942761142349966,
          -0.29222643627617845,
          -0.6980315938540814,
          -1.7810575066261185,
          -0.38392005874164825,
          0.7775804455478614,
          -0.04417520548831625,
          -1.1024379175998715,
          -0.6161541682760509,
          0.2575180438792113,
          -0.5419691624897529,
          0.6017703190288322,
          -1.6905582702704653,
          0.6380563321234376,
          1.8411694643156877,
          0.9642052764057285,
          1.002877971747453,
          -1.7837200423433832,
          1.0355284326901804,
          -0.8243451510155145,
          0.3421716769811112,
          1.7152754923086335,
          -0.33329183790006034,
          -0.17785876328291492,
          0.26727742385574493,
          -1.4606113851565532,
          -1.0041165914639603,
          1.0996641205324444,
          0.048076295886310676,
          0.3881428733745407,
          -0.7623022776406418,
          1.276648665357941,
          0.17375732056573817,
          1.6164033921063847,
          0.3132317208480055,
          -0.00029622527125818443,
          -0.16420288781157838,
          -2.390517968447201,
          -0.018873881777453607,
          -1.9745352341669447,
          0.6437240829886111,
          0.609802961274568,
          -0.6262284629895819,
          1.4052370704543717,
          -0.06498383511536726,
          0.673796877062401
         ]
        },
        {
         "line": {
          "color": "rgba(55, 128, 191, 1.0)",
          "dash": "solid",
          "shape": "linear",
          "width": 1.3
         },
         "mode": "lines",
         "name": "B",
         "text": "",
         "type": "scatter",
         "x": [
          0,
          1,
          2,
          3,
          4,
          5,
          6,
          7,
          8,
          9,
          10,
          11,
          12,
          13,
          14,
          15,
          16,
          17,
          18,
          19,
          20,
          21,
          22,
          23,
          24,
          25,
          26,
          27,
          28,
          29,
          30,
          31,
          32,
          33,
          34,
          35,
          36,
          37,
          38,
          39,
          40,
          41,
          42,
          43,
          44,
          45,
          46,
          47,
          48,
          49,
          50,
          51,
          52,
          53,
          54,
          55,
          56,
          57,
          58,
          59,
          60,
          61,
          62,
          63,
          64,
          65,
          66,
          67,
          68,
          69,
          70,
          71,
          72,
          73,
          74,
          75,
          76,
          77,
          78,
          79,
          80,
          81,
          82,
          83,
          84,
          85,
          86,
          87,
          88,
          89,
          90,
          91,
          92,
          93,
          94,
          95,
          96,
          97,
          98,
          99
         ],
         "y": [
          -1.1849432239690456,
          -0.5211376653895813,
          0.41965188826774313,
          -0.9070930374743329,
          -1.5831942364868001,
          -0.4858365830813737,
          0.7278009166335301,
          2.0221616404760145,
          0.507794572940946,
          2.0711601716091512,
          1.0104748395053536,
          -0.5848426486746308,
          0.5470577063946599,
          0.5165371941343447,
          -0.8016442671933688,
          0.288897603145818,
          1.005260388668178,
          1.6598616302267328,
          -0.5925215915659423,
          1.671554584904481,
          -0.20489334121097746,
          0.9960112769218384,
          -1.1054061041824972,
          -0.5248963018843851,
          -2.02827538041169,
          -0.7481179255865056,
          0.2391258954400187,
          -0.036886343978482165,
          0.14693839808593498,
          -1.3435550788737127,
          0.495509914100354,
          -0.3577410117056153,
          1.4057787447153953,
          -1.4396298323686851,
          2.0265956566614616,
          0.14237098853310884,
          -0.6720855188428924,
          -0.29335652809925195,
          -0.43569699647796284,
          -0.22581895031823285,
          -0.47442969869914503,
          -0.17069809986289486,
          1.3784558343562423,
          -2.207449291449941,
          0.8572827458826012,
          1.662204807114416,
          0.571471145490293,
          0.44588678869899956,
          -0.3524155474257769,
          1.2378307781006213,
          -1.4492689531910803,
          0.727622601488387,
          -1.4132155840281677,
          -0.9267015536871722,
          -0.44493820610091056,
          -0.8520553246569631,
          0.23717606545090117,
          1.491657687677004,
          0.7444833830075451,
          -0.27117666533976253,
          0.39270769256840615,
          -0.2086607631876548,
          0.9385178680801646,
          -1.0189388989003372,
          1.9449358716585041,
          -0.6255855098585659,
          1.0855482233583384,
          0.39546694491298606,
          -0.1796799824978816,
          0.9446600698055564,
          -0.4650681551742743,
          1.9444631807871682,
          -0.2513789023420614,
          -0.686686256853849,
          0.6966766328643259,
          -0.1465540592511607,
          1.6020687291155558,
          -0.051959615969177114,
          2.543342310408571,
          -0.570036449181245,
          0.9720872564921681,
          0.7685133980318168,
          -0.4631756619022978,
          0.6108351641027522,
          -0.6166118778084613,
          1.8907829068486697,
          -1.041542502652796,
          -1.5682055482136659,
          -1.050014599780345,
          -0.9700650851375957,
          -0.4779809922425408,
          -0.9087200791848067,
          -0.19970310413878423,
          -0.3117045540132173,
          -0.34515180449440186,
          0.13139098324208123,
          -0.7404657562632138,
          -2.587836670667099,
          0.12224694930872568,
          1.0282647351123904
         ]
        },
        {
         "connectgaps": false,
         "fill": "tozeroy",
         "line": {
          "color": "green",
          "dash": "solid",
          "shape": "linear",
          "width": 0.5
         },
         "mode": "lines",
         "name": "Spread",
         "showlegend": false,
         "type": "scatter",
         "x": [
          0,
          1,
          2,
          3,
          4,
          5,
          6,
          7,
          8,
          9,
          10,
          11,
          12,
          13,
          14,
          15,
          16,
          17,
          18,
          19,
          20,
          21,
          22,
          23,
          24,
          25,
          26,
          27,
          28,
          29,
          30,
          31,
          32,
          33,
          34,
          35,
          36,
          37,
          38,
          39,
          40,
          41,
          42,
          43,
          44,
          45,
          46,
          47,
          48,
          49,
          50,
          51,
          52,
          53,
          54,
          55,
          56,
          57,
          58,
          59,
          60,
          61,
          62,
          63,
          64,
          65,
          66,
          67,
          68,
          69,
          70,
          71,
          72,
          73,
          74,
          75,
          76,
          77,
          78,
          79,
          80,
          81,
          82,
          83,
          84,
          85,
          86,
          87,
          88,
          89,
          90,
          91,
          92,
          93,
          94,
          95,
          96,
          97,
          98,
          99
         ],
         "xaxis": "x2",
         "y": [
          1.6336365222104023,
          0.5655671443058213,
          1.6949021637199693,
          1.391686789478292,
          1.9530521256796682,
          1.9678078641507257,
          1.3065973170819114,
          "",
          0.3231517851740575,
          "",
          "",
          "",
          "",
          0.5116050164599287,
          "",
          1.9306095021906482,
          "",
          "",
          "",
          "",
          1.2733388703309159,
          "",
          0.009983814456521634,
          "",
          1.390994084022387,
          2.8593398052710794,
          "",
          1.1051496961386749,
          0.3182673433805927,
          0.6229002616527524,
          0.7498305521439492,
          1.497524023871807,
          "",
          0.5133112994343939,
          "",
          0.5696542513775846,
          "",
          1.288376670227359,
          "",
          0.5380315985035853,
          0.9259919758279955,
          0.7780590369484147,
          "",
          3.51684049554862,
          "",
          "",
          "",
          "",
          "",
          "",
          1.365583712835007,
          "",
          0.7182936138935306,
          "",
          "",
          0.5598288883807847,
          "",
          "",
          "",
          1.048757110887624,
          "",
          "",
          "",
          1.2764569427795485,
          "",
          1.227355828887398,
          "",
          0.24258938721045153,
          2.0208494468135694,
          0.019545206600172116,
          1.4679461269217273,
          "",
          1.2869073350322418,
          "",
          "",
          1.8618295515597942,
          "",
          "",
          "",
          "",
          "",
          0.3311507225006276,
          0.5112519577886084,
          "",
          "",
          "",
          1.2152998232185341,
          3.1846089403200506,
          1.3632463206283505,
          0.9697688598663375,
          0.31377810443096243,
          "",
          0.18082922236133062,
          "",
          0.9888758874830129,
          0.4784119780324868,
          0.11423729327363186,
          3.9930737411214707,
          "",
          ""
         ],
         "yaxis": "y2"
        },
        {
         "connectgaps": false,
         "fill": "tozeroy",
         "line": {
          "color": "red",
          "dash": "solid",
          "shape": "linear",
          "width": 0.5
         },
         "mode": "lines",
         "name": "Spread",
         "showlegend": false,
         "type": "scatter",
         "x": [
          0,
          1,
          2,
          3,
          4,
          5,
          6,
          7,
          8,
          9,
          10,
          11,
          12,
          13,
          14,
          15,
          16,
          17,
          18,
          19,
          20,
          21,
          22,
          23,
          24,
          25,
          26,
          27,
          28,
          29,
          30,
          31,
          32,
          33,
          34,
          35,
          36,
          37,
          38,
          39,
          40,
          41,
          42,
          43,
          44,
          45,
          46,
          47,
          48,
          49,
          50,
          51,
          52,
          53,
          54,
          55,
          56,
          57,
          58,
          59,
          60,
          61,
          62,
          63,
          64,
          65,
          66,
          67,
          68,
          69,
          70,
          71,
          72,
          73,
          74,
          75,
          76,
          77,
          78,
          79,
          80,
          81,
          82,
          83,
          84,
          85,
          86,
          87,
          88,
          89,
          90,
          91,
          92,
          93,
          94,
          95,
          96,
          97,
          98,
          99
         ],
         "xaxis": "x2",
         "y": [
          "",
          "",
          "",
          "",
          "",
          "",
          "",
          -2.5046438226937853,
          "",
          -2.5060987664801444,
          -1.686086857716417,
          -1.0077387532702717,
          -0.3129274670652366,
          "",
          -0.26066167943161767,
          "",
          -0.1295609136590138,
          -0.8508781039445896,
          -0.15088767312371565,
          -1.6286120476619084,
          "",
          -0.7196144991020014,
          "",
          -0.7563086630057188,
          "",
          "",
          -0.7905124694999698,
          "",
          "",
          "",
          "",
          "",
          -0.9062722387514215,
          "",
          -1.6154098706121727,
          "",
          -0.09906001323099256,
          "",
          -0.3917614874819995,
          "",
          "",
          "",
          -3.548605751631345,
          "",
          -0.598231478411756,
          -2.8959578554133683,
          -0.880080431111554,
          -0.09730621998271599,
          -0.1735790090870723,
          -0.4960123652750694,
          "",
          -1.214440893254394,
          "",
          -0.591525946837632,
          -0.24933790813408602,
          "",
          -0.9352076593049826,
          -3.2727151943031227,
          -1.1284034417491933,
          "",
          -0.4368828980567224,
          -0.8937771544122167,
          -1.5546720363562154,
          "",
          -2.486905034148257,
          "",
          -2.776106493628804,
          "",
          "",
          "",
          "",
          -3.7281832231305514,
          "",
          -0.13765889416166555,
          -0.35450495588321473,
          "",
          -1.935360567015616,
          -0.1258991473137378,
          -2.2760648865528257,
          -0.8905749359753082,
          -1.9762038479561284,
          "",
          "",
          -0.2226922907282115,
          -0.14569039983218057,
          -0.6141342414907287,
          "",
          "",
          "",
          "",
          "",
          -1.4817978892623944,
          "",
          -1.6628306801537274,
          "",
          "",
          "",
          "",
          -0.18723078442409294,
          -0.35446785804998937
         ],
         "yaxis": "y2"
        }
       ],
       "layout": {
        "hovermode": "x",
        "legend": {
         "bgcolor": "#F5F6F9",
         "font": {
          "color": "#4D5663"
         }
        },
        "paper_bgcolor": "#F5F6F9",
        "plot_bgcolor": "#F5F6F9",
        "template": {
         "data": {
          "bar": [
           {
            "error_x": {
             "color": "#2a3f5f"
            },
            "error_y": {
             "color": "#2a3f5f"
            },
            "marker": {
             "line": {
              "color": "#E5ECF6",
              "width": 0.5
             },
             "pattern": {
              "fillmode": "overlay",
              "size": 10,
              "solidity": 0.2
             }
            },
            "type": "bar"
           }
          ],
          "barpolar": [
           {
            "marker": {
             "line": {
              "color": "#E5ECF6",
              "width": 0.5
             },
             "pattern": {
              "fillmode": "overlay",
              "size": 10,
              "solidity": 0.2
             }
            },
            "type": "barpolar"
           }
          ],
          "carpet": [
           {
            "aaxis": {
             "endlinecolor": "#2a3f5f",
             "gridcolor": "white",
             "linecolor": "white",
             "minorgridcolor": "white",
             "startlinecolor": "#2a3f5f"
            },
            "baxis": {
             "endlinecolor": "#2a3f5f",
             "gridcolor": "white",
             "linecolor": "white",
             "minorgridcolor": "white",
             "startlinecolor": "#2a3f5f"
            },
            "type": "carpet"
           }
          ],
          "choropleth": [
           {
            "colorbar": {
             "outlinewidth": 0,
             "ticks": ""
            },
            "type": "choropleth"
           }
          ],
          "contour": [
           {
            "colorbar": {
             "outlinewidth": 0,
             "ticks": ""
            },
            "colorscale": [
             [
              0,
              "#0d0887"
             ],
             [
              0.1111111111111111,
              "#46039f"
             ],
             [
              0.2222222222222222,
              "#7201a8"
             ],
             [
              0.3333333333333333,
              "#9c179e"
             ],
             [
              0.4444444444444444,
              "#bd3786"
             ],
             [
              0.5555555555555556,
              "#d8576b"
             ],
             [
              0.6666666666666666,
              "#ed7953"
             ],
             [
              0.7777777777777778,
              "#fb9f3a"
             ],
             [
              0.8888888888888888,
              "#fdca26"
             ],
             [
              1,
              "#f0f921"
             ]
            ],
            "type": "contour"
           }
          ],
          "contourcarpet": [
           {
            "colorbar": {
             "outlinewidth": 0,
             "ticks": ""
            },
            "type": "contourcarpet"
           }
          ],
          "heatmap": [
           {
            "colorbar": {
             "outlinewidth": 0,
             "ticks": ""
            },
            "colorscale": [
             [
              0,
              "#0d0887"
             ],
             [
              0.1111111111111111,
              "#46039f"
             ],
             [
              0.2222222222222222,
              "#7201a8"
             ],
             [
              0.3333333333333333,
              "#9c179e"
             ],
             [
              0.4444444444444444,
              "#bd3786"
             ],
             [
              0.5555555555555556,
              "#d8576b"
             ],
             [
              0.6666666666666666,
              "#ed7953"
             ],
             [
              0.7777777777777778,
              "#fb9f3a"
             ],
             [
              0.8888888888888888,
              "#fdca26"
             ],
             [
              1,
              "#f0f921"
             ]
            ],
            "type": "heatmap"
           }
          ],
          "heatmapgl": [
           {
            "colorbar": {
             "outlinewidth": 0,
             "ticks": ""
            },
            "colorscale": [
             [
              0,
              "#0d0887"
             ],
             [
              0.1111111111111111,
              "#46039f"
             ],
             [
              0.2222222222222222,
              "#7201a8"
             ],
             [
              0.3333333333333333,
              "#9c179e"
             ],
             [
              0.4444444444444444,
              "#bd3786"
             ],
             [
              0.5555555555555556,
              "#d8576b"
             ],
             [
              0.6666666666666666,
              "#ed7953"
             ],
             [
              0.7777777777777778,
              "#fb9f3a"
             ],
             [
              0.8888888888888888,
              "#fdca26"
             ],
             [
              1,
              "#f0f921"
             ]
            ],
            "type": "heatmapgl"
           }
          ],
          "histogram": [
           {
            "marker": {
             "pattern": {
              "fillmode": "overlay",
              "size": 10,
              "solidity": 0.2
             }
            },
            "type": "histogram"
           }
          ],
          "histogram2d": [
           {
            "colorbar": {
             "outlinewidth": 0,
             "ticks": ""
            },
            "colorscale": [
             [
              0,
              "#0d0887"
             ],
             [
              0.1111111111111111,
              "#46039f"
             ],
             [
              0.2222222222222222,
              "#7201a8"
             ],
             [
              0.3333333333333333,
              "#9c179e"
             ],
             [
              0.4444444444444444,
              "#bd3786"
             ],
             [
              0.5555555555555556,
              "#d8576b"
             ],
             [
              0.6666666666666666,
              "#ed7953"
             ],
             [
              0.7777777777777778,
              "#fb9f3a"
             ],
             [
              0.8888888888888888,
              "#fdca26"
             ],
             [
              1,
              "#f0f921"
             ]
            ],
            "type": "histogram2d"
           }
          ],
          "histogram2dcontour": [
           {
            "colorbar": {
             "outlinewidth": 0,
             "ticks": ""
            },
            "colorscale": [
             [
              0,
              "#0d0887"
             ],
             [
              0.1111111111111111,
              "#46039f"
             ],
             [
              0.2222222222222222,
              "#7201a8"
             ],
             [
              0.3333333333333333,
              "#9c179e"
             ],
             [
              0.4444444444444444,
              "#bd3786"
             ],
             [
              0.5555555555555556,
              "#d8576b"
             ],
             [
              0.6666666666666666,
              "#ed7953"
             ],
             [
              0.7777777777777778,
              "#fb9f3a"
             ],
             [
              0.8888888888888888,
              "#fdca26"
             ],
             [
              1,
              "#f0f921"
             ]
            ],
            "type": "histogram2dcontour"
           }
          ],
          "mesh3d": [
           {
            "colorbar": {
             "outlinewidth": 0,
             "ticks": ""
            },
            "type": "mesh3d"
           }
          ],
          "parcoords": [
           {
            "line": {
             "colorbar": {
              "outlinewidth": 0,
              "ticks": ""
             }
            },
            "type": "parcoords"
           }
          ],
          "pie": [
           {
            "automargin": true,
            "type": "pie"
           }
          ],
          "scatter": [
           {
            "fillpattern": {
             "fillmode": "overlay",
             "size": 10,
             "solidity": 0.2
            },
            "type": "scatter"
           }
          ],
          "scatter3d": [
           {
            "line": {
             "colorbar": {
              "outlinewidth": 0,
              "ticks": ""
             }
            },
            "marker": {
             "colorbar": {
              "outlinewidth": 0,
              "ticks": ""
             }
            },
            "type": "scatter3d"
           }
          ],
          "scattercarpet": [
           {
            "marker": {
             "colorbar": {
              "outlinewidth": 0,
              "ticks": ""
             }
            },
            "type": "scattercarpet"
           }
          ],
          "scattergeo": [
           {
            "marker": {
             "colorbar": {
              "outlinewidth": 0,
              "ticks": ""
             }
            },
            "type": "scattergeo"
           }
          ],
          "scattergl": [
           {
            "marker": {
             "colorbar": {
              "outlinewidth": 0,
              "ticks": ""
             }
            },
            "type": "scattergl"
           }
          ],
          "scattermapbox": [
           {
            "marker": {
             "colorbar": {
              "outlinewidth": 0,
              "ticks": ""
             }
            },
            "type": "scattermapbox"
           }
          ],
          "scatterpolar": [
           {
            "marker": {
             "colorbar": {
              "outlinewidth": 0,
              "ticks": ""
             }
            },
            "type": "scatterpolar"
           }
          ],
          "scatterpolargl": [
           {
            "marker": {
             "colorbar": {
              "outlinewidth": 0,
              "ticks": ""
             }
            },
            "type": "scatterpolargl"
           }
          ],
          "scatterternary": [
           {
            "marker": {
             "colorbar": {
              "outlinewidth": 0,
              "ticks": ""
             }
            },
            "type": "scatterternary"
           }
          ],
          "surface": [
           {
            "colorbar": {
             "outlinewidth": 0,
             "ticks": ""
            },
            "colorscale": [
             [
              0,
              "#0d0887"
             ],
             [
              0.1111111111111111,
              "#46039f"
             ],
             [
              0.2222222222222222,
              "#7201a8"
             ],
             [
              0.3333333333333333,
              "#9c179e"
             ],
             [
              0.4444444444444444,
              "#bd3786"
             ],
             [
              0.5555555555555556,
              "#d8576b"
             ],
             [
              0.6666666666666666,
              "#ed7953"
             ],
             [
              0.7777777777777778,
              "#fb9f3a"
             ],
             [
              0.8888888888888888,
              "#fdca26"
             ],
             [
              1,
              "#f0f921"
             ]
            ],
            "type": "surface"
           }
          ],
          "table": [
           {
            "cells": {
             "fill": {
              "color": "#EBF0F8"
             },
             "line": {
              "color": "white"
             }
            },
            "header": {
             "fill": {
              "color": "#C8D4E3"
             },
             "line": {
              "color": "white"
             }
            },
            "type": "table"
           }
          ]
         },
         "layout": {
          "annotationdefaults": {
           "arrowcolor": "#2a3f5f",
           "arrowhead": 0,
           "arrowwidth": 1
          },
          "autotypenumbers": "strict",
          "coloraxis": {
           "colorbar": {
            "outlinewidth": 0,
            "ticks": ""
           }
          },
          "colorscale": {
           "diverging": [
            [
             0,
             "#8e0152"
            ],
            [
             0.1,
             "#c51b7d"
            ],
            [
             0.2,
             "#de77ae"
            ],
            [
             0.3,
             "#f1b6da"
            ],
            [
             0.4,
             "#fde0ef"
            ],
            [
             0.5,
             "#f7f7f7"
            ],
            [
             0.6,
             "#e6f5d0"
            ],
            [
             0.7,
             "#b8e186"
            ],
            [
             0.8,
             "#7fbc41"
            ],
            [
             0.9,
             "#4d9221"
            ],
            [
             1,
             "#276419"
            ]
           ],
           "sequential": [
            [
             0,
             "#0d0887"
            ],
            [
             0.1111111111111111,
             "#46039f"
            ],
            [
             0.2222222222222222,
             "#7201a8"
            ],
            [
             0.3333333333333333,
             "#9c179e"
            ],
            [
             0.4444444444444444,
             "#bd3786"
            ],
            [
             0.5555555555555556,
             "#d8576b"
            ],
            [
             0.6666666666666666,
             "#ed7953"
            ],
            [
             0.7777777777777778,
             "#fb9f3a"
            ],
            [
             0.8888888888888888,
             "#fdca26"
            ],
            [
             1,
             "#f0f921"
            ]
           ],
           "sequentialminus": [
            [
             0,
             "#0d0887"
            ],
            [
             0.1111111111111111,
             "#46039f"
            ],
            [
             0.2222222222222222,
             "#7201a8"
            ],
            [
             0.3333333333333333,
             "#9c179e"
            ],
            [
             0.4444444444444444,
             "#bd3786"
            ],
            [
             0.5555555555555556,
             "#d8576b"
            ],
            [
             0.6666666666666666,
             "#ed7953"
            ],
            [
             0.7777777777777778,
             "#fb9f3a"
            ],
            [
             0.8888888888888888,
             "#fdca26"
            ],
            [
             1,
             "#f0f921"
            ]
           ]
          },
          "colorway": [
           "#636efa",
           "#EF553B",
           "#00cc96",
           "#ab63fa",
           "#FFA15A",
           "#19d3f3",
           "#FF6692",
           "#B6E880",
           "#FF97FF",
           "#FECB52"
          ],
          "font": {
           "color": "#2a3f5f"
          },
          "geo": {
           "bgcolor": "white",
           "lakecolor": "white",
           "landcolor": "#E5ECF6",
           "showlakes": true,
           "showland": true,
           "subunitcolor": "white"
          },
          "hoverlabel": {
           "align": "left"
          },
          "hovermode": "closest",
          "mapbox": {
           "style": "light"
          },
          "paper_bgcolor": "white",
          "plot_bgcolor": "#E5ECF6",
          "polar": {
           "angularaxis": {
            "gridcolor": "white",
            "linecolor": "white",
            "ticks": ""
           },
           "bgcolor": "#E5ECF6",
           "radialaxis": {
            "gridcolor": "white",
            "linecolor": "white",
            "ticks": ""
           }
          },
          "scene": {
           "xaxis": {
            "backgroundcolor": "#E5ECF6",
            "gridcolor": "white",
            "gridwidth": 2,
            "linecolor": "white",
            "showbackground": true,
            "ticks": "",
            "zerolinecolor": "white"
           },
           "yaxis": {
            "backgroundcolor": "#E5ECF6",
            "gridcolor": "white",
            "gridwidth": 2,
            "linecolor": "white",
            "showbackground": true,
            "ticks": "",
            "zerolinecolor": "white"
           },
           "zaxis": {
            "backgroundcolor": "#E5ECF6",
            "gridcolor": "white",
            "gridwidth": 2,
            "linecolor": "white",
            "showbackground": true,
            "ticks": "",
            "zerolinecolor": "white"
           }
          },
          "shapedefaults": {
           "line": {
            "color": "#2a3f5f"
           }
          },
          "ternary": {
           "aaxis": {
            "gridcolor": "white",
            "linecolor": "white",
            "ticks": ""
           },
           "baxis": {
            "gridcolor": "white",
            "linecolor": "white",
            "ticks": ""
           },
           "bgcolor": "#E5ECF6",
           "caxis": {
            "gridcolor": "white",
            "linecolor": "white",
            "ticks": ""
           }
          },
          "title": {
           "x": 0.05
          },
          "xaxis": {
           "automargin": true,
           "gridcolor": "white",
           "linecolor": "white",
           "ticks": "",
           "title": {
            "standoff": 15
           },
           "zerolinecolor": "white",
           "zerolinewidth": 2
          },
          "yaxis": {
           "automargin": true,
           "gridcolor": "white",
           "linecolor": "white",
           "ticks": "",
           "title": {
            "standoff": 15
           },
           "zerolinecolor": "white",
           "zerolinewidth": 2
          }
         }
        },
        "title": {
         "font": {
          "color": "#4D5663"
         }
        },
        "xaxis": {
         "gridcolor": "#E1E5ED",
         "showgrid": true,
         "tickfont": {
          "color": "#4D5663"
         },
         "title": {
          "font": {
           "color": "#4D5663"
          },
          "text": ""
         },
         "zerolinecolor": "#E1E5ED"
        },
        "xaxis2": {
         "anchor": "y2",
         "gridcolor": "#E1E5ED",
         "showgrid": true,
         "showticklabels": false,
         "tickfont": {
          "color": "#4D5663"
         },
         "title": {
          "font": {
           "color": "#4D5663"
          },
          "text": ""
         },
         "zerolinecolor": "#E1E5ED"
        },
        "yaxis": {
         "domain": [
          0.3,
          1
         ],
         "gridcolor": "#E1E5ED",
         "showgrid": true,
         "tickfont": {
          "color": "#4D5663"
         },
         "title": {
          "font": {
           "color": "#4D5663"
          },
          "text": ""
         },
         "zerolinecolor": "#E1E5ED"
        },
        "yaxis2": {
         "domain": [
          0,
          0.25
         ],
         "gridcolor": "#E1E5ED",
         "showgrid": true,
         "tickfont": {
          "color": "#4D5663"
         },
         "title": {
          "font": {
           "color": "#4D5663"
          },
          "text": "Spread"
         },
         "zerolinecolor": "#E1E5ED"
        }
       }
      },
      "text/html": [
       "<div>                            <div id=\"c7bd09d1-c4c6-420c-bc77-f221b2df7d13\" class=\"plotly-graph-div\" style=\"height:525px; width:100%;\"></div>            <script type=\"text/javascript\">                require([\"plotly\"], function(Plotly) {                    window.PLOTLYENV=window.PLOTLYENV || {};\n",
       "                    window.PLOTLYENV.BASE_URL='https://plot.ly';                                    if (document.getElementById(\"c7bd09d1-c4c6-420c-bc77-f221b2df7d13\")) {                    Plotly.newPlot(                        \"c7bd09d1-c4c6-420c-bc77-f221b2df7d13\",                        [{\"line\":{\"color\":\"rgba(255, 153, 51, 1.0)\",\"dash\":\"solid\",\"shape\":\"linear\",\"width\":1.3},\"mode\":\"lines\",\"name\":\"A\",\"text\":\"\",\"x\":[0,1,2,3,4,5,6,7,8,9,10,11,12,13,14,15,16,17,18,19,20,21,22,23,24,25,26,27,28,29,30,31,32,33,34,35,36,37,38,39,40,41,42,43,44,45,46,47,48,49,50,51,52,53,54,55,56,57,58,59,60,61,62,63,64,65,66,67,68,69,70,71,72,73,74,75,76,77,78,79,80,81,82,83,84,85,86,87,88,89,90,91,92,93,94,95,96,97,98,99],\"y\":[0.44869329824135673,0.04442947891624006,2.1145540519877124,0.48459375200395927,0.36985788919286805,1.481971281069352,2.0343982337154416,-0.4824821822177707,0.8309463581150035,-0.4349385948709931,-0.6756120182110634,-1.5925814019449025,0.23413023932942328,1.0281422105942735,-1.0623059466249865,2.2195071053364663,0.8756994750091641,0.8089835262821432,-0.743409264689658,0.04294253724257267,1.0684455291199384,0.27639677781983707,-1.0954222897259756,-1.2812049648901038,-0.637281296389303,2.111221879684574,-0.5513865740599511,1.0682633521601927,0.4652057414665277,-0.7206548172209604,1.2453404662443033,1.1397830121661918,0.49950650596397383,-0.9263185329342912,0.4111857860492889,0.7120252399106934,-0.7711455320738849,0.9950201421281071,-0.8274584839599624,0.3122126481853524,0.4515622771288505,0.6073609370855199,-2.170149917275103,1.3093912040986788,0.2590512674708452,-1.2337530482989523,-0.308609285621261,0.34858056871628357,-0.5259945565128492,0.7418184128255518,-0.08368524035607329,-0.48681829176600705,-0.6949219701346371,-1.5182275005248043,-0.6942761142349966,-0.29222643627617845,-0.6980315938540814,-1.7810575066261185,-0.38392005874164825,0.7775804455478614,-0.04417520548831625,-1.1024379175998715,-0.6161541682760509,0.2575180438792113,-0.5419691624897529,0.6017703190288322,-1.6905582702704653,0.6380563321234376,1.8411694643156877,0.9642052764057285,1.002877971747453,-1.7837200423433832,1.0355284326901804,-0.8243451510155145,0.3421716769811112,1.7152754923086335,-0.33329183790006034,-0.17785876328291492,0.26727742385574493,-1.4606113851565532,-1.0041165914639603,1.0996641205324444,0.048076295886310676,0.3881428733745407,-0.7623022776406418,1.276648665357941,0.17375732056573817,1.6164033921063847,0.3132317208480055,-0.00029622527125818443,-0.16420288781157838,-2.390517968447201,-0.018873881777453607,-1.9745352341669447,0.6437240829886111,0.609802961274568,-0.6262284629895819,1.4052370704543717,-0.06498383511536726,0.673796877062401],\"type\":\"scatter\"},{\"line\":{\"color\":\"rgba(55, 128, 191, 1.0)\",\"dash\":\"solid\",\"shape\":\"linear\",\"width\":1.3},\"mode\":\"lines\",\"name\":\"B\",\"text\":\"\",\"x\":[0,1,2,3,4,5,6,7,8,9,10,11,12,13,14,15,16,17,18,19,20,21,22,23,24,25,26,27,28,29,30,31,32,33,34,35,36,37,38,39,40,41,42,43,44,45,46,47,48,49,50,51,52,53,54,55,56,57,58,59,60,61,62,63,64,65,66,67,68,69,70,71,72,73,74,75,76,77,78,79,80,81,82,83,84,85,86,87,88,89,90,91,92,93,94,95,96,97,98,99],\"y\":[-1.1849432239690456,-0.5211376653895813,0.41965188826774313,-0.9070930374743329,-1.5831942364868001,-0.4858365830813737,0.7278009166335301,2.0221616404760145,0.507794572940946,2.0711601716091512,1.0104748395053536,-0.5848426486746308,0.5470577063946599,0.5165371941343447,-0.8016442671933688,0.288897603145818,1.005260388668178,1.6598616302267328,-0.5925215915659423,1.671554584904481,-0.20489334121097746,0.9960112769218384,-1.1054061041824972,-0.5248963018843851,-2.02827538041169,-0.7481179255865056,0.2391258954400187,-0.036886343978482165,0.14693839808593498,-1.3435550788737127,0.495509914100354,-0.3577410117056153,1.4057787447153953,-1.4396298323686851,2.0265956566614616,0.14237098853310884,-0.6720855188428924,-0.29335652809925195,-0.43569699647796284,-0.22581895031823285,-0.47442969869914503,-0.17069809986289486,1.3784558343562423,-2.207449291449941,0.8572827458826012,1.662204807114416,0.571471145490293,0.44588678869899956,-0.3524155474257769,1.2378307781006213,-1.4492689531910803,0.727622601488387,-1.4132155840281677,-0.9267015536871722,-0.44493820610091056,-0.8520553246569631,0.23717606545090117,1.491657687677004,0.7444833830075451,-0.27117666533976253,0.39270769256840615,-0.2086607631876548,0.9385178680801646,-1.0189388989003372,1.9449358716585041,-0.6255855098585659,1.0855482233583384,0.39546694491298606,-0.1796799824978816,0.9446600698055564,-0.4650681551742743,1.9444631807871682,-0.2513789023420614,-0.686686256853849,0.6966766328643259,-0.1465540592511607,1.6020687291155558,-0.051959615969177114,2.543342310408571,-0.570036449181245,0.9720872564921681,0.7685133980318168,-0.4631756619022978,0.6108351641027522,-0.6166118778084613,1.8907829068486697,-1.041542502652796,-1.5682055482136659,-1.050014599780345,-0.9700650851375957,-0.4779809922425408,-0.9087200791848067,-0.19970310413878423,-0.3117045540132173,-0.34515180449440186,0.13139098324208123,-0.7404657562632138,-2.587836670667099,0.12224694930872568,1.0282647351123904],\"type\":\"scatter\"},{\"connectgaps\":false,\"fill\":\"tozeroy\",\"line\":{\"color\":\"green\",\"dash\":\"solid\",\"shape\":\"linear\",\"width\":0.5},\"mode\":\"lines\",\"name\":\"Spread\",\"showlegend\":false,\"x\":[0,1,2,3,4,5,6,7,8,9,10,11,12,13,14,15,16,17,18,19,20,21,22,23,24,25,26,27,28,29,30,31,32,33,34,35,36,37,38,39,40,41,42,43,44,45,46,47,48,49,50,51,52,53,54,55,56,57,58,59,60,61,62,63,64,65,66,67,68,69,70,71,72,73,74,75,76,77,78,79,80,81,82,83,84,85,86,87,88,89,90,91,92,93,94,95,96,97,98,99],\"xaxis\":\"x2\",\"y\":[1.6336365222104023,0.5655671443058213,1.6949021637199693,1.391686789478292,1.9530521256796682,1.9678078641507257,1.3065973170819114,\"\",0.3231517851740575,\"\",\"\",\"\",\"\",0.5116050164599287,\"\",1.9306095021906482,\"\",\"\",\"\",\"\",1.2733388703309159,\"\",0.009983814456521634,\"\",1.390994084022387,2.8593398052710794,\"\",1.1051496961386749,0.3182673433805927,0.6229002616527524,0.7498305521439492,1.497524023871807,\"\",0.5133112994343939,\"\",0.5696542513775846,\"\",1.288376670227359,\"\",0.5380315985035853,0.9259919758279955,0.7780590369484147,\"\",3.51684049554862,\"\",\"\",\"\",\"\",\"\",\"\",1.365583712835007,\"\",0.7182936138935306,\"\",\"\",0.5598288883807847,\"\",\"\",\"\",1.048757110887624,\"\",\"\",\"\",1.2764569427795485,\"\",1.227355828887398,\"\",0.24258938721045153,2.0208494468135694,0.019545206600172116,1.4679461269217273,\"\",1.2869073350322418,\"\",\"\",1.8618295515597942,\"\",\"\",\"\",\"\",\"\",0.3311507225006276,0.5112519577886084,\"\",\"\",\"\",1.2152998232185341,3.1846089403200506,1.3632463206283505,0.9697688598663375,0.31377810443096243,\"\",0.18082922236133062,\"\",0.9888758874830129,0.4784119780324868,0.11423729327363186,3.9930737411214707,\"\",\"\"],\"yaxis\":\"y2\",\"type\":\"scatter\"},{\"connectgaps\":false,\"fill\":\"tozeroy\",\"line\":{\"color\":\"red\",\"dash\":\"solid\",\"shape\":\"linear\",\"width\":0.5},\"mode\":\"lines\",\"name\":\"Spread\",\"showlegend\":false,\"x\":[0,1,2,3,4,5,6,7,8,9,10,11,12,13,14,15,16,17,18,19,20,21,22,23,24,25,26,27,28,29,30,31,32,33,34,35,36,37,38,39,40,41,42,43,44,45,46,47,48,49,50,51,52,53,54,55,56,57,58,59,60,61,62,63,64,65,66,67,68,69,70,71,72,73,74,75,76,77,78,79,80,81,82,83,84,85,86,87,88,89,90,91,92,93,94,95,96,97,98,99],\"xaxis\":\"x2\",\"y\":[\"\",\"\",\"\",\"\",\"\",\"\",\"\",-2.5046438226937853,\"\",-2.5060987664801444,-1.686086857716417,-1.0077387532702717,-0.3129274670652366,\"\",-0.26066167943161767,\"\",-0.1295609136590138,-0.8508781039445896,-0.15088767312371565,-1.6286120476619084,\"\",-0.7196144991020014,\"\",-0.7563086630057188,\"\",\"\",-0.7905124694999698,\"\",\"\",\"\",\"\",\"\",-0.9062722387514215,\"\",-1.6154098706121727,\"\",-0.09906001323099256,\"\",-0.3917614874819995,\"\",\"\",\"\",-3.548605751631345,\"\",-0.598231478411756,-2.8959578554133683,-0.880080431111554,-0.09730621998271599,-0.1735790090870723,-0.4960123652750694,\"\",-1.214440893254394,\"\",-0.591525946837632,-0.24933790813408602,\"\",-0.9352076593049826,-3.2727151943031227,-1.1284034417491933,\"\",-0.4368828980567224,-0.8937771544122167,-1.5546720363562154,\"\",-2.486905034148257,\"\",-2.776106493628804,\"\",\"\",\"\",\"\",-3.7281832231305514,\"\",-0.13765889416166555,-0.35450495588321473,\"\",-1.935360567015616,-0.1258991473137378,-2.2760648865528257,-0.8905749359753082,-1.9762038479561284,\"\",\"\",-0.2226922907282115,-0.14569039983218057,-0.6141342414907287,\"\",\"\",\"\",\"\",\"\",-1.4817978892623944,\"\",-1.6628306801537274,\"\",\"\",\"\",\"\",-0.18723078442409294,-0.35446785804998937],\"yaxis\":\"y2\",\"type\":\"scatter\"}],                        {\"hovermode\":\"x\",\"legend\":{\"bgcolor\":\"#F5F6F9\",\"font\":{\"color\":\"#4D5663\"}},\"paper_bgcolor\":\"#F5F6F9\",\"plot_bgcolor\":\"#F5F6F9\",\"template\":{\"data\":{\"barpolar\":[{\"marker\":{\"line\":{\"color\":\"#E5ECF6\",\"width\":0.5},\"pattern\":{\"fillmode\":\"overlay\",\"size\":10,\"solidity\":0.2}},\"type\":\"barpolar\"}],\"bar\":[{\"error_x\":{\"color\":\"#2a3f5f\"},\"error_y\":{\"color\":\"#2a3f5f\"},\"marker\":{\"line\":{\"color\":\"#E5ECF6\",\"width\":0.5},\"pattern\":{\"fillmode\":\"overlay\",\"size\":10,\"solidity\":0.2}},\"type\":\"bar\"}],\"carpet\":[{\"aaxis\":{\"endlinecolor\":\"#2a3f5f\",\"gridcolor\":\"white\",\"linecolor\":\"white\",\"minorgridcolor\":\"white\",\"startlinecolor\":\"#2a3f5f\"},\"baxis\":{\"endlinecolor\":\"#2a3f5f\",\"gridcolor\":\"white\",\"linecolor\":\"white\",\"minorgridcolor\":\"white\",\"startlinecolor\":\"#2a3f5f\"},\"type\":\"carpet\"}],\"choropleth\":[{\"colorbar\":{\"outlinewidth\":0,\"ticks\":\"\"},\"type\":\"choropleth\"}],\"contourcarpet\":[{\"colorbar\":{\"outlinewidth\":0,\"ticks\":\"\"},\"type\":\"contourcarpet\"}],\"contour\":[{\"colorbar\":{\"outlinewidth\":0,\"ticks\":\"\"},\"colorscale\":[[0.0,\"#0d0887\"],[0.1111111111111111,\"#46039f\"],[0.2222222222222222,\"#7201a8\"],[0.3333333333333333,\"#9c179e\"],[0.4444444444444444,\"#bd3786\"],[0.5555555555555556,\"#d8576b\"],[0.6666666666666666,\"#ed7953\"],[0.7777777777777778,\"#fb9f3a\"],[0.8888888888888888,\"#fdca26\"],[1.0,\"#f0f921\"]],\"type\":\"contour\"}],\"heatmapgl\":[{\"colorbar\":{\"outlinewidth\":0,\"ticks\":\"\"},\"colorscale\":[[0.0,\"#0d0887\"],[0.1111111111111111,\"#46039f\"],[0.2222222222222222,\"#7201a8\"],[0.3333333333333333,\"#9c179e\"],[0.4444444444444444,\"#bd3786\"],[0.5555555555555556,\"#d8576b\"],[0.6666666666666666,\"#ed7953\"],[0.7777777777777778,\"#fb9f3a\"],[0.8888888888888888,\"#fdca26\"],[1.0,\"#f0f921\"]],\"type\":\"heatmapgl\"}],\"heatmap\":[{\"colorbar\":{\"outlinewidth\":0,\"ticks\":\"\"},\"colorscale\":[[0.0,\"#0d0887\"],[0.1111111111111111,\"#46039f\"],[0.2222222222222222,\"#7201a8\"],[0.3333333333333333,\"#9c179e\"],[0.4444444444444444,\"#bd3786\"],[0.5555555555555556,\"#d8576b\"],[0.6666666666666666,\"#ed7953\"],[0.7777777777777778,\"#fb9f3a\"],[0.8888888888888888,\"#fdca26\"],[1.0,\"#f0f921\"]],\"type\":\"heatmap\"}],\"histogram2dcontour\":[{\"colorbar\":{\"outlinewidth\":0,\"ticks\":\"\"},\"colorscale\":[[0.0,\"#0d0887\"],[0.1111111111111111,\"#46039f\"],[0.2222222222222222,\"#7201a8\"],[0.3333333333333333,\"#9c179e\"],[0.4444444444444444,\"#bd3786\"],[0.5555555555555556,\"#d8576b\"],[0.6666666666666666,\"#ed7953\"],[0.7777777777777778,\"#fb9f3a\"],[0.8888888888888888,\"#fdca26\"],[1.0,\"#f0f921\"]],\"type\":\"histogram2dcontour\"}],\"histogram2d\":[{\"colorbar\":{\"outlinewidth\":0,\"ticks\":\"\"},\"colorscale\":[[0.0,\"#0d0887\"],[0.1111111111111111,\"#46039f\"],[0.2222222222222222,\"#7201a8\"],[0.3333333333333333,\"#9c179e\"],[0.4444444444444444,\"#bd3786\"],[0.5555555555555556,\"#d8576b\"],[0.6666666666666666,\"#ed7953\"],[0.7777777777777778,\"#fb9f3a\"],[0.8888888888888888,\"#fdca26\"],[1.0,\"#f0f921\"]],\"type\":\"histogram2d\"}],\"histogram\":[{\"marker\":{\"pattern\":{\"fillmode\":\"overlay\",\"size\":10,\"solidity\":0.2}},\"type\":\"histogram\"}],\"mesh3d\":[{\"colorbar\":{\"outlinewidth\":0,\"ticks\":\"\"},\"type\":\"mesh3d\"}],\"parcoords\":[{\"line\":{\"colorbar\":{\"outlinewidth\":0,\"ticks\":\"\"}},\"type\":\"parcoords\"}],\"pie\":[{\"automargin\":true,\"type\":\"pie\"}],\"scatter3d\":[{\"line\":{\"colorbar\":{\"outlinewidth\":0,\"ticks\":\"\"}},\"marker\":{\"colorbar\":{\"outlinewidth\":0,\"ticks\":\"\"}},\"type\":\"scatter3d\"}],\"scattercarpet\":[{\"marker\":{\"colorbar\":{\"outlinewidth\":0,\"ticks\":\"\"}},\"type\":\"scattercarpet\"}],\"scattergeo\":[{\"marker\":{\"colorbar\":{\"outlinewidth\":0,\"ticks\":\"\"}},\"type\":\"scattergeo\"}],\"scattergl\":[{\"marker\":{\"colorbar\":{\"outlinewidth\":0,\"ticks\":\"\"}},\"type\":\"scattergl\"}],\"scattermapbox\":[{\"marker\":{\"colorbar\":{\"outlinewidth\":0,\"ticks\":\"\"}},\"type\":\"scattermapbox\"}],\"scatterpolargl\":[{\"marker\":{\"colorbar\":{\"outlinewidth\":0,\"ticks\":\"\"}},\"type\":\"scatterpolargl\"}],\"scatterpolar\":[{\"marker\":{\"colorbar\":{\"outlinewidth\":0,\"ticks\":\"\"}},\"type\":\"scatterpolar\"}],\"scatter\":[{\"fillpattern\":{\"fillmode\":\"overlay\",\"size\":10,\"solidity\":0.2},\"type\":\"scatter\"}],\"scatterternary\":[{\"marker\":{\"colorbar\":{\"outlinewidth\":0,\"ticks\":\"\"}},\"type\":\"scatterternary\"}],\"surface\":[{\"colorbar\":{\"outlinewidth\":0,\"ticks\":\"\"},\"colorscale\":[[0.0,\"#0d0887\"],[0.1111111111111111,\"#46039f\"],[0.2222222222222222,\"#7201a8\"],[0.3333333333333333,\"#9c179e\"],[0.4444444444444444,\"#bd3786\"],[0.5555555555555556,\"#d8576b\"],[0.6666666666666666,\"#ed7953\"],[0.7777777777777778,\"#fb9f3a\"],[0.8888888888888888,\"#fdca26\"],[1.0,\"#f0f921\"]],\"type\":\"surface\"}],\"table\":[{\"cells\":{\"fill\":{\"color\":\"#EBF0F8\"},\"line\":{\"color\":\"white\"}},\"header\":{\"fill\":{\"color\":\"#C8D4E3\"},\"line\":{\"color\":\"white\"}},\"type\":\"table\"}]},\"layout\":{\"annotationdefaults\":{\"arrowcolor\":\"#2a3f5f\",\"arrowhead\":0,\"arrowwidth\":1},\"autotypenumbers\":\"strict\",\"coloraxis\":{\"colorbar\":{\"outlinewidth\":0,\"ticks\":\"\"}},\"colorscale\":{\"diverging\":[[0,\"#8e0152\"],[0.1,\"#c51b7d\"],[0.2,\"#de77ae\"],[0.3,\"#f1b6da\"],[0.4,\"#fde0ef\"],[0.5,\"#f7f7f7\"],[0.6,\"#e6f5d0\"],[0.7,\"#b8e186\"],[0.8,\"#7fbc41\"],[0.9,\"#4d9221\"],[1,\"#276419\"]],\"sequential\":[[0.0,\"#0d0887\"],[0.1111111111111111,\"#46039f\"],[0.2222222222222222,\"#7201a8\"],[0.3333333333333333,\"#9c179e\"],[0.4444444444444444,\"#bd3786\"],[0.5555555555555556,\"#d8576b\"],[0.6666666666666666,\"#ed7953\"],[0.7777777777777778,\"#fb9f3a\"],[0.8888888888888888,\"#fdca26\"],[1.0,\"#f0f921\"]],\"sequentialminus\":[[0.0,\"#0d0887\"],[0.1111111111111111,\"#46039f\"],[0.2222222222222222,\"#7201a8\"],[0.3333333333333333,\"#9c179e\"],[0.4444444444444444,\"#bd3786\"],[0.5555555555555556,\"#d8576b\"],[0.6666666666666666,\"#ed7953\"],[0.7777777777777778,\"#fb9f3a\"],[0.8888888888888888,\"#fdca26\"],[1.0,\"#f0f921\"]]},\"colorway\":[\"#636efa\",\"#EF553B\",\"#00cc96\",\"#ab63fa\",\"#FFA15A\",\"#19d3f3\",\"#FF6692\",\"#B6E880\",\"#FF97FF\",\"#FECB52\"],\"font\":{\"color\":\"#2a3f5f\"},\"geo\":{\"bgcolor\":\"white\",\"lakecolor\":\"white\",\"landcolor\":\"#E5ECF6\",\"showlakes\":true,\"showland\":true,\"subunitcolor\":\"white\"},\"hoverlabel\":{\"align\":\"left\"},\"hovermode\":\"closest\",\"mapbox\":{\"style\":\"light\"},\"paper_bgcolor\":\"white\",\"plot_bgcolor\":\"#E5ECF6\",\"polar\":{\"angularaxis\":{\"gridcolor\":\"white\",\"linecolor\":\"white\",\"ticks\":\"\"},\"bgcolor\":\"#E5ECF6\",\"radialaxis\":{\"gridcolor\":\"white\",\"linecolor\":\"white\",\"ticks\":\"\"}},\"scene\":{\"xaxis\":{\"backgroundcolor\":\"#E5ECF6\",\"gridcolor\":\"white\",\"gridwidth\":2,\"linecolor\":\"white\",\"showbackground\":true,\"ticks\":\"\",\"zerolinecolor\":\"white\"},\"yaxis\":{\"backgroundcolor\":\"#E5ECF6\",\"gridcolor\":\"white\",\"gridwidth\":2,\"linecolor\":\"white\",\"showbackground\":true,\"ticks\":\"\",\"zerolinecolor\":\"white\"},\"zaxis\":{\"backgroundcolor\":\"#E5ECF6\",\"gridcolor\":\"white\",\"gridwidth\":2,\"linecolor\":\"white\",\"showbackground\":true,\"ticks\":\"\",\"zerolinecolor\":\"white\"}},\"shapedefaults\":{\"line\":{\"color\":\"#2a3f5f\"}},\"ternary\":{\"aaxis\":{\"gridcolor\":\"white\",\"linecolor\":\"white\",\"ticks\":\"\"},\"baxis\":{\"gridcolor\":\"white\",\"linecolor\":\"white\",\"ticks\":\"\"},\"bgcolor\":\"#E5ECF6\",\"caxis\":{\"gridcolor\":\"white\",\"linecolor\":\"white\",\"ticks\":\"\"}},\"title\":{\"x\":0.05},\"xaxis\":{\"automargin\":true,\"gridcolor\":\"white\",\"linecolor\":\"white\",\"ticks\":\"\",\"title\":{\"standoff\":15},\"zerolinecolor\":\"white\",\"zerolinewidth\":2},\"yaxis\":{\"automargin\":true,\"gridcolor\":\"white\",\"linecolor\":\"white\",\"ticks\":\"\",\"title\":{\"standoff\":15},\"zerolinecolor\":\"white\",\"zerolinewidth\":2}}},\"title\":{\"font\":{\"color\":\"#4D5663\"}},\"xaxis\":{\"gridcolor\":\"#E1E5ED\",\"showgrid\":true,\"tickfont\":{\"color\":\"#4D5663\"},\"title\":{\"font\":{\"color\":\"#4D5663\"},\"text\":\"\"},\"zerolinecolor\":\"#E1E5ED\"},\"yaxis\":{\"domain\":[0.3,1],\"gridcolor\":\"#E1E5ED\",\"showgrid\":true,\"tickfont\":{\"color\":\"#4D5663\"},\"title\":{\"font\":{\"color\":\"#4D5663\"},\"text\":\"\"},\"zerolinecolor\":\"#E1E5ED\"},\"yaxis2\":{\"domain\":[0,0.25],\"gridcolor\":\"#E1E5ED\",\"showgrid\":true,\"tickfont\":{\"color\":\"#4D5663\"},\"title\":{\"font\":{\"color\":\"#4D5663\"},\"text\":\"Spread\"},\"zerolinecolor\":\"#E1E5ED\"},\"xaxis2\":{\"anchor\":\"y2\",\"gridcolor\":\"#E1E5ED\",\"showgrid\":true,\"showticklabels\":false,\"tickfont\":{\"color\":\"#4D5663\"},\"title\":{\"font\":{\"color\":\"#4D5663\"},\"text\":\"\"},\"zerolinecolor\":\"#E1E5ED\"}},                        {\"showLink\": true, \"linkText\": \"Export to plot.ly\", \"plotlyServerURL\": \"https://plot.ly\", \"responsive\": true}                    ).then(function(){\n",
       "                            \n",
       "var gd = document.getElementById('c7bd09d1-c4c6-420c-bc77-f221b2df7d13');\n",
       "var x = new MutationObserver(function (mutations, observer) {{\n",
       "        var display = window.getComputedStyle(gd).display;\n",
       "        if (!display || display === 'none') {{\n",
       "            console.log([gd, 'removed!']);\n",
       "            Plotly.purge(gd);\n",
       "            observer.disconnect();\n",
       "        }}\n",
       "}});\n",
       "\n",
       "// Listen for the removal of the full notebook cells\n",
       "var notebookContainer = gd.closest('#notebook-container');\n",
       "if (notebookContainer) {{\n",
       "    x.observe(notebookContainer, {childList: true});\n",
       "}}\n",
       "\n",
       "// Listen for the clearing of the current output cell\n",
       "var outputEl = gd.closest('.output');\n",
       "if (outputEl) {{\n",
       "    x.observe(outputEl, {childList: true});\n",
       "}}\n",
       "\n",
       "                        })                };                });            </script>        </div>"
      ]
     },
     "metadata": {},
     "output_type": "display_data"
    }
   ],
   "source": [
    "df[['A','B']].iplot(kind='spread')"
   ]
  },
  {
   "cell_type": "markdown",
   "metadata": {},
   "source": [
    "## histogram"
   ]
  },
  {
   "cell_type": "code",
   "execution_count": 39,
   "metadata": {},
   "outputs": [
    {
     "data": {
      "application/vnd.plotly.v1+json": {
       "config": {
        "linkText": "Export to plot.ly",
        "plotlyServerURL": "https://plot.ly",
        "showLink": true
       },
       "data": [
        {
         "histfunc": "count",
         "histnorm": "",
         "marker": {
          "color": "rgba(255, 153, 51, 1.0)",
          "line": {
           "color": "#4D5663",
           "width": 1.3
          }
         },
         "name": "A",
         "nbinsx": 25,
         "opacity": 0.8,
         "orientation": "v",
         "type": "histogram",
         "x": [
          0.44869329824135673,
          0.04442947891624006,
          2.1145540519877124,
          0.48459375200395927,
          0.36985788919286805,
          1.481971281069352,
          2.0343982337154416,
          -0.4824821822177707,
          0.8309463581150035,
          -0.4349385948709931,
          -0.6756120182110634,
          -1.5925814019449025,
          0.23413023932942328,
          1.0281422105942735,
          -1.0623059466249865,
          2.2195071053364663,
          0.8756994750091641,
          0.8089835262821432,
          -0.743409264689658,
          0.04294253724257267,
          1.0684455291199384,
          0.27639677781983707,
          -1.0954222897259756,
          -1.2812049648901038,
          -0.637281296389303,
          2.111221879684574,
          -0.5513865740599511,
          1.0682633521601927,
          0.4652057414665277,
          -0.7206548172209604,
          1.2453404662443033,
          1.1397830121661918,
          0.49950650596397383,
          -0.9263185329342912,
          0.4111857860492889,
          0.7120252399106934,
          -0.7711455320738849,
          0.9950201421281071,
          -0.8274584839599624,
          0.3122126481853524,
          0.4515622771288505,
          0.6073609370855199,
          -2.170149917275103,
          1.3093912040986788,
          0.2590512674708452,
          -1.2337530482989523,
          -0.308609285621261,
          0.34858056871628357,
          -0.5259945565128492,
          0.7418184128255518,
          -0.08368524035607329,
          -0.48681829176600705,
          -0.6949219701346371,
          -1.5182275005248043,
          -0.6942761142349966,
          -0.29222643627617845,
          -0.6980315938540814,
          -1.7810575066261185,
          -0.38392005874164825,
          0.7775804455478614,
          -0.04417520548831625,
          -1.1024379175998715,
          -0.6161541682760509,
          0.2575180438792113,
          -0.5419691624897529,
          0.6017703190288322,
          -1.6905582702704653,
          0.6380563321234376,
          1.8411694643156877,
          0.9642052764057285,
          1.002877971747453,
          -1.7837200423433832,
          1.0355284326901804,
          -0.8243451510155145,
          0.3421716769811112,
          1.7152754923086335,
          -0.33329183790006034,
          -0.17785876328291492,
          0.26727742385574493,
          -1.4606113851565532,
          -1.0041165914639603,
          1.0996641205324444,
          0.048076295886310676,
          0.3881428733745407,
          -0.7623022776406418,
          1.276648665357941,
          0.17375732056573817,
          1.6164033921063847,
          0.3132317208480055,
          -0.00029622527125818443,
          -0.16420288781157838,
          -2.390517968447201,
          -0.018873881777453607,
          -1.9745352341669447,
          0.6437240829886111,
          0.609802961274568,
          -0.6262284629895819,
          1.4052370704543717,
          -0.06498383511536726,
          0.673796877062401
         ]
        }
       ],
       "layout": {
        "barmode": "overlay",
        "legend": {
         "bgcolor": "#F5F6F9",
         "font": {
          "color": "#4D5663"
         }
        },
        "paper_bgcolor": "#F5F6F9",
        "plot_bgcolor": "#F5F6F9",
        "template": {
         "data": {
          "bar": [
           {
            "error_x": {
             "color": "#2a3f5f"
            },
            "error_y": {
             "color": "#2a3f5f"
            },
            "marker": {
             "line": {
              "color": "#E5ECF6",
              "width": 0.5
             },
             "pattern": {
              "fillmode": "overlay",
              "size": 10,
              "solidity": 0.2
             }
            },
            "type": "bar"
           }
          ],
          "barpolar": [
           {
            "marker": {
             "line": {
              "color": "#E5ECF6",
              "width": 0.5
             },
             "pattern": {
              "fillmode": "overlay",
              "size": 10,
              "solidity": 0.2
             }
            },
            "type": "barpolar"
           }
          ],
          "carpet": [
           {
            "aaxis": {
             "endlinecolor": "#2a3f5f",
             "gridcolor": "white",
             "linecolor": "white",
             "minorgridcolor": "white",
             "startlinecolor": "#2a3f5f"
            },
            "baxis": {
             "endlinecolor": "#2a3f5f",
             "gridcolor": "white",
             "linecolor": "white",
             "minorgridcolor": "white",
             "startlinecolor": "#2a3f5f"
            },
            "type": "carpet"
           }
          ],
          "choropleth": [
           {
            "colorbar": {
             "outlinewidth": 0,
             "ticks": ""
            },
            "type": "choropleth"
           }
          ],
          "contour": [
           {
            "colorbar": {
             "outlinewidth": 0,
             "ticks": ""
            },
            "colorscale": [
             [
              0,
              "#0d0887"
             ],
             [
              0.1111111111111111,
              "#46039f"
             ],
             [
              0.2222222222222222,
              "#7201a8"
             ],
             [
              0.3333333333333333,
              "#9c179e"
             ],
             [
              0.4444444444444444,
              "#bd3786"
             ],
             [
              0.5555555555555556,
              "#d8576b"
             ],
             [
              0.6666666666666666,
              "#ed7953"
             ],
             [
              0.7777777777777778,
              "#fb9f3a"
             ],
             [
              0.8888888888888888,
              "#fdca26"
             ],
             [
              1,
              "#f0f921"
             ]
            ],
            "type": "contour"
           }
          ],
          "contourcarpet": [
           {
            "colorbar": {
             "outlinewidth": 0,
             "ticks": ""
            },
            "type": "contourcarpet"
           }
          ],
          "heatmap": [
           {
            "colorbar": {
             "outlinewidth": 0,
             "ticks": ""
            },
            "colorscale": [
             [
              0,
              "#0d0887"
             ],
             [
              0.1111111111111111,
              "#46039f"
             ],
             [
              0.2222222222222222,
              "#7201a8"
             ],
             [
              0.3333333333333333,
              "#9c179e"
             ],
             [
              0.4444444444444444,
              "#bd3786"
             ],
             [
              0.5555555555555556,
              "#d8576b"
             ],
             [
              0.6666666666666666,
              "#ed7953"
             ],
             [
              0.7777777777777778,
              "#fb9f3a"
             ],
             [
              0.8888888888888888,
              "#fdca26"
             ],
             [
              1,
              "#f0f921"
             ]
            ],
            "type": "heatmap"
           }
          ],
          "heatmapgl": [
           {
            "colorbar": {
             "outlinewidth": 0,
             "ticks": ""
            },
            "colorscale": [
             [
              0,
              "#0d0887"
             ],
             [
              0.1111111111111111,
              "#46039f"
             ],
             [
              0.2222222222222222,
              "#7201a8"
             ],
             [
              0.3333333333333333,
              "#9c179e"
             ],
             [
              0.4444444444444444,
              "#bd3786"
             ],
             [
              0.5555555555555556,
              "#d8576b"
             ],
             [
              0.6666666666666666,
              "#ed7953"
             ],
             [
              0.7777777777777778,
              "#fb9f3a"
             ],
             [
              0.8888888888888888,
              "#fdca26"
             ],
             [
              1,
              "#f0f921"
             ]
            ],
            "type": "heatmapgl"
           }
          ],
          "histogram": [
           {
            "marker": {
             "pattern": {
              "fillmode": "overlay",
              "size": 10,
              "solidity": 0.2
             }
            },
            "type": "histogram"
           }
          ],
          "histogram2d": [
           {
            "colorbar": {
             "outlinewidth": 0,
             "ticks": ""
            },
            "colorscale": [
             [
              0,
              "#0d0887"
             ],
             [
              0.1111111111111111,
              "#46039f"
             ],
             [
              0.2222222222222222,
              "#7201a8"
             ],
             [
              0.3333333333333333,
              "#9c179e"
             ],
             [
              0.4444444444444444,
              "#bd3786"
             ],
             [
              0.5555555555555556,
              "#d8576b"
             ],
             [
              0.6666666666666666,
              "#ed7953"
             ],
             [
              0.7777777777777778,
              "#fb9f3a"
             ],
             [
              0.8888888888888888,
              "#fdca26"
             ],
             [
              1,
              "#f0f921"
             ]
            ],
            "type": "histogram2d"
           }
          ],
          "histogram2dcontour": [
           {
            "colorbar": {
             "outlinewidth": 0,
             "ticks": ""
            },
            "colorscale": [
             [
              0,
              "#0d0887"
             ],
             [
              0.1111111111111111,
              "#46039f"
             ],
             [
              0.2222222222222222,
              "#7201a8"
             ],
             [
              0.3333333333333333,
              "#9c179e"
             ],
             [
              0.4444444444444444,
              "#bd3786"
             ],
             [
              0.5555555555555556,
              "#d8576b"
             ],
             [
              0.6666666666666666,
              "#ed7953"
             ],
             [
              0.7777777777777778,
              "#fb9f3a"
             ],
             [
              0.8888888888888888,
              "#fdca26"
             ],
             [
              1,
              "#f0f921"
             ]
            ],
            "type": "histogram2dcontour"
           }
          ],
          "mesh3d": [
           {
            "colorbar": {
             "outlinewidth": 0,
             "ticks": ""
            },
            "type": "mesh3d"
           }
          ],
          "parcoords": [
           {
            "line": {
             "colorbar": {
              "outlinewidth": 0,
              "ticks": ""
             }
            },
            "type": "parcoords"
           }
          ],
          "pie": [
           {
            "automargin": true,
            "type": "pie"
           }
          ],
          "scatter": [
           {
            "fillpattern": {
             "fillmode": "overlay",
             "size": 10,
             "solidity": 0.2
            },
            "type": "scatter"
           }
          ],
          "scatter3d": [
           {
            "line": {
             "colorbar": {
              "outlinewidth": 0,
              "ticks": ""
             }
            },
            "marker": {
             "colorbar": {
              "outlinewidth": 0,
              "ticks": ""
             }
            },
            "type": "scatter3d"
           }
          ],
          "scattercarpet": [
           {
            "marker": {
             "colorbar": {
              "outlinewidth": 0,
              "ticks": ""
             }
            },
            "type": "scattercarpet"
           }
          ],
          "scattergeo": [
           {
            "marker": {
             "colorbar": {
              "outlinewidth": 0,
              "ticks": ""
             }
            },
            "type": "scattergeo"
           }
          ],
          "scattergl": [
           {
            "marker": {
             "colorbar": {
              "outlinewidth": 0,
              "ticks": ""
             }
            },
            "type": "scattergl"
           }
          ],
          "scattermapbox": [
           {
            "marker": {
             "colorbar": {
              "outlinewidth": 0,
              "ticks": ""
             }
            },
            "type": "scattermapbox"
           }
          ],
          "scatterpolar": [
           {
            "marker": {
             "colorbar": {
              "outlinewidth": 0,
              "ticks": ""
             }
            },
            "type": "scatterpolar"
           }
          ],
          "scatterpolargl": [
           {
            "marker": {
             "colorbar": {
              "outlinewidth": 0,
              "ticks": ""
             }
            },
            "type": "scatterpolargl"
           }
          ],
          "scatterternary": [
           {
            "marker": {
             "colorbar": {
              "outlinewidth": 0,
              "ticks": ""
             }
            },
            "type": "scatterternary"
           }
          ],
          "surface": [
           {
            "colorbar": {
             "outlinewidth": 0,
             "ticks": ""
            },
            "colorscale": [
             [
              0,
              "#0d0887"
             ],
             [
              0.1111111111111111,
              "#46039f"
             ],
             [
              0.2222222222222222,
              "#7201a8"
             ],
             [
              0.3333333333333333,
              "#9c179e"
             ],
             [
              0.4444444444444444,
              "#bd3786"
             ],
             [
              0.5555555555555556,
              "#d8576b"
             ],
             [
              0.6666666666666666,
              "#ed7953"
             ],
             [
              0.7777777777777778,
              "#fb9f3a"
             ],
             [
              0.8888888888888888,
              "#fdca26"
             ],
             [
              1,
              "#f0f921"
             ]
            ],
            "type": "surface"
           }
          ],
          "table": [
           {
            "cells": {
             "fill": {
              "color": "#EBF0F8"
             },
             "line": {
              "color": "white"
             }
            },
            "header": {
             "fill": {
              "color": "#C8D4E3"
             },
             "line": {
              "color": "white"
             }
            },
            "type": "table"
           }
          ]
         },
         "layout": {
          "annotationdefaults": {
           "arrowcolor": "#2a3f5f",
           "arrowhead": 0,
           "arrowwidth": 1
          },
          "autotypenumbers": "strict",
          "coloraxis": {
           "colorbar": {
            "outlinewidth": 0,
            "ticks": ""
           }
          },
          "colorscale": {
           "diverging": [
            [
             0,
             "#8e0152"
            ],
            [
             0.1,
             "#c51b7d"
            ],
            [
             0.2,
             "#de77ae"
            ],
            [
             0.3,
             "#f1b6da"
            ],
            [
             0.4,
             "#fde0ef"
            ],
            [
             0.5,
             "#f7f7f7"
            ],
            [
             0.6,
             "#e6f5d0"
            ],
            [
             0.7,
             "#b8e186"
            ],
            [
             0.8,
             "#7fbc41"
            ],
            [
             0.9,
             "#4d9221"
            ],
            [
             1,
             "#276419"
            ]
           ],
           "sequential": [
            [
             0,
             "#0d0887"
            ],
            [
             0.1111111111111111,
             "#46039f"
            ],
            [
             0.2222222222222222,
             "#7201a8"
            ],
            [
             0.3333333333333333,
             "#9c179e"
            ],
            [
             0.4444444444444444,
             "#bd3786"
            ],
            [
             0.5555555555555556,
             "#d8576b"
            ],
            [
             0.6666666666666666,
             "#ed7953"
            ],
            [
             0.7777777777777778,
             "#fb9f3a"
            ],
            [
             0.8888888888888888,
             "#fdca26"
            ],
            [
             1,
             "#f0f921"
            ]
           ],
           "sequentialminus": [
            [
             0,
             "#0d0887"
            ],
            [
             0.1111111111111111,
             "#46039f"
            ],
            [
             0.2222222222222222,
             "#7201a8"
            ],
            [
             0.3333333333333333,
             "#9c179e"
            ],
            [
             0.4444444444444444,
             "#bd3786"
            ],
            [
             0.5555555555555556,
             "#d8576b"
            ],
            [
             0.6666666666666666,
             "#ed7953"
            ],
            [
             0.7777777777777778,
             "#fb9f3a"
            ],
            [
             0.8888888888888888,
             "#fdca26"
            ],
            [
             1,
             "#f0f921"
            ]
           ]
          },
          "colorway": [
           "#636efa",
           "#EF553B",
           "#00cc96",
           "#ab63fa",
           "#FFA15A",
           "#19d3f3",
           "#FF6692",
           "#B6E880",
           "#FF97FF",
           "#FECB52"
          ],
          "font": {
           "color": "#2a3f5f"
          },
          "geo": {
           "bgcolor": "white",
           "lakecolor": "white",
           "landcolor": "#E5ECF6",
           "showlakes": true,
           "showland": true,
           "subunitcolor": "white"
          },
          "hoverlabel": {
           "align": "left"
          },
          "hovermode": "closest",
          "mapbox": {
           "style": "light"
          },
          "paper_bgcolor": "white",
          "plot_bgcolor": "#E5ECF6",
          "polar": {
           "angularaxis": {
            "gridcolor": "white",
            "linecolor": "white",
            "ticks": ""
           },
           "bgcolor": "#E5ECF6",
           "radialaxis": {
            "gridcolor": "white",
            "linecolor": "white",
            "ticks": ""
           }
          },
          "scene": {
           "xaxis": {
            "backgroundcolor": "#E5ECF6",
            "gridcolor": "white",
            "gridwidth": 2,
            "linecolor": "white",
            "showbackground": true,
            "ticks": "",
            "zerolinecolor": "white"
           },
           "yaxis": {
            "backgroundcolor": "#E5ECF6",
            "gridcolor": "white",
            "gridwidth": 2,
            "linecolor": "white",
            "showbackground": true,
            "ticks": "",
            "zerolinecolor": "white"
           },
           "zaxis": {
            "backgroundcolor": "#E5ECF6",
            "gridcolor": "white",
            "gridwidth": 2,
            "linecolor": "white",
            "showbackground": true,
            "ticks": "",
            "zerolinecolor": "white"
           }
          },
          "shapedefaults": {
           "line": {
            "color": "#2a3f5f"
           }
          },
          "ternary": {
           "aaxis": {
            "gridcolor": "white",
            "linecolor": "white",
            "ticks": ""
           },
           "baxis": {
            "gridcolor": "white",
            "linecolor": "white",
            "ticks": ""
           },
           "bgcolor": "#E5ECF6",
           "caxis": {
            "gridcolor": "white",
            "linecolor": "white",
            "ticks": ""
           }
          },
          "title": {
           "x": 0.05
          },
          "xaxis": {
           "automargin": true,
           "gridcolor": "white",
           "linecolor": "white",
           "ticks": "",
           "title": {
            "standoff": 15
           },
           "zerolinecolor": "white",
           "zerolinewidth": 2
          },
          "yaxis": {
           "automargin": true,
           "gridcolor": "white",
           "linecolor": "white",
           "ticks": "",
           "title": {
            "standoff": 15
           },
           "zerolinecolor": "white",
           "zerolinewidth": 2
          }
         }
        },
        "title": {
         "font": {
          "color": "#4D5663"
         }
        },
        "xaxis": {
         "gridcolor": "#E1E5ED",
         "showgrid": true,
         "tickfont": {
          "color": "#4D5663"
         },
         "title": {
          "font": {
           "color": "#4D5663"
          },
          "text": ""
         },
         "zerolinecolor": "#E1E5ED"
        },
        "yaxis": {
         "gridcolor": "#E1E5ED",
         "showgrid": true,
         "tickfont": {
          "color": "#4D5663"
         },
         "title": {
          "font": {
           "color": "#4D5663"
          },
          "text": ""
         },
         "zerolinecolor": "#E1E5ED"
        }
       }
      },
      "text/html": [
       "<div>                            <div id=\"17a305a6-460a-45fe-b24b-be94be357418\" class=\"plotly-graph-div\" style=\"height:525px; width:100%;\"></div>            <script type=\"text/javascript\">                require([\"plotly\"], function(Plotly) {                    window.PLOTLYENV=window.PLOTLYENV || {};\n",
       "                    window.PLOTLYENV.BASE_URL='https://plot.ly';                                    if (document.getElementById(\"17a305a6-460a-45fe-b24b-be94be357418\")) {                    Plotly.newPlot(                        \"17a305a6-460a-45fe-b24b-be94be357418\",                        [{\"histfunc\":\"count\",\"histnorm\":\"\",\"marker\":{\"color\":\"rgba(255, 153, 51, 1.0)\",\"line\":{\"color\":\"#4D5663\",\"width\":1.3}},\"name\":\"A\",\"nbinsx\":25,\"opacity\":0.8,\"orientation\":\"v\",\"x\":[0.44869329824135673,0.04442947891624006,2.1145540519877124,0.48459375200395927,0.36985788919286805,1.481971281069352,2.0343982337154416,-0.4824821822177707,0.8309463581150035,-0.4349385948709931,-0.6756120182110634,-1.5925814019449025,0.23413023932942328,1.0281422105942735,-1.0623059466249865,2.2195071053364663,0.8756994750091641,0.8089835262821432,-0.743409264689658,0.04294253724257267,1.0684455291199384,0.27639677781983707,-1.0954222897259756,-1.2812049648901038,-0.637281296389303,2.111221879684574,-0.5513865740599511,1.0682633521601927,0.4652057414665277,-0.7206548172209604,1.2453404662443033,1.1397830121661918,0.49950650596397383,-0.9263185329342912,0.4111857860492889,0.7120252399106934,-0.7711455320738849,0.9950201421281071,-0.8274584839599624,0.3122126481853524,0.4515622771288505,0.6073609370855199,-2.170149917275103,1.3093912040986788,0.2590512674708452,-1.2337530482989523,-0.308609285621261,0.34858056871628357,-0.5259945565128492,0.7418184128255518,-0.08368524035607329,-0.48681829176600705,-0.6949219701346371,-1.5182275005248043,-0.6942761142349966,-0.29222643627617845,-0.6980315938540814,-1.7810575066261185,-0.38392005874164825,0.7775804455478614,-0.04417520548831625,-1.1024379175998715,-0.6161541682760509,0.2575180438792113,-0.5419691624897529,0.6017703190288322,-1.6905582702704653,0.6380563321234376,1.8411694643156877,0.9642052764057285,1.002877971747453,-1.7837200423433832,1.0355284326901804,-0.8243451510155145,0.3421716769811112,1.7152754923086335,-0.33329183790006034,-0.17785876328291492,0.26727742385574493,-1.4606113851565532,-1.0041165914639603,1.0996641205324444,0.048076295886310676,0.3881428733745407,-0.7623022776406418,1.276648665357941,0.17375732056573817,1.6164033921063847,0.3132317208480055,-0.00029622527125818443,-0.16420288781157838,-2.390517968447201,-0.018873881777453607,-1.9745352341669447,0.6437240829886111,0.609802961274568,-0.6262284629895819,1.4052370704543717,-0.06498383511536726,0.673796877062401],\"type\":\"histogram\"}],                        {\"barmode\":\"overlay\",\"legend\":{\"bgcolor\":\"#F5F6F9\",\"font\":{\"color\":\"#4D5663\"}},\"paper_bgcolor\":\"#F5F6F9\",\"plot_bgcolor\":\"#F5F6F9\",\"template\":{\"data\":{\"barpolar\":[{\"marker\":{\"line\":{\"color\":\"#E5ECF6\",\"width\":0.5},\"pattern\":{\"fillmode\":\"overlay\",\"size\":10,\"solidity\":0.2}},\"type\":\"barpolar\"}],\"bar\":[{\"error_x\":{\"color\":\"#2a3f5f\"},\"error_y\":{\"color\":\"#2a3f5f\"},\"marker\":{\"line\":{\"color\":\"#E5ECF6\",\"width\":0.5},\"pattern\":{\"fillmode\":\"overlay\",\"size\":10,\"solidity\":0.2}},\"type\":\"bar\"}],\"carpet\":[{\"aaxis\":{\"endlinecolor\":\"#2a3f5f\",\"gridcolor\":\"white\",\"linecolor\":\"white\",\"minorgridcolor\":\"white\",\"startlinecolor\":\"#2a3f5f\"},\"baxis\":{\"endlinecolor\":\"#2a3f5f\",\"gridcolor\":\"white\",\"linecolor\":\"white\",\"minorgridcolor\":\"white\",\"startlinecolor\":\"#2a3f5f\"},\"type\":\"carpet\"}],\"choropleth\":[{\"colorbar\":{\"outlinewidth\":0,\"ticks\":\"\"},\"type\":\"choropleth\"}],\"contourcarpet\":[{\"colorbar\":{\"outlinewidth\":0,\"ticks\":\"\"},\"type\":\"contourcarpet\"}],\"contour\":[{\"colorbar\":{\"outlinewidth\":0,\"ticks\":\"\"},\"colorscale\":[[0.0,\"#0d0887\"],[0.1111111111111111,\"#46039f\"],[0.2222222222222222,\"#7201a8\"],[0.3333333333333333,\"#9c179e\"],[0.4444444444444444,\"#bd3786\"],[0.5555555555555556,\"#d8576b\"],[0.6666666666666666,\"#ed7953\"],[0.7777777777777778,\"#fb9f3a\"],[0.8888888888888888,\"#fdca26\"],[1.0,\"#f0f921\"]],\"type\":\"contour\"}],\"heatmapgl\":[{\"colorbar\":{\"outlinewidth\":0,\"ticks\":\"\"},\"colorscale\":[[0.0,\"#0d0887\"],[0.1111111111111111,\"#46039f\"],[0.2222222222222222,\"#7201a8\"],[0.3333333333333333,\"#9c179e\"],[0.4444444444444444,\"#bd3786\"],[0.5555555555555556,\"#d8576b\"],[0.6666666666666666,\"#ed7953\"],[0.7777777777777778,\"#fb9f3a\"],[0.8888888888888888,\"#fdca26\"],[1.0,\"#f0f921\"]],\"type\":\"heatmapgl\"}],\"heatmap\":[{\"colorbar\":{\"outlinewidth\":0,\"ticks\":\"\"},\"colorscale\":[[0.0,\"#0d0887\"],[0.1111111111111111,\"#46039f\"],[0.2222222222222222,\"#7201a8\"],[0.3333333333333333,\"#9c179e\"],[0.4444444444444444,\"#bd3786\"],[0.5555555555555556,\"#d8576b\"],[0.6666666666666666,\"#ed7953\"],[0.7777777777777778,\"#fb9f3a\"],[0.8888888888888888,\"#fdca26\"],[1.0,\"#f0f921\"]],\"type\":\"heatmap\"}],\"histogram2dcontour\":[{\"colorbar\":{\"outlinewidth\":0,\"ticks\":\"\"},\"colorscale\":[[0.0,\"#0d0887\"],[0.1111111111111111,\"#46039f\"],[0.2222222222222222,\"#7201a8\"],[0.3333333333333333,\"#9c179e\"],[0.4444444444444444,\"#bd3786\"],[0.5555555555555556,\"#d8576b\"],[0.6666666666666666,\"#ed7953\"],[0.7777777777777778,\"#fb9f3a\"],[0.8888888888888888,\"#fdca26\"],[1.0,\"#f0f921\"]],\"type\":\"histogram2dcontour\"}],\"histogram2d\":[{\"colorbar\":{\"outlinewidth\":0,\"ticks\":\"\"},\"colorscale\":[[0.0,\"#0d0887\"],[0.1111111111111111,\"#46039f\"],[0.2222222222222222,\"#7201a8\"],[0.3333333333333333,\"#9c179e\"],[0.4444444444444444,\"#bd3786\"],[0.5555555555555556,\"#d8576b\"],[0.6666666666666666,\"#ed7953\"],[0.7777777777777778,\"#fb9f3a\"],[0.8888888888888888,\"#fdca26\"],[1.0,\"#f0f921\"]],\"type\":\"histogram2d\"}],\"histogram\":[{\"marker\":{\"pattern\":{\"fillmode\":\"overlay\",\"size\":10,\"solidity\":0.2}},\"type\":\"histogram\"}],\"mesh3d\":[{\"colorbar\":{\"outlinewidth\":0,\"ticks\":\"\"},\"type\":\"mesh3d\"}],\"parcoords\":[{\"line\":{\"colorbar\":{\"outlinewidth\":0,\"ticks\":\"\"}},\"type\":\"parcoords\"}],\"pie\":[{\"automargin\":true,\"type\":\"pie\"}],\"scatter3d\":[{\"line\":{\"colorbar\":{\"outlinewidth\":0,\"ticks\":\"\"}},\"marker\":{\"colorbar\":{\"outlinewidth\":0,\"ticks\":\"\"}},\"type\":\"scatter3d\"}],\"scattercarpet\":[{\"marker\":{\"colorbar\":{\"outlinewidth\":0,\"ticks\":\"\"}},\"type\":\"scattercarpet\"}],\"scattergeo\":[{\"marker\":{\"colorbar\":{\"outlinewidth\":0,\"ticks\":\"\"}},\"type\":\"scattergeo\"}],\"scattergl\":[{\"marker\":{\"colorbar\":{\"outlinewidth\":0,\"ticks\":\"\"}},\"type\":\"scattergl\"}],\"scattermapbox\":[{\"marker\":{\"colorbar\":{\"outlinewidth\":0,\"ticks\":\"\"}},\"type\":\"scattermapbox\"}],\"scatterpolargl\":[{\"marker\":{\"colorbar\":{\"outlinewidth\":0,\"ticks\":\"\"}},\"type\":\"scatterpolargl\"}],\"scatterpolar\":[{\"marker\":{\"colorbar\":{\"outlinewidth\":0,\"ticks\":\"\"}},\"type\":\"scatterpolar\"}],\"scatter\":[{\"fillpattern\":{\"fillmode\":\"overlay\",\"size\":10,\"solidity\":0.2},\"type\":\"scatter\"}],\"scatterternary\":[{\"marker\":{\"colorbar\":{\"outlinewidth\":0,\"ticks\":\"\"}},\"type\":\"scatterternary\"}],\"surface\":[{\"colorbar\":{\"outlinewidth\":0,\"ticks\":\"\"},\"colorscale\":[[0.0,\"#0d0887\"],[0.1111111111111111,\"#46039f\"],[0.2222222222222222,\"#7201a8\"],[0.3333333333333333,\"#9c179e\"],[0.4444444444444444,\"#bd3786\"],[0.5555555555555556,\"#d8576b\"],[0.6666666666666666,\"#ed7953\"],[0.7777777777777778,\"#fb9f3a\"],[0.8888888888888888,\"#fdca26\"],[1.0,\"#f0f921\"]],\"type\":\"surface\"}],\"table\":[{\"cells\":{\"fill\":{\"color\":\"#EBF0F8\"},\"line\":{\"color\":\"white\"}},\"header\":{\"fill\":{\"color\":\"#C8D4E3\"},\"line\":{\"color\":\"white\"}},\"type\":\"table\"}]},\"layout\":{\"annotationdefaults\":{\"arrowcolor\":\"#2a3f5f\",\"arrowhead\":0,\"arrowwidth\":1},\"autotypenumbers\":\"strict\",\"coloraxis\":{\"colorbar\":{\"outlinewidth\":0,\"ticks\":\"\"}},\"colorscale\":{\"diverging\":[[0,\"#8e0152\"],[0.1,\"#c51b7d\"],[0.2,\"#de77ae\"],[0.3,\"#f1b6da\"],[0.4,\"#fde0ef\"],[0.5,\"#f7f7f7\"],[0.6,\"#e6f5d0\"],[0.7,\"#b8e186\"],[0.8,\"#7fbc41\"],[0.9,\"#4d9221\"],[1,\"#276419\"]],\"sequential\":[[0.0,\"#0d0887\"],[0.1111111111111111,\"#46039f\"],[0.2222222222222222,\"#7201a8\"],[0.3333333333333333,\"#9c179e\"],[0.4444444444444444,\"#bd3786\"],[0.5555555555555556,\"#d8576b\"],[0.6666666666666666,\"#ed7953\"],[0.7777777777777778,\"#fb9f3a\"],[0.8888888888888888,\"#fdca26\"],[1.0,\"#f0f921\"]],\"sequentialminus\":[[0.0,\"#0d0887\"],[0.1111111111111111,\"#46039f\"],[0.2222222222222222,\"#7201a8\"],[0.3333333333333333,\"#9c179e\"],[0.4444444444444444,\"#bd3786\"],[0.5555555555555556,\"#d8576b\"],[0.6666666666666666,\"#ed7953\"],[0.7777777777777778,\"#fb9f3a\"],[0.8888888888888888,\"#fdca26\"],[1.0,\"#f0f921\"]]},\"colorway\":[\"#636efa\",\"#EF553B\",\"#00cc96\",\"#ab63fa\",\"#FFA15A\",\"#19d3f3\",\"#FF6692\",\"#B6E880\",\"#FF97FF\",\"#FECB52\"],\"font\":{\"color\":\"#2a3f5f\"},\"geo\":{\"bgcolor\":\"white\",\"lakecolor\":\"white\",\"landcolor\":\"#E5ECF6\",\"showlakes\":true,\"showland\":true,\"subunitcolor\":\"white\"},\"hoverlabel\":{\"align\":\"left\"},\"hovermode\":\"closest\",\"mapbox\":{\"style\":\"light\"},\"paper_bgcolor\":\"white\",\"plot_bgcolor\":\"#E5ECF6\",\"polar\":{\"angularaxis\":{\"gridcolor\":\"white\",\"linecolor\":\"white\",\"ticks\":\"\"},\"bgcolor\":\"#E5ECF6\",\"radialaxis\":{\"gridcolor\":\"white\",\"linecolor\":\"white\",\"ticks\":\"\"}},\"scene\":{\"xaxis\":{\"backgroundcolor\":\"#E5ECF6\",\"gridcolor\":\"white\",\"gridwidth\":2,\"linecolor\":\"white\",\"showbackground\":true,\"ticks\":\"\",\"zerolinecolor\":\"white\"},\"yaxis\":{\"backgroundcolor\":\"#E5ECF6\",\"gridcolor\":\"white\",\"gridwidth\":2,\"linecolor\":\"white\",\"showbackground\":true,\"ticks\":\"\",\"zerolinecolor\":\"white\"},\"zaxis\":{\"backgroundcolor\":\"#E5ECF6\",\"gridcolor\":\"white\",\"gridwidth\":2,\"linecolor\":\"white\",\"showbackground\":true,\"ticks\":\"\",\"zerolinecolor\":\"white\"}},\"shapedefaults\":{\"line\":{\"color\":\"#2a3f5f\"}},\"ternary\":{\"aaxis\":{\"gridcolor\":\"white\",\"linecolor\":\"white\",\"ticks\":\"\"},\"baxis\":{\"gridcolor\":\"white\",\"linecolor\":\"white\",\"ticks\":\"\"},\"bgcolor\":\"#E5ECF6\",\"caxis\":{\"gridcolor\":\"white\",\"linecolor\":\"white\",\"ticks\":\"\"}},\"title\":{\"x\":0.05},\"xaxis\":{\"automargin\":true,\"gridcolor\":\"white\",\"linecolor\":\"white\",\"ticks\":\"\",\"title\":{\"standoff\":15},\"zerolinecolor\":\"white\",\"zerolinewidth\":2},\"yaxis\":{\"automargin\":true,\"gridcolor\":\"white\",\"linecolor\":\"white\",\"ticks\":\"\",\"title\":{\"standoff\":15},\"zerolinecolor\":\"white\",\"zerolinewidth\":2}}},\"title\":{\"font\":{\"color\":\"#4D5663\"}},\"xaxis\":{\"gridcolor\":\"#E1E5ED\",\"showgrid\":true,\"tickfont\":{\"color\":\"#4D5663\"},\"title\":{\"font\":{\"color\":\"#4D5663\"},\"text\":\"\"},\"zerolinecolor\":\"#E1E5ED\"},\"yaxis\":{\"gridcolor\":\"#E1E5ED\",\"showgrid\":true,\"tickfont\":{\"color\":\"#4D5663\"},\"title\":{\"font\":{\"color\":\"#4D5663\"},\"text\":\"\"},\"zerolinecolor\":\"#E1E5ED\"}},                        {\"showLink\": true, \"linkText\": \"Export to plot.ly\", \"plotlyServerURL\": \"https://plot.ly\", \"responsive\": true}                    ).then(function(){\n",
       "                            \n",
       "var gd = document.getElementById('17a305a6-460a-45fe-b24b-be94be357418');\n",
       "var x = new MutationObserver(function (mutations, observer) {{\n",
       "        var display = window.getComputedStyle(gd).display;\n",
       "        if (!display || display === 'none') {{\n",
       "            console.log([gd, 'removed!']);\n",
       "            Plotly.purge(gd);\n",
       "            observer.disconnect();\n",
       "        }}\n",
       "}});\n",
       "\n",
       "// Listen for the removal of the full notebook cells\n",
       "var notebookContainer = gd.closest('#notebook-container');\n",
       "if (notebookContainer) {{\n",
       "    x.observe(notebookContainer, {childList: true});\n",
       "}}\n",
       "\n",
       "// Listen for the clearing of the current output cell\n",
       "var outputEl = gd.closest('.output');\n",
       "if (outputEl) {{\n",
       "    x.observe(outputEl, {childList: true});\n",
       "}}\n",
       "\n",
       "                        })                };                });            </script>        </div>"
      ]
     },
     "metadata": {},
     "output_type": "display_data"
    }
   ],
   "source": [
    "df['A'].iplot(kind='hist',bins=25)"
   ]
  },
  {
   "cell_type": "code",
   "execution_count": 40,
   "metadata": {},
   "outputs": [
    {
     "data": {
      "application/vnd.plotly.v1+json": {
       "config": {
        "linkText": "Export to plot.ly",
        "plotlyServerURL": "https://plot.ly",
        "showLink": true
       },
       "data": [
        {
         "marker": {
          "color": [
           "rgb(255, 153, 51)",
           "rgb(55, 128, 191)",
           "rgb(50, 171, 96)",
           "rgb(128, 0, 128)",
           "rgb(219, 64, 82)",
           "rgb(0, 128, 128)",
           "rgb(255, 255, 51)",
           "rgb(128, 128, 0)",
           "rgb(251, 128, 114)",
           "rgb(128, 177, 211)"
          ],
          "line": {
           "width": 1.3
          },
          "size": [
           76,
           24,
           49,
           39,
           48,
           60,
           73,
           75,
           52,
           60,
           65,
           57,
           72,
           32,
           19,
           16,
           63,
           73,
           23,
           47,
           32,
           41,
           65,
           53,
           57,
           102,
           43,
           58,
           85,
           100,
           63,
           92,
           91,
           34,
           12,
           77,
           83,
           32,
           53,
           54,
           50,
           36,
           56,
           70,
           27,
           69,
           85,
           27,
           59,
           55,
           32,
           43,
           73,
           61,
           83,
           56,
           36,
           49,
           64,
           92,
           50,
           32,
           80,
           58,
           112,
           65,
           70,
           42,
           95,
           42,
           46,
           80,
           67,
           65,
           39,
           55,
           34,
           41,
           70,
           96,
           79,
           60,
           30,
           55,
           67,
           14,
           78,
           45,
           88,
           48,
           75,
           74,
           38,
           54,
           67,
           61,
           48,
           56,
           45,
           21
          ],
          "symbol": "circle"
         },
         "mode": "markers",
         "text": "",
         "type": "scatter",
         "x": [
          0.44869329824135673,
          0.04442947891624006,
          2.1145540519877124,
          0.48459375200395927,
          0.36985788919286805,
          1.481971281069352,
          2.0343982337154416,
          -0.4824821822177707,
          0.8309463581150035,
          -0.4349385948709931,
          -0.6756120182110634,
          -1.5925814019449025,
          0.23413023932942328,
          1.0281422105942735,
          -1.0623059466249865,
          2.2195071053364663,
          0.8756994750091641,
          0.8089835262821432,
          -0.743409264689658,
          0.04294253724257267,
          1.0684455291199384,
          0.27639677781983707,
          -1.0954222897259756,
          -1.2812049648901038,
          -0.637281296389303,
          2.111221879684574,
          -0.5513865740599511,
          1.0682633521601927,
          0.4652057414665277,
          -0.7206548172209604,
          1.2453404662443033,
          1.1397830121661918,
          0.49950650596397383,
          -0.9263185329342912,
          0.4111857860492889,
          0.7120252399106934,
          -0.7711455320738849,
          0.9950201421281071,
          -0.8274584839599624,
          0.3122126481853524,
          0.4515622771288505,
          0.6073609370855199,
          -2.170149917275103,
          1.3093912040986788,
          0.2590512674708452,
          -1.2337530482989523,
          -0.308609285621261,
          0.34858056871628357,
          -0.5259945565128492,
          0.7418184128255518,
          -0.08368524035607329,
          -0.48681829176600705,
          -0.6949219701346371,
          -1.5182275005248043,
          -0.6942761142349966,
          -0.29222643627617845,
          -0.6980315938540814,
          -1.7810575066261185,
          -0.38392005874164825,
          0.7775804455478614,
          -0.04417520548831625,
          -1.1024379175998715,
          -0.6161541682760509,
          0.2575180438792113,
          -0.5419691624897529,
          0.6017703190288322,
          -1.6905582702704653,
          0.6380563321234376,
          1.8411694643156877,
          0.9642052764057285,
          1.002877971747453,
          -1.7837200423433832,
          1.0355284326901804,
          -0.8243451510155145,
          0.3421716769811112,
          1.7152754923086335,
          -0.33329183790006034,
          -0.17785876328291492,
          0.26727742385574493,
          -1.4606113851565532,
          -1.0041165914639603,
          1.0996641205324444,
          0.048076295886310676,
          0.3881428733745407,
          -0.7623022776406418,
          1.276648665357941,
          0.17375732056573817,
          1.6164033921063847,
          0.3132317208480055,
          -0.00029622527125818443,
          -0.16420288781157838,
          -2.390517968447201,
          -0.018873881777453607,
          -1.9745352341669447,
          0.6437240829886111,
          0.609802961274568,
          -0.6262284629895819,
          1.4052370704543717,
          -0.06498383511536726,
          0.673796877062401
         ],
         "y": [
          -1.1849432239690456,
          -0.5211376653895813,
          0.41965188826774313,
          -0.9070930374743329,
          -1.5831942364868001,
          -0.4858365830813737,
          0.7278009166335301,
          2.0221616404760145,
          0.507794572940946,
          2.0711601716091512,
          1.0104748395053536,
          -0.5848426486746308,
          0.5470577063946599,
          0.5165371941343447,
          -0.8016442671933688,
          0.288897603145818,
          1.005260388668178,
          1.6598616302267328,
          -0.5925215915659423,
          1.671554584904481,
          -0.20489334121097746,
          0.9960112769218384,
          -1.1054061041824972,
          -0.5248963018843851,
          -2.02827538041169,
          -0.7481179255865056,
          0.2391258954400187,
          -0.036886343978482165,
          0.14693839808593498,
          -1.3435550788737127,
          0.495509914100354,
          -0.3577410117056153,
          1.4057787447153953,
          -1.4396298323686851,
          2.0265956566614616,
          0.14237098853310884,
          -0.6720855188428924,
          -0.29335652809925195,
          -0.43569699647796284,
          -0.22581895031823285,
          -0.47442969869914503,
          -0.17069809986289486,
          1.3784558343562423,
          -2.207449291449941,
          0.8572827458826012,
          1.662204807114416,
          0.571471145490293,
          0.44588678869899956,
          -0.3524155474257769,
          1.2378307781006213,
          -1.4492689531910803,
          0.727622601488387,
          -1.4132155840281677,
          -0.9267015536871722,
          -0.44493820610091056,
          -0.8520553246569631,
          0.23717606545090117,
          1.491657687677004,
          0.7444833830075451,
          -0.27117666533976253,
          0.39270769256840615,
          -0.2086607631876548,
          0.9385178680801646,
          -1.0189388989003372,
          1.9449358716585041,
          -0.6255855098585659,
          1.0855482233583384,
          0.39546694491298606,
          -0.1796799824978816,
          0.9446600698055564,
          -0.4650681551742743,
          1.9444631807871682,
          -0.2513789023420614,
          -0.686686256853849,
          0.6966766328643259,
          -0.1465540592511607,
          1.6020687291155558,
          -0.051959615969177114,
          2.543342310408571,
          -0.570036449181245,
          0.9720872564921681,
          0.7685133980318168,
          -0.4631756619022978,
          0.6108351641027522,
          -0.6166118778084613,
          1.8907829068486697,
          -1.041542502652796,
          -1.5682055482136659,
          -1.050014599780345,
          -0.9700650851375957,
          -0.4779809922425408,
          -0.9087200791848067,
          -0.19970310413878423,
          -0.3117045540132173,
          -0.34515180449440186,
          0.13139098324208123,
          -0.7404657562632138,
          -2.587836670667099,
          0.12224694930872568,
          1.0282647351123904
         ]
        }
       ],
       "layout": {
        "legend": {
         "bgcolor": "#F5F6F9",
         "font": {
          "color": "#4D5663"
         }
        },
        "paper_bgcolor": "#F5F6F9",
        "plot_bgcolor": "#F5F6F9",
        "template": {
         "data": {
          "bar": [
           {
            "error_x": {
             "color": "#2a3f5f"
            },
            "error_y": {
             "color": "#2a3f5f"
            },
            "marker": {
             "line": {
              "color": "#E5ECF6",
              "width": 0.5
             },
             "pattern": {
              "fillmode": "overlay",
              "size": 10,
              "solidity": 0.2
             }
            },
            "type": "bar"
           }
          ],
          "barpolar": [
           {
            "marker": {
             "line": {
              "color": "#E5ECF6",
              "width": 0.5
             },
             "pattern": {
              "fillmode": "overlay",
              "size": 10,
              "solidity": 0.2
             }
            },
            "type": "barpolar"
           }
          ],
          "carpet": [
           {
            "aaxis": {
             "endlinecolor": "#2a3f5f",
             "gridcolor": "white",
             "linecolor": "white",
             "minorgridcolor": "white",
             "startlinecolor": "#2a3f5f"
            },
            "baxis": {
             "endlinecolor": "#2a3f5f",
             "gridcolor": "white",
             "linecolor": "white",
             "minorgridcolor": "white",
             "startlinecolor": "#2a3f5f"
            },
            "type": "carpet"
           }
          ],
          "choropleth": [
           {
            "colorbar": {
             "outlinewidth": 0,
             "ticks": ""
            },
            "type": "choropleth"
           }
          ],
          "contour": [
           {
            "colorbar": {
             "outlinewidth": 0,
             "ticks": ""
            },
            "colorscale": [
             [
              0,
              "#0d0887"
             ],
             [
              0.1111111111111111,
              "#46039f"
             ],
             [
              0.2222222222222222,
              "#7201a8"
             ],
             [
              0.3333333333333333,
              "#9c179e"
             ],
             [
              0.4444444444444444,
              "#bd3786"
             ],
             [
              0.5555555555555556,
              "#d8576b"
             ],
             [
              0.6666666666666666,
              "#ed7953"
             ],
             [
              0.7777777777777778,
              "#fb9f3a"
             ],
             [
              0.8888888888888888,
              "#fdca26"
             ],
             [
              1,
              "#f0f921"
             ]
            ],
            "type": "contour"
           }
          ],
          "contourcarpet": [
           {
            "colorbar": {
             "outlinewidth": 0,
             "ticks": ""
            },
            "type": "contourcarpet"
           }
          ],
          "heatmap": [
           {
            "colorbar": {
             "outlinewidth": 0,
             "ticks": ""
            },
            "colorscale": [
             [
              0,
              "#0d0887"
             ],
             [
              0.1111111111111111,
              "#46039f"
             ],
             [
              0.2222222222222222,
              "#7201a8"
             ],
             [
              0.3333333333333333,
              "#9c179e"
             ],
             [
              0.4444444444444444,
              "#bd3786"
             ],
             [
              0.5555555555555556,
              "#d8576b"
             ],
             [
              0.6666666666666666,
              "#ed7953"
             ],
             [
              0.7777777777777778,
              "#fb9f3a"
             ],
             [
              0.8888888888888888,
              "#fdca26"
             ],
             [
              1,
              "#f0f921"
             ]
            ],
            "type": "heatmap"
           }
          ],
          "heatmapgl": [
           {
            "colorbar": {
             "outlinewidth": 0,
             "ticks": ""
            },
            "colorscale": [
             [
              0,
              "#0d0887"
             ],
             [
              0.1111111111111111,
              "#46039f"
             ],
             [
              0.2222222222222222,
              "#7201a8"
             ],
             [
              0.3333333333333333,
              "#9c179e"
             ],
             [
              0.4444444444444444,
              "#bd3786"
             ],
             [
              0.5555555555555556,
              "#d8576b"
             ],
             [
              0.6666666666666666,
              "#ed7953"
             ],
             [
              0.7777777777777778,
              "#fb9f3a"
             ],
             [
              0.8888888888888888,
              "#fdca26"
             ],
             [
              1,
              "#f0f921"
             ]
            ],
            "type": "heatmapgl"
           }
          ],
          "histogram": [
           {
            "marker": {
             "pattern": {
              "fillmode": "overlay",
              "size": 10,
              "solidity": 0.2
             }
            },
            "type": "histogram"
           }
          ],
          "histogram2d": [
           {
            "colorbar": {
             "outlinewidth": 0,
             "ticks": ""
            },
            "colorscale": [
             [
              0,
              "#0d0887"
             ],
             [
              0.1111111111111111,
              "#46039f"
             ],
             [
              0.2222222222222222,
              "#7201a8"
             ],
             [
              0.3333333333333333,
              "#9c179e"
             ],
             [
              0.4444444444444444,
              "#bd3786"
             ],
             [
              0.5555555555555556,
              "#d8576b"
             ],
             [
              0.6666666666666666,
              "#ed7953"
             ],
             [
              0.7777777777777778,
              "#fb9f3a"
             ],
             [
              0.8888888888888888,
              "#fdca26"
             ],
             [
              1,
              "#f0f921"
             ]
            ],
            "type": "histogram2d"
           }
          ],
          "histogram2dcontour": [
           {
            "colorbar": {
             "outlinewidth": 0,
             "ticks": ""
            },
            "colorscale": [
             [
              0,
              "#0d0887"
             ],
             [
              0.1111111111111111,
              "#46039f"
             ],
             [
              0.2222222222222222,
              "#7201a8"
             ],
             [
              0.3333333333333333,
              "#9c179e"
             ],
             [
              0.4444444444444444,
              "#bd3786"
             ],
             [
              0.5555555555555556,
              "#d8576b"
             ],
             [
              0.6666666666666666,
              "#ed7953"
             ],
             [
              0.7777777777777778,
              "#fb9f3a"
             ],
             [
              0.8888888888888888,
              "#fdca26"
             ],
             [
              1,
              "#f0f921"
             ]
            ],
            "type": "histogram2dcontour"
           }
          ],
          "mesh3d": [
           {
            "colorbar": {
             "outlinewidth": 0,
             "ticks": ""
            },
            "type": "mesh3d"
           }
          ],
          "parcoords": [
           {
            "line": {
             "colorbar": {
              "outlinewidth": 0,
              "ticks": ""
             }
            },
            "type": "parcoords"
           }
          ],
          "pie": [
           {
            "automargin": true,
            "type": "pie"
           }
          ],
          "scatter": [
           {
            "fillpattern": {
             "fillmode": "overlay",
             "size": 10,
             "solidity": 0.2
            },
            "type": "scatter"
           }
          ],
          "scatter3d": [
           {
            "line": {
             "colorbar": {
              "outlinewidth": 0,
              "ticks": ""
             }
            },
            "marker": {
             "colorbar": {
              "outlinewidth": 0,
              "ticks": ""
             }
            },
            "type": "scatter3d"
           }
          ],
          "scattercarpet": [
           {
            "marker": {
             "colorbar": {
              "outlinewidth": 0,
              "ticks": ""
             }
            },
            "type": "scattercarpet"
           }
          ],
          "scattergeo": [
           {
            "marker": {
             "colorbar": {
              "outlinewidth": 0,
              "ticks": ""
             }
            },
            "type": "scattergeo"
           }
          ],
          "scattergl": [
           {
            "marker": {
             "colorbar": {
              "outlinewidth": 0,
              "ticks": ""
             }
            },
            "type": "scattergl"
           }
          ],
          "scattermapbox": [
           {
            "marker": {
             "colorbar": {
              "outlinewidth": 0,
              "ticks": ""
             }
            },
            "type": "scattermapbox"
           }
          ],
          "scatterpolar": [
           {
            "marker": {
             "colorbar": {
              "outlinewidth": 0,
              "ticks": ""
             }
            },
            "type": "scatterpolar"
           }
          ],
          "scatterpolargl": [
           {
            "marker": {
             "colorbar": {
              "outlinewidth": 0,
              "ticks": ""
             }
            },
            "type": "scatterpolargl"
           }
          ],
          "scatterternary": [
           {
            "marker": {
             "colorbar": {
              "outlinewidth": 0,
              "ticks": ""
             }
            },
            "type": "scatterternary"
           }
          ],
          "surface": [
           {
            "colorbar": {
             "outlinewidth": 0,
             "ticks": ""
            },
            "colorscale": [
             [
              0,
              "#0d0887"
             ],
             [
              0.1111111111111111,
              "#46039f"
             ],
             [
              0.2222222222222222,
              "#7201a8"
             ],
             [
              0.3333333333333333,
              "#9c179e"
             ],
             [
              0.4444444444444444,
              "#bd3786"
             ],
             [
              0.5555555555555556,
              "#d8576b"
             ],
             [
              0.6666666666666666,
              "#ed7953"
             ],
             [
              0.7777777777777778,
              "#fb9f3a"
             ],
             [
              0.8888888888888888,
              "#fdca26"
             ],
             [
              1,
              "#f0f921"
             ]
            ],
            "type": "surface"
           }
          ],
          "table": [
           {
            "cells": {
             "fill": {
              "color": "#EBF0F8"
             },
             "line": {
              "color": "white"
             }
            },
            "header": {
             "fill": {
              "color": "#C8D4E3"
             },
             "line": {
              "color": "white"
             }
            },
            "type": "table"
           }
          ]
         },
         "layout": {
          "annotationdefaults": {
           "arrowcolor": "#2a3f5f",
           "arrowhead": 0,
           "arrowwidth": 1
          },
          "autotypenumbers": "strict",
          "coloraxis": {
           "colorbar": {
            "outlinewidth": 0,
            "ticks": ""
           }
          },
          "colorscale": {
           "diverging": [
            [
             0,
             "#8e0152"
            ],
            [
             0.1,
             "#c51b7d"
            ],
            [
             0.2,
             "#de77ae"
            ],
            [
             0.3,
             "#f1b6da"
            ],
            [
             0.4,
             "#fde0ef"
            ],
            [
             0.5,
             "#f7f7f7"
            ],
            [
             0.6,
             "#e6f5d0"
            ],
            [
             0.7,
             "#b8e186"
            ],
            [
             0.8,
             "#7fbc41"
            ],
            [
             0.9,
             "#4d9221"
            ],
            [
             1,
             "#276419"
            ]
           ],
           "sequential": [
            [
             0,
             "#0d0887"
            ],
            [
             0.1111111111111111,
             "#46039f"
            ],
            [
             0.2222222222222222,
             "#7201a8"
            ],
            [
             0.3333333333333333,
             "#9c179e"
            ],
            [
             0.4444444444444444,
             "#bd3786"
            ],
            [
             0.5555555555555556,
             "#d8576b"
            ],
            [
             0.6666666666666666,
             "#ed7953"
            ],
            [
             0.7777777777777778,
             "#fb9f3a"
            ],
            [
             0.8888888888888888,
             "#fdca26"
            ],
            [
             1,
             "#f0f921"
            ]
           ],
           "sequentialminus": [
            [
             0,
             "#0d0887"
            ],
            [
             0.1111111111111111,
             "#46039f"
            ],
            [
             0.2222222222222222,
             "#7201a8"
            ],
            [
             0.3333333333333333,
             "#9c179e"
            ],
            [
             0.4444444444444444,
             "#bd3786"
            ],
            [
             0.5555555555555556,
             "#d8576b"
            ],
            [
             0.6666666666666666,
             "#ed7953"
            ],
            [
             0.7777777777777778,
             "#fb9f3a"
            ],
            [
             0.8888888888888888,
             "#fdca26"
            ],
            [
             1,
             "#f0f921"
            ]
           ]
          },
          "colorway": [
           "#636efa",
           "#EF553B",
           "#00cc96",
           "#ab63fa",
           "#FFA15A",
           "#19d3f3",
           "#FF6692",
           "#B6E880",
           "#FF97FF",
           "#FECB52"
          ],
          "font": {
           "color": "#2a3f5f"
          },
          "geo": {
           "bgcolor": "white",
           "lakecolor": "white",
           "landcolor": "#E5ECF6",
           "showlakes": true,
           "showland": true,
           "subunitcolor": "white"
          },
          "hoverlabel": {
           "align": "left"
          },
          "hovermode": "closest",
          "mapbox": {
           "style": "light"
          },
          "paper_bgcolor": "white",
          "plot_bgcolor": "#E5ECF6",
          "polar": {
           "angularaxis": {
            "gridcolor": "white",
            "linecolor": "white",
            "ticks": ""
           },
           "bgcolor": "#E5ECF6",
           "radialaxis": {
            "gridcolor": "white",
            "linecolor": "white",
            "ticks": ""
           }
          },
          "scene": {
           "xaxis": {
            "backgroundcolor": "#E5ECF6",
            "gridcolor": "white",
            "gridwidth": 2,
            "linecolor": "white",
            "showbackground": true,
            "ticks": "",
            "zerolinecolor": "white"
           },
           "yaxis": {
            "backgroundcolor": "#E5ECF6",
            "gridcolor": "white",
            "gridwidth": 2,
            "linecolor": "white",
            "showbackground": true,
            "ticks": "",
            "zerolinecolor": "white"
           },
           "zaxis": {
            "backgroundcolor": "#E5ECF6",
            "gridcolor": "white",
            "gridwidth": 2,
            "linecolor": "white",
            "showbackground": true,
            "ticks": "",
            "zerolinecolor": "white"
           }
          },
          "shapedefaults": {
           "line": {
            "color": "#2a3f5f"
           }
          },
          "ternary": {
           "aaxis": {
            "gridcolor": "white",
            "linecolor": "white",
            "ticks": ""
           },
           "baxis": {
            "gridcolor": "white",
            "linecolor": "white",
            "ticks": ""
           },
           "bgcolor": "#E5ECF6",
           "caxis": {
            "gridcolor": "white",
            "linecolor": "white",
            "ticks": ""
           }
          },
          "title": {
           "x": 0.05
          },
          "xaxis": {
           "automargin": true,
           "gridcolor": "white",
           "linecolor": "white",
           "ticks": "",
           "title": {
            "standoff": 15
           },
           "zerolinecolor": "white",
           "zerolinewidth": 2
          },
          "yaxis": {
           "automargin": true,
           "gridcolor": "white",
           "linecolor": "white",
           "ticks": "",
           "title": {
            "standoff": 15
           },
           "zerolinecolor": "white",
           "zerolinewidth": 2
          }
         }
        },
        "title": {
         "font": {
          "color": "#4D5663"
         }
        },
        "xaxis": {
         "gridcolor": "#E1E5ED",
         "showgrid": true,
         "tickfont": {
          "color": "#4D5663"
         },
         "title": {
          "font": {
           "color": "#4D5663"
          },
          "text": ""
         },
         "zerolinecolor": "#E1E5ED"
        },
        "yaxis": {
         "gridcolor": "#E1E5ED",
         "showgrid": true,
         "tickfont": {
          "color": "#4D5663"
         },
         "title": {
          "font": {
           "color": "#4D5663"
          },
          "text": ""
         },
         "zerolinecolor": "#E1E5ED"
        }
       }
      },
      "text/html": [
       "<div>                            <div id=\"1114333e-f878-4a42-adb9-e88ae95718a6\" class=\"plotly-graph-div\" style=\"height:525px; width:100%;\"></div>            <script type=\"text/javascript\">                require([\"plotly\"], function(Plotly) {                    window.PLOTLYENV=window.PLOTLYENV || {};\n",
       "                    window.PLOTLYENV.BASE_URL='https://plot.ly';                                    if (document.getElementById(\"1114333e-f878-4a42-adb9-e88ae95718a6\")) {                    Plotly.newPlot(                        \"1114333e-f878-4a42-adb9-e88ae95718a6\",                        [{\"marker\":{\"color\":[\"rgb(255, 153, 51)\",\"rgb(55, 128, 191)\",\"rgb(50, 171, 96)\",\"rgb(128, 0, 128)\",\"rgb(219, 64, 82)\",\"rgb(0, 128, 128)\",\"rgb(255, 255, 51)\",\"rgb(128, 128, 0)\",\"rgb(251, 128, 114)\",\"rgb(128, 177, 211)\"],\"line\":{\"width\":1.3},\"size\":[76,24,49,39,48,60,73,75,52,60,65,57,72,32,19,16,63,73,23,47,32,41,65,53,57,102,43,58,85,100,63,92,91,34,12,77,83,32,53,54,50,36,56,70,27,69,85,27,59,55,32,43,73,61,83,56,36,49,64,92,50,32,80,58,112,65,70,42,95,42,46,80,67,65,39,55,34,41,70,96,79,60,30,55,67,14,78,45,88,48,75,74,38,54,67,61,48,56,45,21],\"symbol\":\"circle\"},\"mode\":\"markers\",\"text\":\"\",\"x\":[0.44869329824135673,0.04442947891624006,2.1145540519877124,0.48459375200395927,0.36985788919286805,1.481971281069352,2.0343982337154416,-0.4824821822177707,0.8309463581150035,-0.4349385948709931,-0.6756120182110634,-1.5925814019449025,0.23413023932942328,1.0281422105942735,-1.0623059466249865,2.2195071053364663,0.8756994750091641,0.8089835262821432,-0.743409264689658,0.04294253724257267,1.0684455291199384,0.27639677781983707,-1.0954222897259756,-1.2812049648901038,-0.637281296389303,2.111221879684574,-0.5513865740599511,1.0682633521601927,0.4652057414665277,-0.7206548172209604,1.2453404662443033,1.1397830121661918,0.49950650596397383,-0.9263185329342912,0.4111857860492889,0.7120252399106934,-0.7711455320738849,0.9950201421281071,-0.8274584839599624,0.3122126481853524,0.4515622771288505,0.6073609370855199,-2.170149917275103,1.3093912040986788,0.2590512674708452,-1.2337530482989523,-0.308609285621261,0.34858056871628357,-0.5259945565128492,0.7418184128255518,-0.08368524035607329,-0.48681829176600705,-0.6949219701346371,-1.5182275005248043,-0.6942761142349966,-0.29222643627617845,-0.6980315938540814,-1.7810575066261185,-0.38392005874164825,0.7775804455478614,-0.04417520548831625,-1.1024379175998715,-0.6161541682760509,0.2575180438792113,-0.5419691624897529,0.6017703190288322,-1.6905582702704653,0.6380563321234376,1.8411694643156877,0.9642052764057285,1.002877971747453,-1.7837200423433832,1.0355284326901804,-0.8243451510155145,0.3421716769811112,1.7152754923086335,-0.33329183790006034,-0.17785876328291492,0.26727742385574493,-1.4606113851565532,-1.0041165914639603,1.0996641205324444,0.048076295886310676,0.3881428733745407,-0.7623022776406418,1.276648665357941,0.17375732056573817,1.6164033921063847,0.3132317208480055,-0.00029622527125818443,-0.16420288781157838,-2.390517968447201,-0.018873881777453607,-1.9745352341669447,0.6437240829886111,0.609802961274568,-0.6262284629895819,1.4052370704543717,-0.06498383511536726,0.673796877062401],\"y\":[-1.1849432239690456,-0.5211376653895813,0.41965188826774313,-0.9070930374743329,-1.5831942364868001,-0.4858365830813737,0.7278009166335301,2.0221616404760145,0.507794572940946,2.0711601716091512,1.0104748395053536,-0.5848426486746308,0.5470577063946599,0.5165371941343447,-0.8016442671933688,0.288897603145818,1.005260388668178,1.6598616302267328,-0.5925215915659423,1.671554584904481,-0.20489334121097746,0.9960112769218384,-1.1054061041824972,-0.5248963018843851,-2.02827538041169,-0.7481179255865056,0.2391258954400187,-0.036886343978482165,0.14693839808593498,-1.3435550788737127,0.495509914100354,-0.3577410117056153,1.4057787447153953,-1.4396298323686851,2.0265956566614616,0.14237098853310884,-0.6720855188428924,-0.29335652809925195,-0.43569699647796284,-0.22581895031823285,-0.47442969869914503,-0.17069809986289486,1.3784558343562423,-2.207449291449941,0.8572827458826012,1.662204807114416,0.571471145490293,0.44588678869899956,-0.3524155474257769,1.2378307781006213,-1.4492689531910803,0.727622601488387,-1.4132155840281677,-0.9267015536871722,-0.44493820610091056,-0.8520553246569631,0.23717606545090117,1.491657687677004,0.7444833830075451,-0.27117666533976253,0.39270769256840615,-0.2086607631876548,0.9385178680801646,-1.0189388989003372,1.9449358716585041,-0.6255855098585659,1.0855482233583384,0.39546694491298606,-0.1796799824978816,0.9446600698055564,-0.4650681551742743,1.9444631807871682,-0.2513789023420614,-0.686686256853849,0.6966766328643259,-0.1465540592511607,1.6020687291155558,-0.051959615969177114,2.543342310408571,-0.570036449181245,0.9720872564921681,0.7685133980318168,-0.4631756619022978,0.6108351641027522,-0.6166118778084613,1.8907829068486697,-1.041542502652796,-1.5682055482136659,-1.050014599780345,-0.9700650851375957,-0.4779809922425408,-0.9087200791848067,-0.19970310413878423,-0.3117045540132173,-0.34515180449440186,0.13139098324208123,-0.7404657562632138,-2.587836670667099,0.12224694930872568,1.0282647351123904],\"type\":\"scatter\"}],                        {\"legend\":{\"bgcolor\":\"#F5F6F9\",\"font\":{\"color\":\"#4D5663\"}},\"paper_bgcolor\":\"#F5F6F9\",\"plot_bgcolor\":\"#F5F6F9\",\"template\":{\"data\":{\"barpolar\":[{\"marker\":{\"line\":{\"color\":\"#E5ECF6\",\"width\":0.5},\"pattern\":{\"fillmode\":\"overlay\",\"size\":10,\"solidity\":0.2}},\"type\":\"barpolar\"}],\"bar\":[{\"error_x\":{\"color\":\"#2a3f5f\"},\"error_y\":{\"color\":\"#2a3f5f\"},\"marker\":{\"line\":{\"color\":\"#E5ECF6\",\"width\":0.5},\"pattern\":{\"fillmode\":\"overlay\",\"size\":10,\"solidity\":0.2}},\"type\":\"bar\"}],\"carpet\":[{\"aaxis\":{\"endlinecolor\":\"#2a3f5f\",\"gridcolor\":\"white\",\"linecolor\":\"white\",\"minorgridcolor\":\"white\",\"startlinecolor\":\"#2a3f5f\"},\"baxis\":{\"endlinecolor\":\"#2a3f5f\",\"gridcolor\":\"white\",\"linecolor\":\"white\",\"minorgridcolor\":\"white\",\"startlinecolor\":\"#2a3f5f\"},\"type\":\"carpet\"}],\"choropleth\":[{\"colorbar\":{\"outlinewidth\":0,\"ticks\":\"\"},\"type\":\"choropleth\"}],\"contourcarpet\":[{\"colorbar\":{\"outlinewidth\":0,\"ticks\":\"\"},\"type\":\"contourcarpet\"}],\"contour\":[{\"colorbar\":{\"outlinewidth\":0,\"ticks\":\"\"},\"colorscale\":[[0.0,\"#0d0887\"],[0.1111111111111111,\"#46039f\"],[0.2222222222222222,\"#7201a8\"],[0.3333333333333333,\"#9c179e\"],[0.4444444444444444,\"#bd3786\"],[0.5555555555555556,\"#d8576b\"],[0.6666666666666666,\"#ed7953\"],[0.7777777777777778,\"#fb9f3a\"],[0.8888888888888888,\"#fdca26\"],[1.0,\"#f0f921\"]],\"type\":\"contour\"}],\"heatmapgl\":[{\"colorbar\":{\"outlinewidth\":0,\"ticks\":\"\"},\"colorscale\":[[0.0,\"#0d0887\"],[0.1111111111111111,\"#46039f\"],[0.2222222222222222,\"#7201a8\"],[0.3333333333333333,\"#9c179e\"],[0.4444444444444444,\"#bd3786\"],[0.5555555555555556,\"#d8576b\"],[0.6666666666666666,\"#ed7953\"],[0.7777777777777778,\"#fb9f3a\"],[0.8888888888888888,\"#fdca26\"],[1.0,\"#f0f921\"]],\"type\":\"heatmapgl\"}],\"heatmap\":[{\"colorbar\":{\"outlinewidth\":0,\"ticks\":\"\"},\"colorscale\":[[0.0,\"#0d0887\"],[0.1111111111111111,\"#46039f\"],[0.2222222222222222,\"#7201a8\"],[0.3333333333333333,\"#9c179e\"],[0.4444444444444444,\"#bd3786\"],[0.5555555555555556,\"#d8576b\"],[0.6666666666666666,\"#ed7953\"],[0.7777777777777778,\"#fb9f3a\"],[0.8888888888888888,\"#fdca26\"],[1.0,\"#f0f921\"]],\"type\":\"heatmap\"}],\"histogram2dcontour\":[{\"colorbar\":{\"outlinewidth\":0,\"ticks\":\"\"},\"colorscale\":[[0.0,\"#0d0887\"],[0.1111111111111111,\"#46039f\"],[0.2222222222222222,\"#7201a8\"],[0.3333333333333333,\"#9c179e\"],[0.4444444444444444,\"#bd3786\"],[0.5555555555555556,\"#d8576b\"],[0.6666666666666666,\"#ed7953\"],[0.7777777777777778,\"#fb9f3a\"],[0.8888888888888888,\"#fdca26\"],[1.0,\"#f0f921\"]],\"type\":\"histogram2dcontour\"}],\"histogram2d\":[{\"colorbar\":{\"outlinewidth\":0,\"ticks\":\"\"},\"colorscale\":[[0.0,\"#0d0887\"],[0.1111111111111111,\"#46039f\"],[0.2222222222222222,\"#7201a8\"],[0.3333333333333333,\"#9c179e\"],[0.4444444444444444,\"#bd3786\"],[0.5555555555555556,\"#d8576b\"],[0.6666666666666666,\"#ed7953\"],[0.7777777777777778,\"#fb9f3a\"],[0.8888888888888888,\"#fdca26\"],[1.0,\"#f0f921\"]],\"type\":\"histogram2d\"}],\"histogram\":[{\"marker\":{\"pattern\":{\"fillmode\":\"overlay\",\"size\":10,\"solidity\":0.2}},\"type\":\"histogram\"}],\"mesh3d\":[{\"colorbar\":{\"outlinewidth\":0,\"ticks\":\"\"},\"type\":\"mesh3d\"}],\"parcoords\":[{\"line\":{\"colorbar\":{\"outlinewidth\":0,\"ticks\":\"\"}},\"type\":\"parcoords\"}],\"pie\":[{\"automargin\":true,\"type\":\"pie\"}],\"scatter3d\":[{\"line\":{\"colorbar\":{\"outlinewidth\":0,\"ticks\":\"\"}},\"marker\":{\"colorbar\":{\"outlinewidth\":0,\"ticks\":\"\"}},\"type\":\"scatter3d\"}],\"scattercarpet\":[{\"marker\":{\"colorbar\":{\"outlinewidth\":0,\"ticks\":\"\"}},\"type\":\"scattercarpet\"}],\"scattergeo\":[{\"marker\":{\"colorbar\":{\"outlinewidth\":0,\"ticks\":\"\"}},\"type\":\"scattergeo\"}],\"scattergl\":[{\"marker\":{\"colorbar\":{\"outlinewidth\":0,\"ticks\":\"\"}},\"type\":\"scattergl\"}],\"scattermapbox\":[{\"marker\":{\"colorbar\":{\"outlinewidth\":0,\"ticks\":\"\"}},\"type\":\"scattermapbox\"}],\"scatterpolargl\":[{\"marker\":{\"colorbar\":{\"outlinewidth\":0,\"ticks\":\"\"}},\"type\":\"scatterpolargl\"}],\"scatterpolar\":[{\"marker\":{\"colorbar\":{\"outlinewidth\":0,\"ticks\":\"\"}},\"type\":\"scatterpolar\"}],\"scatter\":[{\"fillpattern\":{\"fillmode\":\"overlay\",\"size\":10,\"solidity\":0.2},\"type\":\"scatter\"}],\"scatterternary\":[{\"marker\":{\"colorbar\":{\"outlinewidth\":0,\"ticks\":\"\"}},\"type\":\"scatterternary\"}],\"surface\":[{\"colorbar\":{\"outlinewidth\":0,\"ticks\":\"\"},\"colorscale\":[[0.0,\"#0d0887\"],[0.1111111111111111,\"#46039f\"],[0.2222222222222222,\"#7201a8\"],[0.3333333333333333,\"#9c179e\"],[0.4444444444444444,\"#bd3786\"],[0.5555555555555556,\"#d8576b\"],[0.6666666666666666,\"#ed7953\"],[0.7777777777777778,\"#fb9f3a\"],[0.8888888888888888,\"#fdca26\"],[1.0,\"#f0f921\"]],\"type\":\"surface\"}],\"table\":[{\"cells\":{\"fill\":{\"color\":\"#EBF0F8\"},\"line\":{\"color\":\"white\"}},\"header\":{\"fill\":{\"color\":\"#C8D4E3\"},\"line\":{\"color\":\"white\"}},\"type\":\"table\"}]},\"layout\":{\"annotationdefaults\":{\"arrowcolor\":\"#2a3f5f\",\"arrowhead\":0,\"arrowwidth\":1},\"autotypenumbers\":\"strict\",\"coloraxis\":{\"colorbar\":{\"outlinewidth\":0,\"ticks\":\"\"}},\"colorscale\":{\"diverging\":[[0,\"#8e0152\"],[0.1,\"#c51b7d\"],[0.2,\"#de77ae\"],[0.3,\"#f1b6da\"],[0.4,\"#fde0ef\"],[0.5,\"#f7f7f7\"],[0.6,\"#e6f5d0\"],[0.7,\"#b8e186\"],[0.8,\"#7fbc41\"],[0.9,\"#4d9221\"],[1,\"#276419\"]],\"sequential\":[[0.0,\"#0d0887\"],[0.1111111111111111,\"#46039f\"],[0.2222222222222222,\"#7201a8\"],[0.3333333333333333,\"#9c179e\"],[0.4444444444444444,\"#bd3786\"],[0.5555555555555556,\"#d8576b\"],[0.6666666666666666,\"#ed7953\"],[0.7777777777777778,\"#fb9f3a\"],[0.8888888888888888,\"#fdca26\"],[1.0,\"#f0f921\"]],\"sequentialminus\":[[0.0,\"#0d0887\"],[0.1111111111111111,\"#46039f\"],[0.2222222222222222,\"#7201a8\"],[0.3333333333333333,\"#9c179e\"],[0.4444444444444444,\"#bd3786\"],[0.5555555555555556,\"#d8576b\"],[0.6666666666666666,\"#ed7953\"],[0.7777777777777778,\"#fb9f3a\"],[0.8888888888888888,\"#fdca26\"],[1.0,\"#f0f921\"]]},\"colorway\":[\"#636efa\",\"#EF553B\",\"#00cc96\",\"#ab63fa\",\"#FFA15A\",\"#19d3f3\",\"#FF6692\",\"#B6E880\",\"#FF97FF\",\"#FECB52\"],\"font\":{\"color\":\"#2a3f5f\"},\"geo\":{\"bgcolor\":\"white\",\"lakecolor\":\"white\",\"landcolor\":\"#E5ECF6\",\"showlakes\":true,\"showland\":true,\"subunitcolor\":\"white\"},\"hoverlabel\":{\"align\":\"left\"},\"hovermode\":\"closest\",\"mapbox\":{\"style\":\"light\"},\"paper_bgcolor\":\"white\",\"plot_bgcolor\":\"#E5ECF6\",\"polar\":{\"angularaxis\":{\"gridcolor\":\"white\",\"linecolor\":\"white\",\"ticks\":\"\"},\"bgcolor\":\"#E5ECF6\",\"radialaxis\":{\"gridcolor\":\"white\",\"linecolor\":\"white\",\"ticks\":\"\"}},\"scene\":{\"xaxis\":{\"backgroundcolor\":\"#E5ECF6\",\"gridcolor\":\"white\",\"gridwidth\":2,\"linecolor\":\"white\",\"showbackground\":true,\"ticks\":\"\",\"zerolinecolor\":\"white\"},\"yaxis\":{\"backgroundcolor\":\"#E5ECF6\",\"gridcolor\":\"white\",\"gridwidth\":2,\"linecolor\":\"white\",\"showbackground\":true,\"ticks\":\"\",\"zerolinecolor\":\"white\"},\"zaxis\":{\"backgroundcolor\":\"#E5ECF6\",\"gridcolor\":\"white\",\"gridwidth\":2,\"linecolor\":\"white\",\"showbackground\":true,\"ticks\":\"\",\"zerolinecolor\":\"white\"}},\"shapedefaults\":{\"line\":{\"color\":\"#2a3f5f\"}},\"ternary\":{\"aaxis\":{\"gridcolor\":\"white\",\"linecolor\":\"white\",\"ticks\":\"\"},\"baxis\":{\"gridcolor\":\"white\",\"linecolor\":\"white\",\"ticks\":\"\"},\"bgcolor\":\"#E5ECF6\",\"caxis\":{\"gridcolor\":\"white\",\"linecolor\":\"white\",\"ticks\":\"\"}},\"title\":{\"x\":0.05},\"xaxis\":{\"automargin\":true,\"gridcolor\":\"white\",\"linecolor\":\"white\",\"ticks\":\"\",\"title\":{\"standoff\":15},\"zerolinecolor\":\"white\",\"zerolinewidth\":2},\"yaxis\":{\"automargin\":true,\"gridcolor\":\"white\",\"linecolor\":\"white\",\"ticks\":\"\",\"title\":{\"standoff\":15},\"zerolinecolor\":\"white\",\"zerolinewidth\":2}}},\"title\":{\"font\":{\"color\":\"#4D5663\"}},\"xaxis\":{\"gridcolor\":\"#E1E5ED\",\"showgrid\":true,\"tickfont\":{\"color\":\"#4D5663\"},\"title\":{\"font\":{\"color\":\"#4D5663\"},\"text\":\"\"},\"zerolinecolor\":\"#E1E5ED\"},\"yaxis\":{\"gridcolor\":\"#E1E5ED\",\"showgrid\":true,\"tickfont\":{\"color\":\"#4D5663\"},\"title\":{\"font\":{\"color\":\"#4D5663\"},\"text\":\"\"},\"zerolinecolor\":\"#E1E5ED\"}},                        {\"showLink\": true, \"linkText\": \"Export to plot.ly\", \"plotlyServerURL\": \"https://plot.ly\", \"responsive\": true}                    ).then(function(){\n",
       "                            \n",
       "var gd = document.getElementById('1114333e-f878-4a42-adb9-e88ae95718a6');\n",
       "var x = new MutationObserver(function (mutations, observer) {{\n",
       "        var display = window.getComputedStyle(gd).display;\n",
       "        if (!display || display === 'none') {{\n",
       "            console.log([gd, 'removed!']);\n",
       "            Plotly.purge(gd);\n",
       "            observer.disconnect();\n",
       "        }}\n",
       "}});\n",
       "\n",
       "// Listen for the removal of the full notebook cells\n",
       "var notebookContainer = gd.closest('#notebook-container');\n",
       "if (notebookContainer) {{\n",
       "    x.observe(notebookContainer, {childList: true});\n",
       "}}\n",
       "\n",
       "// Listen for the clearing of the current output cell\n",
       "var outputEl = gd.closest('.output');\n",
       "if (outputEl) {{\n",
       "    x.observe(outputEl, {childList: true});\n",
       "}}\n",
       "\n",
       "                        })                };                });            </script>        </div>"
      ]
     },
     "metadata": {},
     "output_type": "display_data"
    }
   ],
   "source": [
    "df.iplot(kind='bubble',x='A',y='B',size='C')"
   ]
  },
  {
   "cell_type": "markdown",
   "metadata": {},
   "source": [
    "## scatter_matrix()\n",
    "\n",
    "Similar to sns.pairplot()"
   ]
  },
  {
   "cell_type": "code",
   "execution_count": 41,
   "metadata": {},
   "outputs": [
    {
     "data": {
      "application/vnd.plotly.v1+json": {
       "config": {
        "linkText": "Export to plot.ly",
        "plotlyServerURL": "https://plot.ly",
        "showLink": true
       },
       "data": [
        {
         "histfunc": "count",
         "histnorm": "",
         "marker": {
          "color": "rgba(255, 153, 51, 1.0)",
          "line": {
           "color": "#4D5663",
           "width": 1.3
          }
         },
         "name": "A",
         "nbinsx": 10,
         "opacity": 0.8,
         "orientation": "v",
         "type": "histogram",
         "x": [
          0.44869329824135673,
          0.04442947891624006,
          2.1145540519877124,
          0.48459375200395927,
          0.36985788919286805,
          1.481971281069352,
          2.0343982337154416,
          -0.4824821822177707,
          0.8309463581150035,
          -0.4349385948709931,
          -0.6756120182110634,
          -1.5925814019449025,
          0.23413023932942328,
          1.0281422105942735,
          -1.0623059466249865,
          2.2195071053364663,
          0.8756994750091641,
          0.8089835262821432,
          -0.743409264689658,
          0.04294253724257267,
          1.0684455291199384,
          0.27639677781983707,
          -1.0954222897259756,
          -1.2812049648901038,
          -0.637281296389303,
          2.111221879684574,
          -0.5513865740599511,
          1.0682633521601927,
          0.4652057414665277,
          -0.7206548172209604,
          1.2453404662443033,
          1.1397830121661918,
          0.49950650596397383,
          -0.9263185329342912,
          0.4111857860492889,
          0.7120252399106934,
          -0.7711455320738849,
          0.9950201421281071,
          -0.8274584839599624,
          0.3122126481853524,
          0.4515622771288505,
          0.6073609370855199,
          -2.170149917275103,
          1.3093912040986788,
          0.2590512674708452,
          -1.2337530482989523,
          -0.308609285621261,
          0.34858056871628357,
          -0.5259945565128492,
          0.7418184128255518,
          -0.08368524035607329,
          -0.48681829176600705,
          -0.6949219701346371,
          -1.5182275005248043,
          -0.6942761142349966,
          -0.29222643627617845,
          -0.6980315938540814,
          -1.7810575066261185,
          -0.38392005874164825,
          0.7775804455478614,
          -0.04417520548831625,
          -1.1024379175998715,
          -0.6161541682760509,
          0.2575180438792113,
          -0.5419691624897529,
          0.6017703190288322,
          -1.6905582702704653,
          0.6380563321234376,
          1.8411694643156877,
          0.9642052764057285,
          1.002877971747453,
          -1.7837200423433832,
          1.0355284326901804,
          -0.8243451510155145,
          0.3421716769811112,
          1.7152754923086335,
          -0.33329183790006034,
          -0.17785876328291492,
          0.26727742385574493,
          -1.4606113851565532,
          -1.0041165914639603,
          1.0996641205324444,
          0.048076295886310676,
          0.3881428733745407,
          -0.7623022776406418,
          1.276648665357941,
          0.17375732056573817,
          1.6164033921063847,
          0.3132317208480055,
          -0.00029622527125818443,
          -0.16420288781157838,
          -2.390517968447201,
          -0.018873881777453607,
          -1.9745352341669447,
          0.6437240829886111,
          0.609802961274568,
          -0.6262284629895819,
          1.4052370704543717,
          -0.06498383511536726,
          0.673796877062401
         ],
         "xaxis": "x",
         "yaxis": "y"
        },
        {
         "line": {
          "color": "rgba(128, 128, 128, 1.0)",
          "dash": "solid",
          "shape": "linear",
          "width": 1.3
         },
         "marker": {
          "size": 2,
          "symbol": "circle"
         },
         "mode": "markers",
         "name": "A",
         "text": "",
         "type": "scatter",
         "x": [
          -1.1849432239690456,
          -0.5211376653895813,
          0.41965188826774313,
          -0.9070930374743329,
          -1.5831942364868001,
          -0.4858365830813737,
          0.7278009166335301,
          2.0221616404760145,
          0.507794572940946,
          2.0711601716091512,
          1.0104748395053536,
          -0.5848426486746308,
          0.5470577063946599,
          0.5165371941343447,
          -0.8016442671933688,
          0.288897603145818,
          1.005260388668178,
          1.6598616302267328,
          -0.5925215915659423,
          1.671554584904481,
          -0.20489334121097746,
          0.9960112769218384,
          -1.1054061041824972,
          -0.5248963018843851,
          -2.02827538041169,
          -0.7481179255865056,
          0.2391258954400187,
          -0.036886343978482165,
          0.14693839808593498,
          -1.3435550788737127,
          0.495509914100354,
          -0.3577410117056153,
          1.4057787447153953,
          -1.4396298323686851,
          2.0265956566614616,
          0.14237098853310884,
          -0.6720855188428924,
          -0.29335652809925195,
          -0.43569699647796284,
          -0.22581895031823285,
          -0.47442969869914503,
          -0.17069809986289486,
          1.3784558343562423,
          -2.207449291449941,
          0.8572827458826012,
          1.662204807114416,
          0.571471145490293,
          0.44588678869899956,
          -0.3524155474257769,
          1.2378307781006213,
          -1.4492689531910803,
          0.727622601488387,
          -1.4132155840281677,
          -0.9267015536871722,
          -0.44493820610091056,
          -0.8520553246569631,
          0.23717606545090117,
          1.491657687677004,
          0.7444833830075451,
          -0.27117666533976253,
          0.39270769256840615,
          -0.2086607631876548,
          0.9385178680801646,
          -1.0189388989003372,
          1.9449358716585041,
          -0.6255855098585659,
          1.0855482233583384,
          0.39546694491298606,
          -0.1796799824978816,
          0.9446600698055564,
          -0.4650681551742743,
          1.9444631807871682,
          -0.2513789023420614,
          -0.686686256853849,
          0.6966766328643259,
          -0.1465540592511607,
          1.6020687291155558,
          -0.051959615969177114,
          2.543342310408571,
          -0.570036449181245,
          0.9720872564921681,
          0.7685133980318168,
          -0.4631756619022978,
          0.6108351641027522,
          -0.6166118778084613,
          1.8907829068486697,
          -1.041542502652796,
          -1.5682055482136659,
          -1.050014599780345,
          -0.9700650851375957,
          -0.4779809922425408,
          -0.9087200791848067,
          -0.19970310413878423,
          -0.3117045540132173,
          -0.34515180449440186,
          0.13139098324208123,
          -0.7404657562632138,
          -2.587836670667099,
          0.12224694930872568,
          1.0282647351123904
         ],
         "xaxis": "x2",
         "y": [
          0.44869329824135673,
          0.04442947891624006,
          2.1145540519877124,
          0.48459375200395927,
          0.36985788919286805,
          1.481971281069352,
          2.0343982337154416,
          -0.4824821822177707,
          0.8309463581150035,
          -0.4349385948709931,
          -0.6756120182110634,
          -1.5925814019449025,
          0.23413023932942328,
          1.0281422105942735,
          -1.0623059466249865,
          2.2195071053364663,
          0.8756994750091641,
          0.8089835262821432,
          -0.743409264689658,
          0.04294253724257267,
          1.0684455291199384,
          0.27639677781983707,
          -1.0954222897259756,
          -1.2812049648901038,
          -0.637281296389303,
          2.111221879684574,
          -0.5513865740599511,
          1.0682633521601927,
          0.4652057414665277,
          -0.7206548172209604,
          1.2453404662443033,
          1.1397830121661918,
          0.49950650596397383,
          -0.9263185329342912,
          0.4111857860492889,
          0.7120252399106934,
          -0.7711455320738849,
          0.9950201421281071,
          -0.8274584839599624,
          0.3122126481853524,
          0.4515622771288505,
          0.6073609370855199,
          -2.170149917275103,
          1.3093912040986788,
          0.2590512674708452,
          -1.2337530482989523,
          -0.308609285621261,
          0.34858056871628357,
          -0.5259945565128492,
          0.7418184128255518,
          -0.08368524035607329,
          -0.48681829176600705,
          -0.6949219701346371,
          -1.5182275005248043,
          -0.6942761142349966,
          -0.29222643627617845,
          -0.6980315938540814,
          -1.7810575066261185,
          -0.38392005874164825,
          0.7775804455478614,
          -0.04417520548831625,
          -1.1024379175998715,
          -0.6161541682760509,
          0.2575180438792113,
          -0.5419691624897529,
          0.6017703190288322,
          -1.6905582702704653,
          0.6380563321234376,
          1.8411694643156877,
          0.9642052764057285,
          1.002877971747453,
          -1.7837200423433832,
          1.0355284326901804,
          -0.8243451510155145,
          0.3421716769811112,
          1.7152754923086335,
          -0.33329183790006034,
          -0.17785876328291492,
          0.26727742385574493,
          -1.4606113851565532,
          -1.0041165914639603,
          1.0996641205324444,
          0.048076295886310676,
          0.3881428733745407,
          -0.7623022776406418,
          1.276648665357941,
          0.17375732056573817,
          1.6164033921063847,
          0.3132317208480055,
          -0.00029622527125818443,
          -0.16420288781157838,
          -2.390517968447201,
          -0.018873881777453607,
          -1.9745352341669447,
          0.6437240829886111,
          0.609802961274568,
          -0.6262284629895819,
          1.4052370704543717,
          -0.06498383511536726,
          0.673796877062401
         ],
         "yaxis": "y2"
        },
        {
         "line": {
          "color": "rgba(128, 128, 128, 1.0)",
          "dash": "solid",
          "shape": "linear",
          "width": 1.3
         },
         "marker": {
          "size": 2,
          "symbol": "circle"
         },
         "mode": "markers",
         "name": "A",
         "text": "",
         "type": "scatter",
         "x": [
          0.9941448900416009,
          -1.415294561610848,
          -0.2362353120893795,
          -0.720913642106691,
          -0.28330368987773463,
          0.2575784789016579,
          0.891055859426488,
          0.9397412722895416,
          -0.09888252081291432,
          0.25793737305505715,
          0.48520117816869746,
          0.14381753779226583,
          0.811773458166103,
          -1.0599064818452337,
          -1.6332564775192155,
          -1.8073848444399405,
          0.40374740832669925,
          0.8494659854973792,
          -1.4540549161333602,
          -0.3281151163155895,
          -1.0539527763032357,
          -0.6452776965653212,
          0.5057237440121971,
          -0.07974431034563627,
          0.13971564504490488,
          2.224863703256889,
          -0.5299148873748046,
          0.16409586148062252,
          1.4182630497638664,
          2.1091408300500403,
          0.39558696356318745,
          1.7370656227039942,
          1.7106577502666263,
          -0.9591305665320118,
          -1.9982585422756785,
          1.0404214550368789,
          1.3564609648175052,
          -1.058212643947572,
          -0.06725531848149632,
          -0.013055235511804764,
          -0.21663782692489983,
          -0.8486090167666369,
          0.08290833662378544,
          0.7111486804402077,
          -1.2811656948246104,
          0.6649687452761156,
          1.4049769109766066,
          -1.2843268766984965,
          0.21388402124443212,
          0.0364933124121146,
          -1.0603459092474037,
          -0.5359949462632948,
          0.867436007203454,
          0.2969414505186042,
          1.335081390440413,
          0.05867517876988999,
          -0.8352678556669177,
          -0.2663536930684828,
          0.4622304335460673,
          1.7687177099845872,
          -0.1861024203918685,
          -1.0422871350309724,
          1.1790217152377844,
          0.15611665080728374,
          2.662613488310378,
          0.4800477859187476,
          0.7299235990876124,
          -0.5575025760262411,
          1.8799893527922458,
          -0.5556764713639761,
          -0.40310075709715043,
          1.2027047805085178,
          0.5900958889609973,
          0.5019455339099674,
          -0.7178861360186104,
          0.02781068977170091,
          -0.9292756790885546,
          -0.6355311527000018,
          0.7478247741092752,
          1.9251023531700413,
          1.1348473517271311,
          0.2724543576013086,
          -1.1294643051768478,
          0.015316123517693086,
          0.6031378978940842,
          -1.8813369886262623,
          1.1033974731349108,
          -0.41439545422901414,
          1.5769418167280906,
          -0.2819563325108993,
          0.9832285324633148,
          0.8991333686699359,
          -0.773394842216059,
          -0.020681247710566602,
          0.5780880015936647,
          0.324678060031869,
          -0.2774276577344426,
          0.07706099007827202,
          -0.4468159558368656,
          -1.5645048722071986
         ],
         "xaxis": "x3",
         "y": [
          0.44869329824135673,
          0.04442947891624006,
          2.1145540519877124,
          0.48459375200395927,
          0.36985788919286805,
          1.481971281069352,
          2.0343982337154416,
          -0.4824821822177707,
          0.8309463581150035,
          -0.4349385948709931,
          -0.6756120182110634,
          -1.5925814019449025,
          0.23413023932942328,
          1.0281422105942735,
          -1.0623059466249865,
          2.2195071053364663,
          0.8756994750091641,
          0.8089835262821432,
          -0.743409264689658,
          0.04294253724257267,
          1.0684455291199384,
          0.27639677781983707,
          -1.0954222897259756,
          -1.2812049648901038,
          -0.637281296389303,
          2.111221879684574,
          -0.5513865740599511,
          1.0682633521601927,
          0.4652057414665277,
          -0.7206548172209604,
          1.2453404662443033,
          1.1397830121661918,
          0.49950650596397383,
          -0.9263185329342912,
          0.4111857860492889,
          0.7120252399106934,
          -0.7711455320738849,
          0.9950201421281071,
          -0.8274584839599624,
          0.3122126481853524,
          0.4515622771288505,
          0.6073609370855199,
          -2.170149917275103,
          1.3093912040986788,
          0.2590512674708452,
          -1.2337530482989523,
          -0.308609285621261,
          0.34858056871628357,
          -0.5259945565128492,
          0.7418184128255518,
          -0.08368524035607329,
          -0.48681829176600705,
          -0.6949219701346371,
          -1.5182275005248043,
          -0.6942761142349966,
          -0.29222643627617845,
          -0.6980315938540814,
          -1.7810575066261185,
          -0.38392005874164825,
          0.7775804455478614,
          -0.04417520548831625,
          -1.1024379175998715,
          -0.6161541682760509,
          0.2575180438792113,
          -0.5419691624897529,
          0.6017703190288322,
          -1.6905582702704653,
          0.6380563321234376,
          1.8411694643156877,
          0.9642052764057285,
          1.002877971747453,
          -1.7837200423433832,
          1.0355284326901804,
          -0.8243451510155145,
          0.3421716769811112,
          1.7152754923086335,
          -0.33329183790006034,
          -0.17785876328291492,
          0.26727742385574493,
          -1.4606113851565532,
          -1.0041165914639603,
          1.0996641205324444,
          0.048076295886310676,
          0.3881428733745407,
          -0.7623022776406418,
          1.276648665357941,
          0.17375732056573817,
          1.6164033921063847,
          0.3132317208480055,
          -0.00029622527125818443,
          -0.16420288781157838,
          -2.390517968447201,
          -0.018873881777453607,
          -1.9745352341669447,
          0.6437240829886111,
          0.609802961274568,
          -0.6262284629895819,
          1.4052370704543717,
          -0.06498383511536726,
          0.673796877062401
         ],
         "yaxis": "y3"
        },
        {
         "line": {
          "color": "rgba(128, 128, 128, 1.0)",
          "dash": "solid",
          "shape": "linear",
          "width": 1.3
         },
         "marker": {
          "size": 2,
          "symbol": "circle"
         },
         "mode": "markers",
         "name": "A",
         "text": "",
         "type": "scatter",
         "x": [
          -1.192331137475391,
          -0.00856699516992989,
          -0.8389573196718727,
          1.9038886669123798,
          -0.3578989183974868,
          1.269058584542344,
          1.2773561312604635,
          -0.32200575661072384,
          -1.0490940186819366,
          -1.535748773975125,
          -0.5818441090607093,
          -0.5749314861247098,
          -1.3102279248056667,
          -1.0391762849530102,
          0.7558886343010799,
          -1.051384429232649,
          0.7196666819492346,
          -1.0871731403771503,
          0.1256690669388479,
          -0.25887726974027453,
          0.2603387685628686,
          0.6268767408326498,
          0.4571045226885126,
          1.232746870097122,
          -0.2924730711341888,
          -0.8207390379997915,
          -0.7617087993499451,
          0.6738443082395105,
          0.8616654493127476,
          -1.3121990699226702,
          -0.30928378746053625,
          -0.5517438495604261,
          0.4727531665947437,
          0.2128581921100694,
          0.990650280645931,
          -0.2101062281883072,
          -0.8734335136941964,
          -1.0633603540720415,
          0.8977052816076212,
          -0.7152434901222349,
          1.299674495389652,
          1.0589130177247437,
          -0.4219566412429281,
          -0.39211794982348025,
          -1.5932583119182626,
          0.8380266688659123,
          2.072438376377097,
          0.9589663814410084,
          0.523644527666068,
          -1.3163798843336647,
          -0.5783770995176221,
          -1.6425874293139233,
          0.389650570163329,
          -0.627879682481188,
          -0.29358589411513,
          -0.4264987288997589,
          0.7335164454956574,
          -0.24226400319543726,
          -0.6083963260182481,
          -0.48973451618620084,
          -0.30603663731945624,
          -0.8828518049050315,
          -0.22404304472997558,
          -0.5325983785461976,
          1.3307920952800403,
          -0.5926625508213409,
          0.2374957441585812,
          -0.007262216440006755,
          0.9659048842590944,
          -2.155684785580294,
          2.198379764321302,
          1.0987298332673232,
          -1.947136657825518,
          -0.42158282972566163,
          -0.343177917073893,
          0.13409486093295325,
          -0.6214862021450471,
          -0.6873339078329382,
          0.41360925188915093,
          1.173073240291131,
          0.8411615343773262,
          0.7994068490945303,
          1.1901612344610126,
          -0.7319279564655078,
          -0.5629665160169346,
          1.1454522969763212,
          0.18419435604158182,
          1.210645426962905,
          -0.6961425292258258,
          0.10515886428625675,
          -0.36306195531419316,
          -0.03237823904710659,
          0.807735156582041,
          -0.6801244533213385,
          0.6773257561802543,
          1.234242011739503,
          1.3263288276175949,
          1.673093403226205,
          -1.7950811866485987,
          0.6706747372090567
         ],
         "xaxis": "x4",
         "y": [
          0.44869329824135673,
          0.04442947891624006,
          2.1145540519877124,
          0.48459375200395927,
          0.36985788919286805,
          1.481971281069352,
          2.0343982337154416,
          -0.4824821822177707,
          0.8309463581150035,
          -0.4349385948709931,
          -0.6756120182110634,
          -1.5925814019449025,
          0.23413023932942328,
          1.0281422105942735,
          -1.0623059466249865,
          2.2195071053364663,
          0.8756994750091641,
          0.8089835262821432,
          -0.743409264689658,
          0.04294253724257267,
          1.0684455291199384,
          0.27639677781983707,
          -1.0954222897259756,
          -1.2812049648901038,
          -0.637281296389303,
          2.111221879684574,
          -0.5513865740599511,
          1.0682633521601927,
          0.4652057414665277,
          -0.7206548172209604,
          1.2453404662443033,
          1.1397830121661918,
          0.49950650596397383,
          -0.9263185329342912,
          0.4111857860492889,
          0.7120252399106934,
          -0.7711455320738849,
          0.9950201421281071,
          -0.8274584839599624,
          0.3122126481853524,
          0.4515622771288505,
          0.6073609370855199,
          -2.170149917275103,
          1.3093912040986788,
          0.2590512674708452,
          -1.2337530482989523,
          -0.308609285621261,
          0.34858056871628357,
          -0.5259945565128492,
          0.7418184128255518,
          -0.08368524035607329,
          -0.48681829176600705,
          -0.6949219701346371,
          -1.5182275005248043,
          -0.6942761142349966,
          -0.29222643627617845,
          -0.6980315938540814,
          -1.7810575066261185,
          -0.38392005874164825,
          0.7775804455478614,
          -0.04417520548831625,
          -1.1024379175998715,
          -0.6161541682760509,
          0.2575180438792113,
          -0.5419691624897529,
          0.6017703190288322,
          -1.6905582702704653,
          0.6380563321234376,
          1.8411694643156877,
          0.9642052764057285,
          1.002877971747453,
          -1.7837200423433832,
          1.0355284326901804,
          -0.8243451510155145,
          0.3421716769811112,
          1.7152754923086335,
          -0.33329183790006034,
          -0.17785876328291492,
          0.26727742385574493,
          -1.4606113851565532,
          -1.0041165914639603,
          1.0996641205324444,
          0.048076295886310676,
          0.3881428733745407,
          -0.7623022776406418,
          1.276648665357941,
          0.17375732056573817,
          1.6164033921063847,
          0.3132317208480055,
          -0.00029622527125818443,
          -0.16420288781157838,
          -2.390517968447201,
          -0.018873881777453607,
          -1.9745352341669447,
          0.6437240829886111,
          0.609802961274568,
          -0.6262284629895819,
          1.4052370704543717,
          -0.06498383511536726,
          0.673796877062401
         ],
         "yaxis": "y4"
        },
        {
         "line": {
          "color": "rgba(128, 128, 128, 1.0)",
          "dash": "solid",
          "shape": "linear",
          "width": 1.3
         },
         "marker": {
          "size": 2,
          "symbol": "circle"
         },
         "mode": "markers",
         "name": "B",
         "text": "",
         "type": "scatter",
         "x": [
          0.44869329824135673,
          0.04442947891624006,
          2.1145540519877124,
          0.48459375200395927,
          0.36985788919286805,
          1.481971281069352,
          2.0343982337154416,
          -0.4824821822177707,
          0.8309463581150035,
          -0.4349385948709931,
          -0.6756120182110634,
          -1.5925814019449025,
          0.23413023932942328,
          1.0281422105942735,
          -1.0623059466249865,
          2.2195071053364663,
          0.8756994750091641,
          0.8089835262821432,
          -0.743409264689658,
          0.04294253724257267,
          1.0684455291199384,
          0.27639677781983707,
          -1.0954222897259756,
          -1.2812049648901038,
          -0.637281296389303,
          2.111221879684574,
          -0.5513865740599511,
          1.0682633521601927,
          0.4652057414665277,
          -0.7206548172209604,
          1.2453404662443033,
          1.1397830121661918,
          0.49950650596397383,
          -0.9263185329342912,
          0.4111857860492889,
          0.7120252399106934,
          -0.7711455320738849,
          0.9950201421281071,
          -0.8274584839599624,
          0.3122126481853524,
          0.4515622771288505,
          0.6073609370855199,
          -2.170149917275103,
          1.3093912040986788,
          0.2590512674708452,
          -1.2337530482989523,
          -0.308609285621261,
          0.34858056871628357,
          -0.5259945565128492,
          0.7418184128255518,
          -0.08368524035607329,
          -0.48681829176600705,
          -0.6949219701346371,
          -1.5182275005248043,
          -0.6942761142349966,
          -0.29222643627617845,
          -0.6980315938540814,
          -1.7810575066261185,
          -0.38392005874164825,
          0.7775804455478614,
          -0.04417520548831625,
          -1.1024379175998715,
          -0.6161541682760509,
          0.2575180438792113,
          -0.5419691624897529,
          0.6017703190288322,
          -1.6905582702704653,
          0.6380563321234376,
          1.8411694643156877,
          0.9642052764057285,
          1.002877971747453,
          -1.7837200423433832,
          1.0355284326901804,
          -0.8243451510155145,
          0.3421716769811112,
          1.7152754923086335,
          -0.33329183790006034,
          -0.17785876328291492,
          0.26727742385574493,
          -1.4606113851565532,
          -1.0041165914639603,
          1.0996641205324444,
          0.048076295886310676,
          0.3881428733745407,
          -0.7623022776406418,
          1.276648665357941,
          0.17375732056573817,
          1.6164033921063847,
          0.3132317208480055,
          -0.00029622527125818443,
          -0.16420288781157838,
          -2.390517968447201,
          -0.018873881777453607,
          -1.9745352341669447,
          0.6437240829886111,
          0.609802961274568,
          -0.6262284629895819,
          1.4052370704543717,
          -0.06498383511536726,
          0.673796877062401
         ],
         "xaxis": "x5",
         "y": [
          -1.1849432239690456,
          -0.5211376653895813,
          0.41965188826774313,
          -0.9070930374743329,
          -1.5831942364868001,
          -0.4858365830813737,
          0.7278009166335301,
          2.0221616404760145,
          0.507794572940946,
          2.0711601716091512,
          1.0104748395053536,
          -0.5848426486746308,
          0.5470577063946599,
          0.5165371941343447,
          -0.8016442671933688,
          0.288897603145818,
          1.005260388668178,
          1.6598616302267328,
          -0.5925215915659423,
          1.671554584904481,
          -0.20489334121097746,
          0.9960112769218384,
          -1.1054061041824972,
          -0.5248963018843851,
          -2.02827538041169,
          -0.7481179255865056,
          0.2391258954400187,
          -0.036886343978482165,
          0.14693839808593498,
          -1.3435550788737127,
          0.495509914100354,
          -0.3577410117056153,
          1.4057787447153953,
          -1.4396298323686851,
          2.0265956566614616,
          0.14237098853310884,
          -0.6720855188428924,
          -0.29335652809925195,
          -0.43569699647796284,
          -0.22581895031823285,
          -0.47442969869914503,
          -0.17069809986289486,
          1.3784558343562423,
          -2.207449291449941,
          0.8572827458826012,
          1.662204807114416,
          0.571471145490293,
          0.44588678869899956,
          -0.3524155474257769,
          1.2378307781006213,
          -1.4492689531910803,
          0.727622601488387,
          -1.4132155840281677,
          -0.9267015536871722,
          -0.44493820610091056,
          -0.8520553246569631,
          0.23717606545090117,
          1.491657687677004,
          0.7444833830075451,
          -0.27117666533976253,
          0.39270769256840615,
          -0.2086607631876548,
          0.9385178680801646,
          -1.0189388989003372,
          1.9449358716585041,
          -0.6255855098585659,
          1.0855482233583384,
          0.39546694491298606,
          -0.1796799824978816,
          0.9446600698055564,
          -0.4650681551742743,
          1.9444631807871682,
          -0.2513789023420614,
          -0.686686256853849,
          0.6966766328643259,
          -0.1465540592511607,
          1.6020687291155558,
          -0.051959615969177114,
          2.543342310408571,
          -0.570036449181245,
          0.9720872564921681,
          0.7685133980318168,
          -0.4631756619022978,
          0.6108351641027522,
          -0.6166118778084613,
          1.8907829068486697,
          -1.041542502652796,
          -1.5682055482136659,
          -1.050014599780345,
          -0.9700650851375957,
          -0.4779809922425408,
          -0.9087200791848067,
          -0.19970310413878423,
          -0.3117045540132173,
          -0.34515180449440186,
          0.13139098324208123,
          -0.7404657562632138,
          -2.587836670667099,
          0.12224694930872568,
          1.0282647351123904
         ],
         "yaxis": "y5"
        },
        {
         "histfunc": "count",
         "histnorm": "",
         "marker": {
          "color": "rgba(55, 128, 191, 1.0)",
          "line": {
           "color": "#4D5663",
           "width": 1.3
          }
         },
         "name": "B",
         "nbinsx": 10,
         "opacity": 0.8,
         "orientation": "v",
         "type": "histogram",
         "x": [
          -1.1849432239690456,
          -0.5211376653895813,
          0.41965188826774313,
          -0.9070930374743329,
          -1.5831942364868001,
          -0.4858365830813737,
          0.7278009166335301,
          2.0221616404760145,
          0.507794572940946,
          2.0711601716091512,
          1.0104748395053536,
          -0.5848426486746308,
          0.5470577063946599,
          0.5165371941343447,
          -0.8016442671933688,
          0.288897603145818,
          1.005260388668178,
          1.6598616302267328,
          -0.5925215915659423,
          1.671554584904481,
          -0.20489334121097746,
          0.9960112769218384,
          -1.1054061041824972,
          -0.5248963018843851,
          -2.02827538041169,
          -0.7481179255865056,
          0.2391258954400187,
          -0.036886343978482165,
          0.14693839808593498,
          -1.3435550788737127,
          0.495509914100354,
          -0.3577410117056153,
          1.4057787447153953,
          -1.4396298323686851,
          2.0265956566614616,
          0.14237098853310884,
          -0.6720855188428924,
          -0.29335652809925195,
          -0.43569699647796284,
          -0.22581895031823285,
          -0.47442969869914503,
          -0.17069809986289486,
          1.3784558343562423,
          -2.207449291449941,
          0.8572827458826012,
          1.662204807114416,
          0.571471145490293,
          0.44588678869899956,
          -0.3524155474257769,
          1.2378307781006213,
          -1.4492689531910803,
          0.727622601488387,
          -1.4132155840281677,
          -0.9267015536871722,
          -0.44493820610091056,
          -0.8520553246569631,
          0.23717606545090117,
          1.491657687677004,
          0.7444833830075451,
          -0.27117666533976253,
          0.39270769256840615,
          -0.2086607631876548,
          0.9385178680801646,
          -1.0189388989003372,
          1.9449358716585041,
          -0.6255855098585659,
          1.0855482233583384,
          0.39546694491298606,
          -0.1796799824978816,
          0.9446600698055564,
          -0.4650681551742743,
          1.9444631807871682,
          -0.2513789023420614,
          -0.686686256853849,
          0.6966766328643259,
          -0.1465540592511607,
          1.6020687291155558,
          -0.051959615969177114,
          2.543342310408571,
          -0.570036449181245,
          0.9720872564921681,
          0.7685133980318168,
          -0.4631756619022978,
          0.6108351641027522,
          -0.6166118778084613,
          1.8907829068486697,
          -1.041542502652796,
          -1.5682055482136659,
          -1.050014599780345,
          -0.9700650851375957,
          -0.4779809922425408,
          -0.9087200791848067,
          -0.19970310413878423,
          -0.3117045540132173,
          -0.34515180449440186,
          0.13139098324208123,
          -0.7404657562632138,
          -2.587836670667099,
          0.12224694930872568,
          1.0282647351123904
         ],
         "xaxis": "x6",
         "yaxis": "y6"
        },
        {
         "line": {
          "color": "rgba(128, 128, 128, 1.0)",
          "dash": "solid",
          "shape": "linear",
          "width": 1.3
         },
         "marker": {
          "size": 2,
          "symbol": "circle"
         },
         "mode": "markers",
         "name": "B",
         "text": "",
         "type": "scatter",
         "x": [
          0.9941448900416009,
          -1.415294561610848,
          -0.2362353120893795,
          -0.720913642106691,
          -0.28330368987773463,
          0.2575784789016579,
          0.891055859426488,
          0.9397412722895416,
          -0.09888252081291432,
          0.25793737305505715,
          0.48520117816869746,
          0.14381753779226583,
          0.811773458166103,
          -1.0599064818452337,
          -1.6332564775192155,
          -1.8073848444399405,
          0.40374740832669925,
          0.8494659854973792,
          -1.4540549161333602,
          -0.3281151163155895,
          -1.0539527763032357,
          -0.6452776965653212,
          0.5057237440121971,
          -0.07974431034563627,
          0.13971564504490488,
          2.224863703256889,
          -0.5299148873748046,
          0.16409586148062252,
          1.4182630497638664,
          2.1091408300500403,
          0.39558696356318745,
          1.7370656227039942,
          1.7106577502666263,
          -0.9591305665320118,
          -1.9982585422756785,
          1.0404214550368789,
          1.3564609648175052,
          -1.058212643947572,
          -0.06725531848149632,
          -0.013055235511804764,
          -0.21663782692489983,
          -0.8486090167666369,
          0.08290833662378544,
          0.7111486804402077,
          -1.2811656948246104,
          0.6649687452761156,
          1.4049769109766066,
          -1.2843268766984965,
          0.21388402124443212,
          0.0364933124121146,
          -1.0603459092474037,
          -0.5359949462632948,
          0.867436007203454,
          0.2969414505186042,
          1.335081390440413,
          0.05867517876988999,
          -0.8352678556669177,
          -0.2663536930684828,
          0.4622304335460673,
          1.7687177099845872,
          -0.1861024203918685,
          -1.0422871350309724,
          1.1790217152377844,
          0.15611665080728374,
          2.662613488310378,
          0.4800477859187476,
          0.7299235990876124,
          -0.5575025760262411,
          1.8799893527922458,
          -0.5556764713639761,
          -0.40310075709715043,
          1.2027047805085178,
          0.5900958889609973,
          0.5019455339099674,
          -0.7178861360186104,
          0.02781068977170091,
          -0.9292756790885546,
          -0.6355311527000018,
          0.7478247741092752,
          1.9251023531700413,
          1.1348473517271311,
          0.2724543576013086,
          -1.1294643051768478,
          0.015316123517693086,
          0.6031378978940842,
          -1.8813369886262623,
          1.1033974731349108,
          -0.41439545422901414,
          1.5769418167280906,
          -0.2819563325108993,
          0.9832285324633148,
          0.8991333686699359,
          -0.773394842216059,
          -0.020681247710566602,
          0.5780880015936647,
          0.324678060031869,
          -0.2774276577344426,
          0.07706099007827202,
          -0.4468159558368656,
          -1.5645048722071986
         ],
         "xaxis": "x7",
         "y": [
          -1.1849432239690456,
          -0.5211376653895813,
          0.41965188826774313,
          -0.9070930374743329,
          -1.5831942364868001,
          -0.4858365830813737,
          0.7278009166335301,
          2.0221616404760145,
          0.507794572940946,
          2.0711601716091512,
          1.0104748395053536,
          -0.5848426486746308,
          0.5470577063946599,
          0.5165371941343447,
          -0.8016442671933688,
          0.288897603145818,
          1.005260388668178,
          1.6598616302267328,
          -0.5925215915659423,
          1.671554584904481,
          -0.20489334121097746,
          0.9960112769218384,
          -1.1054061041824972,
          -0.5248963018843851,
          -2.02827538041169,
          -0.7481179255865056,
          0.2391258954400187,
          -0.036886343978482165,
          0.14693839808593498,
          -1.3435550788737127,
          0.495509914100354,
          -0.3577410117056153,
          1.4057787447153953,
          -1.4396298323686851,
          2.0265956566614616,
          0.14237098853310884,
          -0.6720855188428924,
          -0.29335652809925195,
          -0.43569699647796284,
          -0.22581895031823285,
          -0.47442969869914503,
          -0.17069809986289486,
          1.3784558343562423,
          -2.207449291449941,
          0.8572827458826012,
          1.662204807114416,
          0.571471145490293,
          0.44588678869899956,
          -0.3524155474257769,
          1.2378307781006213,
          -1.4492689531910803,
          0.727622601488387,
          -1.4132155840281677,
          -0.9267015536871722,
          -0.44493820610091056,
          -0.8520553246569631,
          0.23717606545090117,
          1.491657687677004,
          0.7444833830075451,
          -0.27117666533976253,
          0.39270769256840615,
          -0.2086607631876548,
          0.9385178680801646,
          -1.0189388989003372,
          1.9449358716585041,
          -0.6255855098585659,
          1.0855482233583384,
          0.39546694491298606,
          -0.1796799824978816,
          0.9446600698055564,
          -0.4650681551742743,
          1.9444631807871682,
          -0.2513789023420614,
          -0.686686256853849,
          0.6966766328643259,
          -0.1465540592511607,
          1.6020687291155558,
          -0.051959615969177114,
          2.543342310408571,
          -0.570036449181245,
          0.9720872564921681,
          0.7685133980318168,
          -0.4631756619022978,
          0.6108351641027522,
          -0.6166118778084613,
          1.8907829068486697,
          -1.041542502652796,
          -1.5682055482136659,
          -1.050014599780345,
          -0.9700650851375957,
          -0.4779809922425408,
          -0.9087200791848067,
          -0.19970310413878423,
          -0.3117045540132173,
          -0.34515180449440186,
          0.13139098324208123,
          -0.7404657562632138,
          -2.587836670667099,
          0.12224694930872568,
          1.0282647351123904
         ],
         "yaxis": "y7"
        },
        {
         "line": {
          "color": "rgba(128, 128, 128, 1.0)",
          "dash": "solid",
          "shape": "linear",
          "width": 1.3
         },
         "marker": {
          "size": 2,
          "symbol": "circle"
         },
         "mode": "markers",
         "name": "B",
         "text": "",
         "type": "scatter",
         "x": [
          -1.192331137475391,
          -0.00856699516992989,
          -0.8389573196718727,
          1.9038886669123798,
          -0.3578989183974868,
          1.269058584542344,
          1.2773561312604635,
          -0.32200575661072384,
          -1.0490940186819366,
          -1.535748773975125,
          -0.5818441090607093,
          -0.5749314861247098,
          -1.3102279248056667,
          -1.0391762849530102,
          0.7558886343010799,
          -1.051384429232649,
          0.7196666819492346,
          -1.0871731403771503,
          0.1256690669388479,
          -0.25887726974027453,
          0.2603387685628686,
          0.6268767408326498,
          0.4571045226885126,
          1.232746870097122,
          -0.2924730711341888,
          -0.8207390379997915,
          -0.7617087993499451,
          0.6738443082395105,
          0.8616654493127476,
          -1.3121990699226702,
          -0.30928378746053625,
          -0.5517438495604261,
          0.4727531665947437,
          0.2128581921100694,
          0.990650280645931,
          -0.2101062281883072,
          -0.8734335136941964,
          -1.0633603540720415,
          0.8977052816076212,
          -0.7152434901222349,
          1.299674495389652,
          1.0589130177247437,
          -0.4219566412429281,
          -0.39211794982348025,
          -1.5932583119182626,
          0.8380266688659123,
          2.072438376377097,
          0.9589663814410084,
          0.523644527666068,
          -1.3163798843336647,
          -0.5783770995176221,
          -1.6425874293139233,
          0.389650570163329,
          -0.627879682481188,
          -0.29358589411513,
          -0.4264987288997589,
          0.7335164454956574,
          -0.24226400319543726,
          -0.6083963260182481,
          -0.48973451618620084,
          -0.30603663731945624,
          -0.8828518049050315,
          -0.22404304472997558,
          -0.5325983785461976,
          1.3307920952800403,
          -0.5926625508213409,
          0.2374957441585812,
          -0.007262216440006755,
          0.9659048842590944,
          -2.155684785580294,
          2.198379764321302,
          1.0987298332673232,
          -1.947136657825518,
          -0.42158282972566163,
          -0.343177917073893,
          0.13409486093295325,
          -0.6214862021450471,
          -0.6873339078329382,
          0.41360925188915093,
          1.173073240291131,
          0.8411615343773262,
          0.7994068490945303,
          1.1901612344610126,
          -0.7319279564655078,
          -0.5629665160169346,
          1.1454522969763212,
          0.18419435604158182,
          1.210645426962905,
          -0.6961425292258258,
          0.10515886428625675,
          -0.36306195531419316,
          -0.03237823904710659,
          0.807735156582041,
          -0.6801244533213385,
          0.6773257561802543,
          1.234242011739503,
          1.3263288276175949,
          1.673093403226205,
          -1.7950811866485987,
          0.6706747372090567
         ],
         "xaxis": "x8",
         "y": [
          -1.1849432239690456,
          -0.5211376653895813,
          0.41965188826774313,
          -0.9070930374743329,
          -1.5831942364868001,
          -0.4858365830813737,
          0.7278009166335301,
          2.0221616404760145,
          0.507794572940946,
          2.0711601716091512,
          1.0104748395053536,
          -0.5848426486746308,
          0.5470577063946599,
          0.5165371941343447,
          -0.8016442671933688,
          0.288897603145818,
          1.005260388668178,
          1.6598616302267328,
          -0.5925215915659423,
          1.671554584904481,
          -0.20489334121097746,
          0.9960112769218384,
          -1.1054061041824972,
          -0.5248963018843851,
          -2.02827538041169,
          -0.7481179255865056,
          0.2391258954400187,
          -0.036886343978482165,
          0.14693839808593498,
          -1.3435550788737127,
          0.495509914100354,
          -0.3577410117056153,
          1.4057787447153953,
          -1.4396298323686851,
          2.0265956566614616,
          0.14237098853310884,
          -0.6720855188428924,
          -0.29335652809925195,
          -0.43569699647796284,
          -0.22581895031823285,
          -0.47442969869914503,
          -0.17069809986289486,
          1.3784558343562423,
          -2.207449291449941,
          0.8572827458826012,
          1.662204807114416,
          0.571471145490293,
          0.44588678869899956,
          -0.3524155474257769,
          1.2378307781006213,
          -1.4492689531910803,
          0.727622601488387,
          -1.4132155840281677,
          -0.9267015536871722,
          -0.44493820610091056,
          -0.8520553246569631,
          0.23717606545090117,
          1.491657687677004,
          0.7444833830075451,
          -0.27117666533976253,
          0.39270769256840615,
          -0.2086607631876548,
          0.9385178680801646,
          -1.0189388989003372,
          1.9449358716585041,
          -0.6255855098585659,
          1.0855482233583384,
          0.39546694491298606,
          -0.1796799824978816,
          0.9446600698055564,
          -0.4650681551742743,
          1.9444631807871682,
          -0.2513789023420614,
          -0.686686256853849,
          0.6966766328643259,
          -0.1465540592511607,
          1.6020687291155558,
          -0.051959615969177114,
          2.543342310408571,
          -0.570036449181245,
          0.9720872564921681,
          0.7685133980318168,
          -0.4631756619022978,
          0.6108351641027522,
          -0.6166118778084613,
          1.8907829068486697,
          -1.041542502652796,
          -1.5682055482136659,
          -1.050014599780345,
          -0.9700650851375957,
          -0.4779809922425408,
          -0.9087200791848067,
          -0.19970310413878423,
          -0.3117045540132173,
          -0.34515180449440186,
          0.13139098324208123,
          -0.7404657562632138,
          -2.587836670667099,
          0.12224694930872568,
          1.0282647351123904
         ],
         "yaxis": "y8"
        },
        {
         "line": {
          "color": "rgba(128, 128, 128, 1.0)",
          "dash": "solid",
          "shape": "linear",
          "width": 1.3
         },
         "marker": {
          "size": 2,
          "symbol": "circle"
         },
         "mode": "markers",
         "name": "C",
         "text": "",
         "type": "scatter",
         "x": [
          0.44869329824135673,
          0.04442947891624006,
          2.1145540519877124,
          0.48459375200395927,
          0.36985788919286805,
          1.481971281069352,
          2.0343982337154416,
          -0.4824821822177707,
          0.8309463581150035,
          -0.4349385948709931,
          -0.6756120182110634,
          -1.5925814019449025,
          0.23413023932942328,
          1.0281422105942735,
          -1.0623059466249865,
          2.2195071053364663,
          0.8756994750091641,
          0.8089835262821432,
          -0.743409264689658,
          0.04294253724257267,
          1.0684455291199384,
          0.27639677781983707,
          -1.0954222897259756,
          -1.2812049648901038,
          -0.637281296389303,
          2.111221879684574,
          -0.5513865740599511,
          1.0682633521601927,
          0.4652057414665277,
          -0.7206548172209604,
          1.2453404662443033,
          1.1397830121661918,
          0.49950650596397383,
          -0.9263185329342912,
          0.4111857860492889,
          0.7120252399106934,
          -0.7711455320738849,
          0.9950201421281071,
          -0.8274584839599624,
          0.3122126481853524,
          0.4515622771288505,
          0.6073609370855199,
          -2.170149917275103,
          1.3093912040986788,
          0.2590512674708452,
          -1.2337530482989523,
          -0.308609285621261,
          0.34858056871628357,
          -0.5259945565128492,
          0.7418184128255518,
          -0.08368524035607329,
          -0.48681829176600705,
          -0.6949219701346371,
          -1.5182275005248043,
          -0.6942761142349966,
          -0.29222643627617845,
          -0.6980315938540814,
          -1.7810575066261185,
          -0.38392005874164825,
          0.7775804455478614,
          -0.04417520548831625,
          -1.1024379175998715,
          -0.6161541682760509,
          0.2575180438792113,
          -0.5419691624897529,
          0.6017703190288322,
          -1.6905582702704653,
          0.6380563321234376,
          1.8411694643156877,
          0.9642052764057285,
          1.002877971747453,
          -1.7837200423433832,
          1.0355284326901804,
          -0.8243451510155145,
          0.3421716769811112,
          1.7152754923086335,
          -0.33329183790006034,
          -0.17785876328291492,
          0.26727742385574493,
          -1.4606113851565532,
          -1.0041165914639603,
          1.0996641205324444,
          0.048076295886310676,
          0.3881428733745407,
          -0.7623022776406418,
          1.276648665357941,
          0.17375732056573817,
          1.6164033921063847,
          0.3132317208480055,
          -0.00029622527125818443,
          -0.16420288781157838,
          -2.390517968447201,
          -0.018873881777453607,
          -1.9745352341669447,
          0.6437240829886111,
          0.609802961274568,
          -0.6262284629895819,
          1.4052370704543717,
          -0.06498383511536726,
          0.673796877062401
         ],
         "xaxis": "x9",
         "y": [
          0.9941448900416009,
          -1.415294561610848,
          -0.2362353120893795,
          -0.720913642106691,
          -0.28330368987773463,
          0.2575784789016579,
          0.891055859426488,
          0.9397412722895416,
          -0.09888252081291432,
          0.25793737305505715,
          0.48520117816869746,
          0.14381753779226583,
          0.811773458166103,
          -1.0599064818452337,
          -1.6332564775192155,
          -1.8073848444399405,
          0.40374740832669925,
          0.8494659854973792,
          -1.4540549161333602,
          -0.3281151163155895,
          -1.0539527763032357,
          -0.6452776965653212,
          0.5057237440121971,
          -0.07974431034563627,
          0.13971564504490488,
          2.224863703256889,
          -0.5299148873748046,
          0.16409586148062252,
          1.4182630497638664,
          2.1091408300500403,
          0.39558696356318745,
          1.7370656227039942,
          1.7106577502666263,
          -0.9591305665320118,
          -1.9982585422756785,
          1.0404214550368789,
          1.3564609648175052,
          -1.058212643947572,
          -0.06725531848149632,
          -0.013055235511804764,
          -0.21663782692489983,
          -0.8486090167666369,
          0.08290833662378544,
          0.7111486804402077,
          -1.2811656948246104,
          0.6649687452761156,
          1.4049769109766066,
          -1.2843268766984965,
          0.21388402124443212,
          0.0364933124121146,
          -1.0603459092474037,
          -0.5359949462632948,
          0.867436007203454,
          0.2969414505186042,
          1.335081390440413,
          0.05867517876988999,
          -0.8352678556669177,
          -0.2663536930684828,
          0.4622304335460673,
          1.7687177099845872,
          -0.1861024203918685,
          -1.0422871350309724,
          1.1790217152377844,
          0.15611665080728374,
          2.662613488310378,
          0.4800477859187476,
          0.7299235990876124,
          -0.5575025760262411,
          1.8799893527922458,
          -0.5556764713639761,
          -0.40310075709715043,
          1.2027047805085178,
          0.5900958889609973,
          0.5019455339099674,
          -0.7178861360186104,
          0.02781068977170091,
          -0.9292756790885546,
          -0.6355311527000018,
          0.7478247741092752,
          1.9251023531700413,
          1.1348473517271311,
          0.2724543576013086,
          -1.1294643051768478,
          0.015316123517693086,
          0.6031378978940842,
          -1.8813369886262623,
          1.1033974731349108,
          -0.41439545422901414,
          1.5769418167280906,
          -0.2819563325108993,
          0.9832285324633148,
          0.8991333686699359,
          -0.773394842216059,
          -0.020681247710566602,
          0.5780880015936647,
          0.324678060031869,
          -0.2774276577344426,
          0.07706099007827202,
          -0.4468159558368656,
          -1.5645048722071986
         ],
         "yaxis": "y9"
        },
        {
         "line": {
          "color": "rgba(128, 128, 128, 1.0)",
          "dash": "solid",
          "shape": "linear",
          "width": 1.3
         },
         "marker": {
          "size": 2,
          "symbol": "circle"
         },
         "mode": "markers",
         "name": "C",
         "text": "",
         "type": "scatter",
         "x": [
          -1.1849432239690456,
          -0.5211376653895813,
          0.41965188826774313,
          -0.9070930374743329,
          -1.5831942364868001,
          -0.4858365830813737,
          0.7278009166335301,
          2.0221616404760145,
          0.507794572940946,
          2.0711601716091512,
          1.0104748395053536,
          -0.5848426486746308,
          0.5470577063946599,
          0.5165371941343447,
          -0.8016442671933688,
          0.288897603145818,
          1.005260388668178,
          1.6598616302267328,
          -0.5925215915659423,
          1.671554584904481,
          -0.20489334121097746,
          0.9960112769218384,
          -1.1054061041824972,
          -0.5248963018843851,
          -2.02827538041169,
          -0.7481179255865056,
          0.2391258954400187,
          -0.036886343978482165,
          0.14693839808593498,
          -1.3435550788737127,
          0.495509914100354,
          -0.3577410117056153,
          1.4057787447153953,
          -1.4396298323686851,
          2.0265956566614616,
          0.14237098853310884,
          -0.6720855188428924,
          -0.29335652809925195,
          -0.43569699647796284,
          -0.22581895031823285,
          -0.47442969869914503,
          -0.17069809986289486,
          1.3784558343562423,
          -2.207449291449941,
          0.8572827458826012,
          1.662204807114416,
          0.571471145490293,
          0.44588678869899956,
          -0.3524155474257769,
          1.2378307781006213,
          -1.4492689531910803,
          0.727622601488387,
          -1.4132155840281677,
          -0.9267015536871722,
          -0.44493820610091056,
          -0.8520553246569631,
          0.23717606545090117,
          1.491657687677004,
          0.7444833830075451,
          -0.27117666533976253,
          0.39270769256840615,
          -0.2086607631876548,
          0.9385178680801646,
          -1.0189388989003372,
          1.9449358716585041,
          -0.6255855098585659,
          1.0855482233583384,
          0.39546694491298606,
          -0.1796799824978816,
          0.9446600698055564,
          -0.4650681551742743,
          1.9444631807871682,
          -0.2513789023420614,
          -0.686686256853849,
          0.6966766328643259,
          -0.1465540592511607,
          1.6020687291155558,
          -0.051959615969177114,
          2.543342310408571,
          -0.570036449181245,
          0.9720872564921681,
          0.7685133980318168,
          -0.4631756619022978,
          0.6108351641027522,
          -0.6166118778084613,
          1.8907829068486697,
          -1.041542502652796,
          -1.5682055482136659,
          -1.050014599780345,
          -0.9700650851375957,
          -0.4779809922425408,
          -0.9087200791848067,
          -0.19970310413878423,
          -0.3117045540132173,
          -0.34515180449440186,
          0.13139098324208123,
          -0.7404657562632138,
          -2.587836670667099,
          0.12224694930872568,
          1.0282647351123904
         ],
         "xaxis": "x10",
         "y": [
          0.9941448900416009,
          -1.415294561610848,
          -0.2362353120893795,
          -0.720913642106691,
          -0.28330368987773463,
          0.2575784789016579,
          0.891055859426488,
          0.9397412722895416,
          -0.09888252081291432,
          0.25793737305505715,
          0.48520117816869746,
          0.14381753779226583,
          0.811773458166103,
          -1.0599064818452337,
          -1.6332564775192155,
          -1.8073848444399405,
          0.40374740832669925,
          0.8494659854973792,
          -1.4540549161333602,
          -0.3281151163155895,
          -1.0539527763032357,
          -0.6452776965653212,
          0.5057237440121971,
          -0.07974431034563627,
          0.13971564504490488,
          2.224863703256889,
          -0.5299148873748046,
          0.16409586148062252,
          1.4182630497638664,
          2.1091408300500403,
          0.39558696356318745,
          1.7370656227039942,
          1.7106577502666263,
          -0.9591305665320118,
          -1.9982585422756785,
          1.0404214550368789,
          1.3564609648175052,
          -1.058212643947572,
          -0.06725531848149632,
          -0.013055235511804764,
          -0.21663782692489983,
          -0.8486090167666369,
          0.08290833662378544,
          0.7111486804402077,
          -1.2811656948246104,
          0.6649687452761156,
          1.4049769109766066,
          -1.2843268766984965,
          0.21388402124443212,
          0.0364933124121146,
          -1.0603459092474037,
          -0.5359949462632948,
          0.867436007203454,
          0.2969414505186042,
          1.335081390440413,
          0.05867517876988999,
          -0.8352678556669177,
          -0.2663536930684828,
          0.4622304335460673,
          1.7687177099845872,
          -0.1861024203918685,
          -1.0422871350309724,
          1.1790217152377844,
          0.15611665080728374,
          2.662613488310378,
          0.4800477859187476,
          0.7299235990876124,
          -0.5575025760262411,
          1.8799893527922458,
          -0.5556764713639761,
          -0.40310075709715043,
          1.2027047805085178,
          0.5900958889609973,
          0.5019455339099674,
          -0.7178861360186104,
          0.02781068977170091,
          -0.9292756790885546,
          -0.6355311527000018,
          0.7478247741092752,
          1.9251023531700413,
          1.1348473517271311,
          0.2724543576013086,
          -1.1294643051768478,
          0.015316123517693086,
          0.6031378978940842,
          -1.8813369886262623,
          1.1033974731349108,
          -0.41439545422901414,
          1.5769418167280906,
          -0.2819563325108993,
          0.9832285324633148,
          0.8991333686699359,
          -0.773394842216059,
          -0.020681247710566602,
          0.5780880015936647,
          0.324678060031869,
          -0.2774276577344426,
          0.07706099007827202,
          -0.4468159558368656,
          -1.5645048722071986
         ],
         "yaxis": "y10"
        },
        {
         "histfunc": "count",
         "histnorm": "",
         "marker": {
          "color": "rgba(50, 171, 96, 1.0)",
          "line": {
           "color": "#4D5663",
           "width": 1.3
          }
         },
         "name": "C",
         "nbinsx": 10,
         "opacity": 0.8,
         "orientation": "v",
         "type": "histogram",
         "x": [
          0.9941448900416009,
          -1.415294561610848,
          -0.2362353120893795,
          -0.720913642106691,
          -0.28330368987773463,
          0.2575784789016579,
          0.891055859426488,
          0.9397412722895416,
          -0.09888252081291432,
          0.25793737305505715,
          0.48520117816869746,
          0.14381753779226583,
          0.811773458166103,
          -1.0599064818452337,
          -1.6332564775192155,
          -1.8073848444399405,
          0.40374740832669925,
          0.8494659854973792,
          -1.4540549161333602,
          -0.3281151163155895,
          -1.0539527763032357,
          -0.6452776965653212,
          0.5057237440121971,
          -0.07974431034563627,
          0.13971564504490488,
          2.224863703256889,
          -0.5299148873748046,
          0.16409586148062252,
          1.4182630497638664,
          2.1091408300500403,
          0.39558696356318745,
          1.7370656227039942,
          1.7106577502666263,
          -0.9591305665320118,
          -1.9982585422756785,
          1.0404214550368789,
          1.3564609648175052,
          -1.058212643947572,
          -0.06725531848149632,
          -0.013055235511804764,
          -0.21663782692489983,
          -0.8486090167666369,
          0.08290833662378544,
          0.7111486804402077,
          -1.2811656948246104,
          0.6649687452761156,
          1.4049769109766066,
          -1.2843268766984965,
          0.21388402124443212,
          0.0364933124121146,
          -1.0603459092474037,
          -0.5359949462632948,
          0.867436007203454,
          0.2969414505186042,
          1.335081390440413,
          0.05867517876988999,
          -0.8352678556669177,
          -0.2663536930684828,
          0.4622304335460673,
          1.7687177099845872,
          -0.1861024203918685,
          -1.0422871350309724,
          1.1790217152377844,
          0.15611665080728374,
          2.662613488310378,
          0.4800477859187476,
          0.7299235990876124,
          -0.5575025760262411,
          1.8799893527922458,
          -0.5556764713639761,
          -0.40310075709715043,
          1.2027047805085178,
          0.5900958889609973,
          0.5019455339099674,
          -0.7178861360186104,
          0.02781068977170091,
          -0.9292756790885546,
          -0.6355311527000018,
          0.7478247741092752,
          1.9251023531700413,
          1.1348473517271311,
          0.2724543576013086,
          -1.1294643051768478,
          0.015316123517693086,
          0.6031378978940842,
          -1.8813369886262623,
          1.1033974731349108,
          -0.41439545422901414,
          1.5769418167280906,
          -0.2819563325108993,
          0.9832285324633148,
          0.8991333686699359,
          -0.773394842216059,
          -0.020681247710566602,
          0.5780880015936647,
          0.324678060031869,
          -0.2774276577344426,
          0.07706099007827202,
          -0.4468159558368656,
          -1.5645048722071986
         ],
         "xaxis": "x11",
         "yaxis": "y11"
        },
        {
         "line": {
          "color": "rgba(128, 128, 128, 1.0)",
          "dash": "solid",
          "shape": "linear",
          "width": 1.3
         },
         "marker": {
          "size": 2,
          "symbol": "circle"
         },
         "mode": "markers",
         "name": "C",
         "text": "",
         "type": "scatter",
         "x": [
          -1.192331137475391,
          -0.00856699516992989,
          -0.8389573196718727,
          1.9038886669123798,
          -0.3578989183974868,
          1.269058584542344,
          1.2773561312604635,
          -0.32200575661072384,
          -1.0490940186819366,
          -1.535748773975125,
          -0.5818441090607093,
          -0.5749314861247098,
          -1.3102279248056667,
          -1.0391762849530102,
          0.7558886343010799,
          -1.051384429232649,
          0.7196666819492346,
          -1.0871731403771503,
          0.1256690669388479,
          -0.25887726974027453,
          0.2603387685628686,
          0.6268767408326498,
          0.4571045226885126,
          1.232746870097122,
          -0.2924730711341888,
          -0.8207390379997915,
          -0.7617087993499451,
          0.6738443082395105,
          0.8616654493127476,
          -1.3121990699226702,
          -0.30928378746053625,
          -0.5517438495604261,
          0.4727531665947437,
          0.2128581921100694,
          0.990650280645931,
          -0.2101062281883072,
          -0.8734335136941964,
          -1.0633603540720415,
          0.8977052816076212,
          -0.7152434901222349,
          1.299674495389652,
          1.0589130177247437,
          -0.4219566412429281,
          -0.39211794982348025,
          -1.5932583119182626,
          0.8380266688659123,
          2.072438376377097,
          0.9589663814410084,
          0.523644527666068,
          -1.3163798843336647,
          -0.5783770995176221,
          -1.6425874293139233,
          0.389650570163329,
          -0.627879682481188,
          -0.29358589411513,
          -0.4264987288997589,
          0.7335164454956574,
          -0.24226400319543726,
          -0.6083963260182481,
          -0.48973451618620084,
          -0.30603663731945624,
          -0.8828518049050315,
          -0.22404304472997558,
          -0.5325983785461976,
          1.3307920952800403,
          -0.5926625508213409,
          0.2374957441585812,
          -0.007262216440006755,
          0.9659048842590944,
          -2.155684785580294,
          2.198379764321302,
          1.0987298332673232,
          -1.947136657825518,
          -0.42158282972566163,
          -0.343177917073893,
          0.13409486093295325,
          -0.6214862021450471,
          -0.6873339078329382,
          0.41360925188915093,
          1.173073240291131,
          0.8411615343773262,
          0.7994068490945303,
          1.1901612344610126,
          -0.7319279564655078,
          -0.5629665160169346,
          1.1454522969763212,
          0.18419435604158182,
          1.210645426962905,
          -0.6961425292258258,
          0.10515886428625675,
          -0.36306195531419316,
          -0.03237823904710659,
          0.807735156582041,
          -0.6801244533213385,
          0.6773257561802543,
          1.234242011739503,
          1.3263288276175949,
          1.673093403226205,
          -1.7950811866485987,
          0.6706747372090567
         ],
         "xaxis": "x12",
         "y": [
          0.9941448900416009,
          -1.415294561610848,
          -0.2362353120893795,
          -0.720913642106691,
          -0.28330368987773463,
          0.2575784789016579,
          0.891055859426488,
          0.9397412722895416,
          -0.09888252081291432,
          0.25793737305505715,
          0.48520117816869746,
          0.14381753779226583,
          0.811773458166103,
          -1.0599064818452337,
          -1.6332564775192155,
          -1.8073848444399405,
          0.40374740832669925,
          0.8494659854973792,
          -1.4540549161333602,
          -0.3281151163155895,
          -1.0539527763032357,
          -0.6452776965653212,
          0.5057237440121971,
          -0.07974431034563627,
          0.13971564504490488,
          2.224863703256889,
          -0.5299148873748046,
          0.16409586148062252,
          1.4182630497638664,
          2.1091408300500403,
          0.39558696356318745,
          1.7370656227039942,
          1.7106577502666263,
          -0.9591305665320118,
          -1.9982585422756785,
          1.0404214550368789,
          1.3564609648175052,
          -1.058212643947572,
          -0.06725531848149632,
          -0.013055235511804764,
          -0.21663782692489983,
          -0.8486090167666369,
          0.08290833662378544,
          0.7111486804402077,
          -1.2811656948246104,
          0.6649687452761156,
          1.4049769109766066,
          -1.2843268766984965,
          0.21388402124443212,
          0.0364933124121146,
          -1.0603459092474037,
          -0.5359949462632948,
          0.867436007203454,
          0.2969414505186042,
          1.335081390440413,
          0.05867517876988999,
          -0.8352678556669177,
          -0.2663536930684828,
          0.4622304335460673,
          1.7687177099845872,
          -0.1861024203918685,
          -1.0422871350309724,
          1.1790217152377844,
          0.15611665080728374,
          2.662613488310378,
          0.4800477859187476,
          0.7299235990876124,
          -0.5575025760262411,
          1.8799893527922458,
          -0.5556764713639761,
          -0.40310075709715043,
          1.2027047805085178,
          0.5900958889609973,
          0.5019455339099674,
          -0.7178861360186104,
          0.02781068977170091,
          -0.9292756790885546,
          -0.6355311527000018,
          0.7478247741092752,
          1.9251023531700413,
          1.1348473517271311,
          0.2724543576013086,
          -1.1294643051768478,
          0.015316123517693086,
          0.6031378978940842,
          -1.8813369886262623,
          1.1033974731349108,
          -0.41439545422901414,
          1.5769418167280906,
          -0.2819563325108993,
          0.9832285324633148,
          0.8991333686699359,
          -0.773394842216059,
          -0.020681247710566602,
          0.5780880015936647,
          0.324678060031869,
          -0.2774276577344426,
          0.07706099007827202,
          -0.4468159558368656,
          -1.5645048722071986
         ],
         "yaxis": "y12"
        },
        {
         "line": {
          "color": "rgba(128, 128, 128, 1.0)",
          "dash": "solid",
          "shape": "linear",
          "width": 1.3
         },
         "marker": {
          "size": 2,
          "symbol": "circle"
         },
         "mode": "markers",
         "name": "D",
         "text": "",
         "type": "scatter",
         "x": [
          0.44869329824135673,
          0.04442947891624006,
          2.1145540519877124,
          0.48459375200395927,
          0.36985788919286805,
          1.481971281069352,
          2.0343982337154416,
          -0.4824821822177707,
          0.8309463581150035,
          -0.4349385948709931,
          -0.6756120182110634,
          -1.5925814019449025,
          0.23413023932942328,
          1.0281422105942735,
          -1.0623059466249865,
          2.2195071053364663,
          0.8756994750091641,
          0.8089835262821432,
          -0.743409264689658,
          0.04294253724257267,
          1.0684455291199384,
          0.27639677781983707,
          -1.0954222897259756,
          -1.2812049648901038,
          -0.637281296389303,
          2.111221879684574,
          -0.5513865740599511,
          1.0682633521601927,
          0.4652057414665277,
          -0.7206548172209604,
          1.2453404662443033,
          1.1397830121661918,
          0.49950650596397383,
          -0.9263185329342912,
          0.4111857860492889,
          0.7120252399106934,
          -0.7711455320738849,
          0.9950201421281071,
          -0.8274584839599624,
          0.3122126481853524,
          0.4515622771288505,
          0.6073609370855199,
          -2.170149917275103,
          1.3093912040986788,
          0.2590512674708452,
          -1.2337530482989523,
          -0.308609285621261,
          0.34858056871628357,
          -0.5259945565128492,
          0.7418184128255518,
          -0.08368524035607329,
          -0.48681829176600705,
          -0.6949219701346371,
          -1.5182275005248043,
          -0.6942761142349966,
          -0.29222643627617845,
          -0.6980315938540814,
          -1.7810575066261185,
          -0.38392005874164825,
          0.7775804455478614,
          -0.04417520548831625,
          -1.1024379175998715,
          -0.6161541682760509,
          0.2575180438792113,
          -0.5419691624897529,
          0.6017703190288322,
          -1.6905582702704653,
          0.6380563321234376,
          1.8411694643156877,
          0.9642052764057285,
          1.002877971747453,
          -1.7837200423433832,
          1.0355284326901804,
          -0.8243451510155145,
          0.3421716769811112,
          1.7152754923086335,
          -0.33329183790006034,
          -0.17785876328291492,
          0.26727742385574493,
          -1.4606113851565532,
          -1.0041165914639603,
          1.0996641205324444,
          0.048076295886310676,
          0.3881428733745407,
          -0.7623022776406418,
          1.276648665357941,
          0.17375732056573817,
          1.6164033921063847,
          0.3132317208480055,
          -0.00029622527125818443,
          -0.16420288781157838,
          -2.390517968447201,
          -0.018873881777453607,
          -1.9745352341669447,
          0.6437240829886111,
          0.609802961274568,
          -0.6262284629895819,
          1.4052370704543717,
          -0.06498383511536726,
          0.673796877062401
         ],
         "xaxis": "x13",
         "y": [
          -1.192331137475391,
          -0.00856699516992989,
          -0.8389573196718727,
          1.9038886669123798,
          -0.3578989183974868,
          1.269058584542344,
          1.2773561312604635,
          -0.32200575661072384,
          -1.0490940186819366,
          -1.535748773975125,
          -0.5818441090607093,
          -0.5749314861247098,
          -1.3102279248056667,
          -1.0391762849530102,
          0.7558886343010799,
          -1.051384429232649,
          0.7196666819492346,
          -1.0871731403771503,
          0.1256690669388479,
          -0.25887726974027453,
          0.2603387685628686,
          0.6268767408326498,
          0.4571045226885126,
          1.232746870097122,
          -0.2924730711341888,
          -0.8207390379997915,
          -0.7617087993499451,
          0.6738443082395105,
          0.8616654493127476,
          -1.3121990699226702,
          -0.30928378746053625,
          -0.5517438495604261,
          0.4727531665947437,
          0.2128581921100694,
          0.990650280645931,
          -0.2101062281883072,
          -0.8734335136941964,
          -1.0633603540720415,
          0.8977052816076212,
          -0.7152434901222349,
          1.299674495389652,
          1.0589130177247437,
          -0.4219566412429281,
          -0.39211794982348025,
          -1.5932583119182626,
          0.8380266688659123,
          2.072438376377097,
          0.9589663814410084,
          0.523644527666068,
          -1.3163798843336647,
          -0.5783770995176221,
          -1.6425874293139233,
          0.389650570163329,
          -0.627879682481188,
          -0.29358589411513,
          -0.4264987288997589,
          0.7335164454956574,
          -0.24226400319543726,
          -0.6083963260182481,
          -0.48973451618620084,
          -0.30603663731945624,
          -0.8828518049050315,
          -0.22404304472997558,
          -0.5325983785461976,
          1.3307920952800403,
          -0.5926625508213409,
          0.2374957441585812,
          -0.007262216440006755,
          0.9659048842590944,
          -2.155684785580294,
          2.198379764321302,
          1.0987298332673232,
          -1.947136657825518,
          -0.42158282972566163,
          -0.343177917073893,
          0.13409486093295325,
          -0.6214862021450471,
          -0.6873339078329382,
          0.41360925188915093,
          1.173073240291131,
          0.8411615343773262,
          0.7994068490945303,
          1.1901612344610126,
          -0.7319279564655078,
          -0.5629665160169346,
          1.1454522969763212,
          0.18419435604158182,
          1.210645426962905,
          -0.6961425292258258,
          0.10515886428625675,
          -0.36306195531419316,
          -0.03237823904710659,
          0.807735156582041,
          -0.6801244533213385,
          0.6773257561802543,
          1.234242011739503,
          1.3263288276175949,
          1.673093403226205,
          -1.7950811866485987,
          0.6706747372090567
         ],
         "yaxis": "y13"
        },
        {
         "line": {
          "color": "rgba(128, 128, 128, 1.0)",
          "dash": "solid",
          "shape": "linear",
          "width": 1.3
         },
         "marker": {
          "size": 2,
          "symbol": "circle"
         },
         "mode": "markers",
         "name": "D",
         "text": "",
         "type": "scatter",
         "x": [
          -1.1849432239690456,
          -0.5211376653895813,
          0.41965188826774313,
          -0.9070930374743329,
          -1.5831942364868001,
          -0.4858365830813737,
          0.7278009166335301,
          2.0221616404760145,
          0.507794572940946,
          2.0711601716091512,
          1.0104748395053536,
          -0.5848426486746308,
          0.5470577063946599,
          0.5165371941343447,
          -0.8016442671933688,
          0.288897603145818,
          1.005260388668178,
          1.6598616302267328,
          -0.5925215915659423,
          1.671554584904481,
          -0.20489334121097746,
          0.9960112769218384,
          -1.1054061041824972,
          -0.5248963018843851,
          -2.02827538041169,
          -0.7481179255865056,
          0.2391258954400187,
          -0.036886343978482165,
          0.14693839808593498,
          -1.3435550788737127,
          0.495509914100354,
          -0.3577410117056153,
          1.4057787447153953,
          -1.4396298323686851,
          2.0265956566614616,
          0.14237098853310884,
          -0.6720855188428924,
          -0.29335652809925195,
          -0.43569699647796284,
          -0.22581895031823285,
          -0.47442969869914503,
          -0.17069809986289486,
          1.3784558343562423,
          -2.207449291449941,
          0.8572827458826012,
          1.662204807114416,
          0.571471145490293,
          0.44588678869899956,
          -0.3524155474257769,
          1.2378307781006213,
          -1.4492689531910803,
          0.727622601488387,
          -1.4132155840281677,
          -0.9267015536871722,
          -0.44493820610091056,
          -0.8520553246569631,
          0.23717606545090117,
          1.491657687677004,
          0.7444833830075451,
          -0.27117666533976253,
          0.39270769256840615,
          -0.2086607631876548,
          0.9385178680801646,
          -1.0189388989003372,
          1.9449358716585041,
          -0.6255855098585659,
          1.0855482233583384,
          0.39546694491298606,
          -0.1796799824978816,
          0.9446600698055564,
          -0.4650681551742743,
          1.9444631807871682,
          -0.2513789023420614,
          -0.686686256853849,
          0.6966766328643259,
          -0.1465540592511607,
          1.6020687291155558,
          -0.051959615969177114,
          2.543342310408571,
          -0.570036449181245,
          0.9720872564921681,
          0.7685133980318168,
          -0.4631756619022978,
          0.6108351641027522,
          -0.6166118778084613,
          1.8907829068486697,
          -1.041542502652796,
          -1.5682055482136659,
          -1.050014599780345,
          -0.9700650851375957,
          -0.4779809922425408,
          -0.9087200791848067,
          -0.19970310413878423,
          -0.3117045540132173,
          -0.34515180449440186,
          0.13139098324208123,
          -0.7404657562632138,
          -2.587836670667099,
          0.12224694930872568,
          1.0282647351123904
         ],
         "xaxis": "x14",
         "y": [
          -1.192331137475391,
          -0.00856699516992989,
          -0.8389573196718727,
          1.9038886669123798,
          -0.3578989183974868,
          1.269058584542344,
          1.2773561312604635,
          -0.32200575661072384,
          -1.0490940186819366,
          -1.535748773975125,
          -0.5818441090607093,
          -0.5749314861247098,
          -1.3102279248056667,
          -1.0391762849530102,
          0.7558886343010799,
          -1.051384429232649,
          0.7196666819492346,
          -1.0871731403771503,
          0.1256690669388479,
          -0.25887726974027453,
          0.2603387685628686,
          0.6268767408326498,
          0.4571045226885126,
          1.232746870097122,
          -0.2924730711341888,
          -0.8207390379997915,
          -0.7617087993499451,
          0.6738443082395105,
          0.8616654493127476,
          -1.3121990699226702,
          -0.30928378746053625,
          -0.5517438495604261,
          0.4727531665947437,
          0.2128581921100694,
          0.990650280645931,
          -0.2101062281883072,
          -0.8734335136941964,
          -1.0633603540720415,
          0.8977052816076212,
          -0.7152434901222349,
          1.299674495389652,
          1.0589130177247437,
          -0.4219566412429281,
          -0.39211794982348025,
          -1.5932583119182626,
          0.8380266688659123,
          2.072438376377097,
          0.9589663814410084,
          0.523644527666068,
          -1.3163798843336647,
          -0.5783770995176221,
          -1.6425874293139233,
          0.389650570163329,
          -0.627879682481188,
          -0.29358589411513,
          -0.4264987288997589,
          0.7335164454956574,
          -0.24226400319543726,
          -0.6083963260182481,
          -0.48973451618620084,
          -0.30603663731945624,
          -0.8828518049050315,
          -0.22404304472997558,
          -0.5325983785461976,
          1.3307920952800403,
          -0.5926625508213409,
          0.2374957441585812,
          -0.007262216440006755,
          0.9659048842590944,
          -2.155684785580294,
          2.198379764321302,
          1.0987298332673232,
          -1.947136657825518,
          -0.42158282972566163,
          -0.343177917073893,
          0.13409486093295325,
          -0.6214862021450471,
          -0.6873339078329382,
          0.41360925188915093,
          1.173073240291131,
          0.8411615343773262,
          0.7994068490945303,
          1.1901612344610126,
          -0.7319279564655078,
          -0.5629665160169346,
          1.1454522969763212,
          0.18419435604158182,
          1.210645426962905,
          -0.6961425292258258,
          0.10515886428625675,
          -0.36306195531419316,
          -0.03237823904710659,
          0.807735156582041,
          -0.6801244533213385,
          0.6773257561802543,
          1.234242011739503,
          1.3263288276175949,
          1.673093403226205,
          -1.7950811866485987,
          0.6706747372090567
         ],
         "yaxis": "y14"
        },
        {
         "line": {
          "color": "rgba(128, 128, 128, 1.0)",
          "dash": "solid",
          "shape": "linear",
          "width": 1.3
         },
         "marker": {
          "size": 2,
          "symbol": "circle"
         },
         "mode": "markers",
         "name": "D",
         "text": "",
         "type": "scatter",
         "x": [
          0.9941448900416009,
          -1.415294561610848,
          -0.2362353120893795,
          -0.720913642106691,
          -0.28330368987773463,
          0.2575784789016579,
          0.891055859426488,
          0.9397412722895416,
          -0.09888252081291432,
          0.25793737305505715,
          0.48520117816869746,
          0.14381753779226583,
          0.811773458166103,
          -1.0599064818452337,
          -1.6332564775192155,
          -1.8073848444399405,
          0.40374740832669925,
          0.8494659854973792,
          -1.4540549161333602,
          -0.3281151163155895,
          -1.0539527763032357,
          -0.6452776965653212,
          0.5057237440121971,
          -0.07974431034563627,
          0.13971564504490488,
          2.224863703256889,
          -0.5299148873748046,
          0.16409586148062252,
          1.4182630497638664,
          2.1091408300500403,
          0.39558696356318745,
          1.7370656227039942,
          1.7106577502666263,
          -0.9591305665320118,
          -1.9982585422756785,
          1.0404214550368789,
          1.3564609648175052,
          -1.058212643947572,
          -0.06725531848149632,
          -0.013055235511804764,
          -0.21663782692489983,
          -0.8486090167666369,
          0.08290833662378544,
          0.7111486804402077,
          -1.2811656948246104,
          0.6649687452761156,
          1.4049769109766066,
          -1.2843268766984965,
          0.21388402124443212,
          0.0364933124121146,
          -1.0603459092474037,
          -0.5359949462632948,
          0.867436007203454,
          0.2969414505186042,
          1.335081390440413,
          0.05867517876988999,
          -0.8352678556669177,
          -0.2663536930684828,
          0.4622304335460673,
          1.7687177099845872,
          -0.1861024203918685,
          -1.0422871350309724,
          1.1790217152377844,
          0.15611665080728374,
          2.662613488310378,
          0.4800477859187476,
          0.7299235990876124,
          -0.5575025760262411,
          1.8799893527922458,
          -0.5556764713639761,
          -0.40310075709715043,
          1.2027047805085178,
          0.5900958889609973,
          0.5019455339099674,
          -0.7178861360186104,
          0.02781068977170091,
          -0.9292756790885546,
          -0.6355311527000018,
          0.7478247741092752,
          1.9251023531700413,
          1.1348473517271311,
          0.2724543576013086,
          -1.1294643051768478,
          0.015316123517693086,
          0.6031378978940842,
          -1.8813369886262623,
          1.1033974731349108,
          -0.41439545422901414,
          1.5769418167280906,
          -0.2819563325108993,
          0.9832285324633148,
          0.8991333686699359,
          -0.773394842216059,
          -0.020681247710566602,
          0.5780880015936647,
          0.324678060031869,
          -0.2774276577344426,
          0.07706099007827202,
          -0.4468159558368656,
          -1.5645048722071986
         ],
         "xaxis": "x15",
         "y": [
          -1.192331137475391,
          -0.00856699516992989,
          -0.8389573196718727,
          1.9038886669123798,
          -0.3578989183974868,
          1.269058584542344,
          1.2773561312604635,
          -0.32200575661072384,
          -1.0490940186819366,
          -1.535748773975125,
          -0.5818441090607093,
          -0.5749314861247098,
          -1.3102279248056667,
          -1.0391762849530102,
          0.7558886343010799,
          -1.051384429232649,
          0.7196666819492346,
          -1.0871731403771503,
          0.1256690669388479,
          -0.25887726974027453,
          0.2603387685628686,
          0.6268767408326498,
          0.4571045226885126,
          1.232746870097122,
          -0.2924730711341888,
          -0.8207390379997915,
          -0.7617087993499451,
          0.6738443082395105,
          0.8616654493127476,
          -1.3121990699226702,
          -0.30928378746053625,
          -0.5517438495604261,
          0.4727531665947437,
          0.2128581921100694,
          0.990650280645931,
          -0.2101062281883072,
          -0.8734335136941964,
          -1.0633603540720415,
          0.8977052816076212,
          -0.7152434901222349,
          1.299674495389652,
          1.0589130177247437,
          -0.4219566412429281,
          -0.39211794982348025,
          -1.5932583119182626,
          0.8380266688659123,
          2.072438376377097,
          0.9589663814410084,
          0.523644527666068,
          -1.3163798843336647,
          -0.5783770995176221,
          -1.6425874293139233,
          0.389650570163329,
          -0.627879682481188,
          -0.29358589411513,
          -0.4264987288997589,
          0.7335164454956574,
          -0.24226400319543726,
          -0.6083963260182481,
          -0.48973451618620084,
          -0.30603663731945624,
          -0.8828518049050315,
          -0.22404304472997558,
          -0.5325983785461976,
          1.3307920952800403,
          -0.5926625508213409,
          0.2374957441585812,
          -0.007262216440006755,
          0.9659048842590944,
          -2.155684785580294,
          2.198379764321302,
          1.0987298332673232,
          -1.947136657825518,
          -0.42158282972566163,
          -0.343177917073893,
          0.13409486093295325,
          -0.6214862021450471,
          -0.6873339078329382,
          0.41360925188915093,
          1.173073240291131,
          0.8411615343773262,
          0.7994068490945303,
          1.1901612344610126,
          -0.7319279564655078,
          -0.5629665160169346,
          1.1454522969763212,
          0.18419435604158182,
          1.210645426962905,
          -0.6961425292258258,
          0.10515886428625675,
          -0.36306195531419316,
          -0.03237823904710659,
          0.807735156582041,
          -0.6801244533213385,
          0.6773257561802543,
          1.234242011739503,
          1.3263288276175949,
          1.673093403226205,
          -1.7950811866485987,
          0.6706747372090567
         ],
         "yaxis": "y15"
        },
        {
         "histfunc": "count",
         "histnorm": "",
         "marker": {
          "color": "rgba(128, 0, 128, 1.0)",
          "line": {
           "color": "#4D5663",
           "width": 1.3
          }
         },
         "name": "D",
         "nbinsx": 10,
         "opacity": 0.8,
         "orientation": "v",
         "type": "histogram",
         "x": [
          -1.192331137475391,
          -0.00856699516992989,
          -0.8389573196718727,
          1.9038886669123798,
          -0.3578989183974868,
          1.269058584542344,
          1.2773561312604635,
          -0.32200575661072384,
          -1.0490940186819366,
          -1.535748773975125,
          -0.5818441090607093,
          -0.5749314861247098,
          -1.3102279248056667,
          -1.0391762849530102,
          0.7558886343010799,
          -1.051384429232649,
          0.7196666819492346,
          -1.0871731403771503,
          0.1256690669388479,
          -0.25887726974027453,
          0.2603387685628686,
          0.6268767408326498,
          0.4571045226885126,
          1.232746870097122,
          -0.2924730711341888,
          -0.8207390379997915,
          -0.7617087993499451,
          0.6738443082395105,
          0.8616654493127476,
          -1.3121990699226702,
          -0.30928378746053625,
          -0.5517438495604261,
          0.4727531665947437,
          0.2128581921100694,
          0.990650280645931,
          -0.2101062281883072,
          -0.8734335136941964,
          -1.0633603540720415,
          0.8977052816076212,
          -0.7152434901222349,
          1.299674495389652,
          1.0589130177247437,
          -0.4219566412429281,
          -0.39211794982348025,
          -1.5932583119182626,
          0.8380266688659123,
          2.072438376377097,
          0.9589663814410084,
          0.523644527666068,
          -1.3163798843336647,
          -0.5783770995176221,
          -1.6425874293139233,
          0.389650570163329,
          -0.627879682481188,
          -0.29358589411513,
          -0.4264987288997589,
          0.7335164454956574,
          -0.24226400319543726,
          -0.6083963260182481,
          -0.48973451618620084,
          -0.30603663731945624,
          -0.8828518049050315,
          -0.22404304472997558,
          -0.5325983785461976,
          1.3307920952800403,
          -0.5926625508213409,
          0.2374957441585812,
          -0.007262216440006755,
          0.9659048842590944,
          -2.155684785580294,
          2.198379764321302,
          1.0987298332673232,
          -1.947136657825518,
          -0.42158282972566163,
          -0.343177917073893,
          0.13409486093295325,
          -0.6214862021450471,
          -0.6873339078329382,
          0.41360925188915093,
          1.173073240291131,
          0.8411615343773262,
          0.7994068490945303,
          1.1901612344610126,
          -0.7319279564655078,
          -0.5629665160169346,
          1.1454522969763212,
          0.18419435604158182,
          1.210645426962905,
          -0.6961425292258258,
          0.10515886428625675,
          -0.36306195531419316,
          -0.03237823904710659,
          0.807735156582041,
          -0.6801244533213385,
          0.6773257561802543,
          1.234242011739503,
          1.3263288276175949,
          1.673093403226205,
          -1.7950811866485987,
          0.6706747372090567
         ],
         "xaxis": "x16",
         "yaxis": "y16"
        }
       ],
       "layout": {
        "bargap": 0.02,
        "legend": {
         "bgcolor": "#F5F6F9",
         "font": {
          "color": "#4D5663"
         }
        },
        "paper_bgcolor": "#F5F6F9",
        "plot_bgcolor": "#F5F6F9",
        "showlegend": false,
        "template": {
         "data": {
          "bar": [
           {
            "error_x": {
             "color": "#2a3f5f"
            },
            "error_y": {
             "color": "#2a3f5f"
            },
            "marker": {
             "line": {
              "color": "#E5ECF6",
              "width": 0.5
             },
             "pattern": {
              "fillmode": "overlay",
              "size": 10,
              "solidity": 0.2
             }
            },
            "type": "bar"
           }
          ],
          "barpolar": [
           {
            "marker": {
             "line": {
              "color": "#E5ECF6",
              "width": 0.5
             },
             "pattern": {
              "fillmode": "overlay",
              "size": 10,
              "solidity": 0.2
             }
            },
            "type": "barpolar"
           }
          ],
          "carpet": [
           {
            "aaxis": {
             "endlinecolor": "#2a3f5f",
             "gridcolor": "white",
             "linecolor": "white",
             "minorgridcolor": "white",
             "startlinecolor": "#2a3f5f"
            },
            "baxis": {
             "endlinecolor": "#2a3f5f",
             "gridcolor": "white",
             "linecolor": "white",
             "minorgridcolor": "white",
             "startlinecolor": "#2a3f5f"
            },
            "type": "carpet"
           }
          ],
          "choropleth": [
           {
            "colorbar": {
             "outlinewidth": 0,
             "ticks": ""
            },
            "type": "choropleth"
           }
          ],
          "contour": [
           {
            "colorbar": {
             "outlinewidth": 0,
             "ticks": ""
            },
            "colorscale": [
             [
              0,
              "#0d0887"
             ],
             [
              0.1111111111111111,
              "#46039f"
             ],
             [
              0.2222222222222222,
              "#7201a8"
             ],
             [
              0.3333333333333333,
              "#9c179e"
             ],
             [
              0.4444444444444444,
              "#bd3786"
             ],
             [
              0.5555555555555556,
              "#d8576b"
             ],
             [
              0.6666666666666666,
              "#ed7953"
             ],
             [
              0.7777777777777778,
              "#fb9f3a"
             ],
             [
              0.8888888888888888,
              "#fdca26"
             ],
             [
              1,
              "#f0f921"
             ]
            ],
            "type": "contour"
           }
          ],
          "contourcarpet": [
           {
            "colorbar": {
             "outlinewidth": 0,
             "ticks": ""
            },
            "type": "contourcarpet"
           }
          ],
          "heatmap": [
           {
            "colorbar": {
             "outlinewidth": 0,
             "ticks": ""
            },
            "colorscale": [
             [
              0,
              "#0d0887"
             ],
             [
              0.1111111111111111,
              "#46039f"
             ],
             [
              0.2222222222222222,
              "#7201a8"
             ],
             [
              0.3333333333333333,
              "#9c179e"
             ],
             [
              0.4444444444444444,
              "#bd3786"
             ],
             [
              0.5555555555555556,
              "#d8576b"
             ],
             [
              0.6666666666666666,
              "#ed7953"
             ],
             [
              0.7777777777777778,
              "#fb9f3a"
             ],
             [
              0.8888888888888888,
              "#fdca26"
             ],
             [
              1,
              "#f0f921"
             ]
            ],
            "type": "heatmap"
           }
          ],
          "heatmapgl": [
           {
            "colorbar": {
             "outlinewidth": 0,
             "ticks": ""
            },
            "colorscale": [
             [
              0,
              "#0d0887"
             ],
             [
              0.1111111111111111,
              "#46039f"
             ],
             [
              0.2222222222222222,
              "#7201a8"
             ],
             [
              0.3333333333333333,
              "#9c179e"
             ],
             [
              0.4444444444444444,
              "#bd3786"
             ],
             [
              0.5555555555555556,
              "#d8576b"
             ],
             [
              0.6666666666666666,
              "#ed7953"
             ],
             [
              0.7777777777777778,
              "#fb9f3a"
             ],
             [
              0.8888888888888888,
              "#fdca26"
             ],
             [
              1,
              "#f0f921"
             ]
            ],
            "type": "heatmapgl"
           }
          ],
          "histogram": [
           {
            "marker": {
             "pattern": {
              "fillmode": "overlay",
              "size": 10,
              "solidity": 0.2
             }
            },
            "type": "histogram"
           }
          ],
          "histogram2d": [
           {
            "colorbar": {
             "outlinewidth": 0,
             "ticks": ""
            },
            "colorscale": [
             [
              0,
              "#0d0887"
             ],
             [
              0.1111111111111111,
              "#46039f"
             ],
             [
              0.2222222222222222,
              "#7201a8"
             ],
             [
              0.3333333333333333,
              "#9c179e"
             ],
             [
              0.4444444444444444,
              "#bd3786"
             ],
             [
              0.5555555555555556,
              "#d8576b"
             ],
             [
              0.6666666666666666,
              "#ed7953"
             ],
             [
              0.7777777777777778,
              "#fb9f3a"
             ],
             [
              0.8888888888888888,
              "#fdca26"
             ],
             [
              1,
              "#f0f921"
             ]
            ],
            "type": "histogram2d"
           }
          ],
          "histogram2dcontour": [
           {
            "colorbar": {
             "outlinewidth": 0,
             "ticks": ""
            },
            "colorscale": [
             [
              0,
              "#0d0887"
             ],
             [
              0.1111111111111111,
              "#46039f"
             ],
             [
              0.2222222222222222,
              "#7201a8"
             ],
             [
              0.3333333333333333,
              "#9c179e"
             ],
             [
              0.4444444444444444,
              "#bd3786"
             ],
             [
              0.5555555555555556,
              "#d8576b"
             ],
             [
              0.6666666666666666,
              "#ed7953"
             ],
             [
              0.7777777777777778,
              "#fb9f3a"
             ],
             [
              0.8888888888888888,
              "#fdca26"
             ],
             [
              1,
              "#f0f921"
             ]
            ],
            "type": "histogram2dcontour"
           }
          ],
          "mesh3d": [
           {
            "colorbar": {
             "outlinewidth": 0,
             "ticks": ""
            },
            "type": "mesh3d"
           }
          ],
          "parcoords": [
           {
            "line": {
             "colorbar": {
              "outlinewidth": 0,
              "ticks": ""
             }
            },
            "type": "parcoords"
           }
          ],
          "pie": [
           {
            "automargin": true,
            "type": "pie"
           }
          ],
          "scatter": [
           {
            "fillpattern": {
             "fillmode": "overlay",
             "size": 10,
             "solidity": 0.2
            },
            "type": "scatter"
           }
          ],
          "scatter3d": [
           {
            "line": {
             "colorbar": {
              "outlinewidth": 0,
              "ticks": ""
             }
            },
            "marker": {
             "colorbar": {
              "outlinewidth": 0,
              "ticks": ""
             }
            },
            "type": "scatter3d"
           }
          ],
          "scattercarpet": [
           {
            "marker": {
             "colorbar": {
              "outlinewidth": 0,
              "ticks": ""
             }
            },
            "type": "scattercarpet"
           }
          ],
          "scattergeo": [
           {
            "marker": {
             "colorbar": {
              "outlinewidth": 0,
              "ticks": ""
             }
            },
            "type": "scattergeo"
           }
          ],
          "scattergl": [
           {
            "marker": {
             "colorbar": {
              "outlinewidth": 0,
              "ticks": ""
             }
            },
            "type": "scattergl"
           }
          ],
          "scattermapbox": [
           {
            "marker": {
             "colorbar": {
              "outlinewidth": 0,
              "ticks": ""
             }
            },
            "type": "scattermapbox"
           }
          ],
          "scatterpolar": [
           {
            "marker": {
             "colorbar": {
              "outlinewidth": 0,
              "ticks": ""
             }
            },
            "type": "scatterpolar"
           }
          ],
          "scatterpolargl": [
           {
            "marker": {
             "colorbar": {
              "outlinewidth": 0,
              "ticks": ""
             }
            },
            "type": "scatterpolargl"
           }
          ],
          "scatterternary": [
           {
            "marker": {
             "colorbar": {
              "outlinewidth": 0,
              "ticks": ""
             }
            },
            "type": "scatterternary"
           }
          ],
          "surface": [
           {
            "colorbar": {
             "outlinewidth": 0,
             "ticks": ""
            },
            "colorscale": [
             [
              0,
              "#0d0887"
             ],
             [
              0.1111111111111111,
              "#46039f"
             ],
             [
              0.2222222222222222,
              "#7201a8"
             ],
             [
              0.3333333333333333,
              "#9c179e"
             ],
             [
              0.4444444444444444,
              "#bd3786"
             ],
             [
              0.5555555555555556,
              "#d8576b"
             ],
             [
              0.6666666666666666,
              "#ed7953"
             ],
             [
              0.7777777777777778,
              "#fb9f3a"
             ],
             [
              0.8888888888888888,
              "#fdca26"
             ],
             [
              1,
              "#f0f921"
             ]
            ],
            "type": "surface"
           }
          ],
          "table": [
           {
            "cells": {
             "fill": {
              "color": "#EBF0F8"
             },
             "line": {
              "color": "white"
             }
            },
            "header": {
             "fill": {
              "color": "#C8D4E3"
             },
             "line": {
              "color": "white"
             }
            },
            "type": "table"
           }
          ]
         },
         "layout": {
          "annotationdefaults": {
           "arrowcolor": "#2a3f5f",
           "arrowhead": 0,
           "arrowwidth": 1
          },
          "autotypenumbers": "strict",
          "coloraxis": {
           "colorbar": {
            "outlinewidth": 0,
            "ticks": ""
           }
          },
          "colorscale": {
           "diverging": [
            [
             0,
             "#8e0152"
            ],
            [
             0.1,
             "#c51b7d"
            ],
            [
             0.2,
             "#de77ae"
            ],
            [
             0.3,
             "#f1b6da"
            ],
            [
             0.4,
             "#fde0ef"
            ],
            [
             0.5,
             "#f7f7f7"
            ],
            [
             0.6,
             "#e6f5d0"
            ],
            [
             0.7,
             "#b8e186"
            ],
            [
             0.8,
             "#7fbc41"
            ],
            [
             0.9,
             "#4d9221"
            ],
            [
             1,
             "#276419"
            ]
           ],
           "sequential": [
            [
             0,
             "#0d0887"
            ],
            [
             0.1111111111111111,
             "#46039f"
            ],
            [
             0.2222222222222222,
             "#7201a8"
            ],
            [
             0.3333333333333333,
             "#9c179e"
            ],
            [
             0.4444444444444444,
             "#bd3786"
            ],
            [
             0.5555555555555556,
             "#d8576b"
            ],
            [
             0.6666666666666666,
             "#ed7953"
            ],
            [
             0.7777777777777778,
             "#fb9f3a"
            ],
            [
             0.8888888888888888,
             "#fdca26"
            ],
            [
             1,
             "#f0f921"
            ]
           ],
           "sequentialminus": [
            [
             0,
             "#0d0887"
            ],
            [
             0.1111111111111111,
             "#46039f"
            ],
            [
             0.2222222222222222,
             "#7201a8"
            ],
            [
             0.3333333333333333,
             "#9c179e"
            ],
            [
             0.4444444444444444,
             "#bd3786"
            ],
            [
             0.5555555555555556,
             "#d8576b"
            ],
            [
             0.6666666666666666,
             "#ed7953"
            ],
            [
             0.7777777777777778,
             "#fb9f3a"
            ],
            [
             0.8888888888888888,
             "#fdca26"
            ],
            [
             1,
             "#f0f921"
            ]
           ]
          },
          "colorway": [
           "#636efa",
           "#EF553B",
           "#00cc96",
           "#ab63fa",
           "#FFA15A",
           "#19d3f3",
           "#FF6692",
           "#B6E880",
           "#FF97FF",
           "#FECB52"
          ],
          "font": {
           "color": "#2a3f5f"
          },
          "geo": {
           "bgcolor": "white",
           "lakecolor": "white",
           "landcolor": "#E5ECF6",
           "showlakes": true,
           "showland": true,
           "subunitcolor": "white"
          },
          "hoverlabel": {
           "align": "left"
          },
          "hovermode": "closest",
          "mapbox": {
           "style": "light"
          },
          "paper_bgcolor": "white",
          "plot_bgcolor": "#E5ECF6",
          "polar": {
           "angularaxis": {
            "gridcolor": "white",
            "linecolor": "white",
            "ticks": ""
           },
           "bgcolor": "#E5ECF6",
           "radialaxis": {
            "gridcolor": "white",
            "linecolor": "white",
            "ticks": ""
           }
          },
          "scene": {
           "xaxis": {
            "backgroundcolor": "#E5ECF6",
            "gridcolor": "white",
            "gridwidth": 2,
            "linecolor": "white",
            "showbackground": true,
            "ticks": "",
            "zerolinecolor": "white"
           },
           "yaxis": {
            "backgroundcolor": "#E5ECF6",
            "gridcolor": "white",
            "gridwidth": 2,
            "linecolor": "white",
            "showbackground": true,
            "ticks": "",
            "zerolinecolor": "white"
           },
           "zaxis": {
            "backgroundcolor": "#E5ECF6",
            "gridcolor": "white",
            "gridwidth": 2,
            "linecolor": "white",
            "showbackground": true,
            "ticks": "",
            "zerolinecolor": "white"
           }
          },
          "shapedefaults": {
           "line": {
            "color": "#2a3f5f"
           }
          },
          "ternary": {
           "aaxis": {
            "gridcolor": "white",
            "linecolor": "white",
            "ticks": ""
           },
           "baxis": {
            "gridcolor": "white",
            "linecolor": "white",
            "ticks": ""
           },
           "bgcolor": "#E5ECF6",
           "caxis": {
            "gridcolor": "white",
            "linecolor": "white",
            "ticks": ""
           }
          },
          "title": {
           "x": 0.05
          },
          "xaxis": {
           "automargin": true,
           "gridcolor": "white",
           "linecolor": "white",
           "ticks": "",
           "title": {
            "standoff": 15
           },
           "zerolinecolor": "white",
           "zerolinewidth": 2
          },
          "yaxis": {
           "automargin": true,
           "gridcolor": "white",
           "linecolor": "white",
           "ticks": "",
           "title": {
            "standoff": 15
           },
           "zerolinecolor": "white",
           "zerolinewidth": 2
          }
         }
        },
        "title": {
         "font": {
          "color": "#4D5663"
         }
        },
        "xaxis": {
         "anchor": "y",
         "domain": [
          0,
          0.2125
         ],
         "gridcolor": "#E1E5ED",
         "showgrid": false,
         "tickfont": {
          "color": "#4D5663"
         },
         "title": {
          "font": {
           "color": "#4D5663"
          },
          "text": ""
         },
         "zerolinecolor": "#E1E5ED"
        },
        "xaxis10": {
         "anchor": "y10",
         "domain": [
          0.2625,
          0.475
         ],
         "gridcolor": "#E1E5ED",
         "showgrid": false,
         "tickfont": {
          "color": "#4D5663"
         },
         "title": {
          "font": {
           "color": "#4D5663"
          },
          "text": ""
         },
         "zerolinecolor": "#E1E5ED"
        },
        "xaxis11": {
         "anchor": "y11",
         "domain": [
          0.525,
          0.7375
         ],
         "gridcolor": "#E1E5ED",
         "showgrid": false,
         "tickfont": {
          "color": "#4D5663"
         },
         "title": {
          "font": {
           "color": "#4D5663"
          },
          "text": ""
         },
         "zerolinecolor": "#E1E5ED"
        },
        "xaxis12": {
         "anchor": "y12",
         "domain": [
          0.7875,
          1
         ],
         "gridcolor": "#E1E5ED",
         "showgrid": false,
         "tickfont": {
          "color": "#4D5663"
         },
         "title": {
          "font": {
           "color": "#4D5663"
          },
          "text": ""
         },
         "zerolinecolor": "#E1E5ED"
        },
        "xaxis13": {
         "anchor": "y13",
         "domain": [
          0,
          0.2125
         ],
         "gridcolor": "#E1E5ED",
         "showgrid": false,
         "tickfont": {
          "color": "#4D5663"
         },
         "title": {
          "font": {
           "color": "#4D5663"
          },
          "text": ""
         },
         "zerolinecolor": "#E1E5ED"
        },
        "xaxis14": {
         "anchor": "y14",
         "domain": [
          0.2625,
          0.475
         ],
         "gridcolor": "#E1E5ED",
         "showgrid": false,
         "tickfont": {
          "color": "#4D5663"
         },
         "title": {
          "font": {
           "color": "#4D5663"
          },
          "text": ""
         },
         "zerolinecolor": "#E1E5ED"
        },
        "xaxis15": {
         "anchor": "y15",
         "domain": [
          0.525,
          0.7375
         ],
         "gridcolor": "#E1E5ED",
         "showgrid": false,
         "tickfont": {
          "color": "#4D5663"
         },
         "title": {
          "font": {
           "color": "#4D5663"
          },
          "text": ""
         },
         "zerolinecolor": "#E1E5ED"
        },
        "xaxis16": {
         "anchor": "y16",
         "domain": [
          0.7875,
          1
         ],
         "gridcolor": "#E1E5ED",
         "showgrid": false,
         "tickfont": {
          "color": "#4D5663"
         },
         "title": {
          "font": {
           "color": "#4D5663"
          },
          "text": ""
         },
         "zerolinecolor": "#E1E5ED"
        },
        "xaxis2": {
         "anchor": "y2",
         "domain": [
          0.2625,
          0.475
         ],
         "gridcolor": "#E1E5ED",
         "showgrid": false,
         "tickfont": {
          "color": "#4D5663"
         },
         "title": {
          "font": {
           "color": "#4D5663"
          },
          "text": ""
         },
         "zerolinecolor": "#E1E5ED"
        },
        "xaxis3": {
         "anchor": "y3",
         "domain": [
          0.525,
          0.7375
         ],
         "gridcolor": "#E1E5ED",
         "showgrid": false,
         "tickfont": {
          "color": "#4D5663"
         },
         "title": {
          "font": {
           "color": "#4D5663"
          },
          "text": ""
         },
         "zerolinecolor": "#E1E5ED"
        },
        "xaxis4": {
         "anchor": "y4",
         "domain": [
          0.7875,
          1
         ],
         "gridcolor": "#E1E5ED",
         "showgrid": false,
         "tickfont": {
          "color": "#4D5663"
         },
         "title": {
          "font": {
           "color": "#4D5663"
          },
          "text": ""
         },
         "zerolinecolor": "#E1E5ED"
        },
        "xaxis5": {
         "anchor": "y5",
         "domain": [
          0,
          0.2125
         ],
         "gridcolor": "#E1E5ED",
         "showgrid": false,
         "tickfont": {
          "color": "#4D5663"
         },
         "title": {
          "font": {
           "color": "#4D5663"
          },
          "text": ""
         },
         "zerolinecolor": "#E1E5ED"
        },
        "xaxis6": {
         "anchor": "y6",
         "domain": [
          0.2625,
          0.475
         ],
         "gridcolor": "#E1E5ED",
         "showgrid": false,
         "tickfont": {
          "color": "#4D5663"
         },
         "title": {
          "font": {
           "color": "#4D5663"
          },
          "text": ""
         },
         "zerolinecolor": "#E1E5ED"
        },
        "xaxis7": {
         "anchor": "y7",
         "domain": [
          0.525,
          0.7375
         ],
         "gridcolor": "#E1E5ED",
         "showgrid": false,
         "tickfont": {
          "color": "#4D5663"
         },
         "title": {
          "font": {
           "color": "#4D5663"
          },
          "text": ""
         },
         "zerolinecolor": "#E1E5ED"
        },
        "xaxis8": {
         "anchor": "y8",
         "domain": [
          0.7875,
          1
         ],
         "gridcolor": "#E1E5ED",
         "showgrid": false,
         "tickfont": {
          "color": "#4D5663"
         },
         "title": {
          "font": {
           "color": "#4D5663"
          },
          "text": ""
         },
         "zerolinecolor": "#E1E5ED"
        },
        "xaxis9": {
         "anchor": "y9",
         "domain": [
          0,
          0.2125
         ],
         "gridcolor": "#E1E5ED",
         "showgrid": false,
         "tickfont": {
          "color": "#4D5663"
         },
         "title": {
          "font": {
           "color": "#4D5663"
          },
          "text": ""
         },
         "zerolinecolor": "#E1E5ED"
        },
        "yaxis": {
         "anchor": "x",
         "domain": [
          0.8025,
          1
         ],
         "gridcolor": "#E1E5ED",
         "showgrid": false,
         "tickfont": {
          "color": "#4D5663"
         },
         "title": {
          "font": {
           "color": "#4D5663"
          },
          "text": ""
         },
         "zerolinecolor": "#E1E5ED"
        },
        "yaxis10": {
         "anchor": "x10",
         "domain": [
          0.2675,
          0.465
         ],
         "gridcolor": "#E1E5ED",
         "showgrid": false,
         "tickfont": {
          "color": "#4D5663"
         },
         "title": {
          "font": {
           "color": "#4D5663"
          },
          "text": ""
         },
         "zerolinecolor": "#E1E5ED"
        },
        "yaxis11": {
         "anchor": "x11",
         "domain": [
          0.2675,
          0.465
         ],
         "gridcolor": "#E1E5ED",
         "showgrid": false,
         "tickfont": {
          "color": "#4D5663"
         },
         "title": {
          "font": {
           "color": "#4D5663"
          },
          "text": ""
         },
         "zerolinecolor": "#E1E5ED"
        },
        "yaxis12": {
         "anchor": "x12",
         "domain": [
          0.2675,
          0.465
         ],
         "gridcolor": "#E1E5ED",
         "showgrid": false,
         "tickfont": {
          "color": "#4D5663"
         },
         "title": {
          "font": {
           "color": "#4D5663"
          },
          "text": ""
         },
         "zerolinecolor": "#E1E5ED"
        },
        "yaxis13": {
         "anchor": "x13",
         "domain": [
          0,
          0.1975
         ],
         "gridcolor": "#E1E5ED",
         "showgrid": false,
         "tickfont": {
          "color": "#4D5663"
         },
         "title": {
          "font": {
           "color": "#4D5663"
          },
          "text": ""
         },
         "zerolinecolor": "#E1E5ED"
        },
        "yaxis14": {
         "anchor": "x14",
         "domain": [
          0,
          0.1975
         ],
         "gridcolor": "#E1E5ED",
         "showgrid": false,
         "tickfont": {
          "color": "#4D5663"
         },
         "title": {
          "font": {
           "color": "#4D5663"
          },
          "text": ""
         },
         "zerolinecolor": "#E1E5ED"
        },
        "yaxis15": {
         "anchor": "x15",
         "domain": [
          0,
          0.1975
         ],
         "gridcolor": "#E1E5ED",
         "showgrid": false,
         "tickfont": {
          "color": "#4D5663"
         },
         "title": {
          "font": {
           "color": "#4D5663"
          },
          "text": ""
         },
         "zerolinecolor": "#E1E5ED"
        },
        "yaxis16": {
         "anchor": "x16",
         "domain": [
          0,
          0.1975
         ],
         "gridcolor": "#E1E5ED",
         "showgrid": false,
         "tickfont": {
          "color": "#4D5663"
         },
         "title": {
          "font": {
           "color": "#4D5663"
          },
          "text": ""
         },
         "zerolinecolor": "#E1E5ED"
        },
        "yaxis2": {
         "anchor": "x2",
         "domain": [
          0.8025,
          1
         ],
         "gridcolor": "#E1E5ED",
         "showgrid": false,
         "tickfont": {
          "color": "#4D5663"
         },
         "title": {
          "font": {
           "color": "#4D5663"
          },
          "text": ""
         },
         "zerolinecolor": "#E1E5ED"
        },
        "yaxis3": {
         "anchor": "x3",
         "domain": [
          0.8025,
          1
         ],
         "gridcolor": "#E1E5ED",
         "showgrid": false,
         "tickfont": {
          "color": "#4D5663"
         },
         "title": {
          "font": {
           "color": "#4D5663"
          },
          "text": ""
         },
         "zerolinecolor": "#E1E5ED"
        },
        "yaxis4": {
         "anchor": "x4",
         "domain": [
          0.8025,
          1
         ],
         "gridcolor": "#E1E5ED",
         "showgrid": false,
         "tickfont": {
          "color": "#4D5663"
         },
         "title": {
          "font": {
           "color": "#4D5663"
          },
          "text": ""
         },
         "zerolinecolor": "#E1E5ED"
        },
        "yaxis5": {
         "anchor": "x5",
         "domain": [
          0.535,
          0.7325
         ],
         "gridcolor": "#E1E5ED",
         "showgrid": false,
         "tickfont": {
          "color": "#4D5663"
         },
         "title": {
          "font": {
           "color": "#4D5663"
          },
          "text": ""
         },
         "zerolinecolor": "#E1E5ED"
        },
        "yaxis6": {
         "anchor": "x6",
         "domain": [
          0.535,
          0.7325
         ],
         "gridcolor": "#E1E5ED",
         "showgrid": false,
         "tickfont": {
          "color": "#4D5663"
         },
         "title": {
          "font": {
           "color": "#4D5663"
          },
          "text": ""
         },
         "zerolinecolor": "#E1E5ED"
        },
        "yaxis7": {
         "anchor": "x7",
         "domain": [
          0.535,
          0.7325
         ],
         "gridcolor": "#E1E5ED",
         "showgrid": false,
         "tickfont": {
          "color": "#4D5663"
         },
         "title": {
          "font": {
           "color": "#4D5663"
          },
          "text": ""
         },
         "zerolinecolor": "#E1E5ED"
        },
        "yaxis8": {
         "anchor": "x8",
         "domain": [
          0.535,
          0.7325
         ],
         "gridcolor": "#E1E5ED",
         "showgrid": false,
         "tickfont": {
          "color": "#4D5663"
         },
         "title": {
          "font": {
           "color": "#4D5663"
          },
          "text": ""
         },
         "zerolinecolor": "#E1E5ED"
        },
        "yaxis9": {
         "anchor": "x9",
         "domain": [
          0.2675,
          0.465
         ],
         "gridcolor": "#E1E5ED",
         "showgrid": false,
         "tickfont": {
          "color": "#4D5663"
         },
         "title": {
          "font": {
           "color": "#4D5663"
          },
          "text": ""
         },
         "zerolinecolor": "#E1E5ED"
        }
       }
      },
      "text/html": [
       "<div>                            <div id=\"d19d1a25-6a48-4dbe-b3b8-110148d7b471\" class=\"plotly-graph-div\" style=\"height:525px; width:100%;\"></div>            <script type=\"text/javascript\">                require([\"plotly\"], function(Plotly) {                    window.PLOTLYENV=window.PLOTLYENV || {};\n",
       "                    window.PLOTLYENV.BASE_URL='https://plot.ly';                                    if (document.getElementById(\"d19d1a25-6a48-4dbe-b3b8-110148d7b471\")) {                    Plotly.newPlot(                        \"d19d1a25-6a48-4dbe-b3b8-110148d7b471\",                        [{\"histfunc\":\"count\",\"histnorm\":\"\",\"marker\":{\"color\":\"rgba(255, 153, 51, 1.0)\",\"line\":{\"color\":\"#4D5663\",\"width\":1.3}},\"name\":\"A\",\"nbinsx\":10,\"opacity\":0.8,\"orientation\":\"v\",\"x\":[0.44869329824135673,0.04442947891624006,2.1145540519877124,0.48459375200395927,0.36985788919286805,1.481971281069352,2.0343982337154416,-0.4824821822177707,0.8309463581150035,-0.4349385948709931,-0.6756120182110634,-1.5925814019449025,0.23413023932942328,1.0281422105942735,-1.0623059466249865,2.2195071053364663,0.8756994750091641,0.8089835262821432,-0.743409264689658,0.04294253724257267,1.0684455291199384,0.27639677781983707,-1.0954222897259756,-1.2812049648901038,-0.637281296389303,2.111221879684574,-0.5513865740599511,1.0682633521601927,0.4652057414665277,-0.7206548172209604,1.2453404662443033,1.1397830121661918,0.49950650596397383,-0.9263185329342912,0.4111857860492889,0.7120252399106934,-0.7711455320738849,0.9950201421281071,-0.8274584839599624,0.3122126481853524,0.4515622771288505,0.6073609370855199,-2.170149917275103,1.3093912040986788,0.2590512674708452,-1.2337530482989523,-0.308609285621261,0.34858056871628357,-0.5259945565128492,0.7418184128255518,-0.08368524035607329,-0.48681829176600705,-0.6949219701346371,-1.5182275005248043,-0.6942761142349966,-0.29222643627617845,-0.6980315938540814,-1.7810575066261185,-0.38392005874164825,0.7775804455478614,-0.04417520548831625,-1.1024379175998715,-0.6161541682760509,0.2575180438792113,-0.5419691624897529,0.6017703190288322,-1.6905582702704653,0.6380563321234376,1.8411694643156877,0.9642052764057285,1.002877971747453,-1.7837200423433832,1.0355284326901804,-0.8243451510155145,0.3421716769811112,1.7152754923086335,-0.33329183790006034,-0.17785876328291492,0.26727742385574493,-1.4606113851565532,-1.0041165914639603,1.0996641205324444,0.048076295886310676,0.3881428733745407,-0.7623022776406418,1.276648665357941,0.17375732056573817,1.6164033921063847,0.3132317208480055,-0.00029622527125818443,-0.16420288781157838,-2.390517968447201,-0.018873881777453607,-1.9745352341669447,0.6437240829886111,0.609802961274568,-0.6262284629895819,1.4052370704543717,-0.06498383511536726,0.673796877062401],\"xaxis\":\"x\",\"yaxis\":\"y\",\"type\":\"histogram\"},{\"line\":{\"color\":\"rgba(128, 128, 128, 1.0)\",\"dash\":\"solid\",\"shape\":\"linear\",\"width\":1.3},\"marker\":{\"size\":2,\"symbol\":\"circle\"},\"mode\":\"markers\",\"name\":\"A\",\"text\":\"\",\"x\":[-1.1849432239690456,-0.5211376653895813,0.41965188826774313,-0.9070930374743329,-1.5831942364868001,-0.4858365830813737,0.7278009166335301,2.0221616404760145,0.507794572940946,2.0711601716091512,1.0104748395053536,-0.5848426486746308,0.5470577063946599,0.5165371941343447,-0.8016442671933688,0.288897603145818,1.005260388668178,1.6598616302267328,-0.5925215915659423,1.671554584904481,-0.20489334121097746,0.9960112769218384,-1.1054061041824972,-0.5248963018843851,-2.02827538041169,-0.7481179255865056,0.2391258954400187,-0.036886343978482165,0.14693839808593498,-1.3435550788737127,0.495509914100354,-0.3577410117056153,1.4057787447153953,-1.4396298323686851,2.0265956566614616,0.14237098853310884,-0.6720855188428924,-0.29335652809925195,-0.43569699647796284,-0.22581895031823285,-0.47442969869914503,-0.17069809986289486,1.3784558343562423,-2.207449291449941,0.8572827458826012,1.662204807114416,0.571471145490293,0.44588678869899956,-0.3524155474257769,1.2378307781006213,-1.4492689531910803,0.727622601488387,-1.4132155840281677,-0.9267015536871722,-0.44493820610091056,-0.8520553246569631,0.23717606545090117,1.491657687677004,0.7444833830075451,-0.27117666533976253,0.39270769256840615,-0.2086607631876548,0.9385178680801646,-1.0189388989003372,1.9449358716585041,-0.6255855098585659,1.0855482233583384,0.39546694491298606,-0.1796799824978816,0.9446600698055564,-0.4650681551742743,1.9444631807871682,-0.2513789023420614,-0.686686256853849,0.6966766328643259,-0.1465540592511607,1.6020687291155558,-0.051959615969177114,2.543342310408571,-0.570036449181245,0.9720872564921681,0.7685133980318168,-0.4631756619022978,0.6108351641027522,-0.6166118778084613,1.8907829068486697,-1.041542502652796,-1.5682055482136659,-1.050014599780345,-0.9700650851375957,-0.4779809922425408,-0.9087200791848067,-0.19970310413878423,-0.3117045540132173,-0.34515180449440186,0.13139098324208123,-0.7404657562632138,-2.587836670667099,0.12224694930872568,1.0282647351123904],\"xaxis\":\"x2\",\"y\":[0.44869329824135673,0.04442947891624006,2.1145540519877124,0.48459375200395927,0.36985788919286805,1.481971281069352,2.0343982337154416,-0.4824821822177707,0.8309463581150035,-0.4349385948709931,-0.6756120182110634,-1.5925814019449025,0.23413023932942328,1.0281422105942735,-1.0623059466249865,2.2195071053364663,0.8756994750091641,0.8089835262821432,-0.743409264689658,0.04294253724257267,1.0684455291199384,0.27639677781983707,-1.0954222897259756,-1.2812049648901038,-0.637281296389303,2.111221879684574,-0.5513865740599511,1.0682633521601927,0.4652057414665277,-0.7206548172209604,1.2453404662443033,1.1397830121661918,0.49950650596397383,-0.9263185329342912,0.4111857860492889,0.7120252399106934,-0.7711455320738849,0.9950201421281071,-0.8274584839599624,0.3122126481853524,0.4515622771288505,0.6073609370855199,-2.170149917275103,1.3093912040986788,0.2590512674708452,-1.2337530482989523,-0.308609285621261,0.34858056871628357,-0.5259945565128492,0.7418184128255518,-0.08368524035607329,-0.48681829176600705,-0.6949219701346371,-1.5182275005248043,-0.6942761142349966,-0.29222643627617845,-0.6980315938540814,-1.7810575066261185,-0.38392005874164825,0.7775804455478614,-0.04417520548831625,-1.1024379175998715,-0.6161541682760509,0.2575180438792113,-0.5419691624897529,0.6017703190288322,-1.6905582702704653,0.6380563321234376,1.8411694643156877,0.9642052764057285,1.002877971747453,-1.7837200423433832,1.0355284326901804,-0.8243451510155145,0.3421716769811112,1.7152754923086335,-0.33329183790006034,-0.17785876328291492,0.26727742385574493,-1.4606113851565532,-1.0041165914639603,1.0996641205324444,0.048076295886310676,0.3881428733745407,-0.7623022776406418,1.276648665357941,0.17375732056573817,1.6164033921063847,0.3132317208480055,-0.00029622527125818443,-0.16420288781157838,-2.390517968447201,-0.018873881777453607,-1.9745352341669447,0.6437240829886111,0.609802961274568,-0.6262284629895819,1.4052370704543717,-0.06498383511536726,0.673796877062401],\"yaxis\":\"y2\",\"type\":\"scatter\"},{\"line\":{\"color\":\"rgba(128, 128, 128, 1.0)\",\"dash\":\"solid\",\"shape\":\"linear\",\"width\":1.3},\"marker\":{\"size\":2,\"symbol\":\"circle\"},\"mode\":\"markers\",\"name\":\"A\",\"text\":\"\",\"x\":[0.9941448900416009,-1.415294561610848,-0.2362353120893795,-0.720913642106691,-0.28330368987773463,0.2575784789016579,0.891055859426488,0.9397412722895416,-0.09888252081291432,0.25793737305505715,0.48520117816869746,0.14381753779226583,0.811773458166103,-1.0599064818452337,-1.6332564775192155,-1.8073848444399405,0.40374740832669925,0.8494659854973792,-1.4540549161333602,-0.3281151163155895,-1.0539527763032357,-0.6452776965653212,0.5057237440121971,-0.07974431034563627,0.13971564504490488,2.224863703256889,-0.5299148873748046,0.16409586148062252,1.4182630497638664,2.1091408300500403,0.39558696356318745,1.7370656227039942,1.7106577502666263,-0.9591305665320118,-1.9982585422756785,1.0404214550368789,1.3564609648175052,-1.058212643947572,-0.06725531848149632,-0.013055235511804764,-0.21663782692489983,-0.8486090167666369,0.08290833662378544,0.7111486804402077,-1.2811656948246104,0.6649687452761156,1.4049769109766066,-1.2843268766984965,0.21388402124443212,0.0364933124121146,-1.0603459092474037,-0.5359949462632948,0.867436007203454,0.2969414505186042,1.335081390440413,0.05867517876988999,-0.8352678556669177,-0.2663536930684828,0.4622304335460673,1.7687177099845872,-0.1861024203918685,-1.0422871350309724,1.1790217152377844,0.15611665080728374,2.662613488310378,0.4800477859187476,0.7299235990876124,-0.5575025760262411,1.8799893527922458,-0.5556764713639761,-0.40310075709715043,1.2027047805085178,0.5900958889609973,0.5019455339099674,-0.7178861360186104,0.02781068977170091,-0.9292756790885546,-0.6355311527000018,0.7478247741092752,1.9251023531700413,1.1348473517271311,0.2724543576013086,-1.1294643051768478,0.015316123517693086,0.6031378978940842,-1.8813369886262623,1.1033974731349108,-0.41439545422901414,1.5769418167280906,-0.2819563325108993,0.9832285324633148,0.8991333686699359,-0.773394842216059,-0.020681247710566602,0.5780880015936647,0.324678060031869,-0.2774276577344426,0.07706099007827202,-0.4468159558368656,-1.5645048722071986],\"xaxis\":\"x3\",\"y\":[0.44869329824135673,0.04442947891624006,2.1145540519877124,0.48459375200395927,0.36985788919286805,1.481971281069352,2.0343982337154416,-0.4824821822177707,0.8309463581150035,-0.4349385948709931,-0.6756120182110634,-1.5925814019449025,0.23413023932942328,1.0281422105942735,-1.0623059466249865,2.2195071053364663,0.8756994750091641,0.8089835262821432,-0.743409264689658,0.04294253724257267,1.0684455291199384,0.27639677781983707,-1.0954222897259756,-1.2812049648901038,-0.637281296389303,2.111221879684574,-0.5513865740599511,1.0682633521601927,0.4652057414665277,-0.7206548172209604,1.2453404662443033,1.1397830121661918,0.49950650596397383,-0.9263185329342912,0.4111857860492889,0.7120252399106934,-0.7711455320738849,0.9950201421281071,-0.8274584839599624,0.3122126481853524,0.4515622771288505,0.6073609370855199,-2.170149917275103,1.3093912040986788,0.2590512674708452,-1.2337530482989523,-0.308609285621261,0.34858056871628357,-0.5259945565128492,0.7418184128255518,-0.08368524035607329,-0.48681829176600705,-0.6949219701346371,-1.5182275005248043,-0.6942761142349966,-0.29222643627617845,-0.6980315938540814,-1.7810575066261185,-0.38392005874164825,0.7775804455478614,-0.04417520548831625,-1.1024379175998715,-0.6161541682760509,0.2575180438792113,-0.5419691624897529,0.6017703190288322,-1.6905582702704653,0.6380563321234376,1.8411694643156877,0.9642052764057285,1.002877971747453,-1.7837200423433832,1.0355284326901804,-0.8243451510155145,0.3421716769811112,1.7152754923086335,-0.33329183790006034,-0.17785876328291492,0.26727742385574493,-1.4606113851565532,-1.0041165914639603,1.0996641205324444,0.048076295886310676,0.3881428733745407,-0.7623022776406418,1.276648665357941,0.17375732056573817,1.6164033921063847,0.3132317208480055,-0.00029622527125818443,-0.16420288781157838,-2.390517968447201,-0.018873881777453607,-1.9745352341669447,0.6437240829886111,0.609802961274568,-0.6262284629895819,1.4052370704543717,-0.06498383511536726,0.673796877062401],\"yaxis\":\"y3\",\"type\":\"scatter\"},{\"line\":{\"color\":\"rgba(128, 128, 128, 1.0)\",\"dash\":\"solid\",\"shape\":\"linear\",\"width\":1.3},\"marker\":{\"size\":2,\"symbol\":\"circle\"},\"mode\":\"markers\",\"name\":\"A\",\"text\":\"\",\"x\":[-1.192331137475391,-0.00856699516992989,-0.8389573196718727,1.9038886669123798,-0.3578989183974868,1.269058584542344,1.2773561312604635,-0.32200575661072384,-1.0490940186819366,-1.535748773975125,-0.5818441090607093,-0.5749314861247098,-1.3102279248056667,-1.0391762849530102,0.7558886343010799,-1.051384429232649,0.7196666819492346,-1.0871731403771503,0.1256690669388479,-0.25887726974027453,0.2603387685628686,0.6268767408326498,0.4571045226885126,1.232746870097122,-0.2924730711341888,-0.8207390379997915,-0.7617087993499451,0.6738443082395105,0.8616654493127476,-1.3121990699226702,-0.30928378746053625,-0.5517438495604261,0.4727531665947437,0.2128581921100694,0.990650280645931,-0.2101062281883072,-0.8734335136941964,-1.0633603540720415,0.8977052816076212,-0.7152434901222349,1.299674495389652,1.0589130177247437,-0.4219566412429281,-0.39211794982348025,-1.5932583119182626,0.8380266688659123,2.072438376377097,0.9589663814410084,0.523644527666068,-1.3163798843336647,-0.5783770995176221,-1.6425874293139233,0.389650570163329,-0.627879682481188,-0.29358589411513,-0.4264987288997589,0.7335164454956574,-0.24226400319543726,-0.6083963260182481,-0.48973451618620084,-0.30603663731945624,-0.8828518049050315,-0.22404304472997558,-0.5325983785461976,1.3307920952800403,-0.5926625508213409,0.2374957441585812,-0.007262216440006755,0.9659048842590944,-2.155684785580294,2.198379764321302,1.0987298332673232,-1.947136657825518,-0.42158282972566163,-0.343177917073893,0.13409486093295325,-0.6214862021450471,-0.6873339078329382,0.41360925188915093,1.173073240291131,0.8411615343773262,0.7994068490945303,1.1901612344610126,-0.7319279564655078,-0.5629665160169346,1.1454522969763212,0.18419435604158182,1.210645426962905,-0.6961425292258258,0.10515886428625675,-0.36306195531419316,-0.03237823904710659,0.807735156582041,-0.6801244533213385,0.6773257561802543,1.234242011739503,1.3263288276175949,1.673093403226205,-1.7950811866485987,0.6706747372090567],\"xaxis\":\"x4\",\"y\":[0.44869329824135673,0.04442947891624006,2.1145540519877124,0.48459375200395927,0.36985788919286805,1.481971281069352,2.0343982337154416,-0.4824821822177707,0.8309463581150035,-0.4349385948709931,-0.6756120182110634,-1.5925814019449025,0.23413023932942328,1.0281422105942735,-1.0623059466249865,2.2195071053364663,0.8756994750091641,0.8089835262821432,-0.743409264689658,0.04294253724257267,1.0684455291199384,0.27639677781983707,-1.0954222897259756,-1.2812049648901038,-0.637281296389303,2.111221879684574,-0.5513865740599511,1.0682633521601927,0.4652057414665277,-0.7206548172209604,1.2453404662443033,1.1397830121661918,0.49950650596397383,-0.9263185329342912,0.4111857860492889,0.7120252399106934,-0.7711455320738849,0.9950201421281071,-0.8274584839599624,0.3122126481853524,0.4515622771288505,0.6073609370855199,-2.170149917275103,1.3093912040986788,0.2590512674708452,-1.2337530482989523,-0.308609285621261,0.34858056871628357,-0.5259945565128492,0.7418184128255518,-0.08368524035607329,-0.48681829176600705,-0.6949219701346371,-1.5182275005248043,-0.6942761142349966,-0.29222643627617845,-0.6980315938540814,-1.7810575066261185,-0.38392005874164825,0.7775804455478614,-0.04417520548831625,-1.1024379175998715,-0.6161541682760509,0.2575180438792113,-0.5419691624897529,0.6017703190288322,-1.6905582702704653,0.6380563321234376,1.8411694643156877,0.9642052764057285,1.002877971747453,-1.7837200423433832,1.0355284326901804,-0.8243451510155145,0.3421716769811112,1.7152754923086335,-0.33329183790006034,-0.17785876328291492,0.26727742385574493,-1.4606113851565532,-1.0041165914639603,1.0996641205324444,0.048076295886310676,0.3881428733745407,-0.7623022776406418,1.276648665357941,0.17375732056573817,1.6164033921063847,0.3132317208480055,-0.00029622527125818443,-0.16420288781157838,-2.390517968447201,-0.018873881777453607,-1.9745352341669447,0.6437240829886111,0.609802961274568,-0.6262284629895819,1.4052370704543717,-0.06498383511536726,0.673796877062401],\"yaxis\":\"y4\",\"type\":\"scatter\"},{\"line\":{\"color\":\"rgba(128, 128, 128, 1.0)\",\"dash\":\"solid\",\"shape\":\"linear\",\"width\":1.3},\"marker\":{\"size\":2,\"symbol\":\"circle\"},\"mode\":\"markers\",\"name\":\"B\",\"text\":\"\",\"x\":[0.44869329824135673,0.04442947891624006,2.1145540519877124,0.48459375200395927,0.36985788919286805,1.481971281069352,2.0343982337154416,-0.4824821822177707,0.8309463581150035,-0.4349385948709931,-0.6756120182110634,-1.5925814019449025,0.23413023932942328,1.0281422105942735,-1.0623059466249865,2.2195071053364663,0.8756994750091641,0.8089835262821432,-0.743409264689658,0.04294253724257267,1.0684455291199384,0.27639677781983707,-1.0954222897259756,-1.2812049648901038,-0.637281296389303,2.111221879684574,-0.5513865740599511,1.0682633521601927,0.4652057414665277,-0.7206548172209604,1.2453404662443033,1.1397830121661918,0.49950650596397383,-0.9263185329342912,0.4111857860492889,0.7120252399106934,-0.7711455320738849,0.9950201421281071,-0.8274584839599624,0.3122126481853524,0.4515622771288505,0.6073609370855199,-2.170149917275103,1.3093912040986788,0.2590512674708452,-1.2337530482989523,-0.308609285621261,0.34858056871628357,-0.5259945565128492,0.7418184128255518,-0.08368524035607329,-0.48681829176600705,-0.6949219701346371,-1.5182275005248043,-0.6942761142349966,-0.29222643627617845,-0.6980315938540814,-1.7810575066261185,-0.38392005874164825,0.7775804455478614,-0.04417520548831625,-1.1024379175998715,-0.6161541682760509,0.2575180438792113,-0.5419691624897529,0.6017703190288322,-1.6905582702704653,0.6380563321234376,1.8411694643156877,0.9642052764057285,1.002877971747453,-1.7837200423433832,1.0355284326901804,-0.8243451510155145,0.3421716769811112,1.7152754923086335,-0.33329183790006034,-0.17785876328291492,0.26727742385574493,-1.4606113851565532,-1.0041165914639603,1.0996641205324444,0.048076295886310676,0.3881428733745407,-0.7623022776406418,1.276648665357941,0.17375732056573817,1.6164033921063847,0.3132317208480055,-0.00029622527125818443,-0.16420288781157838,-2.390517968447201,-0.018873881777453607,-1.9745352341669447,0.6437240829886111,0.609802961274568,-0.6262284629895819,1.4052370704543717,-0.06498383511536726,0.673796877062401],\"xaxis\":\"x5\",\"y\":[-1.1849432239690456,-0.5211376653895813,0.41965188826774313,-0.9070930374743329,-1.5831942364868001,-0.4858365830813737,0.7278009166335301,2.0221616404760145,0.507794572940946,2.0711601716091512,1.0104748395053536,-0.5848426486746308,0.5470577063946599,0.5165371941343447,-0.8016442671933688,0.288897603145818,1.005260388668178,1.6598616302267328,-0.5925215915659423,1.671554584904481,-0.20489334121097746,0.9960112769218384,-1.1054061041824972,-0.5248963018843851,-2.02827538041169,-0.7481179255865056,0.2391258954400187,-0.036886343978482165,0.14693839808593498,-1.3435550788737127,0.495509914100354,-0.3577410117056153,1.4057787447153953,-1.4396298323686851,2.0265956566614616,0.14237098853310884,-0.6720855188428924,-0.29335652809925195,-0.43569699647796284,-0.22581895031823285,-0.47442969869914503,-0.17069809986289486,1.3784558343562423,-2.207449291449941,0.8572827458826012,1.662204807114416,0.571471145490293,0.44588678869899956,-0.3524155474257769,1.2378307781006213,-1.4492689531910803,0.727622601488387,-1.4132155840281677,-0.9267015536871722,-0.44493820610091056,-0.8520553246569631,0.23717606545090117,1.491657687677004,0.7444833830075451,-0.27117666533976253,0.39270769256840615,-0.2086607631876548,0.9385178680801646,-1.0189388989003372,1.9449358716585041,-0.6255855098585659,1.0855482233583384,0.39546694491298606,-0.1796799824978816,0.9446600698055564,-0.4650681551742743,1.9444631807871682,-0.2513789023420614,-0.686686256853849,0.6966766328643259,-0.1465540592511607,1.6020687291155558,-0.051959615969177114,2.543342310408571,-0.570036449181245,0.9720872564921681,0.7685133980318168,-0.4631756619022978,0.6108351641027522,-0.6166118778084613,1.8907829068486697,-1.041542502652796,-1.5682055482136659,-1.050014599780345,-0.9700650851375957,-0.4779809922425408,-0.9087200791848067,-0.19970310413878423,-0.3117045540132173,-0.34515180449440186,0.13139098324208123,-0.7404657562632138,-2.587836670667099,0.12224694930872568,1.0282647351123904],\"yaxis\":\"y5\",\"type\":\"scatter\"},{\"histfunc\":\"count\",\"histnorm\":\"\",\"marker\":{\"color\":\"rgba(55, 128, 191, 1.0)\",\"line\":{\"color\":\"#4D5663\",\"width\":1.3}},\"name\":\"B\",\"nbinsx\":10,\"opacity\":0.8,\"orientation\":\"v\",\"x\":[-1.1849432239690456,-0.5211376653895813,0.41965188826774313,-0.9070930374743329,-1.5831942364868001,-0.4858365830813737,0.7278009166335301,2.0221616404760145,0.507794572940946,2.0711601716091512,1.0104748395053536,-0.5848426486746308,0.5470577063946599,0.5165371941343447,-0.8016442671933688,0.288897603145818,1.005260388668178,1.6598616302267328,-0.5925215915659423,1.671554584904481,-0.20489334121097746,0.9960112769218384,-1.1054061041824972,-0.5248963018843851,-2.02827538041169,-0.7481179255865056,0.2391258954400187,-0.036886343978482165,0.14693839808593498,-1.3435550788737127,0.495509914100354,-0.3577410117056153,1.4057787447153953,-1.4396298323686851,2.0265956566614616,0.14237098853310884,-0.6720855188428924,-0.29335652809925195,-0.43569699647796284,-0.22581895031823285,-0.47442969869914503,-0.17069809986289486,1.3784558343562423,-2.207449291449941,0.8572827458826012,1.662204807114416,0.571471145490293,0.44588678869899956,-0.3524155474257769,1.2378307781006213,-1.4492689531910803,0.727622601488387,-1.4132155840281677,-0.9267015536871722,-0.44493820610091056,-0.8520553246569631,0.23717606545090117,1.491657687677004,0.7444833830075451,-0.27117666533976253,0.39270769256840615,-0.2086607631876548,0.9385178680801646,-1.0189388989003372,1.9449358716585041,-0.6255855098585659,1.0855482233583384,0.39546694491298606,-0.1796799824978816,0.9446600698055564,-0.4650681551742743,1.9444631807871682,-0.2513789023420614,-0.686686256853849,0.6966766328643259,-0.1465540592511607,1.6020687291155558,-0.051959615969177114,2.543342310408571,-0.570036449181245,0.9720872564921681,0.7685133980318168,-0.4631756619022978,0.6108351641027522,-0.6166118778084613,1.8907829068486697,-1.041542502652796,-1.5682055482136659,-1.050014599780345,-0.9700650851375957,-0.4779809922425408,-0.9087200791848067,-0.19970310413878423,-0.3117045540132173,-0.34515180449440186,0.13139098324208123,-0.7404657562632138,-2.587836670667099,0.12224694930872568,1.0282647351123904],\"xaxis\":\"x6\",\"yaxis\":\"y6\",\"type\":\"histogram\"},{\"line\":{\"color\":\"rgba(128, 128, 128, 1.0)\",\"dash\":\"solid\",\"shape\":\"linear\",\"width\":1.3},\"marker\":{\"size\":2,\"symbol\":\"circle\"},\"mode\":\"markers\",\"name\":\"B\",\"text\":\"\",\"x\":[0.9941448900416009,-1.415294561610848,-0.2362353120893795,-0.720913642106691,-0.28330368987773463,0.2575784789016579,0.891055859426488,0.9397412722895416,-0.09888252081291432,0.25793737305505715,0.48520117816869746,0.14381753779226583,0.811773458166103,-1.0599064818452337,-1.6332564775192155,-1.8073848444399405,0.40374740832669925,0.8494659854973792,-1.4540549161333602,-0.3281151163155895,-1.0539527763032357,-0.6452776965653212,0.5057237440121971,-0.07974431034563627,0.13971564504490488,2.224863703256889,-0.5299148873748046,0.16409586148062252,1.4182630497638664,2.1091408300500403,0.39558696356318745,1.7370656227039942,1.7106577502666263,-0.9591305665320118,-1.9982585422756785,1.0404214550368789,1.3564609648175052,-1.058212643947572,-0.06725531848149632,-0.013055235511804764,-0.21663782692489983,-0.8486090167666369,0.08290833662378544,0.7111486804402077,-1.2811656948246104,0.6649687452761156,1.4049769109766066,-1.2843268766984965,0.21388402124443212,0.0364933124121146,-1.0603459092474037,-0.5359949462632948,0.867436007203454,0.2969414505186042,1.335081390440413,0.05867517876988999,-0.8352678556669177,-0.2663536930684828,0.4622304335460673,1.7687177099845872,-0.1861024203918685,-1.0422871350309724,1.1790217152377844,0.15611665080728374,2.662613488310378,0.4800477859187476,0.7299235990876124,-0.5575025760262411,1.8799893527922458,-0.5556764713639761,-0.40310075709715043,1.2027047805085178,0.5900958889609973,0.5019455339099674,-0.7178861360186104,0.02781068977170091,-0.9292756790885546,-0.6355311527000018,0.7478247741092752,1.9251023531700413,1.1348473517271311,0.2724543576013086,-1.1294643051768478,0.015316123517693086,0.6031378978940842,-1.8813369886262623,1.1033974731349108,-0.41439545422901414,1.5769418167280906,-0.2819563325108993,0.9832285324633148,0.8991333686699359,-0.773394842216059,-0.020681247710566602,0.5780880015936647,0.324678060031869,-0.2774276577344426,0.07706099007827202,-0.4468159558368656,-1.5645048722071986],\"xaxis\":\"x7\",\"y\":[-1.1849432239690456,-0.5211376653895813,0.41965188826774313,-0.9070930374743329,-1.5831942364868001,-0.4858365830813737,0.7278009166335301,2.0221616404760145,0.507794572940946,2.0711601716091512,1.0104748395053536,-0.5848426486746308,0.5470577063946599,0.5165371941343447,-0.8016442671933688,0.288897603145818,1.005260388668178,1.6598616302267328,-0.5925215915659423,1.671554584904481,-0.20489334121097746,0.9960112769218384,-1.1054061041824972,-0.5248963018843851,-2.02827538041169,-0.7481179255865056,0.2391258954400187,-0.036886343978482165,0.14693839808593498,-1.3435550788737127,0.495509914100354,-0.3577410117056153,1.4057787447153953,-1.4396298323686851,2.0265956566614616,0.14237098853310884,-0.6720855188428924,-0.29335652809925195,-0.43569699647796284,-0.22581895031823285,-0.47442969869914503,-0.17069809986289486,1.3784558343562423,-2.207449291449941,0.8572827458826012,1.662204807114416,0.571471145490293,0.44588678869899956,-0.3524155474257769,1.2378307781006213,-1.4492689531910803,0.727622601488387,-1.4132155840281677,-0.9267015536871722,-0.44493820610091056,-0.8520553246569631,0.23717606545090117,1.491657687677004,0.7444833830075451,-0.27117666533976253,0.39270769256840615,-0.2086607631876548,0.9385178680801646,-1.0189388989003372,1.9449358716585041,-0.6255855098585659,1.0855482233583384,0.39546694491298606,-0.1796799824978816,0.9446600698055564,-0.4650681551742743,1.9444631807871682,-0.2513789023420614,-0.686686256853849,0.6966766328643259,-0.1465540592511607,1.6020687291155558,-0.051959615969177114,2.543342310408571,-0.570036449181245,0.9720872564921681,0.7685133980318168,-0.4631756619022978,0.6108351641027522,-0.6166118778084613,1.8907829068486697,-1.041542502652796,-1.5682055482136659,-1.050014599780345,-0.9700650851375957,-0.4779809922425408,-0.9087200791848067,-0.19970310413878423,-0.3117045540132173,-0.34515180449440186,0.13139098324208123,-0.7404657562632138,-2.587836670667099,0.12224694930872568,1.0282647351123904],\"yaxis\":\"y7\",\"type\":\"scatter\"},{\"line\":{\"color\":\"rgba(128, 128, 128, 1.0)\",\"dash\":\"solid\",\"shape\":\"linear\",\"width\":1.3},\"marker\":{\"size\":2,\"symbol\":\"circle\"},\"mode\":\"markers\",\"name\":\"B\",\"text\":\"\",\"x\":[-1.192331137475391,-0.00856699516992989,-0.8389573196718727,1.9038886669123798,-0.3578989183974868,1.269058584542344,1.2773561312604635,-0.32200575661072384,-1.0490940186819366,-1.535748773975125,-0.5818441090607093,-0.5749314861247098,-1.3102279248056667,-1.0391762849530102,0.7558886343010799,-1.051384429232649,0.7196666819492346,-1.0871731403771503,0.1256690669388479,-0.25887726974027453,0.2603387685628686,0.6268767408326498,0.4571045226885126,1.232746870097122,-0.2924730711341888,-0.8207390379997915,-0.7617087993499451,0.6738443082395105,0.8616654493127476,-1.3121990699226702,-0.30928378746053625,-0.5517438495604261,0.4727531665947437,0.2128581921100694,0.990650280645931,-0.2101062281883072,-0.8734335136941964,-1.0633603540720415,0.8977052816076212,-0.7152434901222349,1.299674495389652,1.0589130177247437,-0.4219566412429281,-0.39211794982348025,-1.5932583119182626,0.8380266688659123,2.072438376377097,0.9589663814410084,0.523644527666068,-1.3163798843336647,-0.5783770995176221,-1.6425874293139233,0.389650570163329,-0.627879682481188,-0.29358589411513,-0.4264987288997589,0.7335164454956574,-0.24226400319543726,-0.6083963260182481,-0.48973451618620084,-0.30603663731945624,-0.8828518049050315,-0.22404304472997558,-0.5325983785461976,1.3307920952800403,-0.5926625508213409,0.2374957441585812,-0.007262216440006755,0.9659048842590944,-2.155684785580294,2.198379764321302,1.0987298332673232,-1.947136657825518,-0.42158282972566163,-0.343177917073893,0.13409486093295325,-0.6214862021450471,-0.6873339078329382,0.41360925188915093,1.173073240291131,0.8411615343773262,0.7994068490945303,1.1901612344610126,-0.7319279564655078,-0.5629665160169346,1.1454522969763212,0.18419435604158182,1.210645426962905,-0.6961425292258258,0.10515886428625675,-0.36306195531419316,-0.03237823904710659,0.807735156582041,-0.6801244533213385,0.6773257561802543,1.234242011739503,1.3263288276175949,1.673093403226205,-1.7950811866485987,0.6706747372090567],\"xaxis\":\"x8\",\"y\":[-1.1849432239690456,-0.5211376653895813,0.41965188826774313,-0.9070930374743329,-1.5831942364868001,-0.4858365830813737,0.7278009166335301,2.0221616404760145,0.507794572940946,2.0711601716091512,1.0104748395053536,-0.5848426486746308,0.5470577063946599,0.5165371941343447,-0.8016442671933688,0.288897603145818,1.005260388668178,1.6598616302267328,-0.5925215915659423,1.671554584904481,-0.20489334121097746,0.9960112769218384,-1.1054061041824972,-0.5248963018843851,-2.02827538041169,-0.7481179255865056,0.2391258954400187,-0.036886343978482165,0.14693839808593498,-1.3435550788737127,0.495509914100354,-0.3577410117056153,1.4057787447153953,-1.4396298323686851,2.0265956566614616,0.14237098853310884,-0.6720855188428924,-0.29335652809925195,-0.43569699647796284,-0.22581895031823285,-0.47442969869914503,-0.17069809986289486,1.3784558343562423,-2.207449291449941,0.8572827458826012,1.662204807114416,0.571471145490293,0.44588678869899956,-0.3524155474257769,1.2378307781006213,-1.4492689531910803,0.727622601488387,-1.4132155840281677,-0.9267015536871722,-0.44493820610091056,-0.8520553246569631,0.23717606545090117,1.491657687677004,0.7444833830075451,-0.27117666533976253,0.39270769256840615,-0.2086607631876548,0.9385178680801646,-1.0189388989003372,1.9449358716585041,-0.6255855098585659,1.0855482233583384,0.39546694491298606,-0.1796799824978816,0.9446600698055564,-0.4650681551742743,1.9444631807871682,-0.2513789023420614,-0.686686256853849,0.6966766328643259,-0.1465540592511607,1.6020687291155558,-0.051959615969177114,2.543342310408571,-0.570036449181245,0.9720872564921681,0.7685133980318168,-0.4631756619022978,0.6108351641027522,-0.6166118778084613,1.8907829068486697,-1.041542502652796,-1.5682055482136659,-1.050014599780345,-0.9700650851375957,-0.4779809922425408,-0.9087200791848067,-0.19970310413878423,-0.3117045540132173,-0.34515180449440186,0.13139098324208123,-0.7404657562632138,-2.587836670667099,0.12224694930872568,1.0282647351123904],\"yaxis\":\"y8\",\"type\":\"scatter\"},{\"line\":{\"color\":\"rgba(128, 128, 128, 1.0)\",\"dash\":\"solid\",\"shape\":\"linear\",\"width\":1.3},\"marker\":{\"size\":2,\"symbol\":\"circle\"},\"mode\":\"markers\",\"name\":\"C\",\"text\":\"\",\"x\":[0.44869329824135673,0.04442947891624006,2.1145540519877124,0.48459375200395927,0.36985788919286805,1.481971281069352,2.0343982337154416,-0.4824821822177707,0.8309463581150035,-0.4349385948709931,-0.6756120182110634,-1.5925814019449025,0.23413023932942328,1.0281422105942735,-1.0623059466249865,2.2195071053364663,0.8756994750091641,0.8089835262821432,-0.743409264689658,0.04294253724257267,1.0684455291199384,0.27639677781983707,-1.0954222897259756,-1.2812049648901038,-0.637281296389303,2.111221879684574,-0.5513865740599511,1.0682633521601927,0.4652057414665277,-0.7206548172209604,1.2453404662443033,1.1397830121661918,0.49950650596397383,-0.9263185329342912,0.4111857860492889,0.7120252399106934,-0.7711455320738849,0.9950201421281071,-0.8274584839599624,0.3122126481853524,0.4515622771288505,0.6073609370855199,-2.170149917275103,1.3093912040986788,0.2590512674708452,-1.2337530482989523,-0.308609285621261,0.34858056871628357,-0.5259945565128492,0.7418184128255518,-0.08368524035607329,-0.48681829176600705,-0.6949219701346371,-1.5182275005248043,-0.6942761142349966,-0.29222643627617845,-0.6980315938540814,-1.7810575066261185,-0.38392005874164825,0.7775804455478614,-0.04417520548831625,-1.1024379175998715,-0.6161541682760509,0.2575180438792113,-0.5419691624897529,0.6017703190288322,-1.6905582702704653,0.6380563321234376,1.8411694643156877,0.9642052764057285,1.002877971747453,-1.7837200423433832,1.0355284326901804,-0.8243451510155145,0.3421716769811112,1.7152754923086335,-0.33329183790006034,-0.17785876328291492,0.26727742385574493,-1.4606113851565532,-1.0041165914639603,1.0996641205324444,0.048076295886310676,0.3881428733745407,-0.7623022776406418,1.276648665357941,0.17375732056573817,1.6164033921063847,0.3132317208480055,-0.00029622527125818443,-0.16420288781157838,-2.390517968447201,-0.018873881777453607,-1.9745352341669447,0.6437240829886111,0.609802961274568,-0.6262284629895819,1.4052370704543717,-0.06498383511536726,0.673796877062401],\"xaxis\":\"x9\",\"y\":[0.9941448900416009,-1.415294561610848,-0.2362353120893795,-0.720913642106691,-0.28330368987773463,0.2575784789016579,0.891055859426488,0.9397412722895416,-0.09888252081291432,0.25793737305505715,0.48520117816869746,0.14381753779226583,0.811773458166103,-1.0599064818452337,-1.6332564775192155,-1.8073848444399405,0.40374740832669925,0.8494659854973792,-1.4540549161333602,-0.3281151163155895,-1.0539527763032357,-0.6452776965653212,0.5057237440121971,-0.07974431034563627,0.13971564504490488,2.224863703256889,-0.5299148873748046,0.16409586148062252,1.4182630497638664,2.1091408300500403,0.39558696356318745,1.7370656227039942,1.7106577502666263,-0.9591305665320118,-1.9982585422756785,1.0404214550368789,1.3564609648175052,-1.058212643947572,-0.06725531848149632,-0.013055235511804764,-0.21663782692489983,-0.8486090167666369,0.08290833662378544,0.7111486804402077,-1.2811656948246104,0.6649687452761156,1.4049769109766066,-1.2843268766984965,0.21388402124443212,0.0364933124121146,-1.0603459092474037,-0.5359949462632948,0.867436007203454,0.2969414505186042,1.335081390440413,0.05867517876988999,-0.8352678556669177,-0.2663536930684828,0.4622304335460673,1.7687177099845872,-0.1861024203918685,-1.0422871350309724,1.1790217152377844,0.15611665080728374,2.662613488310378,0.4800477859187476,0.7299235990876124,-0.5575025760262411,1.8799893527922458,-0.5556764713639761,-0.40310075709715043,1.2027047805085178,0.5900958889609973,0.5019455339099674,-0.7178861360186104,0.02781068977170091,-0.9292756790885546,-0.6355311527000018,0.7478247741092752,1.9251023531700413,1.1348473517271311,0.2724543576013086,-1.1294643051768478,0.015316123517693086,0.6031378978940842,-1.8813369886262623,1.1033974731349108,-0.41439545422901414,1.5769418167280906,-0.2819563325108993,0.9832285324633148,0.8991333686699359,-0.773394842216059,-0.020681247710566602,0.5780880015936647,0.324678060031869,-0.2774276577344426,0.07706099007827202,-0.4468159558368656,-1.5645048722071986],\"yaxis\":\"y9\",\"type\":\"scatter\"},{\"line\":{\"color\":\"rgba(128, 128, 128, 1.0)\",\"dash\":\"solid\",\"shape\":\"linear\",\"width\":1.3},\"marker\":{\"size\":2,\"symbol\":\"circle\"},\"mode\":\"markers\",\"name\":\"C\",\"text\":\"\",\"x\":[-1.1849432239690456,-0.5211376653895813,0.41965188826774313,-0.9070930374743329,-1.5831942364868001,-0.4858365830813737,0.7278009166335301,2.0221616404760145,0.507794572940946,2.0711601716091512,1.0104748395053536,-0.5848426486746308,0.5470577063946599,0.5165371941343447,-0.8016442671933688,0.288897603145818,1.005260388668178,1.6598616302267328,-0.5925215915659423,1.671554584904481,-0.20489334121097746,0.9960112769218384,-1.1054061041824972,-0.5248963018843851,-2.02827538041169,-0.7481179255865056,0.2391258954400187,-0.036886343978482165,0.14693839808593498,-1.3435550788737127,0.495509914100354,-0.3577410117056153,1.4057787447153953,-1.4396298323686851,2.0265956566614616,0.14237098853310884,-0.6720855188428924,-0.29335652809925195,-0.43569699647796284,-0.22581895031823285,-0.47442969869914503,-0.17069809986289486,1.3784558343562423,-2.207449291449941,0.8572827458826012,1.662204807114416,0.571471145490293,0.44588678869899956,-0.3524155474257769,1.2378307781006213,-1.4492689531910803,0.727622601488387,-1.4132155840281677,-0.9267015536871722,-0.44493820610091056,-0.8520553246569631,0.23717606545090117,1.491657687677004,0.7444833830075451,-0.27117666533976253,0.39270769256840615,-0.2086607631876548,0.9385178680801646,-1.0189388989003372,1.9449358716585041,-0.6255855098585659,1.0855482233583384,0.39546694491298606,-0.1796799824978816,0.9446600698055564,-0.4650681551742743,1.9444631807871682,-0.2513789023420614,-0.686686256853849,0.6966766328643259,-0.1465540592511607,1.6020687291155558,-0.051959615969177114,2.543342310408571,-0.570036449181245,0.9720872564921681,0.7685133980318168,-0.4631756619022978,0.6108351641027522,-0.6166118778084613,1.8907829068486697,-1.041542502652796,-1.5682055482136659,-1.050014599780345,-0.9700650851375957,-0.4779809922425408,-0.9087200791848067,-0.19970310413878423,-0.3117045540132173,-0.34515180449440186,0.13139098324208123,-0.7404657562632138,-2.587836670667099,0.12224694930872568,1.0282647351123904],\"xaxis\":\"x10\",\"y\":[0.9941448900416009,-1.415294561610848,-0.2362353120893795,-0.720913642106691,-0.28330368987773463,0.2575784789016579,0.891055859426488,0.9397412722895416,-0.09888252081291432,0.25793737305505715,0.48520117816869746,0.14381753779226583,0.811773458166103,-1.0599064818452337,-1.6332564775192155,-1.8073848444399405,0.40374740832669925,0.8494659854973792,-1.4540549161333602,-0.3281151163155895,-1.0539527763032357,-0.6452776965653212,0.5057237440121971,-0.07974431034563627,0.13971564504490488,2.224863703256889,-0.5299148873748046,0.16409586148062252,1.4182630497638664,2.1091408300500403,0.39558696356318745,1.7370656227039942,1.7106577502666263,-0.9591305665320118,-1.9982585422756785,1.0404214550368789,1.3564609648175052,-1.058212643947572,-0.06725531848149632,-0.013055235511804764,-0.21663782692489983,-0.8486090167666369,0.08290833662378544,0.7111486804402077,-1.2811656948246104,0.6649687452761156,1.4049769109766066,-1.2843268766984965,0.21388402124443212,0.0364933124121146,-1.0603459092474037,-0.5359949462632948,0.867436007203454,0.2969414505186042,1.335081390440413,0.05867517876988999,-0.8352678556669177,-0.2663536930684828,0.4622304335460673,1.7687177099845872,-0.1861024203918685,-1.0422871350309724,1.1790217152377844,0.15611665080728374,2.662613488310378,0.4800477859187476,0.7299235990876124,-0.5575025760262411,1.8799893527922458,-0.5556764713639761,-0.40310075709715043,1.2027047805085178,0.5900958889609973,0.5019455339099674,-0.7178861360186104,0.02781068977170091,-0.9292756790885546,-0.6355311527000018,0.7478247741092752,1.9251023531700413,1.1348473517271311,0.2724543576013086,-1.1294643051768478,0.015316123517693086,0.6031378978940842,-1.8813369886262623,1.1033974731349108,-0.41439545422901414,1.5769418167280906,-0.2819563325108993,0.9832285324633148,0.8991333686699359,-0.773394842216059,-0.020681247710566602,0.5780880015936647,0.324678060031869,-0.2774276577344426,0.07706099007827202,-0.4468159558368656,-1.5645048722071986],\"yaxis\":\"y10\",\"type\":\"scatter\"},{\"histfunc\":\"count\",\"histnorm\":\"\",\"marker\":{\"color\":\"rgba(50, 171, 96, 1.0)\",\"line\":{\"color\":\"#4D5663\",\"width\":1.3}},\"name\":\"C\",\"nbinsx\":10,\"opacity\":0.8,\"orientation\":\"v\",\"x\":[0.9941448900416009,-1.415294561610848,-0.2362353120893795,-0.720913642106691,-0.28330368987773463,0.2575784789016579,0.891055859426488,0.9397412722895416,-0.09888252081291432,0.25793737305505715,0.48520117816869746,0.14381753779226583,0.811773458166103,-1.0599064818452337,-1.6332564775192155,-1.8073848444399405,0.40374740832669925,0.8494659854973792,-1.4540549161333602,-0.3281151163155895,-1.0539527763032357,-0.6452776965653212,0.5057237440121971,-0.07974431034563627,0.13971564504490488,2.224863703256889,-0.5299148873748046,0.16409586148062252,1.4182630497638664,2.1091408300500403,0.39558696356318745,1.7370656227039942,1.7106577502666263,-0.9591305665320118,-1.9982585422756785,1.0404214550368789,1.3564609648175052,-1.058212643947572,-0.06725531848149632,-0.013055235511804764,-0.21663782692489983,-0.8486090167666369,0.08290833662378544,0.7111486804402077,-1.2811656948246104,0.6649687452761156,1.4049769109766066,-1.2843268766984965,0.21388402124443212,0.0364933124121146,-1.0603459092474037,-0.5359949462632948,0.867436007203454,0.2969414505186042,1.335081390440413,0.05867517876988999,-0.8352678556669177,-0.2663536930684828,0.4622304335460673,1.7687177099845872,-0.1861024203918685,-1.0422871350309724,1.1790217152377844,0.15611665080728374,2.662613488310378,0.4800477859187476,0.7299235990876124,-0.5575025760262411,1.8799893527922458,-0.5556764713639761,-0.40310075709715043,1.2027047805085178,0.5900958889609973,0.5019455339099674,-0.7178861360186104,0.02781068977170091,-0.9292756790885546,-0.6355311527000018,0.7478247741092752,1.9251023531700413,1.1348473517271311,0.2724543576013086,-1.1294643051768478,0.015316123517693086,0.6031378978940842,-1.8813369886262623,1.1033974731349108,-0.41439545422901414,1.5769418167280906,-0.2819563325108993,0.9832285324633148,0.8991333686699359,-0.773394842216059,-0.020681247710566602,0.5780880015936647,0.324678060031869,-0.2774276577344426,0.07706099007827202,-0.4468159558368656,-1.5645048722071986],\"xaxis\":\"x11\",\"yaxis\":\"y11\",\"type\":\"histogram\"},{\"line\":{\"color\":\"rgba(128, 128, 128, 1.0)\",\"dash\":\"solid\",\"shape\":\"linear\",\"width\":1.3},\"marker\":{\"size\":2,\"symbol\":\"circle\"},\"mode\":\"markers\",\"name\":\"C\",\"text\":\"\",\"x\":[-1.192331137475391,-0.00856699516992989,-0.8389573196718727,1.9038886669123798,-0.3578989183974868,1.269058584542344,1.2773561312604635,-0.32200575661072384,-1.0490940186819366,-1.535748773975125,-0.5818441090607093,-0.5749314861247098,-1.3102279248056667,-1.0391762849530102,0.7558886343010799,-1.051384429232649,0.7196666819492346,-1.0871731403771503,0.1256690669388479,-0.25887726974027453,0.2603387685628686,0.6268767408326498,0.4571045226885126,1.232746870097122,-0.2924730711341888,-0.8207390379997915,-0.7617087993499451,0.6738443082395105,0.8616654493127476,-1.3121990699226702,-0.30928378746053625,-0.5517438495604261,0.4727531665947437,0.2128581921100694,0.990650280645931,-0.2101062281883072,-0.8734335136941964,-1.0633603540720415,0.8977052816076212,-0.7152434901222349,1.299674495389652,1.0589130177247437,-0.4219566412429281,-0.39211794982348025,-1.5932583119182626,0.8380266688659123,2.072438376377097,0.9589663814410084,0.523644527666068,-1.3163798843336647,-0.5783770995176221,-1.6425874293139233,0.389650570163329,-0.627879682481188,-0.29358589411513,-0.4264987288997589,0.7335164454956574,-0.24226400319543726,-0.6083963260182481,-0.48973451618620084,-0.30603663731945624,-0.8828518049050315,-0.22404304472997558,-0.5325983785461976,1.3307920952800403,-0.5926625508213409,0.2374957441585812,-0.007262216440006755,0.9659048842590944,-2.155684785580294,2.198379764321302,1.0987298332673232,-1.947136657825518,-0.42158282972566163,-0.343177917073893,0.13409486093295325,-0.6214862021450471,-0.6873339078329382,0.41360925188915093,1.173073240291131,0.8411615343773262,0.7994068490945303,1.1901612344610126,-0.7319279564655078,-0.5629665160169346,1.1454522969763212,0.18419435604158182,1.210645426962905,-0.6961425292258258,0.10515886428625675,-0.36306195531419316,-0.03237823904710659,0.807735156582041,-0.6801244533213385,0.6773257561802543,1.234242011739503,1.3263288276175949,1.673093403226205,-1.7950811866485987,0.6706747372090567],\"xaxis\":\"x12\",\"y\":[0.9941448900416009,-1.415294561610848,-0.2362353120893795,-0.720913642106691,-0.28330368987773463,0.2575784789016579,0.891055859426488,0.9397412722895416,-0.09888252081291432,0.25793737305505715,0.48520117816869746,0.14381753779226583,0.811773458166103,-1.0599064818452337,-1.6332564775192155,-1.8073848444399405,0.40374740832669925,0.8494659854973792,-1.4540549161333602,-0.3281151163155895,-1.0539527763032357,-0.6452776965653212,0.5057237440121971,-0.07974431034563627,0.13971564504490488,2.224863703256889,-0.5299148873748046,0.16409586148062252,1.4182630497638664,2.1091408300500403,0.39558696356318745,1.7370656227039942,1.7106577502666263,-0.9591305665320118,-1.9982585422756785,1.0404214550368789,1.3564609648175052,-1.058212643947572,-0.06725531848149632,-0.013055235511804764,-0.21663782692489983,-0.8486090167666369,0.08290833662378544,0.7111486804402077,-1.2811656948246104,0.6649687452761156,1.4049769109766066,-1.2843268766984965,0.21388402124443212,0.0364933124121146,-1.0603459092474037,-0.5359949462632948,0.867436007203454,0.2969414505186042,1.335081390440413,0.05867517876988999,-0.8352678556669177,-0.2663536930684828,0.4622304335460673,1.7687177099845872,-0.1861024203918685,-1.0422871350309724,1.1790217152377844,0.15611665080728374,2.662613488310378,0.4800477859187476,0.7299235990876124,-0.5575025760262411,1.8799893527922458,-0.5556764713639761,-0.40310075709715043,1.2027047805085178,0.5900958889609973,0.5019455339099674,-0.7178861360186104,0.02781068977170091,-0.9292756790885546,-0.6355311527000018,0.7478247741092752,1.9251023531700413,1.1348473517271311,0.2724543576013086,-1.1294643051768478,0.015316123517693086,0.6031378978940842,-1.8813369886262623,1.1033974731349108,-0.41439545422901414,1.5769418167280906,-0.2819563325108993,0.9832285324633148,0.8991333686699359,-0.773394842216059,-0.020681247710566602,0.5780880015936647,0.324678060031869,-0.2774276577344426,0.07706099007827202,-0.4468159558368656,-1.5645048722071986],\"yaxis\":\"y12\",\"type\":\"scatter\"},{\"line\":{\"color\":\"rgba(128, 128, 128, 1.0)\",\"dash\":\"solid\",\"shape\":\"linear\",\"width\":1.3},\"marker\":{\"size\":2,\"symbol\":\"circle\"},\"mode\":\"markers\",\"name\":\"D\",\"text\":\"\",\"x\":[0.44869329824135673,0.04442947891624006,2.1145540519877124,0.48459375200395927,0.36985788919286805,1.481971281069352,2.0343982337154416,-0.4824821822177707,0.8309463581150035,-0.4349385948709931,-0.6756120182110634,-1.5925814019449025,0.23413023932942328,1.0281422105942735,-1.0623059466249865,2.2195071053364663,0.8756994750091641,0.8089835262821432,-0.743409264689658,0.04294253724257267,1.0684455291199384,0.27639677781983707,-1.0954222897259756,-1.2812049648901038,-0.637281296389303,2.111221879684574,-0.5513865740599511,1.0682633521601927,0.4652057414665277,-0.7206548172209604,1.2453404662443033,1.1397830121661918,0.49950650596397383,-0.9263185329342912,0.4111857860492889,0.7120252399106934,-0.7711455320738849,0.9950201421281071,-0.8274584839599624,0.3122126481853524,0.4515622771288505,0.6073609370855199,-2.170149917275103,1.3093912040986788,0.2590512674708452,-1.2337530482989523,-0.308609285621261,0.34858056871628357,-0.5259945565128492,0.7418184128255518,-0.08368524035607329,-0.48681829176600705,-0.6949219701346371,-1.5182275005248043,-0.6942761142349966,-0.29222643627617845,-0.6980315938540814,-1.7810575066261185,-0.38392005874164825,0.7775804455478614,-0.04417520548831625,-1.1024379175998715,-0.6161541682760509,0.2575180438792113,-0.5419691624897529,0.6017703190288322,-1.6905582702704653,0.6380563321234376,1.8411694643156877,0.9642052764057285,1.002877971747453,-1.7837200423433832,1.0355284326901804,-0.8243451510155145,0.3421716769811112,1.7152754923086335,-0.33329183790006034,-0.17785876328291492,0.26727742385574493,-1.4606113851565532,-1.0041165914639603,1.0996641205324444,0.048076295886310676,0.3881428733745407,-0.7623022776406418,1.276648665357941,0.17375732056573817,1.6164033921063847,0.3132317208480055,-0.00029622527125818443,-0.16420288781157838,-2.390517968447201,-0.018873881777453607,-1.9745352341669447,0.6437240829886111,0.609802961274568,-0.6262284629895819,1.4052370704543717,-0.06498383511536726,0.673796877062401],\"xaxis\":\"x13\",\"y\":[-1.192331137475391,-0.00856699516992989,-0.8389573196718727,1.9038886669123798,-0.3578989183974868,1.269058584542344,1.2773561312604635,-0.32200575661072384,-1.0490940186819366,-1.535748773975125,-0.5818441090607093,-0.5749314861247098,-1.3102279248056667,-1.0391762849530102,0.7558886343010799,-1.051384429232649,0.7196666819492346,-1.0871731403771503,0.1256690669388479,-0.25887726974027453,0.2603387685628686,0.6268767408326498,0.4571045226885126,1.232746870097122,-0.2924730711341888,-0.8207390379997915,-0.7617087993499451,0.6738443082395105,0.8616654493127476,-1.3121990699226702,-0.30928378746053625,-0.5517438495604261,0.4727531665947437,0.2128581921100694,0.990650280645931,-0.2101062281883072,-0.8734335136941964,-1.0633603540720415,0.8977052816076212,-0.7152434901222349,1.299674495389652,1.0589130177247437,-0.4219566412429281,-0.39211794982348025,-1.5932583119182626,0.8380266688659123,2.072438376377097,0.9589663814410084,0.523644527666068,-1.3163798843336647,-0.5783770995176221,-1.6425874293139233,0.389650570163329,-0.627879682481188,-0.29358589411513,-0.4264987288997589,0.7335164454956574,-0.24226400319543726,-0.6083963260182481,-0.48973451618620084,-0.30603663731945624,-0.8828518049050315,-0.22404304472997558,-0.5325983785461976,1.3307920952800403,-0.5926625508213409,0.2374957441585812,-0.007262216440006755,0.9659048842590944,-2.155684785580294,2.198379764321302,1.0987298332673232,-1.947136657825518,-0.42158282972566163,-0.343177917073893,0.13409486093295325,-0.6214862021450471,-0.6873339078329382,0.41360925188915093,1.173073240291131,0.8411615343773262,0.7994068490945303,1.1901612344610126,-0.7319279564655078,-0.5629665160169346,1.1454522969763212,0.18419435604158182,1.210645426962905,-0.6961425292258258,0.10515886428625675,-0.36306195531419316,-0.03237823904710659,0.807735156582041,-0.6801244533213385,0.6773257561802543,1.234242011739503,1.3263288276175949,1.673093403226205,-1.7950811866485987,0.6706747372090567],\"yaxis\":\"y13\",\"type\":\"scatter\"},{\"line\":{\"color\":\"rgba(128, 128, 128, 1.0)\",\"dash\":\"solid\",\"shape\":\"linear\",\"width\":1.3},\"marker\":{\"size\":2,\"symbol\":\"circle\"},\"mode\":\"markers\",\"name\":\"D\",\"text\":\"\",\"x\":[-1.1849432239690456,-0.5211376653895813,0.41965188826774313,-0.9070930374743329,-1.5831942364868001,-0.4858365830813737,0.7278009166335301,2.0221616404760145,0.507794572940946,2.0711601716091512,1.0104748395053536,-0.5848426486746308,0.5470577063946599,0.5165371941343447,-0.8016442671933688,0.288897603145818,1.005260388668178,1.6598616302267328,-0.5925215915659423,1.671554584904481,-0.20489334121097746,0.9960112769218384,-1.1054061041824972,-0.5248963018843851,-2.02827538041169,-0.7481179255865056,0.2391258954400187,-0.036886343978482165,0.14693839808593498,-1.3435550788737127,0.495509914100354,-0.3577410117056153,1.4057787447153953,-1.4396298323686851,2.0265956566614616,0.14237098853310884,-0.6720855188428924,-0.29335652809925195,-0.43569699647796284,-0.22581895031823285,-0.47442969869914503,-0.17069809986289486,1.3784558343562423,-2.207449291449941,0.8572827458826012,1.662204807114416,0.571471145490293,0.44588678869899956,-0.3524155474257769,1.2378307781006213,-1.4492689531910803,0.727622601488387,-1.4132155840281677,-0.9267015536871722,-0.44493820610091056,-0.8520553246569631,0.23717606545090117,1.491657687677004,0.7444833830075451,-0.27117666533976253,0.39270769256840615,-0.2086607631876548,0.9385178680801646,-1.0189388989003372,1.9449358716585041,-0.6255855098585659,1.0855482233583384,0.39546694491298606,-0.1796799824978816,0.9446600698055564,-0.4650681551742743,1.9444631807871682,-0.2513789023420614,-0.686686256853849,0.6966766328643259,-0.1465540592511607,1.6020687291155558,-0.051959615969177114,2.543342310408571,-0.570036449181245,0.9720872564921681,0.7685133980318168,-0.4631756619022978,0.6108351641027522,-0.6166118778084613,1.8907829068486697,-1.041542502652796,-1.5682055482136659,-1.050014599780345,-0.9700650851375957,-0.4779809922425408,-0.9087200791848067,-0.19970310413878423,-0.3117045540132173,-0.34515180449440186,0.13139098324208123,-0.7404657562632138,-2.587836670667099,0.12224694930872568,1.0282647351123904],\"xaxis\":\"x14\",\"y\":[-1.192331137475391,-0.00856699516992989,-0.8389573196718727,1.9038886669123798,-0.3578989183974868,1.269058584542344,1.2773561312604635,-0.32200575661072384,-1.0490940186819366,-1.535748773975125,-0.5818441090607093,-0.5749314861247098,-1.3102279248056667,-1.0391762849530102,0.7558886343010799,-1.051384429232649,0.7196666819492346,-1.0871731403771503,0.1256690669388479,-0.25887726974027453,0.2603387685628686,0.6268767408326498,0.4571045226885126,1.232746870097122,-0.2924730711341888,-0.8207390379997915,-0.7617087993499451,0.6738443082395105,0.8616654493127476,-1.3121990699226702,-0.30928378746053625,-0.5517438495604261,0.4727531665947437,0.2128581921100694,0.990650280645931,-0.2101062281883072,-0.8734335136941964,-1.0633603540720415,0.8977052816076212,-0.7152434901222349,1.299674495389652,1.0589130177247437,-0.4219566412429281,-0.39211794982348025,-1.5932583119182626,0.8380266688659123,2.072438376377097,0.9589663814410084,0.523644527666068,-1.3163798843336647,-0.5783770995176221,-1.6425874293139233,0.389650570163329,-0.627879682481188,-0.29358589411513,-0.4264987288997589,0.7335164454956574,-0.24226400319543726,-0.6083963260182481,-0.48973451618620084,-0.30603663731945624,-0.8828518049050315,-0.22404304472997558,-0.5325983785461976,1.3307920952800403,-0.5926625508213409,0.2374957441585812,-0.007262216440006755,0.9659048842590944,-2.155684785580294,2.198379764321302,1.0987298332673232,-1.947136657825518,-0.42158282972566163,-0.343177917073893,0.13409486093295325,-0.6214862021450471,-0.6873339078329382,0.41360925188915093,1.173073240291131,0.8411615343773262,0.7994068490945303,1.1901612344610126,-0.7319279564655078,-0.5629665160169346,1.1454522969763212,0.18419435604158182,1.210645426962905,-0.6961425292258258,0.10515886428625675,-0.36306195531419316,-0.03237823904710659,0.807735156582041,-0.6801244533213385,0.6773257561802543,1.234242011739503,1.3263288276175949,1.673093403226205,-1.7950811866485987,0.6706747372090567],\"yaxis\":\"y14\",\"type\":\"scatter\"},{\"line\":{\"color\":\"rgba(128, 128, 128, 1.0)\",\"dash\":\"solid\",\"shape\":\"linear\",\"width\":1.3},\"marker\":{\"size\":2,\"symbol\":\"circle\"},\"mode\":\"markers\",\"name\":\"D\",\"text\":\"\",\"x\":[0.9941448900416009,-1.415294561610848,-0.2362353120893795,-0.720913642106691,-0.28330368987773463,0.2575784789016579,0.891055859426488,0.9397412722895416,-0.09888252081291432,0.25793737305505715,0.48520117816869746,0.14381753779226583,0.811773458166103,-1.0599064818452337,-1.6332564775192155,-1.8073848444399405,0.40374740832669925,0.8494659854973792,-1.4540549161333602,-0.3281151163155895,-1.0539527763032357,-0.6452776965653212,0.5057237440121971,-0.07974431034563627,0.13971564504490488,2.224863703256889,-0.5299148873748046,0.16409586148062252,1.4182630497638664,2.1091408300500403,0.39558696356318745,1.7370656227039942,1.7106577502666263,-0.9591305665320118,-1.9982585422756785,1.0404214550368789,1.3564609648175052,-1.058212643947572,-0.06725531848149632,-0.013055235511804764,-0.21663782692489983,-0.8486090167666369,0.08290833662378544,0.7111486804402077,-1.2811656948246104,0.6649687452761156,1.4049769109766066,-1.2843268766984965,0.21388402124443212,0.0364933124121146,-1.0603459092474037,-0.5359949462632948,0.867436007203454,0.2969414505186042,1.335081390440413,0.05867517876988999,-0.8352678556669177,-0.2663536930684828,0.4622304335460673,1.7687177099845872,-0.1861024203918685,-1.0422871350309724,1.1790217152377844,0.15611665080728374,2.662613488310378,0.4800477859187476,0.7299235990876124,-0.5575025760262411,1.8799893527922458,-0.5556764713639761,-0.40310075709715043,1.2027047805085178,0.5900958889609973,0.5019455339099674,-0.7178861360186104,0.02781068977170091,-0.9292756790885546,-0.6355311527000018,0.7478247741092752,1.9251023531700413,1.1348473517271311,0.2724543576013086,-1.1294643051768478,0.015316123517693086,0.6031378978940842,-1.8813369886262623,1.1033974731349108,-0.41439545422901414,1.5769418167280906,-0.2819563325108993,0.9832285324633148,0.8991333686699359,-0.773394842216059,-0.020681247710566602,0.5780880015936647,0.324678060031869,-0.2774276577344426,0.07706099007827202,-0.4468159558368656,-1.5645048722071986],\"xaxis\":\"x15\",\"y\":[-1.192331137475391,-0.00856699516992989,-0.8389573196718727,1.9038886669123798,-0.3578989183974868,1.269058584542344,1.2773561312604635,-0.32200575661072384,-1.0490940186819366,-1.535748773975125,-0.5818441090607093,-0.5749314861247098,-1.3102279248056667,-1.0391762849530102,0.7558886343010799,-1.051384429232649,0.7196666819492346,-1.0871731403771503,0.1256690669388479,-0.25887726974027453,0.2603387685628686,0.6268767408326498,0.4571045226885126,1.232746870097122,-0.2924730711341888,-0.8207390379997915,-0.7617087993499451,0.6738443082395105,0.8616654493127476,-1.3121990699226702,-0.30928378746053625,-0.5517438495604261,0.4727531665947437,0.2128581921100694,0.990650280645931,-0.2101062281883072,-0.8734335136941964,-1.0633603540720415,0.8977052816076212,-0.7152434901222349,1.299674495389652,1.0589130177247437,-0.4219566412429281,-0.39211794982348025,-1.5932583119182626,0.8380266688659123,2.072438376377097,0.9589663814410084,0.523644527666068,-1.3163798843336647,-0.5783770995176221,-1.6425874293139233,0.389650570163329,-0.627879682481188,-0.29358589411513,-0.4264987288997589,0.7335164454956574,-0.24226400319543726,-0.6083963260182481,-0.48973451618620084,-0.30603663731945624,-0.8828518049050315,-0.22404304472997558,-0.5325983785461976,1.3307920952800403,-0.5926625508213409,0.2374957441585812,-0.007262216440006755,0.9659048842590944,-2.155684785580294,2.198379764321302,1.0987298332673232,-1.947136657825518,-0.42158282972566163,-0.343177917073893,0.13409486093295325,-0.6214862021450471,-0.6873339078329382,0.41360925188915093,1.173073240291131,0.8411615343773262,0.7994068490945303,1.1901612344610126,-0.7319279564655078,-0.5629665160169346,1.1454522969763212,0.18419435604158182,1.210645426962905,-0.6961425292258258,0.10515886428625675,-0.36306195531419316,-0.03237823904710659,0.807735156582041,-0.6801244533213385,0.6773257561802543,1.234242011739503,1.3263288276175949,1.673093403226205,-1.7950811866485987,0.6706747372090567],\"yaxis\":\"y15\",\"type\":\"scatter\"},{\"histfunc\":\"count\",\"histnorm\":\"\",\"marker\":{\"color\":\"rgba(128, 0, 128, 1.0)\",\"line\":{\"color\":\"#4D5663\",\"width\":1.3}},\"name\":\"D\",\"nbinsx\":10,\"opacity\":0.8,\"orientation\":\"v\",\"x\":[-1.192331137475391,-0.00856699516992989,-0.8389573196718727,1.9038886669123798,-0.3578989183974868,1.269058584542344,1.2773561312604635,-0.32200575661072384,-1.0490940186819366,-1.535748773975125,-0.5818441090607093,-0.5749314861247098,-1.3102279248056667,-1.0391762849530102,0.7558886343010799,-1.051384429232649,0.7196666819492346,-1.0871731403771503,0.1256690669388479,-0.25887726974027453,0.2603387685628686,0.6268767408326498,0.4571045226885126,1.232746870097122,-0.2924730711341888,-0.8207390379997915,-0.7617087993499451,0.6738443082395105,0.8616654493127476,-1.3121990699226702,-0.30928378746053625,-0.5517438495604261,0.4727531665947437,0.2128581921100694,0.990650280645931,-0.2101062281883072,-0.8734335136941964,-1.0633603540720415,0.8977052816076212,-0.7152434901222349,1.299674495389652,1.0589130177247437,-0.4219566412429281,-0.39211794982348025,-1.5932583119182626,0.8380266688659123,2.072438376377097,0.9589663814410084,0.523644527666068,-1.3163798843336647,-0.5783770995176221,-1.6425874293139233,0.389650570163329,-0.627879682481188,-0.29358589411513,-0.4264987288997589,0.7335164454956574,-0.24226400319543726,-0.6083963260182481,-0.48973451618620084,-0.30603663731945624,-0.8828518049050315,-0.22404304472997558,-0.5325983785461976,1.3307920952800403,-0.5926625508213409,0.2374957441585812,-0.007262216440006755,0.9659048842590944,-2.155684785580294,2.198379764321302,1.0987298332673232,-1.947136657825518,-0.42158282972566163,-0.343177917073893,0.13409486093295325,-0.6214862021450471,-0.6873339078329382,0.41360925188915093,1.173073240291131,0.8411615343773262,0.7994068490945303,1.1901612344610126,-0.7319279564655078,-0.5629665160169346,1.1454522969763212,0.18419435604158182,1.210645426962905,-0.6961425292258258,0.10515886428625675,-0.36306195531419316,-0.03237823904710659,0.807735156582041,-0.6801244533213385,0.6773257561802543,1.234242011739503,1.3263288276175949,1.673093403226205,-1.7950811866485987,0.6706747372090567],\"xaxis\":\"x16\",\"yaxis\":\"y16\",\"type\":\"histogram\"}],                        {\"bargap\":0.02,\"legend\":{\"bgcolor\":\"#F5F6F9\",\"font\":{\"color\":\"#4D5663\"}},\"paper_bgcolor\":\"#F5F6F9\",\"plot_bgcolor\":\"#F5F6F9\",\"showlegend\":false,\"template\":{\"data\":{\"barpolar\":[{\"marker\":{\"line\":{\"color\":\"#E5ECF6\",\"width\":0.5},\"pattern\":{\"fillmode\":\"overlay\",\"size\":10,\"solidity\":0.2}},\"type\":\"barpolar\"}],\"bar\":[{\"error_x\":{\"color\":\"#2a3f5f\"},\"error_y\":{\"color\":\"#2a3f5f\"},\"marker\":{\"line\":{\"color\":\"#E5ECF6\",\"width\":0.5},\"pattern\":{\"fillmode\":\"overlay\",\"size\":10,\"solidity\":0.2}},\"type\":\"bar\"}],\"carpet\":[{\"aaxis\":{\"endlinecolor\":\"#2a3f5f\",\"gridcolor\":\"white\",\"linecolor\":\"white\",\"minorgridcolor\":\"white\",\"startlinecolor\":\"#2a3f5f\"},\"baxis\":{\"endlinecolor\":\"#2a3f5f\",\"gridcolor\":\"white\",\"linecolor\":\"white\",\"minorgridcolor\":\"white\",\"startlinecolor\":\"#2a3f5f\"},\"type\":\"carpet\"}],\"choropleth\":[{\"colorbar\":{\"outlinewidth\":0,\"ticks\":\"\"},\"type\":\"choropleth\"}],\"contourcarpet\":[{\"colorbar\":{\"outlinewidth\":0,\"ticks\":\"\"},\"type\":\"contourcarpet\"}],\"contour\":[{\"colorbar\":{\"outlinewidth\":0,\"ticks\":\"\"},\"colorscale\":[[0.0,\"#0d0887\"],[0.1111111111111111,\"#46039f\"],[0.2222222222222222,\"#7201a8\"],[0.3333333333333333,\"#9c179e\"],[0.4444444444444444,\"#bd3786\"],[0.5555555555555556,\"#d8576b\"],[0.6666666666666666,\"#ed7953\"],[0.7777777777777778,\"#fb9f3a\"],[0.8888888888888888,\"#fdca26\"],[1.0,\"#f0f921\"]],\"type\":\"contour\"}],\"heatmapgl\":[{\"colorbar\":{\"outlinewidth\":0,\"ticks\":\"\"},\"colorscale\":[[0.0,\"#0d0887\"],[0.1111111111111111,\"#46039f\"],[0.2222222222222222,\"#7201a8\"],[0.3333333333333333,\"#9c179e\"],[0.4444444444444444,\"#bd3786\"],[0.5555555555555556,\"#d8576b\"],[0.6666666666666666,\"#ed7953\"],[0.7777777777777778,\"#fb9f3a\"],[0.8888888888888888,\"#fdca26\"],[1.0,\"#f0f921\"]],\"type\":\"heatmapgl\"}],\"heatmap\":[{\"colorbar\":{\"outlinewidth\":0,\"ticks\":\"\"},\"colorscale\":[[0.0,\"#0d0887\"],[0.1111111111111111,\"#46039f\"],[0.2222222222222222,\"#7201a8\"],[0.3333333333333333,\"#9c179e\"],[0.4444444444444444,\"#bd3786\"],[0.5555555555555556,\"#d8576b\"],[0.6666666666666666,\"#ed7953\"],[0.7777777777777778,\"#fb9f3a\"],[0.8888888888888888,\"#fdca26\"],[1.0,\"#f0f921\"]],\"type\":\"heatmap\"}],\"histogram2dcontour\":[{\"colorbar\":{\"outlinewidth\":0,\"ticks\":\"\"},\"colorscale\":[[0.0,\"#0d0887\"],[0.1111111111111111,\"#46039f\"],[0.2222222222222222,\"#7201a8\"],[0.3333333333333333,\"#9c179e\"],[0.4444444444444444,\"#bd3786\"],[0.5555555555555556,\"#d8576b\"],[0.6666666666666666,\"#ed7953\"],[0.7777777777777778,\"#fb9f3a\"],[0.8888888888888888,\"#fdca26\"],[1.0,\"#f0f921\"]],\"type\":\"histogram2dcontour\"}],\"histogram2d\":[{\"colorbar\":{\"outlinewidth\":0,\"ticks\":\"\"},\"colorscale\":[[0.0,\"#0d0887\"],[0.1111111111111111,\"#46039f\"],[0.2222222222222222,\"#7201a8\"],[0.3333333333333333,\"#9c179e\"],[0.4444444444444444,\"#bd3786\"],[0.5555555555555556,\"#d8576b\"],[0.6666666666666666,\"#ed7953\"],[0.7777777777777778,\"#fb9f3a\"],[0.8888888888888888,\"#fdca26\"],[1.0,\"#f0f921\"]],\"type\":\"histogram2d\"}],\"histogram\":[{\"marker\":{\"pattern\":{\"fillmode\":\"overlay\",\"size\":10,\"solidity\":0.2}},\"type\":\"histogram\"}],\"mesh3d\":[{\"colorbar\":{\"outlinewidth\":0,\"ticks\":\"\"},\"type\":\"mesh3d\"}],\"parcoords\":[{\"line\":{\"colorbar\":{\"outlinewidth\":0,\"ticks\":\"\"}},\"type\":\"parcoords\"}],\"pie\":[{\"automargin\":true,\"type\":\"pie\"}],\"scatter3d\":[{\"line\":{\"colorbar\":{\"outlinewidth\":0,\"ticks\":\"\"}},\"marker\":{\"colorbar\":{\"outlinewidth\":0,\"ticks\":\"\"}},\"type\":\"scatter3d\"}],\"scattercarpet\":[{\"marker\":{\"colorbar\":{\"outlinewidth\":0,\"ticks\":\"\"}},\"type\":\"scattercarpet\"}],\"scattergeo\":[{\"marker\":{\"colorbar\":{\"outlinewidth\":0,\"ticks\":\"\"}},\"type\":\"scattergeo\"}],\"scattergl\":[{\"marker\":{\"colorbar\":{\"outlinewidth\":0,\"ticks\":\"\"}},\"type\":\"scattergl\"}],\"scattermapbox\":[{\"marker\":{\"colorbar\":{\"outlinewidth\":0,\"ticks\":\"\"}},\"type\":\"scattermapbox\"}],\"scatterpolargl\":[{\"marker\":{\"colorbar\":{\"outlinewidth\":0,\"ticks\":\"\"}},\"type\":\"scatterpolargl\"}],\"scatterpolar\":[{\"marker\":{\"colorbar\":{\"outlinewidth\":0,\"ticks\":\"\"}},\"type\":\"scatterpolar\"}],\"scatter\":[{\"fillpattern\":{\"fillmode\":\"overlay\",\"size\":10,\"solidity\":0.2},\"type\":\"scatter\"}],\"scatterternary\":[{\"marker\":{\"colorbar\":{\"outlinewidth\":0,\"ticks\":\"\"}},\"type\":\"scatterternary\"}],\"surface\":[{\"colorbar\":{\"outlinewidth\":0,\"ticks\":\"\"},\"colorscale\":[[0.0,\"#0d0887\"],[0.1111111111111111,\"#46039f\"],[0.2222222222222222,\"#7201a8\"],[0.3333333333333333,\"#9c179e\"],[0.4444444444444444,\"#bd3786\"],[0.5555555555555556,\"#d8576b\"],[0.6666666666666666,\"#ed7953\"],[0.7777777777777778,\"#fb9f3a\"],[0.8888888888888888,\"#fdca26\"],[1.0,\"#f0f921\"]],\"type\":\"surface\"}],\"table\":[{\"cells\":{\"fill\":{\"color\":\"#EBF0F8\"},\"line\":{\"color\":\"white\"}},\"header\":{\"fill\":{\"color\":\"#C8D4E3\"},\"line\":{\"color\":\"white\"}},\"type\":\"table\"}]},\"layout\":{\"annotationdefaults\":{\"arrowcolor\":\"#2a3f5f\",\"arrowhead\":0,\"arrowwidth\":1},\"autotypenumbers\":\"strict\",\"coloraxis\":{\"colorbar\":{\"outlinewidth\":0,\"ticks\":\"\"}},\"colorscale\":{\"diverging\":[[0,\"#8e0152\"],[0.1,\"#c51b7d\"],[0.2,\"#de77ae\"],[0.3,\"#f1b6da\"],[0.4,\"#fde0ef\"],[0.5,\"#f7f7f7\"],[0.6,\"#e6f5d0\"],[0.7,\"#b8e186\"],[0.8,\"#7fbc41\"],[0.9,\"#4d9221\"],[1,\"#276419\"]],\"sequential\":[[0.0,\"#0d0887\"],[0.1111111111111111,\"#46039f\"],[0.2222222222222222,\"#7201a8\"],[0.3333333333333333,\"#9c179e\"],[0.4444444444444444,\"#bd3786\"],[0.5555555555555556,\"#d8576b\"],[0.6666666666666666,\"#ed7953\"],[0.7777777777777778,\"#fb9f3a\"],[0.8888888888888888,\"#fdca26\"],[1.0,\"#f0f921\"]],\"sequentialminus\":[[0.0,\"#0d0887\"],[0.1111111111111111,\"#46039f\"],[0.2222222222222222,\"#7201a8\"],[0.3333333333333333,\"#9c179e\"],[0.4444444444444444,\"#bd3786\"],[0.5555555555555556,\"#d8576b\"],[0.6666666666666666,\"#ed7953\"],[0.7777777777777778,\"#fb9f3a\"],[0.8888888888888888,\"#fdca26\"],[1.0,\"#f0f921\"]]},\"colorway\":[\"#636efa\",\"#EF553B\",\"#00cc96\",\"#ab63fa\",\"#FFA15A\",\"#19d3f3\",\"#FF6692\",\"#B6E880\",\"#FF97FF\",\"#FECB52\"],\"font\":{\"color\":\"#2a3f5f\"},\"geo\":{\"bgcolor\":\"white\",\"lakecolor\":\"white\",\"landcolor\":\"#E5ECF6\",\"showlakes\":true,\"showland\":true,\"subunitcolor\":\"white\"},\"hoverlabel\":{\"align\":\"left\"},\"hovermode\":\"closest\",\"mapbox\":{\"style\":\"light\"},\"paper_bgcolor\":\"white\",\"plot_bgcolor\":\"#E5ECF6\",\"polar\":{\"angularaxis\":{\"gridcolor\":\"white\",\"linecolor\":\"white\",\"ticks\":\"\"},\"bgcolor\":\"#E5ECF6\",\"radialaxis\":{\"gridcolor\":\"white\",\"linecolor\":\"white\",\"ticks\":\"\"}},\"scene\":{\"xaxis\":{\"backgroundcolor\":\"#E5ECF6\",\"gridcolor\":\"white\",\"gridwidth\":2,\"linecolor\":\"white\",\"showbackground\":true,\"ticks\":\"\",\"zerolinecolor\":\"white\"},\"yaxis\":{\"backgroundcolor\":\"#E5ECF6\",\"gridcolor\":\"white\",\"gridwidth\":2,\"linecolor\":\"white\",\"showbackground\":true,\"ticks\":\"\",\"zerolinecolor\":\"white\"},\"zaxis\":{\"backgroundcolor\":\"#E5ECF6\",\"gridcolor\":\"white\",\"gridwidth\":2,\"linecolor\":\"white\",\"showbackground\":true,\"ticks\":\"\",\"zerolinecolor\":\"white\"}},\"shapedefaults\":{\"line\":{\"color\":\"#2a3f5f\"}},\"ternary\":{\"aaxis\":{\"gridcolor\":\"white\",\"linecolor\":\"white\",\"ticks\":\"\"},\"baxis\":{\"gridcolor\":\"white\",\"linecolor\":\"white\",\"ticks\":\"\"},\"bgcolor\":\"#E5ECF6\",\"caxis\":{\"gridcolor\":\"white\",\"linecolor\":\"white\",\"ticks\":\"\"}},\"title\":{\"x\":0.05},\"xaxis\":{\"automargin\":true,\"gridcolor\":\"white\",\"linecolor\":\"white\",\"ticks\":\"\",\"title\":{\"standoff\":15},\"zerolinecolor\":\"white\",\"zerolinewidth\":2},\"yaxis\":{\"automargin\":true,\"gridcolor\":\"white\",\"linecolor\":\"white\",\"ticks\":\"\",\"title\":{\"standoff\":15},\"zerolinecolor\":\"white\",\"zerolinewidth\":2}}},\"title\":{\"font\":{\"color\":\"#4D5663\"}},\"xaxis\":{\"anchor\":\"y\",\"domain\":[0.0,0.2125],\"gridcolor\":\"#E1E5ED\",\"showgrid\":false,\"tickfont\":{\"color\":\"#4D5663\"},\"title\":{\"font\":{\"color\":\"#4D5663\"},\"text\":\"\"},\"zerolinecolor\":\"#E1E5ED\"},\"yaxis\":{\"anchor\":\"x\",\"domain\":[0.8025,1.0],\"gridcolor\":\"#E1E5ED\",\"showgrid\":false,\"tickfont\":{\"color\":\"#4D5663\"},\"title\":{\"font\":{\"color\":\"#4D5663\"},\"text\":\"\"},\"zerolinecolor\":\"#E1E5ED\"},\"xaxis2\":{\"anchor\":\"y2\",\"domain\":[0.2625,0.475],\"gridcolor\":\"#E1E5ED\",\"showgrid\":false,\"tickfont\":{\"color\":\"#4D5663\"},\"title\":{\"font\":{\"color\":\"#4D5663\"},\"text\":\"\"},\"zerolinecolor\":\"#E1E5ED\"},\"yaxis2\":{\"anchor\":\"x2\",\"domain\":[0.8025,1.0],\"gridcolor\":\"#E1E5ED\",\"showgrid\":false,\"tickfont\":{\"color\":\"#4D5663\"},\"title\":{\"font\":{\"color\":\"#4D5663\"},\"text\":\"\"},\"zerolinecolor\":\"#E1E5ED\"},\"xaxis3\":{\"anchor\":\"y3\",\"domain\":[0.525,0.7375],\"gridcolor\":\"#E1E5ED\",\"showgrid\":false,\"tickfont\":{\"color\":\"#4D5663\"},\"title\":{\"font\":{\"color\":\"#4D5663\"},\"text\":\"\"},\"zerolinecolor\":\"#E1E5ED\"},\"yaxis3\":{\"anchor\":\"x3\",\"domain\":[0.8025,1.0],\"gridcolor\":\"#E1E5ED\",\"showgrid\":false,\"tickfont\":{\"color\":\"#4D5663\"},\"title\":{\"font\":{\"color\":\"#4D5663\"},\"text\":\"\"},\"zerolinecolor\":\"#E1E5ED\"},\"xaxis4\":{\"anchor\":\"y4\",\"domain\":[0.7875,1.0],\"gridcolor\":\"#E1E5ED\",\"showgrid\":false,\"tickfont\":{\"color\":\"#4D5663\"},\"title\":{\"font\":{\"color\":\"#4D5663\"},\"text\":\"\"},\"zerolinecolor\":\"#E1E5ED\"},\"yaxis4\":{\"anchor\":\"x4\",\"domain\":[0.8025,1.0],\"gridcolor\":\"#E1E5ED\",\"showgrid\":false,\"tickfont\":{\"color\":\"#4D5663\"},\"title\":{\"font\":{\"color\":\"#4D5663\"},\"text\":\"\"},\"zerolinecolor\":\"#E1E5ED\"},\"xaxis5\":{\"anchor\":\"y5\",\"domain\":[0.0,0.2125],\"gridcolor\":\"#E1E5ED\",\"showgrid\":false,\"tickfont\":{\"color\":\"#4D5663\"},\"title\":{\"font\":{\"color\":\"#4D5663\"},\"text\":\"\"},\"zerolinecolor\":\"#E1E5ED\"},\"yaxis5\":{\"anchor\":\"x5\",\"domain\":[0.535,0.7325],\"gridcolor\":\"#E1E5ED\",\"showgrid\":false,\"tickfont\":{\"color\":\"#4D5663\"},\"title\":{\"font\":{\"color\":\"#4D5663\"},\"text\":\"\"},\"zerolinecolor\":\"#E1E5ED\"},\"xaxis6\":{\"anchor\":\"y6\",\"domain\":[0.2625,0.475],\"gridcolor\":\"#E1E5ED\",\"showgrid\":false,\"tickfont\":{\"color\":\"#4D5663\"},\"title\":{\"font\":{\"color\":\"#4D5663\"},\"text\":\"\"},\"zerolinecolor\":\"#E1E5ED\"},\"yaxis6\":{\"anchor\":\"x6\",\"domain\":[0.535,0.7325],\"gridcolor\":\"#E1E5ED\",\"showgrid\":false,\"tickfont\":{\"color\":\"#4D5663\"},\"title\":{\"font\":{\"color\":\"#4D5663\"},\"text\":\"\"},\"zerolinecolor\":\"#E1E5ED\"},\"xaxis7\":{\"anchor\":\"y7\",\"domain\":[0.525,0.7375],\"gridcolor\":\"#E1E5ED\",\"showgrid\":false,\"tickfont\":{\"color\":\"#4D5663\"},\"title\":{\"font\":{\"color\":\"#4D5663\"},\"text\":\"\"},\"zerolinecolor\":\"#E1E5ED\"},\"yaxis7\":{\"anchor\":\"x7\",\"domain\":[0.535,0.7325],\"gridcolor\":\"#E1E5ED\",\"showgrid\":false,\"tickfont\":{\"color\":\"#4D5663\"},\"title\":{\"font\":{\"color\":\"#4D5663\"},\"text\":\"\"},\"zerolinecolor\":\"#E1E5ED\"},\"xaxis8\":{\"anchor\":\"y8\",\"domain\":[0.7875,1.0],\"gridcolor\":\"#E1E5ED\",\"showgrid\":false,\"tickfont\":{\"color\":\"#4D5663\"},\"title\":{\"font\":{\"color\":\"#4D5663\"},\"text\":\"\"},\"zerolinecolor\":\"#E1E5ED\"},\"yaxis8\":{\"anchor\":\"x8\",\"domain\":[0.535,0.7325],\"gridcolor\":\"#E1E5ED\",\"showgrid\":false,\"tickfont\":{\"color\":\"#4D5663\"},\"title\":{\"font\":{\"color\":\"#4D5663\"},\"text\":\"\"},\"zerolinecolor\":\"#E1E5ED\"},\"xaxis9\":{\"anchor\":\"y9\",\"domain\":[0.0,0.2125],\"gridcolor\":\"#E1E5ED\",\"showgrid\":false,\"tickfont\":{\"color\":\"#4D5663\"},\"title\":{\"font\":{\"color\":\"#4D5663\"},\"text\":\"\"},\"zerolinecolor\":\"#E1E5ED\"},\"yaxis9\":{\"anchor\":\"x9\",\"domain\":[0.2675,0.465],\"gridcolor\":\"#E1E5ED\",\"showgrid\":false,\"tickfont\":{\"color\":\"#4D5663\"},\"title\":{\"font\":{\"color\":\"#4D5663\"},\"text\":\"\"},\"zerolinecolor\":\"#E1E5ED\"},\"xaxis10\":{\"anchor\":\"y10\",\"domain\":[0.2625,0.475],\"gridcolor\":\"#E1E5ED\",\"showgrid\":false,\"tickfont\":{\"color\":\"#4D5663\"},\"title\":{\"font\":{\"color\":\"#4D5663\"},\"text\":\"\"},\"zerolinecolor\":\"#E1E5ED\"},\"yaxis10\":{\"anchor\":\"x10\",\"domain\":[0.2675,0.465],\"gridcolor\":\"#E1E5ED\",\"showgrid\":false,\"tickfont\":{\"color\":\"#4D5663\"},\"title\":{\"font\":{\"color\":\"#4D5663\"},\"text\":\"\"},\"zerolinecolor\":\"#E1E5ED\"},\"xaxis11\":{\"anchor\":\"y11\",\"domain\":[0.525,0.7375],\"gridcolor\":\"#E1E5ED\",\"showgrid\":false,\"tickfont\":{\"color\":\"#4D5663\"},\"title\":{\"font\":{\"color\":\"#4D5663\"},\"text\":\"\"},\"zerolinecolor\":\"#E1E5ED\"},\"yaxis11\":{\"anchor\":\"x11\",\"domain\":[0.2675,0.465],\"gridcolor\":\"#E1E5ED\",\"showgrid\":false,\"tickfont\":{\"color\":\"#4D5663\"},\"title\":{\"font\":{\"color\":\"#4D5663\"},\"text\":\"\"},\"zerolinecolor\":\"#E1E5ED\"},\"xaxis12\":{\"anchor\":\"y12\",\"domain\":[0.7875,1.0],\"gridcolor\":\"#E1E5ED\",\"showgrid\":false,\"tickfont\":{\"color\":\"#4D5663\"},\"title\":{\"font\":{\"color\":\"#4D5663\"},\"text\":\"\"},\"zerolinecolor\":\"#E1E5ED\"},\"yaxis12\":{\"anchor\":\"x12\",\"domain\":[0.2675,0.465],\"gridcolor\":\"#E1E5ED\",\"showgrid\":false,\"tickfont\":{\"color\":\"#4D5663\"},\"title\":{\"font\":{\"color\":\"#4D5663\"},\"text\":\"\"},\"zerolinecolor\":\"#E1E5ED\"},\"xaxis13\":{\"anchor\":\"y13\",\"domain\":[0.0,0.2125],\"gridcolor\":\"#E1E5ED\",\"showgrid\":false,\"tickfont\":{\"color\":\"#4D5663\"},\"title\":{\"font\":{\"color\":\"#4D5663\"},\"text\":\"\"},\"zerolinecolor\":\"#E1E5ED\"},\"yaxis13\":{\"anchor\":\"x13\",\"domain\":[0.0,0.1975],\"gridcolor\":\"#E1E5ED\",\"showgrid\":false,\"tickfont\":{\"color\":\"#4D5663\"},\"title\":{\"font\":{\"color\":\"#4D5663\"},\"text\":\"\"},\"zerolinecolor\":\"#E1E5ED\"},\"xaxis14\":{\"anchor\":\"y14\",\"domain\":[0.2625,0.475],\"gridcolor\":\"#E1E5ED\",\"showgrid\":false,\"tickfont\":{\"color\":\"#4D5663\"},\"title\":{\"font\":{\"color\":\"#4D5663\"},\"text\":\"\"},\"zerolinecolor\":\"#E1E5ED\"},\"yaxis14\":{\"anchor\":\"x14\",\"domain\":[0.0,0.1975],\"gridcolor\":\"#E1E5ED\",\"showgrid\":false,\"tickfont\":{\"color\":\"#4D5663\"},\"title\":{\"font\":{\"color\":\"#4D5663\"},\"text\":\"\"},\"zerolinecolor\":\"#E1E5ED\"},\"xaxis15\":{\"anchor\":\"y15\",\"domain\":[0.525,0.7375],\"gridcolor\":\"#E1E5ED\",\"showgrid\":false,\"tickfont\":{\"color\":\"#4D5663\"},\"title\":{\"font\":{\"color\":\"#4D5663\"},\"text\":\"\"},\"zerolinecolor\":\"#E1E5ED\"},\"yaxis15\":{\"anchor\":\"x15\",\"domain\":[0.0,0.1975],\"gridcolor\":\"#E1E5ED\",\"showgrid\":false,\"tickfont\":{\"color\":\"#4D5663\"},\"title\":{\"font\":{\"color\":\"#4D5663\"},\"text\":\"\"},\"zerolinecolor\":\"#E1E5ED\"},\"xaxis16\":{\"anchor\":\"y16\",\"domain\":[0.7875,1.0],\"gridcolor\":\"#E1E5ED\",\"showgrid\":false,\"tickfont\":{\"color\":\"#4D5663\"},\"title\":{\"font\":{\"color\":\"#4D5663\"},\"text\":\"\"},\"zerolinecolor\":\"#E1E5ED\"},\"yaxis16\":{\"anchor\":\"x16\",\"domain\":[0.0,0.1975],\"gridcolor\":\"#E1E5ED\",\"showgrid\":false,\"tickfont\":{\"color\":\"#4D5663\"},\"title\":{\"font\":{\"color\":\"#4D5663\"},\"text\":\"\"},\"zerolinecolor\":\"#E1E5ED\"}},                        {\"showLink\": true, \"linkText\": \"Export to plot.ly\", \"plotlyServerURL\": \"https://plot.ly\", \"responsive\": true}                    ).then(function(){\n",
       "                            \n",
       "var gd = document.getElementById('d19d1a25-6a48-4dbe-b3b8-110148d7b471');\n",
       "var x = new MutationObserver(function (mutations, observer) {{\n",
       "        var display = window.getComputedStyle(gd).display;\n",
       "        if (!display || display === 'none') {{\n",
       "            console.log([gd, 'removed!']);\n",
       "            Plotly.purge(gd);\n",
       "            observer.disconnect();\n",
       "        }}\n",
       "}});\n",
       "\n",
       "// Listen for the removal of the full notebook cells\n",
       "var notebookContainer = gd.closest('#notebook-container');\n",
       "if (notebookContainer) {{\n",
       "    x.observe(notebookContainer, {childList: true});\n",
       "}}\n",
       "\n",
       "// Listen for the clearing of the current output cell\n",
       "var outputEl = gd.closest('.output');\n",
       "if (outputEl) {{\n",
       "    x.observe(outputEl, {childList: true});\n",
       "}}\n",
       "\n",
       "                        })                };                });            </script>        </div>"
      ]
     },
     "metadata": {},
     "output_type": "display_data"
    }
   ],
   "source": [
    "df.scatter_matrix()"
   ]
  },
  {
   "cell_type": "markdown",
   "metadata": {
    "collapsed": true
   },
   "source": [
    "# Great Job!"
   ]
  }
 ],
 "metadata": {
  "kernelspec": {
   "display_name": "Python 3 (ipykernel)",
   "language": "python",
   "name": "python3"
  },
  "language_info": {
   "codemirror_mode": {
    "name": "ipython",
    "version": 3
   },
   "file_extension": ".py",
   "mimetype": "text/x-python",
   "name": "python",
   "nbconvert_exporter": "python",
   "pygments_lexer": "ipython3",
   "version": "3.10.9"
  }
 },
 "nbformat": 4,
 "nbformat_minor": 1
}
